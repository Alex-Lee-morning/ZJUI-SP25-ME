{
 "cells": [
  {
   "cell_type": "code",
   "execution_count": 4,
   "id": "ebdecc90-eb01-4216-9031-14cdb94dbf0b",
   "metadata": {},
   "outputs": [],
   "source": [
    "import numpy as np\n",
    "from sympy import *"
   ]
  },
  {
   "cell_type": "code",
   "execution_count": 52,
   "id": "38e80b2a-d868-4f65-8e1d-3fd12f8a87b2",
   "metadata": {},
   "outputs": [],
   "source": [
    "import numpy as np\n",
    "from sympy import *\n",
    "\n",
    "x = symbols('x', real = True)\n",
    "\n",
    "m = 7\n",
    "y = -3*sin(2*x)\n",
    "g = -9.8\n",
    "x_v = 2\n",
    "vMag = 3\n",
    "vDotMag = 1"
   ]
  },
  {
   "cell_type": "code",
   "execution_count": 28,
   "id": "28513478-bbbe-4a30-9e50-5c7e01e3644f",
   "metadata": {},
   "outputs": [
    {
     "name": "stdout",
     "output_type": "stream",
     "text": [
      "[-sqrt(3)/sqrt(18*cos(8) + 19), sqrt(3)/sqrt(18*cos(8) + 19)]\n",
      "-0.427947437551066\n"
     ]
    }
   ],
   "source": [
    "vx = symbols(\"vx\")\n",
    "ax = symbols(\"ax\")\n",
    "vy = vx * diff(y,x)\n",
    "vy_Mag = vy.subs(x,x_v)\n",
    "eq = Eq(vy_Mag ** 2 + vx ** 2, vMag)\n",
    "sol = solve(eq,vx)\n",
    "print(sol)\n",
    "vx_Mag = sol[0].evalf()\n",
    "print(vx_Mag)"
   ]
  },
  {
   "cell_type": "code",
   "execution_count": 50,
   "id": "f331511b-1c09-444f-a84c-220318c19132",
   "metadata": {},
   "outputs": [
    {
     "name": "stdout",
     "output_type": "stream",
     "text": [
      "[0.172945761110068, 0.623445600981921]\n",
      "0.984931349746803 0.781866729447091\n"
     ]
    }
   ],
   "source": [
    "ay = diff(vy,x) * vx + diff(y,x) * ax\n",
    "ay_Mag = ay.subs(x,x_v).subs(vx,vx_Mag)\n",
    "eq = Eq(ay_Mag ** 2 + ax ** 2, vDotMag)\n",
    "sol = solve(eq,ax)\n",
    "print(sol)\n",
    "ax_Mag1 = sol[0]\n",
    "ay_Mag1 = (1-ax_Mag1 ** 2) ** 0.5\n",
    "ax_Mag2 = sol[1]\n",
    "ay_Mag2 = (1-ax_Mag2 ** 2) ** 0.5\n",
    "print(ay_Mag1,ay_Mag2)"
   ]
  },
  {
   "cell_type": "code",
   "execution_count": 68,
   "id": "a9764978-0d53-4100-8986-661905feec93",
   "metadata": {},
   "outputs": [
    {
     "name": "stdout",
     "output_type": "stream",
     "text": [
      "3.92186172518167\n",
      "1.72952897788383 61.8170264990448\n"
     ]
    }
   ],
   "source": [
    "k = diff(y,x).subs(x,x_v)\n",
    "print(k.evalf())\n",
    "theta = atan2(k,1)\n",
    "ax = vDotMag * cos(theta)\n",
    "ay = vDotMag * sin(theta)\n",
    "Fx = ax * m\n",
    "Fy = -(g + ay) * m\n",
    "print(Fx.evalf(), Fy.evalf())"
   ]
  },
  {
   "cell_type": "code",
   "execution_count": 70,
   "id": "f8cd3108-5903-43f9-ab4e-e76b6a44ccdd",
   "metadata": {},
   "outputs": [
    {
     "data": {
      "text/plain": [
       "1.4416626114"
      ]
     },
     "execution_count": 70,
     "metadata": {},
     "output_type": "execute_result"
    }
   ],
   "source": [
    "10.0916382798 / m"
   ]
  },
  {
   "cell_type": "code",
   "execution_count": 82,
   "id": "9cf6b791-9d5a-465d-9610-a0538b23231a",
   "metadata": {},
   "outputs": [],
   "source": [
    "import numpy as np\n",
    "from sympy import *\n",
    "\n",
    "t = symbols('t', real = True)\n",
    "s = t**2 + 3*t - 2\n",
    "t_v = 2\n",
    "rho = 10"
   ]
  },
  {
   "cell_type": "code",
   "execution_count": 84,
   "id": "07ac4e99-009c-4aa1-8ae6-9e93738a5a88",
   "metadata": {},
   "outputs": [
    {
     "name": "stdout",
     "output_type": "stream",
     "text": [
      "5.29244744895970\n"
     ]
    }
   ],
   "source": [
    "vt = diff(s,t)\n",
    "at = diff(vt,t).subs(t,t_v)\n",
    "an = vt ** 2 / rho\n",
    "an = an.subs(t,t_v)\n",
    "a = (an ** 2 + at ** 2) ** 0.5\n",
    "print(a)"
   ]
  },
  {
   "cell_type": "code",
   "execution_count": 110,
   "id": "82374ae1-ae06-4e86-847a-0a2da92d0041",
   "metadata": {},
   "outputs": [],
   "source": [
    "from sympy import *\n",
    "import numpy as np\n",
    "\n",
    "v = Matrix([0,99,21]) # in polar basis\n",
    "a = Matrix([-297,33,-70]) # in polar basis"
   ]
  },
  {
   "cell_type": "code",
   "execution_count": 112,
   "id": "7266a175-8185-49eb-b1e3-2fa234f48b3f",
   "metadata": {},
   "outputs": [
    {
     "name": "stdout",
     "output_type": "stream",
     "text": [
      "33.4265815589244\n"
     ]
    }
   ],
   "source": [
    "ve = v / v.norm()\n",
    "ae = a.dot(ve) * ve\n",
    "an = a - ae\n",
    "v_Mag = v.norm()\n",
    "rho = v_Mag ** 2 / an.norm()\n",
    "print(rho.evalf())"
   ]
  },
  {
   "cell_type": "code",
   "execution_count": 128,
   "id": "5ca499e8-c5ca-4260-ae8f-8a563117563f",
   "metadata": {},
   "outputs": [
    {
     "name": "stdout",
     "output_type": "stream",
     "text": [
      "2.49643130293764\n"
     ]
    }
   ],
   "source": [
    "a1 = 2\n",
    "a2 = a1 * tan(2.5)\n",
    "a = a1 ** 2 + a2 ** 2\n",
    "a = a ** 0.5\n",
    "print(a.evalf())"
   ]
  },
  {
   "cell_type": "code",
   "execution_count": 126,
   "id": "89936fe1-d89b-4d00-a81d-9733bb87a207",
   "metadata": {},
   "outputs": [
    {
     "name": "stdout",
     "output_type": "stream",
     "text": [
      "5.467355421832568\n"
     ]
    }
   ],
   "source": [
    "a1 = 0.5\n",
    "v = 7\n",
    "rho = 9\n",
    "a2 = v ** 2 / rho\n",
    "a = a1 ** 2 + a2 ** 2\n",
    "a = a ** 0.5\n",
    "print(a)"
   ]
  },
  {
   "cell_type": "code",
   "execution_count": 132,
   "id": "f71d058d-7955-47c6-8ebf-f8c245d2ce55",
   "metadata": {},
   "outputs": [
    {
     "name": "stdout",
     "output_type": "stream",
     "text": [
      "0.7006490497453707\n"
     ]
    }
   ],
   "source": [
    "at = 2\n",
    "a = 13\n",
    "v = 3\n",
    "an = (a ** 2 - at ** 2) ** 0.5\n",
    "rho = v ** 2 / an\n",
    "print(rho)"
   ]
  },
  {
   "cell_type": "code",
   "execution_count": 148,
   "id": "aa488e90-2509-4298-b1f0-ebb5f5b599a8",
   "metadata": {},
   "outputs": [],
   "source": [
    "import numpy as np\n",
    "from sympy import *\n",
    "\n",
    "t = symbols('t', real = True)\n",
    "r = Matrix([3*t**2 + t + 3, -2*t**2 - 2*t - 1, 0])\n",
    "t_v = 3"
   ]
  },
  {
   "cell_type": "code",
   "execution_count": 150,
   "id": "69de18fb-a29c-4c10-a328-2b560bbe19d5",
   "metadata": {},
   "outputs": [
    {
     "name": "stdout",
     "output_type": "stream",
     "text": [
      "Matrix([[1007.75000000000], [1297.87500000000], [0]])\n"
     ]
    }
   ],
   "source": [
    "v = diff(r,t)\n",
    "a = diff(v,t)\n",
    "a_Mag = a.subs(t,t_v)\n",
    "v_Mag = v.subs(t,t_v)\n",
    "ve = v_Mag / v_Mag.norm()\n",
    "at = a_Mag.dot(ve) * ve\n",
    "an = a_Mag - at\n",
    "rho = v_Mag.norm() ** 2 / an.norm()\n",
    "p = r.subs(t,t_v)\n",
    "ae = an / an.norm()\n",
    "rhop = ae * rho\n",
    "p1 = p + rhop\n",
    "print(p1.evalf())"
   ]
  },
  {
   "cell_type": "code",
   "execution_count": null,
   "id": "d46c3b0f-642f-47de-88fa-1285938730b5",
   "metadata": {},
   "outputs": [],
   "source": []
  }
 ],
 "metadata": {
  "kernelspec": {
   "display_name": "Python [conda env:base] *",
   "language": "python",
   "name": "conda-base-py"
  },
  "language_info": {
   "codemirror_mode": {
    "name": "ipython",
    "version": 3
   },
   "file_extension": ".py",
   "mimetype": "text/x-python",
   "name": "python",
   "nbconvert_exporter": "python",
   "pygments_lexer": "ipython3",
   "version": "3.12.7"
  }
 },
 "nbformat": 4,
 "nbformat_minor": 5
}
