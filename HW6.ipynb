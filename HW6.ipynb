{
 "cells": [
  {
   "cell_type": "code",
   "execution_count": 1,
   "id": "87dd21ce-20a2-4ac7-8e66-d6bd90d84ae5",
   "metadata": {},
   "outputs": [],
   "source": [
    "from sympy import *\n",
    "import math as m"
   ]
  },
  {
   "cell_type": "code",
   "execution_count": 2,
   "id": "cde0c076-bce0-4b00-a8be-00531abae07e",
   "metadata": {},
   "outputs": [],
   "source": [
    "from sympy import *\n",
    "\n",
    "P = 7 # kN\n",
    "a = 3 # m"
   ]
  },
  {
   "cell_type": "code",
   "execution_count": 3,
   "id": "bfb86224-b69a-4740-a5f9-ef8d9b76ab41",
   "metadata": {},
   "outputs": [],
   "source": [
    "from sympy import *\n",
    "\n",
    "w = 6 # kN/m\n",
    "a = 3 # m"
   ]
  },
  {
   "cell_type": "code",
   "execution_count": 4,
   "id": "829ef2e9-2376-4ec4-a6d6-6323ddf73f4e",
   "metadata": {},
   "outputs": [
    {
     "name": "stdout",
     "output_type": "stream",
     "text": [
      "162\n"
     ]
    }
   ],
   "source": [
    "M0 = 3 * w * a ** 2\n",
    "print(M0)"
   ]
  },
  {
   "cell_type": "code",
   "execution_count": 5,
   "id": "890330b4-ddbb-4f70-a5da-72f16483cfa7",
   "metadata": {},
   "outputs": [
    {
     "name": "stdout",
     "output_type": "stream",
     "text": [
      "42.0\n"
     ]
    }
   ],
   "source": [
    "Fl = (M0 + w * 2 * a * 2 * a) / 3 / a\n",
    "print(Fl)"
   ]
  },
  {
   "cell_type": "code",
   "execution_count": 6,
   "id": "80171f98-5cf8-42ff-a872-472c17dca048",
   "metadata": {},
   "outputs": [
    {
     "name": "stdout",
     "output_type": "stream",
     "text": [
      "6.0\n"
     ]
    }
   ],
   "source": [
    "Fw = w * 2 * a\n",
    "print(Fl - Fw)"
   ]
  },
  {
   "cell_type": "code",
   "execution_count": 7,
   "id": "3dc45f78-03b7-4603-aa57-90b4109bcdba",
   "metadata": {},
   "outputs": [
    {
     "data": {
      "text/plain": [
       "144.0"
      ]
     },
     "execution_count": 7,
     "metadata": {},
     "output_type": "execute_result"
    }
   ],
   "source": [
    "Fl * 2 * a - w * 2 * a * a"
   ]
  },
  {
   "cell_type": "code",
   "execution_count": 8,
   "id": "f7549068-1b47-4773-87e2-5b33cae997de",
   "metadata": {},
   "outputs": [
    {
     "data": {
      "text/plain": [
       "162.0"
      ]
     },
     "execution_count": 8,
     "metadata": {},
     "output_type": "execute_result"
    }
   ],
   "source": [
    "Fl * 3 * a - w * 2 * a * 2 * a"
   ]
  },
  {
   "cell_type": "code",
   "execution_count": 9,
   "id": "d214a1b5-3f06-4df5-9718-8d8c285e30d0",
   "metadata": {},
   "outputs": [],
   "source": [
    "from sympy import *\n",
    "\n",
    "w = 8 # kN/m\n",
    "P = 60 # kN\n",
    "a = 9 # m"
   ]
  },
  {
   "cell_type": "code",
   "execution_count": 10,
   "id": "e7232f47-f19a-4a44-9d17-c8e04f108936",
   "metadata": {},
   "outputs": [
    {
     "name": "stdout",
     "output_type": "stream",
     "text": [
      "-60 \n",
      " -60*x\n",
      "156.0 - 8*x \n",
      " -4.0*x**2 + 156.0*x - 1620.0\n",
      "12.0 \n",
      " 12.0*x - 324.0\n"
     ]
    }
   ],
   "source": [
    "x = symbols(\"x\")\n",
    "fw = w * a\n",
    "Fl = (fw * 1.5 * a + P * 3 * a) / 2 / a\n",
    "f1 = -P\n",
    "M1 = -P * x\n",
    "print(f1,\"\\n\", M1.expand())\n",
    "f2 = -P + Fl - w * (x-a)\n",
    "M2 = -P * x + Fl * (x - a) - w * (x-a) * (x-a) / 2\n",
    "print(f2,\"\\n\",M2.expand().evalf())\n",
    "f3 = -P + Fl - fw\n",
    "M3 = -P * x + Fl * (x - a) -fw * (x -2 * a + 0.5 * a)\n",
    "print(f3,\"\\n\",M3.expand().evalf())"
   ]
  },
  {
   "cell_type": "code",
   "execution_count": 11,
   "id": "7f83aaec-52b7-4271-b230-ef1824a85598",
   "metadata": {},
   "outputs": [
    {
     "data": {
      "text/latex": [
       "$\\displaystyle - 4 x^{2} + 156.0 x - 1620.0$"
      ],
      "text/plain": [
       "-4*x**2 + 156.0*x - 1620.0"
      ]
     },
     "execution_count": 11,
     "metadata": {},
     "output_type": "execute_result"
    }
   ],
   "source": [
    "M2.expand()"
   ]
  },
  {
   "cell_type": "code",
   "execution_count": 12,
   "id": "bc09580e-63dc-4920-9f10-3c2208b38241",
   "metadata": {},
   "outputs": [],
   "source": [
    "from sympy import *\n",
    "\n",
    "h = 152 # mm\n",
    "b = 233 # mm\n",
    "t1 = 25 # mm\n",
    "t2 = 24 # mm\n",
    "Mz = 1299 # N.m"
   ]
  },
  {
   "cell_type": "code",
   "execution_count": 13,
   "id": "8f4a3d97-be6e-4352-bfd5-0d2dd1a52025",
   "metadata": {},
   "outputs": [
    {
     "name": "stdout",
     "output_type": "stream",
     "text": [
      "100.0\n"
     ]
    }
   ],
   "source": [
    "y_avg = 0.5 * (h + 2 * t2)\n",
    "print(y_avg)"
   ]
  },
  {
   "cell_type": "code",
   "execution_count": 14,
   "id": "521324c5-e44a-43a7-a8b3-e2e0c8a298a7",
   "metadata": {},
   "outputs": [
    {
     "name": "stdout",
     "output_type": "stream",
     "text": [
      "120.47906133333333\n"
     ]
    }
   ],
   "source": [
    "Iz = 1 / 12 * ((b + 2 * t1) * (h + 2 * t2) ** 3 - b * h ** 3)\n",
    "print(Iz / 10 ** 6)"
   ]
  },
  {
   "cell_type": "code",
   "execution_count": 15,
   "id": "c258a1b5-187f-4be6-bab7-7d734546763c",
   "metadata": {},
   "outputs": [
    {
     "name": "stdout",
     "output_type": "stream",
     "text": [
      "1.07819565128086\n"
     ]
    }
   ],
   "source": [
    "Iz = Iz / 10 ** 12\n",
    "sigma = Mz * (h / 1000 + 2 * t2 / 1000) / 2 / Iz\n",
    "print(sigma / 10 ** 6)"
   ]
  },
  {
   "cell_type": "code",
   "execution_count": 2,
   "id": "2a1da815-a7e8-4e8a-aaeb-62b76ba9ba61",
   "metadata": {},
   "outputs": [],
   "source": [
    "from sympy import *\n",
    "\n",
    "t = 20 # mm\n",
    "Mz = 1505 # N.m"
   ]
  },
  {
   "cell_type": "code",
   "execution_count": 3,
   "id": "d9ddeb9d-25f4-42cb-b284-5208d7813038",
   "metadata": {},
   "outputs": [
    {
     "name": "stdout",
     "output_type": "stream",
     "text": [
      "50.0\n"
     ]
    }
   ],
   "source": [
    "M1 = 4 * t * 4 * t\n",
    "M2 = 4 * t * 6 * t - 2 * t * 4 * t\n",
    "y1 = 2 * t\n",
    "y2 = 7 * t\n",
    "M = M1 + M2\n",
    "y_avg = (y1 * M1 + y2 * M2) / M\n",
    "dis = 7 * t - y_avg\n",
    "print(dis)"
   ]
  },
  {
   "cell_type": "code",
   "execution_count": 6,
   "id": "5d593051-2a37-423b-93d5-dbdde59797e3",
   "metadata": {},
   "outputs": [
    {
     "name": "stdout",
     "output_type": "stream",
     "text": [
      "45.226666666666674\n"
     ]
    }
   ],
   "source": [
    "axis1 = 2 * t\n",
    "axis2 = 7 * t\n",
    "dis1 = axis1 - y_avg\n",
    "dis2 = axis2 - y_avg\n",
    "h1 = 4 * t\n",
    "I1 = M1 * h1 ** 2 / 12\n",
    "h21 = 6 * t\n",
    "h22 = 4 * t\n",
    "M21 = 6 * t * 4 * t\n",
    "M22 = 4 * t * 2 * t\n",
    "I21 = M21 * h21 ** 2 / 12\n",
    "I22 = M22 * h22 ** 2 / 12\n",
    "I2 = I21 - I22\n",
    "I1t = I1 + M1 * dis1 ** 2\n",
    "I2t = I2 + M2 * dis2 ** 2\n",
    "Iz = I1t + I2t\n",
    "Iz = Iz / 10 ** 6\n",
    "print(Iz)"
   ]
  },
  {
   "cell_type": "code",
   "execution_count": 8,
   "id": "74aa1de8-21f9-42df-9136-b51c5dbdd8ff",
   "metadata": {},
   "outputs": [
    {
     "name": "stdout",
     "output_type": "stream",
     "text": [
      "3.660451061320755\n"
     ]
    }
   ],
   "source": [
    "Iz = Iz * 10 ** 6 / 10 ** 12\n",
    "dis_max = 10 * t - y_avg\n",
    "dis_max = dis_max / 1000\n",
    "sigma = Mz * dis_max / Iz\n",
    "print(sigma / 10 ** 6)"
   ]
  },
  {
   "cell_type": "code",
   "execution_count": 20,
   "id": "24f9af6f-4a39-4d70-b8d4-685911f9e3fa",
   "metadata": {},
   "outputs": [],
   "source": [
    "from sympy import *\n",
    "\n",
    "R = 20 # mm\n",
    "Mz = -1690 # N.m"
   ]
  },
  {
   "cell_type": "code",
   "execution_count": 21,
   "id": "96a3dae4-c85f-49fe-a723-03146ba385db",
   "metadata": {},
   "outputs": [
    {
     "name": "stdout",
     "output_type": "stream",
     "text": [
      "12.5\n"
     ]
    }
   ],
   "source": [
    "y1 = 2.5 * R\n",
    "M1 = R * m.pi * R\n",
    "y2 = 0\n",
    "M2 = 4 * R * m.pi * R - m.pi * R ** 2\n",
    "M = M1 + M2\n",
    "y_avg = (y1 * M1 + y2 * M2) / M\n",
    "print(y_avg)"
   ]
  },
  {
   "cell_type": "code",
   "execution_count": 22,
   "id": "78472b72-3e26-4aaf-9091-962749d622df",
   "metadata": {},
   "outputs": [
    {
     "name": "stdout",
     "output_type": "stream",
     "text": [
      "4.953244417159907\n"
     ]
    }
   ],
   "source": [
    "h1 = R\n",
    "I1 = M1 * h1 ** 2 / 12\n",
    "dis1 = y1 - y_avg\n",
    "dis2 = y2 - y_avg\n",
    "M21 = 4 * R * m.pi * R\n",
    "M22 = m.pi * R ** 2\n",
    "h21 = 4 * R\n",
    "#I21 = M21 * h21 ** 2 / 12\n",
    "#I22 = M22 * R ** 2 / 4\n",
    "#I2 = I21 + I22\n",
    "I2 = 61 * m.pi * R ** 4 / 12\n",
    "I1t = I1 + M1 * dis1 ** 2\n",
    "I2t = I2 + M2 * dis2 ** 2\n",
    "Iz = I1t + I2t\n",
    "print(Iz / 10 ** 6)"
   ]
  },
  {
   "cell_type": "code",
   "execution_count": 23,
   "id": "7cc39dfe-8c1f-4aca-bbce-a2d799931623",
   "metadata": {},
   "outputs": [
    {
     "name": "stdout",
     "output_type": "stream",
     "text": [
      "-17.91250189322843\n"
     ]
    }
   ],
   "source": [
    "Iz = Iz / 10 ** 12\n",
    "d1 = 3 * R - y_avg\n",
    "d2 = 2 * R + y_avg\n",
    "d_max = max(d1,d2)\n",
    "sigma = Mz * d_max / 1000 / Iz\n",
    "print(sigma / 10 ** 6)"
   ]
  },
  {
   "cell_type": "code",
   "execution_count": 24,
   "id": "5b097eef-a16e-4653-a466-fa922c6bd4f4",
   "metadata": {},
   "outputs": [],
   "source": [
    "from sympy import *\n",
    "\n",
    "t = 17 # mm\n",
    "a = 83 # mm"
   ]
  },
  {
   "cell_type": "code",
   "execution_count": 25,
   "id": "9dedfdd7-608c-4cbf-aaa3-c55cf7a36393",
   "metadata": {},
   "outputs": [
    {
     "name": "stdout",
     "output_type": "stream",
     "text": [
      "-14.285714285714286\n"
     ]
    }
   ],
   "source": [
    "y1 = 0\n",
    "M1 = 8 * t * 12 * t\n",
    "y2 = - a - t\n",
    "M2 = 2 * t * 6 * t\n",
    "M = M1 - M2\n",
    "y_avg = (M1 * y1 + M2 * y2) / M\n",
    "print(y_avg)"
   ]
  },
  {
   "cell_type": "code",
   "execution_count": 26,
   "id": "abf3816e-f631-47b3-9e17-f14ec4f801ad",
   "metadata": {},
   "outputs": [],
   "source": [
    "from sympy import *\n",
    "\n",
    "t = 15 # mm\n",
    "a = 15 # mm\n",
    "r = 30 # mm\n",
    "ybar = 1.6483 # mm"
   ]
  },
  {
   "cell_type": "code",
   "execution_count": 27,
   "id": "2d0dc744-6c25-4f8a-aebb-e813476273d9",
   "metadata": {},
   "outputs": [],
   "source": [
    "M1 = 14 * t * 8 * t\n",
    "M2 = 0.5 * m.pi * r ** 2\n",
    "M = M1 - M2\n",
    "y_avg = ybar"
   ]
  },
  {
   "cell_type": "code",
   "execution_count": 28,
   "id": "ae959d7a-d717-4570-935e-25935a38c6df",
   "metadata": {},
   "outputs": [
    {
     "name": "stdout",
     "output_type": "stream",
     "text": [
      "91.36920659483404\n"
     ]
    }
   ],
   "source": [
    "y1 = 0\n",
    "y2c = 4 * r / 3 / m.pi\n",
    "y2 = -y2c - a\n",
    "dis1 = y_avg - y1\n",
    "dis2 = y_avg - y2\n",
    "h1 = 14 * t\n",
    "I1 = M1 * h1 ** 2 / 12\n",
    "I2 = (m.pi / 8 - 8 / 9 / m.pi) * r ** 4\n",
    "I1t = I1 + M1 * dis1 ** 2\n",
    "I2t = I2 + M2 * dis2 ** 2\n",
    "Iz = I1t - I2t\n",
    "print(Iz / 10 ** 6)"
   ]
  },
  {
   "cell_type": "code",
   "execution_count": 29,
   "id": "30f18340-fb4e-4a3a-9f84-83c7c6016c2a",
   "metadata": {},
   "outputs": [],
   "source": [
    "from sympy import *\n",
    "\n",
    "a = 1586 # mm\n",
    "b = 240 # mm\n",
    "h = 147 # mm\n",
    "t1 = 25 # mm\n",
    "t2 = 23 # mm\n",
    "sigmaT = 16 # MPa\n",
    "sigmaC = 16 # MPa"
   ]
  },
  {
   "cell_type": "code",
   "execution_count": 30,
   "id": "6f4ef202-bbe8-4654-833a-44314b29b162",
   "metadata": {},
   "outputs": [
    {
     "name": "stdout",
     "output_type": "stream",
     "text": [
      "109.95687645687646\n"
     ]
    }
   ],
   "source": [
    "M1 = b * (h + t2)\n",
    "M2 = (b - 2 * t1) * h\n",
    "y1 = 0.5 * (h + t2)\n",
    "y2 = h / 2\n",
    "M = M1 - M2\n",
    "y_avg = (M1 * y1 - M2 * y2) / M\n",
    "print(y_avg)"
   ]
  },
  {
   "cell_type": "code",
   "execution_count": 31,
   "id": "3d3ee06d-ee2b-4da5-85da-c2ad6b979c97",
   "metadata": {},
   "outputs": [
    {
     "name": "stdout",
     "output_type": "stream",
     "text": [
      "36.25528606643358\n"
     ]
    }
   ],
   "source": [
    "h1 = h + t2\n",
    "h2 = h\n",
    "dis1 = y_avg - y1\n",
    "dis2 = y_avg - y2\n",
    "I1 = M1 * h1 ** 2 / 12\n",
    "I2 = M2 * h2 ** 2 / 12\n",
    "I1t = I1 + M1 * dis1 ** 2\n",
    "I2t = I2 + M2 * dis2 ** 2\n",
    "Iz = I1t - I2t\n",
    "print(Iz / 10 ** 6)"
   ]
  },
  {
   "cell_type": "code",
   "execution_count": 32,
   "id": "883f0f47-a46f-4b3c-a0d0-46cd666690c0",
   "metadata": {},
   "outputs": [
    {
     "name": "stdout",
     "output_type": "stream",
     "text": [
      "5275.564346268405\n"
     ]
    }
   ],
   "source": [
    "Iz = Iz / 10 ** 12\n",
    "sigma_max = sigmaC * 10 ** 6\n",
    "dis = y_avg / 1000\n",
    "M = sigma_max * Iz / dis\n",
    "print(M)"
   ]
  },
  {
   "cell_type": "code",
   "execution_count": 33,
   "id": "01b1b749-1b10-4733-92d3-be0e6365807c",
   "metadata": {},
   "outputs": [
    {
     "name": "stdout",
     "output_type": "stream",
     "text": [
      "1.39820644443748\n"
     ]
    }
   ],
   "source": [
    "a = a / 1000\n",
    "w = symbols(\"w\")\n",
    "M_f = a ** 2 * w * 1.5\n",
    "eq = Eq(M_f, M)\n",
    "sol = solve(eq,w)[0]\n",
    "print(sol / 1000)"
   ]
  },
  {
   "cell_type": "code",
   "execution_count": null,
   "id": "05f6c37f-50c1-4bc2-9ba6-3fdd5c4b38b6",
   "metadata": {},
   "outputs": [],
   "source": []
  }
 ],
 "metadata": {
  "kernelspec": {
   "display_name": "Python [conda env:base] *",
   "language": "python",
   "name": "conda-base-py"
  },
  "language_info": {
   "codemirror_mode": {
    "name": "ipython",
    "version": 3
   },
   "file_extension": ".py",
   "mimetype": "text/x-python",
   "name": "python",
   "nbconvert_exporter": "python",
   "pygments_lexer": "ipython3",
   "version": "3.12.7"
  }
 },
 "nbformat": 4,
 "nbformat_minor": 5
}
