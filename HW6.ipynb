{
 "cells": [
  {
   "cell_type": "code",
   "execution_count": 1,
   "id": "fb1f8201-c616-4503-821e-4dd834eb4514",
   "metadata": {},
   "outputs": [],
   "source": [
    "from sympy import *\n",
    "import math as m\n",
    "m_dot = 43.8 # kg/min\n",
    "vi = 17.6 # m/s\n",
    "ve = 82.6 # m/s"
   ]
  },
  {
   "cell_type": "code",
   "execution_count": 2,
   "id": "6b6cd00e-6ca5-4006-9f21-ab8b4e8b8619",
   "metadata": {},
   "outputs": [
    {
     "name": "stdout",
     "output_type": "stream",
     "text": [
      "106.764890579696\n"
     ]
    }
   ],
   "source": [
    "m_dot = m_dot / 60\n",
    "ki = m_dot * 0.5 * vi ** 2 / 1000\n",
    "ke = m_dot * 0.5 * ve ** 2 / 1000\n",
    "t = symbols(\"t\")\n",
    "def h(t):\n",
    "    return (3.826 - 3.979 * 10 ** -3 * t + 24.558 * 10 ** -6 * t ** 2 - 22.733 * 10 ** -9 * t ** 3\n",
    "    + 6.936 * 10 ** -12 * t ** 4) * 8.314\n",
    "delta_h = integrate(h(t), (t, 25+273.15, 360))\n",
    "W = (m_dot / 16 * delta_h - ki + ke)\n",
    "print(W)"
   ]
  },
  {
   "cell_type": "code",
   "execution_count": 27,
   "id": "9ff6af91-c2b2-4e0c-8ad0-90726ca07e54",
   "metadata": {},
   "outputs": [],
   "source": [
    "from sympy import *\n",
    "\n",
    "p_sup = 8.00 # bars\n",
    "p_cyl = 1.00 # bars\n",
    "T_cyl = 300.00 # K\n",
    "h = 0.50 # m\n",
    "p_atm = 1.00 # bars\n",
    "D = 0.30 # m"
   ]
  },
  {
   "cell_type": "code",
   "execution_count": 29,
   "id": "9e1bd59e-6e82-46e6-ac67-c38920a37975",
   "metadata": {},
   "outputs": [
    {
     "name": "stdout",
     "output_type": "stream",
     "text": [
      "0.04105061004382501 0.0117735158908975\n",
      "300.190000000000\n",
      "0.0528241259347225\n"
     ]
    }
   ],
   "source": [
    "h300 = 300.19\n",
    "h400 = 400.98\n",
    "h500 = 503.02\n",
    "p_sup *= 10 ** 5\n",
    "p_cyl *= 10 ** 5\n",
    "p_atm *= 10 ** 5\n",
    "S = D ** 2 / 4 * m.pi\n",
    "V1 = h * S\n",
    "n1 = p_cyl * V1 / 8.314 / T_cyl\n",
    "m_in = n1 * 28.97 / 1000\n",
    "W = p_atm * S * h / 1000\n",
    "m_gas = symbols(\"m_gas\")\n",
    "deltaE = m_gas * h300\n",
    "eq = Eq(deltaE, W)\n",
    "m_gas = solve(eq,m_gas)[0]\n",
    "print(m_in,m_gas)\n",
    "E_total = m_gas * h300 + m_in * h300\n",
    "m_total = m_gas + m_in\n",
    "h_avg = E_total / m_total\n",
    "print(h_avg)\n",
    "print(m_total)"
   ]
  },
  {
   "cell_type": "code",
   "execution_count": 25,
   "id": "4b3c69d9-6d9f-4277-a6ca-2a30aecbad2a",
   "metadata": {},
   "outputs": [
    {
     "data": {
      "text/plain": [
       "0.04105061004382501"
      ]
     },
     "execution_count": 25,
     "metadata": {},
     "output_type": "execute_result"
    }
   ],
   "source": [
    "m_in"
   ]
  },
  {
   "cell_type": "code",
   "execution_count": 6,
   "id": "f9e554ab-18ff-4dd6-be6c-11e507692fd0",
   "metadata": {},
   "outputs": [],
   "source": [
    "from sympy import *\n",
    "\n",
    "P = 1.00 # atm\n",
    "T1 = 80.00 # F\n",
    "T2 = 40.00 # F\n",
    "D1 = 4.00 # ft\n",
    "AV2 = 2000.00 # ft^3/min\n",
    "V1 = 400.00 # ft/min\n",
    "V2 = 600.00 # ft/min\n",
    "V3 = 400.00 # ft/min"
   ]
  },
  {
   "cell_type": "code",
   "execution_count": 7,
   "id": "41c01ec9-07e3-4e90-96a8-7da35550f125",
   "metadata": {},
   "outputs": [
    {
     "name": "stdout",
     "output_type": "stream",
     "text": [
      "50.5860910070542\n",
      "4.69573385007565\n"
     ]
    }
   ],
   "source": [
    "T1 = T1 + 459.67\n",
    "T2 = T2 + 495.67\n",
    "def c(t):\n",
    "    return (3.653 - 0.7428 * 10 ** -3 * t + 1.017 * 10 ** -6 * t ** 2 - 0.328 * 10 ** -9 * t ** 3\n",
    "    + 0.02632 * 10 ** -12 * t ** 4) * 8.314 / 28.94\n",
    "V1 = V1 / 60\n",
    "V2 = V2 / 60\n",
    "V3 = V3 / 60\n",
    "AV2 = AV2 / 60\n",
    "S1 = D1 ** 2 / 4 * m.pi\n",
    "AV1 = S1 * V1\n",
    "v1 = P / 8.314 * 28.94/ T1\n",
    "v2 = P / 8.314 * 28.94 / T2\n",
    "mi = AV1 / v1 + AV2 / v2\n",
    "m1 = AV1 / v1\n",
    "m2 = AV2 / v2\n",
    "m3 = m1 + m2\n",
    "mo = mi\n",
    "kv1 = 0.5 * m1 * V1 ** 2\n",
    "kv2 = 0.5 * m2 * V2 ** 2\n",
    "kv3 = 0.5 * m3 * V3 ** 2\n",
    "c1 = c(T1)\n",
    "c2 = c(T2)\n",
    "Ei = m1 * c1 * T1 + m2 * c2 * T2 + kv1 + kv2\n",
    "T = symbols(\"T\")\n",
    "Eo = kv3 + m3 * c(T) * T\n",
    "eq = Eq(Eo,Ei)\n",
    "T = solve(eq,T)[0]\n",
    "print(T - 495.67)\n",
    "v3 = P / 8.314 * 28.94 / T\n",
    "AV3 = m3 * v3\n",
    "S3 = AV3 / V3\n",
    "D = (S3 * 4 / m.pi) ** 0.5\n",
    "print(D)"
   ]
  },
  {
   "cell_type": "code",
   "execution_count": 8,
   "id": "e67fc552-4301-4eae-91b0-4475351412db",
   "metadata": {},
   "outputs": [],
   "source": [
    "from sympy import *\n",
    "\n",
    "m0 = 1.00 # kg\n",
    "T0 = 70.00 # C\n",
    "P0 = 1.00 # Mpa\n",
    "Pt = 0.50 # Mpa"
   ]
  },
  {
   "cell_type": "code",
   "execution_count": 9,
   "id": "eb7cf14b-0441-44b5-9f6c-374ff136cef7",
   "metadata": {},
   "outputs": [],
   "source": [
    "h1 = 295.03\n",
    "u1 = 265.19\n",
    "E1 = m0 * u1\n"
   ]
  }
 ],
 "metadata": {
  "kernelspec": {
   "display_name": "Python [conda env:base] *",
   "language": "python",
   "name": "conda-base-py"
  },
  "language_info": {
   "codemirror_mode": {
    "name": "ipython",
    "version": 3
   },
   "file_extension": ".py",
   "mimetype": "text/x-python",
   "name": "python",
   "nbconvert_exporter": "python",
   "pygments_lexer": "ipython3",
   "version": "3.12.7"
  }
 },
 "nbformat": 4,
 "nbformat_minor": 5
}
