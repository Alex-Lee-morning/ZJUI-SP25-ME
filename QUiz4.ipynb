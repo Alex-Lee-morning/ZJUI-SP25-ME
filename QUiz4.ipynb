{
 "cells": [
  {
   "cell_type": "code",
   "execution_count": 2,
   "id": "57c0fadd-7571-4dd8-b182-d68775db114e",
   "metadata": {},
   "outputs": [],
   "source": [
    "from sympy import *\n",
    "\n",
    "rOP = Matrix([1, 3, 0])\n",
    "rPQ = Matrix([ 1, -1,  0])\n",
    "omega1 = Matrix([ 0,  0, -1])\n",
    "omega2 = Matrix([0, 0, 3])\n",
    "alpha1 = Matrix([0, 0, 2])\n",
    "alpha2 = Matrix([ 0,  0, -2])"
   ]
  },
  {
   "cell_type": "code",
   "execution_count": 3,
   "id": "c89003cb-846b-47bf-9685-a32eb5f21b31",
   "metadata": {},
   "outputs": [
    {
     "data": {
      "text/latex": [
       "$\\displaystyle \\left[\\begin{matrix}-18\\\\6\\\\0\\end{matrix}\\right]$"
      ],
      "text/plain": [
       "Matrix([\n",
       "[-18],\n",
       "[  6],\n",
       "[  0]])"
      ]
     },
     "metadata": {},
     "output_type": "display_data"
    }
   ],
   "source": [
    "a1 = alpha1.cross(rOP) + omega1.cross(omega1.cross(rOP))\n",
    "a2 = a1 + alpha2.cross(rPQ) + omega2.cross(omega2.cross(rPQ))\n",
    "display(a2)"
   ]
  },
  {
   "cell_type": "code",
   "execution_count": 4,
   "id": "c223ce6c-4226-4670-82a8-e262585d2e6f",
   "metadata": {},
   "outputs": [],
   "source": [
    "from sympy import *\n",
    "\n",
    "rOP = Matrix([1, 1, 0])\n",
    "rPQ = Matrix([ 1, -2,  0])\n",
    "vQ = Matrix([-7,  1,  0])"
   ]
  },
  {
   "cell_type": "code",
   "execution_count": 5,
   "id": "b26f9973-67d3-4783-9e56-c89e8446f9bf",
   "metadata": {},
   "outputs": [
    {
     "data": {
      "text/plain": [
       "{w1: 3, w2: -2}"
      ]
     },
     "metadata": {},
     "output_type": "display_data"
    }
   ],
   "source": [
    "w1, w2 = symbols(\"w1, w2\")\n",
    "omega1 = Matrix([0, 0, w1])\n",
    "omega2 = Matrix([0, 0, w2])\n",
    "vP = omega1.cross(rOP)\n",
    "vq = omega2.cross(rPQ) + vP\n",
    "eq = Eq(vq,vQ)\n",
    "sol = solve(eq,(w1,w2))\n",
    "display(sol)"
   ]
  },
  {
   "cell_type": "code",
   "execution_count": 6,
   "id": "07c28074-1075-4617-a805-b6b1888bba86",
   "metadata": {},
   "outputs": [],
   "source": [
    "from sympy import *\n",
    "\n",
    "l = 6.0\n",
    "aPMag = 3.5\n",
    "thetaP = 63.0 # in degrees\n",
    "aQMag = 3.5\n",
    "thetaQ = 69.0 # in degrees"
   ]
  },
  {
   "cell_type": "code",
   "execution_count": 7,
   "id": "76d3dd86-1964-438a-8ba7-9d4f24802902",
   "metadata": {},
   "outputs": [
    {
     "name": "stdout",
     "output_type": "stream",
     "text": [
      "1.06434238789992\n"
     ]
    }
   ],
   "source": [
    "thetaP = thetaP * pi / 180\n",
    "thetaQ = thetaQ * pi / 180\n",
    "alpha = 1 / l * (aPMag * sin(thetaP) + aQMag * sin(thetaQ))\n",
    "print(alpha.evalf())"
   ]
  },
  {
   "cell_type": "code",
   "execution_count": 8,
   "id": "abe0c4da-7f17-4072-9180-0be27dcd4980",
   "metadata": {},
   "outputs": [
    {
     "name": "stdout",
     "output_type": "stream",
     "text": [
      "1.08001407567517\n"
     ]
    }
   ],
   "source": [
    "thetaP = thetaP * pi / 180\n",
    "thetaQ = thetaQ * pi / 180\n",
    "omega = (1 / l * abs(aPMag * cos(thetaP) + aQMag * cos(thetaQ))) ** 0.5\n",
    "print(omega.evalf())"
   ]
  },
  {
   "cell_type": "code",
   "execution_count": 9,
   "id": "adf94738-a887-47e3-ba24-fc1e6bdcf543",
   "metadata": {},
   "outputs": [],
   "source": [
    "from sympy import *\n",
    "\n",
    "rAB = Matrix([2, 0, 0])\n",
    "rBC = Matrix([0, 2, 0])\n",
    "rAD = Matrix([0, 1, 0])\n",
    "rDC = Matrix([2, 1, 0])\n",
    "omega1 = Matrix([0, 0, 3])"
   ]
  },
  {
   "cell_type": "code",
   "execution_count": 10,
   "id": "a3dbad4c-b02b-434e-8690-a05f65b00aad",
   "metadata": {},
   "outputs": [
    {
     "data": {
      "text/plain": [
       "{w2: 3/2, w3: 0}"
      ]
     },
     "metadata": {},
     "output_type": "display_data"
    }
   ],
   "source": [
    "w2, w3 = symbols(\"w2, w3\")\n",
    "omega2 = Matrix([0, 0, w2])\n",
    "omega3 = Matrix([0, 0, w3])\n",
    "vC = omega2.cross(rBC)\n",
    "vD = omega1.cross(rAD)\n",
    "vc = vD + omega3.cross(rDC)\n",
    "eq = Eq(vc,vC)\n",
    "sol = solve(eq,(w2,w3))\n",
    "display(sol)"
   ]
  },
  {
   "cell_type": "code",
   "execution_count": 11,
   "id": "21588b3c-0095-4c03-9789-9253ca554c75",
   "metadata": {},
   "outputs": [],
   "source": [
    "from sympy import *\n",
    "\n",
    "R = 0.20\n",
    "v1 = 2.50\n",
    "theta = 50.00 # in degrees"
   ]
  },
  {
   "cell_type": "code",
   "execution_count": 12,
   "id": "49394922-9abe-44b4-bab0-73d2c88c4a77",
   "metadata": {},
   "outputs": [
    {
     "name": "stdout",
     "output_type": "stream",
     "text": [
      "16.3175911166535\n"
     ]
    }
   ],
   "source": [
    "theta = theta / 180 * pi\n",
    "v = v1 / sin(theta)\n",
    "w = v / R\n",
    "print(w.evalf())"
   ]
  },
  {
   "cell_type": "code",
   "execution_count": 13,
   "id": "734c6eaa-13f9-4689-808e-65424a3851cf",
   "metadata": {},
   "outputs": [],
   "source": [
    "from sympy import *\n",
    "\n",
    "rOP = Matrix([-2,  1,  0])\n",
    "rPQ = Matrix([2, 8, 0])\n",
    "omega1 = Matrix([ 0,  0, -8])\n",
    "omega2 = Matrix([0, 0, 1])\n",
    "vP = Matrix([ 8, 16,  0])\n",
    "vQ = Matrix([ 0, 18,  0])\n",
    "aQ = Matrix([   0, -378,    0])"
   ]
  },
  {
   "cell_type": "code",
   "execution_count": 14,
   "id": "41a28866-317a-45a2-b45f-2ec54100a313",
   "metadata": {},
   "outputs": [
    {
     "name": "stdout",
     "output_type": "stream",
     "text": [
      "{a1: 150, a2: -3}\n"
     ]
    }
   ],
   "source": [
    "a1, a2 = symbols(\"a1, a2\")\n",
    "alpha1 = Matrix([0,0,a1])\n",
    "alpha2 = Matrix([0,0,a2])\n",
    "aP = omega1.cross(omega1.cross(rOP)) + alpha1.cross(rOP)\n",
    "aq = aP + omega2.cross(omega2.cross(rPQ)) + alpha2.cross(rPQ)\n",
    "eq1 = Eq(aq[0],aQ[0])\n",
    "eq2 = Eq(aq[1],aQ[1])\n",
    "a = solve((eq1,eq2),(a1,a2))\n",
    "print(a)"
   ]
  },
  {
   "cell_type": "code",
   "execution_count": 15,
   "id": "93b2e080-69cb-4076-b0f9-a59087511be5",
   "metadata": {},
   "outputs": [
    {
     "data": {
      "text/latex": [
       "$\\displaystyle - a_{1} - 8 a_{2} + 126 = 0$"
      ],
      "text/plain": [
       "Eq(-a1 - 8*a2 + 126, 0)"
      ]
     },
     "execution_count": 15,
     "metadata": {},
     "output_type": "execute_result"
    }
   ],
   "source": [
    "eq1"
   ]
  },
  {
   "cell_type": "code",
   "execution_count": 16,
   "id": "0eb8260c-5a9e-436e-bb5f-16580d6c05d4",
   "metadata": {},
   "outputs": [],
   "source": [
    "from sympy import *\n",
    "\n",
    "rPQ = Matrix([0, 3, 0])\n",
    "vP = Matrix([1, 2, 0])"
   ]
  },
  {
   "cell_type": "code",
   "execution_count": 17,
   "id": "58757050-f76d-4c9f-87ef-a66d2b5cefbd",
   "metadata": {},
   "outputs": [
    {
     "name": "stdout",
     "output_type": "stream",
     "text": [
      "{v: 2, w: 1/3}\n"
     ]
    }
   ],
   "source": [
    "v, w = symbols(\"v, w\")\n",
    "vQ = Matrix([0, v, 0])\n",
    "omega = Matrix([0, 0, w])\n",
    "vq = omega.cross(rPQ) + vP\n",
    "eq = Eq(vq, vQ)\n",
    "sol = solve(eq, (w,v))\n",
    "print(sol)"
   ]
  },
  {
   "cell_type": "code",
   "execution_count": 40,
   "id": "6739efc4-264b-4e0f-b2e5-8bbe4e84d5a3",
   "metadata": {},
   "outputs": [],
   "source": [
    "from sympy import *\n",
    "\n",
    "rOP = Matrix([1, 2, 0])\n",
    "rPQ = Matrix([-12,   0,   0])\n",
    "omega1 = Matrix([ 0,  0, 12])\n",
    "omega2 = Matrix([0, 0, 1])\n",
    "vP = Matrix([-24,  12,   0])\n",
    "vQ = Matrix([-24,   0,   0])\n",
    "alpha1 = Matrix([  0,   0, 324])"
   ]
  },
  {
   "cell_type": "code",
   "execution_count": 42,
   "id": "5e7552d2-da00-40e3-84a9-c042a38f7e49",
   "metadata": {},
   "outputs": [
    {
     "name": "stdout",
     "output_type": "stream",
     "text": [
      "Matrix([[-780], [0], [0]])\n"
     ]
    }
   ],
   "source": [
    "a2 = symbols(\"a2\")\n",
    "alpha2 = Matrix([0, 0, a2])\n",
    "aP = alpha1.cross(rOP) + omega1.cross(omega1.cross(rOP))\n",
    "aQ = alpha2.cross(rPQ) + omega2.cross(omega2.cross(rPQ)) + aP\n",
    "eq = Eq(aQ[1],0)\n",
    "sol = solve(eq,a2)\n",
    "a2 = sol[0]\n",
    "alpha2 = Matrix([0, 0, a2])\n",
    "aP = alpha1.cross(rOP) + omega1.cross(omega1.cross(rOP))\n",
    "aQ = alpha2.cross(rPQ) + omega2.cross(omega2.cross(rPQ)) + aP\n",
    "print(aQ)"
   ]
  },
  {
   "cell_type": "code",
   "execution_count": 60,
   "id": "4419d4ce-ebbc-4164-9b04-6368691e2500",
   "metadata": {},
   "outputs": [],
   "source": [
    "from sympy import *\n",
    "\n",
    "rPA = Matrix([ 2, -3,  0])\n",
    "rQA = Matrix([ 2, -1,  0])\n",
    "vP = Matrix([2, 1, 0])\n",
    "vQ = Matrix([ 2, -3,  0])"
   ]
  },
  {
   "cell_type": "code",
   "execution_count": 62,
   "id": "53c26bff-ab07-4727-af72-2e1c16f26470",
   "metadata": {},
   "outputs": [
    {
     "name": "stdout",
     "output_type": "stream",
     "text": [
      "{w1: 1, w2: 3}\n",
      "Matrix([[5], [3], [0]])\n"
     ]
    }
   ],
   "source": [
    "w1, w2 = symbols(\"w1, w2\")\n",
    "omega1 = Matrix([0, 0, w1])\n",
    "omega2 = Matrix([0, 0, w2])\n",
    "vA1 = vP + omega1.cross(rPA)\n",
    "vA2 = vQ + omega2.cross(rQA)\n",
    "eq = Eq(vA1,vA2)\n",
    "sol = solve(eq,(w1,w2))\n",
    "print(sol)\n",
    "w1 = sol[w1]\n",
    "w2 = sol[w2]\n",
    "omega1 = Matrix([0, 0, w1])\n",
    "omega2 = Matrix([0, 0, w2])\n",
    "vA1 = vP + omega1.cross(rPA)\n",
    "vA2 = vQ + omega2.cross(rQA)\n",
    "print(vA1)"
   ]
  },
  {
   "cell_type": "code",
   "execution_count": null,
   "id": "733220c4-7b34-45e2-8b35-2d7a89cdeb86",
   "metadata": {},
   "outputs": [],
   "source": []
  }
 ],
 "metadata": {
  "kernelspec": {
   "display_name": "Python [conda env:base] *",
   "language": "python",
   "name": "conda-base-py"
  },
  "language_info": {
   "codemirror_mode": {
    "name": "ipython",
    "version": 3
   },
   "file_extension": ".py",
   "mimetype": "text/x-python",
   "name": "python",
   "nbconvert_exporter": "python",
   "pygments_lexer": "ipython3",
   "version": "3.12.7"
  }
 },
 "nbformat": 4,
 "nbformat_minor": 5
}
