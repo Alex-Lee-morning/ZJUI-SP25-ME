{
 "cells": [
  {
   "cell_type": "code",
   "execution_count": 1,
   "id": "afbfca1f-52e6-4426-a30d-2a5120ec4920",
   "metadata": {},
   "outputs": [],
   "source": [
    "import numpy as np\n",
    "import sympy as sp\n",
    "import math as m"
   ]
  },
  {
   "cell_type": "code",
   "execution_count": 2,
   "id": "d950be86-2b08-4961-a7d9-c9a770531deb",
   "metadata": {},
   "outputs": [],
   "source": [
    "import numpy as np\n",
    "\n",
    "m = 1.03 # kg\n",
    "x_quality = 0.53 # "
   ]
  },
  {
   "cell_type": "code",
   "execution_count": 3,
   "id": "d6c33f3c-9fca-426b-8ac2-e16f724f038e",
   "metadata": {},
   "outputs": [],
   "source": [
    "import numpy as np\n",
    "\n",
    "m = 2.37 # kg\n",
    "x_quality = 0.50 # \n",
    "P_initial = 20.00 # bars"
   ]
  },
  {
   "cell_type": "code",
   "execution_count": 4,
   "id": "9343ba62-6238-4f3f-812b-34f9204163bf",
   "metadata": {},
   "outputs": [
    {
     "name": "stdout",
     "output_type": "stream",
     "text": [
      "0.05457249412000001\n"
     ]
    }
   ],
   "source": [
    "import numpy as np\n",
    "\n",
    "m = 1.03 # kg\n",
    "x_quality = 0.53 # \n",
    "vf = 0.7532 * 10 ** -3\n",
    "vg = 0.0993\n",
    "v = vf + x_quality * (vg - vf)\n",
    "V = v * m\n",
    "print(V)"
   ]
  },
  {
   "cell_type": "code",
   "execution_count": 5,
   "id": "840fa255-575c-47a4-8c83-6dbd40e16e02",
   "metadata": {},
   "outputs": [
    {
     "name": "stdout",
     "output_type": "stream",
     "text": [
      "0.0002859444412499999\n"
     ]
    }
   ],
   "source": [
    "import numpy as np\n",
    "\n",
    "m = 5.10 # kg\n",
    "x_quality = 0.50 # \n",
    "P_initial = 20.00 # bars\n",
    "P = P_initial * 10 ** 5\n",
    "V = 8.314 / 18 * (212.4 + 273.15) / P\n",
    "v = V * m * x_quality\n",
    "print(v)"
   ]
  },
  {
   "cell_type": "code",
   "execution_count": 6,
   "id": "e6a40bdf-fa67-4eae-91b8-29826eb14d38",
   "metadata": {},
   "outputs": [],
   "source": [
    "import numpy as np\n",
    "\n",
    "m = 3.53 # kg\n",
    "x_quality = 0.50 # \n",
    "P_initial = 20.00 # bars"
   ]
  },
  {
   "cell_type": "code",
   "execution_count": 7,
   "id": "e5da5633-b6ae-437d-817f-8f0df8154caa",
   "metadata": {
    "scrolled": true
   },
   "outputs": [
    {
     "name": "stdout",
     "output_type": "stream",
     "text": [
      "0.1779238255\n"
     ]
    }
   ],
   "source": [
    "vf = 1.1767 * 10 ** -3\n",
    "vg = 0.09963\n",
    "v = vf + (vg - vf) * x_quality\n",
    "V = v * m\n",
    "print(V)"
   ]
  },
  {
   "cell_type": "code",
   "execution_count": 8,
   "id": "771089f5-161d-4afd-8104-480b6c3f2bc7",
   "metadata": {},
   "outputs": [
    {
     "name": "stdout",
     "output_type": "stream",
     "text": [
      "0.05040335\n"
     ]
    }
   ],
   "source": [
    "v0 = V / m\n",
    "print(v0)"
   ]
  },
  {
   "cell_type": "code",
   "execution_count": 9,
   "id": "948f7af5-498e-42d9-a51f-32064e6b042b",
   "metadata": {},
   "outputs": [
    {
     "data": {
      "text/plain": [
       "0.09963"
      ]
     },
     "execution_count": 9,
     "metadata": {},
     "output_type": "execute_result"
    }
   ],
   "source": [
    "vg"
   ]
  },
  {
   "cell_type": "code",
   "execution_count": null,
   "id": "cfc803b3-bda6-42f5-a7f7-54b51b7d77e4",
   "metadata": {},
   "outputs": [],
   "source": []
  },
  {
   "cell_type": "code",
   "execution_count": 10,
   "id": "a636a4d6-54ec-4cfc-a31f-3f75697f8c88",
   "metadata": {},
   "outputs": [],
   "source": [
    "import numpy as np\n",
    "\n",
    "T = 40.00 # degree centigrade\n",
    "p = 7.50 # bars"
   ]
  },
  {
   "cell_type": "code",
   "execution_count": 11,
   "id": "ad19c9e0-bfa2-4d93-ae5d-087171a04687",
   "metadata": {},
   "outputs": [
    {
     "name": "stdout",
     "output_type": "stream",
     "text": [
      "275.19\n"
     ]
    }
   ],
   "source": [
    "a = 275.96\n",
    "b = 274.42\n",
    "print(0.5 * (a + b))"
   ]
  },
  {
   "cell_type": "code",
   "execution_count": 106,
   "id": "2ceb800d-c971-4fc6-828a-14c0ff744439",
   "metadata": {},
   "outputs": [],
   "source": [
    "import numpy as np\n",
    "\n",
    "m = 0.5 # kg\n",
    "P1 = 40.0 # bars\n",
    "T1 = 180.0 # K\n",
    "P2 = 33.0 # bars"
   ]
  },
  {
   "cell_type": "code",
   "execution_count": 108,
   "id": "00c76d82-3344-42bf-bf65-41c5bbfed4d7",
   "metadata": {},
   "outputs": [
    {
     "name": "stdout",
     "output_type": "stream",
     "text": [
      "0.002021666015625\n"
     ]
    }
   ],
   "source": [
    "P1 = P1\n",
    "P2 = P2\n",
    "T1 = T1\n",
    "Z = 0.83\n",
    "R = 8.314\n",
    "n = m * 1000 / 32\n",
    "V = n * R * T * Z/ P1 / (10 ** 5)\n",
    "print(mV)"
   ]
  },
  {
   "cell_type": "code",
   "execution_count": 14,
   "id": "8a0227ba-b15f-4afe-8882-1fba20652730",
   "metadata": {},
   "outputs": [
    {
     "name": "stdout",
     "output_type": "stream",
     "text": [
      "0.14377205509334415\n"
     ]
    }
   ],
   "source": [
    "Z = 0.83\n",
    "\n",
    "V = 8.314/32 * T1  * Z / P1\n",
    "v = V * m\n",
    "print(v)"
   ]
  },
  {
   "cell_type": "code",
   "execution_count": 15,
   "id": "74d83cc5-760d-4c53-9e77-e460b444e32d",
   "metadata": {},
   "outputs": [],
   "source": [
    "import numpy as np\n",
    "\n",
    "L1 = 30 # cm\n",
    "L2 = 22 # cm\n",
    "T = 150 # degree centigrade"
   ]
  },
  {
   "cell_type": "code",
   "execution_count": 16,
   "id": "fdb240f6-bc67-4087-bee2-d14dea111ab0",
   "metadata": {},
   "outputs": [
    {
     "name": "stdout",
     "output_type": "stream",
     "text": [
      "0.3771479361770931\n"
     ]
    }
   ],
   "source": [
    "vf = 1.0905 * 10 ** -3\n",
    "vg = 0.3928\n",
    "mf = L2 / vf\n",
    "mg = L1 / vg\n",
    "x = mg / (mf + mg) * 100\n",
    "print(x)"
   ]
  },
  {
   "cell_type": "code",
   "execution_count": 50,
   "id": "3d8f354c-9818-4fb7-828c-52186f50d58c",
   "metadata": {},
   "outputs": [],
   "source": [
    "import numpy as np\n",
    "\n",
    "m = 0.5 # kg\n",
    "P1 = 40.0 # bars\n",
    "T1 = 180.0 # K\n",
    "P2 = 33.0 # bars"
   ]
  },
  {
   "cell_type": "code",
   "execution_count": 52,
   "id": "3b27a0f1-2f62-4152-a8bd-4518796dcc91",
   "metadata": {},
   "outputs": [
    {
     "name": "stdout",
     "output_type": "stream",
     "text": [
      "0.005845781249999999\n"
     ]
    }
   ],
   "source": [
    "P1 = P1 * 100000\n",
    "P2 = P2 * 100000\n",
    "R = 8.314 / 32\n",
    "V = R * T1 / P1 * 1000\n",
    "v = V * m\n",
    "print(v)"
   ]
  },
  {
   "cell_type": "code",
   "execution_count": 19,
   "id": "5349a4b8-58dc-40d5-a821-c5cf1f42399a",
   "metadata": {},
   "outputs": [
    {
     "data": {
      "text/plain": [
       "148.5"
      ]
     },
     "execution_count": 19,
     "metadata": {},
     "output_type": "execute_result"
    }
   ],
   "source": [
    "33 / 40 * 180"
   ]
  },
  {
   "cell_type": "code",
   "execution_count": null,
   "id": "3f694c53-2066-4419-88ad-14a379af2124",
   "metadata": {},
   "outputs": [],
   "source": []
  }
 ],
 "metadata": {
  "kernelspec": {
   "display_name": "Python [conda env:base] *",
   "language": "python",
   "name": "conda-base-py"
  },
  "language_info": {
   "codemirror_mode": {
    "name": "ipython",
    "version": 3
   },
   "file_extension": ".py",
   "mimetype": "text/x-python",
   "name": "python",
   "nbconvert_exporter": "python",
   "pygments_lexer": "ipython3",
   "version": "3.12.7"
  }
 },
 "nbformat": 4,
 "nbformat_minor": 5
}
