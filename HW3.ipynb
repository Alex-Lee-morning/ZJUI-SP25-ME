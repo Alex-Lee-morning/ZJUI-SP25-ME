{
 "cells": [
  {
   "cell_type": "code",
   "execution_count": 2,
   "id": "fb424e63-1dcd-4d79-be66-2eb6d3a690bd",
   "metadata": {},
   "outputs": [],
   "source": [
    "import numpy as np\n",
    "import sympy as sp\n",
    "import math as m"
   ]
  },
  {
   "cell_type": "code",
   "execution_count": 3,
   "id": "67592394-fdd0-49aa-9de4-11d2d01dbbcc",
   "metadata": {},
   "outputs": [
    {
     "name": "stdout",
     "output_type": "stream",
     "text": [
      "0.161681212029862 -0.004850436360895859\n"
     ]
    }
   ],
   "source": [
    "L = 200 * 10 ** -3\n",
    "d = 15 * 10 ** -3\n",
    "E = 2.1 * 10 ** 9\n",
    "v = 0.4\n",
    "P = 300\n",
    "S = d ** 2 / 4 * m.pi\n",
    "sigma = P / S\n",
    "dl = sigma / E \n",
    "delta_l = dl * L\n",
    "dr = -dl * v\n",
    "delta_d = dr * d\n",
    "print(delta_l * 1000 , delta_d * 1000)"
   ]
  },
  {
   "cell_type": "code",
   "execution_count": 4,
   "id": "e68d9c1d-9b96-4ac4-a5cc-f46b27b62e34",
   "metadata": {},
   "outputs": [
    {
     "name": "stdout",
     "output_type": "stream",
     "text": [
      "25.079999999999995\n",
      "-0.8746 0.26238\n"
     ]
    }
   ],
   "source": [
    "d = 22 * 10 ** -3\n",
    "L0 = 220 * 10 ** -3\n",
    "P = 148 * 1000\n",
    "delta = 3 * 10 ** -3\n",
    "S = d ** 2 / 4 * m.pi\n",
    "sigmay = 342 * 10 ** 6\n",
    "G = 100 * 10 ** 9\n",
    "el = delta / L0\n",
    "E = sigmay / el\n",
    "print(E / 10 ** 9)\n",
    "v = E / G / 2 - 1\n",
    "ed = -v * el\n",
    "delta = d * ed\n",
    "print(v, delta * 1000)"
   ]
  },
  {
   "cell_type": "code",
   "execution_count": 5,
   "id": "136a3c25-2d71-4c7b-a2f2-ec29c2d072a5",
   "metadata": {},
   "outputs": [
    {
     "name": "stdout",
     "output_type": "stream",
     "text": [
      "16.549785339820062\n",
      "-0.9180703696048512\n",
      "-0.3426898614654053\n"
     ]
    }
   ],
   "source": [
    "d = 27 * 10 ** -3\n",
    "S = d ** 2 / 4 * m.pi\n",
    "L0 = 217 * 10 ** -3\n",
    "P = 131 * 10 ** 3\n",
    "delta = 3 * 10 ** -3\n",
    "Sigmay = 369 * 10 ** 6\n",
    "sigmay  = P / S\n",
    "G = 101 * 10 ** 9\n",
    "el = delta / L0\n",
    "E = sigmay / el\n",
    "print(E/10 ** 9)\n",
    "v = -1 + E / 2 / G\n",
    "print(v)\n",
    "ed = el * v\n",
    "deltad = ed * d\n",
    "print(deltad * 1000)"
   ]
  },
  {
   "cell_type": "code",
   "execution_count": 6,
   "id": "c13482f3-dab9-4cb2-91e0-f67d3d297981",
   "metadata": {},
   "outputs": [
    {
     "name": "stdout",
     "output_type": "stream",
     "text": [
      "11.1198709350802\n"
     ]
    }
   ],
   "source": [
    "def e(x):\n",
    "    return 0.45 * 10 ** -3  * x + 0.36 * 10 ** -3 * x ** 3\n",
    "x = sp.symbols(\"x\")\n",
    "eq1 = 0.45 * 10 ** -6 * x + 0.36 * 10 ** -12 * x ** 3 - 0.5\n",
    "sol = sp.solve(eq1,x)[0] / 1000\n",
    "print(sol)"
   ]
  },
  {
   "cell_type": "code",
   "execution_count": 7,
   "id": "d7bc4276-f89c-4d84-8e26-4c583368cacd",
   "metadata": {},
   "outputs": [
    {
     "name": "stdout",
     "output_type": "stream",
     "text": [
      "25.6599067987346 34.7945821583359\n"
     ]
    }
   ],
   "source": [
    "E1 = 101 * 10 ** 9\n",
    "E2 = 193 * 10 ** 9\n",
    "d1 = 30 * 10 ** -3\n",
    "S1 = d1 ** 2 / 4 * m.pi\n",
    "d2 = 40 * 10 ** -3\n",
    "S2 = d2 ** 2 / 4 * m.pi\n",
    "L1 = 347 * 10 ** -3\n",
    "L2 = 489 * 10 ** -3\n",
    "P = 40 * 10 ** 3\n",
    "D = sp.symbols(\"D\")\n",
    "sigma1 = D / L1 * E1\n",
    "F1 = sigma1 * S1\n",
    "sigma2 = D / L2 * E2\n",
    "F2 = sigma2 * S2\n",
    "Eq = sp.Eq(2 * F1 + F2 - P * 2, D)\n",
    "delta = sp.solve(Eq)[0]\n",
    "e1 = delta / L1\n",
    "e2 = delta / L2\n",
    "Sig1 = e1 * E1\n",
    "Sig2 = e2 * E2\n",
    "print(Sig1/10 ** 6,Sig2 / 10 ** 6)"
   ]
  },
  {
   "cell_type": "code",
   "execution_count": 8,
   "id": "e626b4df-2413-4ae2-bd92-6ec1e13345b0",
   "metadata": {},
   "outputs": [
    {
     "name": "stdout",
     "output_type": "stream",
     "text": [
      "0.052500000000000005 0.09916666666666667\n"
     ]
    }
   ],
   "source": [
    "k1 = 9 * 10 ** 5 * 10 ** 3\n",
    "k2 = 4 * 10 ** 5 * 10 ** 3\n",
    "P = 42 * 10 ** 3\n",
    "deltab = P / k2 / 2 * 1000\n",
    "deltac = P / k1 * 1000\n",
    "deltac = deltab + deltac\n",
    "print(deltab, deltac)"
   ]
  },
  {
   "cell_type": "code",
   "execution_count": 9,
   "id": "eb906ac3-60cf-4cae-aad6-e5a1152e7e70",
   "metadata": {},
   "outputs": [
    {
     "name": "stdout",
     "output_type": "stream",
     "text": [
      "[0.0417943414298090, -206.102225902258 - 117.184947357414*I, -206.102225902258 + 117.184947357414*I]\n"
     ]
    }
   ],
   "source": [
    "k1 = 226\n",
    "L = 220\n",
    "theta = 36 * m.pi / 180\n",
    "k2 = 199\n",
    "P = 29\n",
    "x1 = L * m.sin(theta)\n",
    "y1 = L * m.cos(theta)\n",
    "d = sp.symbols(\"d\")\n",
    "y2 = y1 + d\n",
    "L2 = (x1 ** 2 + y2 ** 2) ** 0.5\n",
    "delta = L2 - L\n",
    "F = delta * k1\n",
    "Fh = F * y2 / L2\n",
    "F2 = d * k2\n",
    "eq = sp.Eq(1/2 * P - F2 - Fh,0)\n",
    "sol = sp.solve(eq, d)\n",
    "print(sol)"
   ]
  },
  {
   "cell_type": "code",
   "execution_count": 10,
   "id": "ba58733a-4fb4-45af-a388-b0c2e8c177db",
   "metadata": {},
   "outputs": [
    {
     "name": "stdout",
     "output_type": "stream",
     "text": [
      "-26.3166612183409\n",
      "[266675.500345855]\n"
     ]
    }
   ],
   "source": [
    "E1 = 75\n",
    "E2 =234\n",
    "d = 23 * 10 ** -3\n",
    "D = 40 * 10 ** -3\n",
    "L = 760 * 10 ** -3\n",
    "P = 80 * 10 ** 3\n",
    "delta = sp.symbols(\"delta\")\n",
    "sigma1 = delta / L * E1\n",
    "sigma2 = delta / L * E2\n",
    "S1 = d ** 2 / 4 * m.pi\n",
    "S2 = D ** 2 / 4 * m.pi - S1\n",
    "Eq = sp.Eq(sigma1 * S1 + sigma2 * S2 - P,0)\n",
    "sol = sp.solve(Eq, delta)\n",
    "dl = sol[0]\n",
    "sigma = dl / L * E1\n",
    "print(-sigma / 10 ** 6)\n",
    "print(sol)"
   ]
  },
  {
   "cell_type": "code",
   "execution_count": 11,
   "id": "4779494b-0a5d-4a3f-90fc-7a07cb0781f5",
   "metadata": {},
   "outputs": [],
   "source": [
    "delta = 0.02\n",
    "L = 14\n",
    "E = 28124\n",
    "alpha = 8 * 10 ** -6\n",
    "A = 2\n",
    "deltaT = -50\n",
    "L = 14\n"
   ]
  },
  {
   "cell_type": "code",
   "execution_count": 12,
   "id": "b42679ea-9746-4619-9054-061483f40704",
   "metadata": {},
   "outputs": [
    {
     "name": "stdout",
     "output_type": "stream",
     "text": [
      "[-0.83004348731032 - 6.08233747704734e-29*I, -0.415033136581466 - 6.08233747704726e-29*I, 7.94876058110926e-6 + 7.55092324549146e-40*I]\n"
     ]
    }
   ],
   "source": [
    "L = 1011 * 10 ** -3\n",
    "b = 513 * 10 ** -3\n",
    "E = 196 * 10 ** 9\n",
    "Ac = 865 * 10 ** -6\n",
    "P = 1000\n",
    "a = 588 * 10 ** -3\n",
    "theta = 54 / 180 * m.pi\n",
    "delta = sp.symbols(\"delta\")\n",
    "x1 = b * m.cos(theta)\n",
    "y1 = b * m.sin(theta)\n",
    "y2 = y1 + delta\n",
    "b2 = (x1 ** 2 + y2 ** 2) ** 0.5\n",
    "deltab = b2 - b\n",
    "F = E * deltab / b * Ac\n",
    "Fh = F * y2 / b2\n",
    "eq = sp.Eq(Fh * a - L * P, 0)\n",
    "sol = sp.solve(eq,delta)\n",
    "print(sol)"
   ]
  },
  {
   "cell_type": "code",
   "execution_count": 13,
   "id": "c5431aac-6e9c-48a9-9b38-0bf208376a11",
   "metadata": {},
   "outputs": [
    {
     "name": "stdout",
     "output_type": "stream",
     "text": [
      "0.008945257470087009\n",
      "1.2535567683065258e-05\n"
     ]
    }
   ],
   "source": [
    "MC = P * L\n",
    "Fa = MC / a\n",
    "F = Fa / m.sin(54 * m.pi / 180)\n",
    "sigma = F / Ac\n",
    "e = sigma / E\n",
    "deltal = e * b\n",
    "deltaC = deltal * m.sin(54 * m.pi / 180) * L / a\n",
    "print(deltaC * 1000)\n",
    "print(e)"
   ]
  },
  {
   "cell_type": "code",
   "execution_count": 14,
   "id": "134dded4-b2e5-4902-9ee2-37d873968673",
   "metadata": {},
   "outputs": [
    {
     "name": "stdout",
     "output_type": "stream",
     "text": [
      "0.0403344908558921\n"
     ]
    }
   ],
   "source": [
    "L = 1030 * 10 ** -3\n",
    "b = 532 * 10 ** -3\n",
    "E = 195 * 10 ** 9\n",
    "A = 865 * 10 ** -6\n",
    "P = 3 * 10 ** 3\n",
    "a = 582 * 10 ** -3\n",
    "theta = 59 / 180 * m.pi\n",
    "x1 = b * m.cos(theta)\n",
    "y1 = b * m.sin(theta)\n",
    "delta = sp.symbols(\"delta\")\n",
    "y2 = y1 + delta\n",
    "b2 = (y2 ** 2 + x1 ** 2) ** 0.5\n",
    "delta_b = b2 - b\n",
    "e = delta_b / b\n",
    "sigma = e * E\n",
    "F = sigma * A\n",
    "Fh = F * m.sin(theta)\n",
    "eq = sp.Eq(Fh * a - P * L, 0)\n",
    "delta1 = sp.solve(eq,delta)[1]\n",
    "delta2 = delta1 * L / a\n",
    "print(delta2 * 1000)"
   ]
  },
  {
   "cell_type": "code",
   "execution_count": 15,
   "id": "0d732b18-c6f4-4e89-8e62-b601f43bf77b",
   "metadata": {},
   "outputs": [
    {
     "data": {
      "text/plain": [
       "0.93"
      ]
     },
     "execution_count": 15,
     "metadata": {},
     "output_type": "execute_result"
    }
   ],
   "source": [
    "0.93 "
   ]
  },
  {
   "cell_type": "code",
   "execution_count": 33,
   "id": "c647eefc-2ccf-4426-a37a-1354d209ef60",
   "metadata": {},
   "outputs": [
    {
     "name": "stdout",
     "output_type": "stream",
     "text": [
      "-0.0032559999999999998\n",
      "-6.566274509803922e-06\n"
     ]
    }
   ],
   "source": [
    "delta = 0.02\n",
    "L = 11\n",
    "E = 28050\n",
    "alpha = 8 * 10 ** -6\n",
    "A = 3\n",
    "delta_T = -37\n",
    "delta_t = delta_T * alpha * L\n",
    "print(delta_t)\n",
    "delta_F = delta_t + delta\n",
    "delta_F = -delta_F\n",
    "sigma = delta_F * L / E\n",
    "print(sigma)"
   ]
  },
  {
   "cell_type": "code",
   "execution_count": null,
   "id": "778b535e-5ab8-487b-9203-544888b0d3a6",
   "metadata": {},
   "outputs": [],
   "source": []
  }
 ],
 "metadata": {
  "kernelspec": {
   "display_name": "Python [conda env:base] *",
   "language": "python",
   "name": "conda-base-py"
  },
  "language_info": {
   "codemirror_mode": {
    "name": "ipython",
    "version": 3
   },
   "file_extension": ".py",
   "mimetype": "text/x-python",
   "name": "python",
   "nbconvert_exporter": "python",
   "pygments_lexer": "ipython3",
   "version": "3.12.7"
  }
 },
 "nbformat": 4,
 "nbformat_minor": 5
}
