{
 "cells": [
  {
   "cell_type": "code",
   "execution_count": 2,
   "id": "a4ee62f0-ed01-4dfb-bc58-7a6d5bf43b1a",
   "metadata": {},
   "outputs": [],
   "source": [
    "import numpy as np\n",
    "import math as m\n",
    "import sympy as sp"
   ]
  },
  {
   "cell_type": "markdown",
   "id": "ce7a69b7-5d8f-4d1a-9833-7d1bdc92977b",
   "metadata": {},
   "source": [
    "## Q1"
   ]
  },
  {
   "cell_type": "code",
   "execution_count": 4,
   "id": "01445066-6cee-41d8-b666-2feec64d28dd",
   "metadata": {},
   "outputs": [],
   "source": [
    "import numpy as np\n",
    "\n",
    "T1 = 700.00 # F\n",
    "P1 = 600.00 # lb/in^2\n",
    "P2 = 0.60 # lb/in^2\n",
    "x = 0.90\n",
    "W_dot = 22700.00 # hp\n",
    "Q_dot = 1510000.00 # Btu/h"
   ]
  },
  {
   "cell_type": "code",
   "execution_count": 5,
   "id": "042946c0-18f9-43cc-999d-427bc846b877",
   "metadata": {},
   "outputs": [
    {
     "name": "stdout",
     "output_type": "stream",
     "text": [
      "600.0 0.6 700.0\n"
     ]
    }
   ],
   "source": [
    "print(P1,P2,T1)"
   ]
  },
  {
   "cell_type": "code",
   "execution_count": 6,
   "id": "cc2c1a8a-400b-441a-ab0b-0b8b4f0e9cbc",
   "metadata": {
    "scrolled": true
   },
   "outputs": [
    {
     "name": "stdout",
     "output_type": "stream",
     "text": [
      "166236.101685006\n"
     ]
    }
   ],
   "source": [
    "W_dot = W_dot * 2544.434186874897\n",
    "h1 = 1350.6\n",
    "h2f = 53.27\n",
    "h2g = 1098.6\n",
    "h2 = 0.9 * h2g + 0.1 * h2f\n",
    "m = sp.symbols(\"m\")\n",
    "eq = sp.Eq(-Q_dot - W_dot + m * h1 - m * h2,0)\n",
    "m = sp.solve(eq,m)[0]\n",
    "print(m)"
   ]
  },
  {
   "cell_type": "markdown",
   "id": "96f0e7d4-9aa1-4144-8c1d-8fa2689e0ff4",
   "metadata": {},
   "source": [
    "## Q2"
   ]
  },
  {
   "cell_type": "code",
   "execution_count": 8,
   "id": "4d62879d-be00-4e3d-ba25-c1e0498aa21b",
   "metadata": {},
   "outputs": [],
   "source": [
    "import numpy as np\n",
    "\n",
    "P1 = 2.40 # bar\n",
    "T1 = 0.00 # C\n",
    "P2 = 12.00 # bar\n",
    "T2 = 50.00 # C\n",
    "m_wdot = 0.04 # kg/s\n",
    "q = 0.32 # hp\n",
    "P_dot = 3.59 # Btu/h"
   ]
  },
  {
   "cell_type": "code",
   "execution_count": 9,
   "id": "cf06258f-82d2-41a2-846d-49175016737d",
   "metadata": {},
   "outputs": [
    {
     "name": "stdout",
     "output_type": "stream",
     "text": [
      "0.06220356115387606\n",
      "-1.93351916647228\n"
     ]
    }
   ],
   "source": [
    "q = q / 60\n",
    "v = 0.08574\n",
    "m_dot = q / v\n",
    "print(m_dot)\n",
    "h1 = 248.89\n",
    "h2 = 275.52\n",
    "Q = sp.symbols(\"Q\")\n",
    "eq = sp.Eq(Q + P_dot + m_dot * (h1 - h2),0)\n",
    "Q = sp.solve(eq,Q)[0] #KJ\n",
    "print(Q)"
   ]
  },
  {
   "cell_type": "code",
   "execution_count": 10,
   "id": "c8cf7414-0833-4bd4-a30a-a08ea9d202a2",
   "metadata": {},
   "outputs": [
    {
     "name": "stdout",
     "output_type": "stream",
     "text": [
      "11.5090426575731\n"
     ]
    }
   ],
   "source": [
    "Cw = 4.2\n",
    "W = m_wdot * Cw\n",
    "T = -Q / W\n",
    "print(T)"
   ]
  },
  {
   "cell_type": "markdown",
   "id": "2b521c23-d654-406a-ae83-7a97bc65181e",
   "metadata": {},
   "source": [
    "## Q3"
   ]
  },
  {
   "cell_type": "code",
   "execution_count": 12,
   "id": "8c859cfa-d1ec-4779-8926-2f96bdfa28c5",
   "metadata": {},
   "outputs": [],
   "source": [
    "import numpy as np\n",
    "\n",
    "T1 = 1400.0 # K\n",
    "p1 = 12.0 # bars\n",
    "W_dot1 = 10000.0 # kW\n",
    "T2 = 1100.0 # K\n",
    "p2 = 4.0 # bars\n",
    "p3 = 4.0 # bars\n",
    "T4 = 980.0 # K\n",
    "p4 = 1.0 # bars\n",
    "T5 = 1480.0 # K\n",
    "p5 = 1.0 # bars\n",
    "m_dot5 = 1200.0 # kg/min\n",
    "T6 = 1200.0 # K\n",
    "p6 = 1.0 # bars"
   ]
  },
  {
   "cell_type": "code",
   "execution_count": 13,
   "id": "84fa22c3-fa49-4363-87a2-0bcf1f57c6c3",
   "metadata": {},
   "outputs": [
    {
     "name": "stdout",
     "output_type": "stream",
     "text": [
      "10569.374911810357\n"
     ]
    }
   ],
   "source": [
    "m_dot5 = m_dot5 / 60\n",
    "h1 = 1515.42\n",
    "h2 = 1161.07\n",
    "m = W_dot1 / (h1 - h2)\n",
    "h5 = 1611.79\n",
    "h6 = 1277.79\n",
    "Q = m_dot5 * (h5 - h6)\n",
    "delta_h = Q / m\n",
    "h3 = h2 + delta_h\n",
    "h4 = 1023.25\n",
    "W_out = m * (h3 - h4)\n",
    "print(W_out)"
   ]
  },
  {
   "cell_type": "code",
   "execution_count": null,
   "id": "9a2192bd-d5dc-4bdb-b593-0105b709cb4d",
   "metadata": {},
   "outputs": [],
   "source": [
    "T3"
   ]
  },
  {
   "cell_type": "code",
   "execution_count": null,
   "id": "22733d56-95fb-4634-b966-f1d76ff8ee4f",
   "metadata": {},
   "outputs": [],
   "source": [
    "10000 / 300 * (1268 - 980)"
   ]
  },
  {
   "cell_type": "markdown",
   "id": "35c762f0-be67-473c-94bf-3fa87bbdb913",
   "metadata": {},
   "source": [
    "## Q4"
   ]
  },
  {
   "cell_type": "code",
   "execution_count": 34,
   "id": "d6d1ffab-e670-45a2-9200-351c1c7aceb0",
   "metadata": {},
   "outputs": [],
   "source": [
    "from sympy import *\n",
    "\n",
    "V = 0.05 # m^3\n",
    "p = 15.0 # bars\n",
    "x = 0.2"
   ]
  },
  {
   "cell_type": "code",
   "execution_count": 36,
   "id": "8a59328b-16cd-416e-85c9-5935a5df48b8",
   "metadata": {},
   "outputs": [
    {
     "name": "stdout",
     "output_type": "stream",
     "text": [
      "1.832634977231343\n",
      "1.4661079817850746\n"
     ]
    }
   ],
   "source": [
    "vg = 0.1318\n",
    "vf = 1.1539 * 10 ** -3\n",
    "v = x * vg + (1-x) * vf\n",
    "m = V / v\n",
    "print(m)\n",
    "mw = m * (1-x)\n",
    "print(mw)"
   ]
  },
  {
   "cell_type": "code",
   "execution_count": 38,
   "id": "0fad4ae5-dad1-4526-b17f-ca97f2bc699b",
   "metadata": {},
   "outputs": [
    {
     "name": "stdout",
     "output_type": "stream",
     "text": [
      "1427.5200197044915\n"
     ]
    }
   ],
   "source": [
    "hf = 844.84\n",
    "hg = 2792.2\n",
    "mw2 = mw / 2\n",
    "mg2 = m - mw2\n",
    "Q = mg2 * hg + hf * mw2 - mw * hf - (m-mw) * hg\n",
    "print(Q)"
   ]
  },
  {
   "cell_type": "code",
   "execution_count": 40,
   "id": "52ff597a-1d81-4c4d-8da6-f779d89db491",
   "metadata": {},
   "outputs": [
    {
     "name": "stdout",
     "output_type": "stream",
     "text": [
      "0.7266361532590705\n"
     ]
    }
   ],
   "source": [
    "Vw = mw2 * vf\n",
    "Vg = V - Vw\n",
    "mg3 = Vg / vg\n",
    "delta_m = mg2 - mg3\n",
    "print(delta_m)"
   ]
  },
  {
   "cell_type": "code",
   "execution_count": null,
   "id": "cb28e9d2-b437-4e69-b5a9-c8a676b3e9ff",
   "metadata": {},
   "outputs": [],
   "source": []
  }
 ],
 "metadata": {
  "kernelspec": {
   "display_name": "Python [conda env:base] *",
   "language": "python",
   "name": "conda-base-py"
  },
  "language_info": {
   "codemirror_mode": {
    "name": "ipython",
    "version": 3
   },
   "file_extension": ".py",
   "mimetype": "text/x-python",
   "name": "python",
   "nbconvert_exporter": "python",
   "pygments_lexer": "ipython3",
   "version": "3.12.7"
  }
 },
 "nbformat": 4,
 "nbformat_minor": 5
}
