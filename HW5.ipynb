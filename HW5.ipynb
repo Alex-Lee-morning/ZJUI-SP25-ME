{
 "cells": [
  {
   "cell_type": "code",
   "execution_count": 2,
   "id": "e7a404c5-49d4-4aa2-a249-e22d9fa8e6e7",
   "metadata": {},
   "outputs": [],
   "source": [
    "import numpy as np\n",
    "from sympy import *\n",
    "import math as m"
   ]
  },
  {
   "cell_type": "code",
   "execution_count": 3,
   "id": "f82d919d-e2d9-4cbd-b07c-8c74e22f78aa",
   "metadata": {},
   "outputs": [],
   "source": [
    "L = 47\n",
    "Ga = 3000\n",
    "Gs = 11000\n",
    "da = 5\n",
    "ds = 4\n",
    "Tb = 3"
   ]
  },
  {
   "cell_type": "code",
   "execution_count": 4,
   "id": "3baa6bc9-20f8-49a7-94ce-07814432d681",
   "metadata": {},
   "outputs": [
    {
     "name": "stdout",
     "output_type": "stream",
     "text": [
      "0.000366100995784161\n"
     ]
    }
   ],
   "source": [
    "cs = ds / 2\n",
    "Js = pi / 2 * cs ** 4\n",
    "ra = da / 2\n",
    "Ja = pi / 2 * (ra ** 4 - cs ** 4)\n",
    "theta = symbols(\"theta\")\n",
    "T1 = Js * Gs * theta / L\n",
    "T2 = Ja * Ga * theta / L\n",
    "eq = Eq(T1 + T2, Tb)\n",
    "theta = solve(eq,theta)[0]\n",
    "print(theta)"
   ]
  },
  {
   "cell_type": "code",
   "execution_count": 31,
   "id": "98ff6124-76a5-42a7-89cb-1ec198dee3ce",
   "metadata": {},
   "outputs": [],
   "source": [
    "di = 38 * 10 ** -3\n",
    "Tb = 1525\n",
    "Tc = 432\n",
    "G = 106 * 10 ** 6\n",
    "L = 1112 * 10 ** -3"
   ]
  },
  {
   "cell_type": "code",
   "execution_count": 33,
   "id": "177c2d0d-f5a1-46f7-87a0-8ab399ac13d5",
   "metadata": {},
   "outputs": [
    {
     "name": "stdout",
     "output_type": "stream",
     "text": [
      "1093 -432\n",
      "73.5338681549750\n",
      "2.29450254511411\n"
     ]
    }
   ],
   "source": [
    "T1 = Tb - Tc\n",
    "T2 = -Tc\n",
    "print(T1,T2)\n",
    "tor_max = 14 * 10 ** 6\n",
    "d = symbols(\"d\")\n",
    "r = d / 2\n",
    "ri = di / 2\n",
    "J = m.pi / 2 * (r ** 4)\n",
    "T = tor_max / r * J\n",
    "eq = Eq(T,T1)\n",
    "d = solve(eq,d)[0]\n",
    "print(d * 1000)\n",
    "r = d / 2\n",
    "J1 = m.pi / 2 * (r ** 4)\n",
    "thetab = T1 * L / J1 / G\n",
    "ri = di / 2\n",
    "J = m.pi / 2 * (r ** 4 - ri ** 4)\n",
    "theta = Tc * L / J / G\n",
    "print(abs(theta - thetab))"
   ]
  },
  {
   "cell_type": "code",
   "execution_count": 47,
   "id": "8c4ee037-9ac9-4770-9671-a7dfcfbd7a1e",
   "metadata": {},
   "outputs": [
    {
     "name": "stdout",
     "output_type": "stream",
     "text": [
      "17.1887338539247 11.459155902616464\n"
     ]
    }
   ],
   "source": [
    "d = 40 * 10 ** -3\n",
    "Gst = 75 * 10 ** 9\n",
    "a = 60 * 10 ** -3\n",
    "L1 = 400 * 10 ** -3\n",
    "L2 = 600 * 10 ** -3\n",
    "F = 3 * 10 ** 3\n",
    "T = 2 * F * a\n",
    "Tac = 6 / 10 * T\n",
    "Tbc = 4 / 10 * T\n",
    "J = m.pi / 2 * (d / 2) ** 4\n",
    "torac = Tac * d / 2 / J\n",
    "torbc = Tbc * d / 2 / J\n",
    "print(torac / 10 ** 6, torbc / 10 ** 6)"
   ]
  },
  {
   "cell_type": "code",
   "execution_count": 171,
   "id": "5c203b64-0509-49c4-9fd1-2933b4f519ab",
   "metadata": {},
   "outputs": [
    {
     "name": "stdout",
     "output_type": "stream",
     "text": [
      "1.6967134880545547\n"
     ]
    }
   ],
   "source": [
    "G = 11 * 10 ** 6\n",
    "d = 1\n",
    "r = d / 2\n",
    "J = m.pi / 2 * r ** 4\n",
    "T1 = 40 * 12\n",
    "theta1 = T1 * 10 / G / J\n",
    "r1 = 4\n",
    "r2 = 6\n",
    "F1 = T1 / r1\n",
    "F2 = F1\n",
    "T2 = F2 * r2\n",
    "theta2 = T2 * 40 / G / J - 89 * 12 * 10 / G / J\n",
    "theta21 = theta2 * r2 / r1\n",
    "theta = theta21 + theta1\n",
    "print(theta / m.pi * 180)"
   ]
  },
  {
   "cell_type": "code",
   "execution_count": 71,
   "id": "f95dfa2e-c1dd-484c-9549-3b7bfb50a58a",
   "metadata": {},
   "outputs": [
    {
     "name": "stdout",
     "output_type": "stream",
     "text": [
      "23.05498390212778\n"
     ]
    }
   ],
   "source": [
    "R1 = 142 * 10 ** -3\n",
    "R2 = 48 * 10 ** -3\n",
    "d = 20 * 10 ** -3\n",
    "r = d / 2\n",
    "J = m.pi / 2 * r ** 4\n",
    "Tw = 4138 / 1000\n",
    "F1 = Tw / R2\n",
    "F2 = F1\n",
    "T2 = F2 * R1\n",
    "F3 = T2 / R2\n",
    "F4 = F3\n",
    "T4 = F4 * R1\n",
    "tor_max = T4 * r / J\n",
    "print(tor_max / 10 ** 6)"
   ]
  },
  {
   "cell_type": "code",
   "execution_count": 81,
   "id": "c36bd5e8-f311-411f-9549-30a6498622c5",
   "metadata": {},
   "outputs": [
    {
     "name": "stdout",
     "output_type": "stream",
     "text": [
      "0.005511907727726353\n"
     ]
    }
   ],
   "source": [
    "r1 = 149 * 10 ** -3\n",
    "r2 = 45 * 10 ** -3\n",
    "d = 35 * 10 ** -3\n",
    "r = d / 2\n",
    "J = m.pi / 2 * r ** 4\n",
    "Te = 413\n",
    "G = 73 * 10 ** 9\n",
    "L = 131 * 10 ** -3\n",
    "F1 = Te / R1\n",
    "F2 = F1\n",
    "T2 = F2 * R2\n",
    "F3 = T2 / R1\n",
    "F4 = F3\n",
    "T4 = F4 * R2\n",
    "theta1 = T4 * L / G / J\n",
    "theta12 = theta1 * r2 / r1\n",
    "theta13 = theta12 * r2 / r1\n",
    "theta2 = T2 * L / G / J\n",
    "theta23 = theta2 * r2 / r1\n",
    "theta3 = Te * L / G / J\n",
    "theta = theta3 + theta23 + theta13\n",
    "print(theta)"
   ]
  },
  {
   "cell_type": "code",
   "execution_count": 101,
   "id": "fa919dd5-400c-4775-813d-c86211f3c029",
   "metadata": {},
   "outputs": [],
   "source": [
    "G = 69 * 10 ** 9\n",
    "d1 = 35 * 10 ** -3\n",
    "d2 = 58 * 10 ** -3\n",
    "Tb = 1440\n",
    "Tc = 1505\n",
    "L1 = 264 * 10 ** -3\n",
    "L2 = 611 * 10 ** -3\n",
    "L3 = 257 * 10 ** -3"
   ]
  },
  {
   "cell_type": "code",
   "execution_count": 103,
   "id": "b32ae8c6-1c33-40f9-bc15-f16ffb366c5f",
   "metadata": {},
   "outputs": [
    {
     "name": "stdout",
     "output_type": "stream",
     "text": [
      "604.663163489491\n",
      "71.8256374110305\n",
      "-21.8045818487669 -70.4283687828592\n"
     ]
    }
   ],
   "source": [
    "r1 = d1 / 2\n",
    "r2 = d2 / 2\n",
    "J3 = m.pi / 2 * (r2 ** 4 - r1 ** 4)\n",
    "J2 = m.pi / 2 * r2 ** 4\n",
    "J1 = m.pi / 2 * r1 ** 4\n",
    "Ta = symbols(\"Ta\")\n",
    "theta_a = Ta * L1 / G / J1\n",
    "theta_b = (Ta - Tb) * L2 / G / J2\n",
    "theta_c = (Ta - Tb - Tc) * L3 / G / J3\n",
    "eq = Eq(theta_a + theta_b + theta_c, 0)\n",
    "Ta = solve(eq,Ta)[0]\n",
    "print(Ta)\n",
    "tora = Ta * r1 / J1\n",
    "print(tora / 10 ** 6)\n",
    "torb = (Ta - Tb) * r2 / J2\n",
    "torc = (Ta - Tb - Tc) * r2 / J3\n",
    "print(torb / 10 ** 6, torc / 10 ** 6)"
   ]
  },
  {
   "cell_type": "code",
   "execution_count": 125,
   "id": "0cbed11a-9992-4afe-9a20-9aaf6fa44b4d",
   "metadata": {},
   "outputs": [],
   "source": [
    "T = 650\n",
    "d = 30 * 10 ** -3\n",
    "r = d / 2\n",
    "Gst = 75 * 10 ** 9\n",
    "Gbr = 39 * 10 ** 9\n",
    "Jst = m.pi / 2 * r ** 4"
   ]
  },
  {
   "cell_type": "code",
   "execution_count": 127,
   "id": "30a4b884-9c2b-40f1-8ffe-7d4556f4f2a5",
   "metadata": {},
   "outputs": [
    {
     "name": "stdout",
     "output_type": "stream",
     "text": [
      "42.6957944152653\n",
      "21.2666055081814 61.30412622798932\n"
     ]
    }
   ],
   "source": [
    "Tr = T / 2\n",
    "db = symbols(\"d\") \n",
    "rb = db / 2\n",
    "Jbr = m.pi / 2 * rb ** 4\n",
    "thetabr = Tr * 1.6 / Gbr / Jbr\n",
    "thetast = Tr * 0.75 / Gst / Jst\n",
    "eq = Eq(thetabr,thetast)\n",
    "db = solve(eq,db)[1]\n",
    "print(db * 1000)\n",
    "rb = db / 2\n",
    "Jbr = m.pi / 2 * rb ** 4\n",
    "torbr = Tr * rb / Jbr\n",
    "torst = Tr * r / Jst\n",
    "print(torbr / 10 ** 6, torst / 10 ** 6)"
   ]
  },
  {
   "cell_type": "code",
   "execution_count": 135,
   "id": "1322faca-eb26-424b-8d81-a15fe7bd38b3",
   "metadata": {},
   "outputs": [
    {
     "name": "stdout",
     "output_type": "stream",
     "text": [
      "-709.838709677419\n",
      "0.00141334600713213\n"
     ]
    }
   ],
   "source": [
    "G = 68 * 10 ** 9\n",
    "d = 59 * 10 ** -3\n",
    "Tb = 1467\n",
    "L = 151 * 10 ** -3\n",
    "d1 = d / 2\n",
    "r1 = d1 / 2\n",
    "d2 = d\n",
    "r2 = d2 / 2\n",
    "J1 = m.pi / 2 * (r2 ** 4 - r1 ** 4)\n",
    "J2 = m.pi / 2 * r2 ** 4\n",
    "Ta = symbols(\"Ta\")\n",
    "theta_a = Ta * L / G / J1\n",
    "theta_b = (Ta + Tb) * L / G / J2\n",
    "eq = Eq(theta_a + theta_b, 0)\n",
    "Ta = solve(eq,Ta)[0]\n",
    "print(Ta)\n",
    "theta_b = (Ta + Tb) * L / G / J2\n",
    "print(theta_b)"
   ]
  },
  {
   "cell_type": "code",
   "execution_count": 137,
   "id": "c53ea601-9bf7-46cf-b063-9d2bff18a458",
   "metadata": {},
   "outputs": [
    {
     "name": "stdout",
     "output_type": "stream",
     "text": [
      "8.41629722044447\n"
     ]
    }
   ],
   "source": [
    "a = 10 * 10 ** -3\n",
    "L = 8\n",
    "theta = 83 / 180 * m.pi\n",
    "G = 33 * 10 ** 9\n",
    "tor = 240 * 10 ** 6\n",
    "T = symbols(\"T\")\n",
    "theta_f = 7.10 * T * L / a ** 4 / G\n",
    "eq = Eq(theta_f,theta)\n",
    "T = solve(eq,T)[0]\n",
    "print(T)"
   ]
  },
  {
   "cell_type": "code",
   "execution_count": 8,
   "id": "89a8e744-5f19-4226-b954-cc1ce84bea15",
   "metadata": {},
   "outputs": [
    {
     "data": {
      "text/plain": [
       "0.005467995689655173"
      ]
     },
     "execution_count": 8,
     "metadata": {},
     "output_type": "execute_result"
    }
   ],
   "source": [
    "G = 43.5 * 10 ** 9\n",
    "A = 0.002\n",
    "46.13 * (60 * 2 / G / 4 / A ** 2 - 25 * 1.5 / G / 4 / A ** 2)"
   ]
  },
  {
   "cell_type": "code",
   "execution_count": null,
   "id": "4b083db3-8950-4ec5-a14d-6285a83cff6e",
   "metadata": {},
   "outputs": [],
   "source": []
  }
 ],
 "metadata": {
  "kernelspec": {
   "display_name": "Python [conda env:base] *",
   "language": "python",
   "name": "conda-base-py"
  },
  "language_info": {
   "codemirror_mode": {
    "name": "ipython",
    "version": 3
   },
   "file_extension": ".py",
   "mimetype": "text/x-python",
   "name": "python",
   "nbconvert_exporter": "python",
   "pygments_lexer": "ipython3",
   "version": "3.12.7"
  }
 },
 "nbformat": 4,
 "nbformat_minor": 5
}
