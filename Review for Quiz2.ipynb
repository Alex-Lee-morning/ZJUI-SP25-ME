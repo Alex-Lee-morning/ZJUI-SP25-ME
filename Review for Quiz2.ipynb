{
 "cells": [
  {
   "cell_type": "code",
   "execution_count": 2,
   "id": "61b24a6e-da26-40d3-8975-3e986e97a02e",
   "metadata": {},
   "outputs": [],
   "source": [
    "from sympy import *\n",
    "import math as m\n",
    "import numpy as np"
   ]
  },
  {
   "cell_type": "code",
   "execution_count": 3,
   "id": "54682c62-fb10-48cb-a0ac-e46bbb5a9e58",
   "metadata": {},
   "outputs": [
    {
     "name": "stdout",
     "output_type": "stream",
     "text": [
      "1.9818132176550085\n"
     ]
    }
   ],
   "source": [
    "L = 1709 * 10 ** -3\n",
    "di = 23 * 10 ** -3\n",
    "do = 37 * 10 ** -3\n",
    "G = 38 * 10 ** 9\n",
    "ri = di / 2\n",
    "ro = do / 2\n",
    "T = 1025\n",
    "J = m.pi / 2 * (ro ** 4 - ri ** 4)\n",
    "tor = T * ro / J\n",
    "gamma = tor / G\n",
    "gamma = gamma * ri / ro\n",
    "print(gamma * 1000)"
   ]
  },
  {
   "cell_type": "code",
   "execution_count": 4,
   "id": "fdfc3044-69c1-4fff-8c5f-9109cf27e205",
   "metadata": {},
   "outputs": [
    {
     "name": "stdout",
     "output_type": "stream",
     "text": [
      "271.287074851941\n",
      "0.0464253393665159\n"
     ]
    }
   ],
   "source": [
    "P = symbols(\"P\")\n",
    "a = 1288 * 10 ** -3\n",
    "b = 1539 * 10 ** -3\n",
    "d = 39 * 10 ** -3\n",
    "G = 51 * 10 ** 9\n",
    "tor = 30 * 10 ** 6\n",
    "r = d / 2\n",
    "J = m.pi / 2 * r ** 4\n",
    "T = P * a\n",
    "tor_f = T * r / J\n",
    "eq = Eq(tor_f,tor)\n",
    "P = solve(eq,P)[0]\n",
    "print(P)\n",
    "T = P * a\n",
    "theta = T * b / G / J\n",
    "print(theta)"
   ]
  },
  {
   "cell_type": "code",
   "execution_count": 5,
   "id": "ebd74c18-544c-4a89-8664-42b07c7baf99",
   "metadata": {},
   "outputs": [],
   "source": [
    "L1 = 349 * 10 ** -3\n",
    "d1 = 68 * 10 ** -3\n",
    "G1 = 43 * 10 ** 9\n",
    "L2 = 349 * 10 ** -3\n",
    "d2 = 45 * 10 ** -3\n",
    "G2 = 33 * 10 ** 9\n",
    "Tb = 926\n",
    "Tc = 705"
   ]
  },
  {
   "cell_type": "code",
   "execution_count": 6,
   "id": "ebdb8a3e-6e20-4b53-95d6-3635011bfdbf",
   "metadata": {},
   "outputs": [
    {
     "name": "stdout",
     "output_type": "stream",
     "text": [
      "0.017665909254218383\n"
     ]
    }
   ],
   "source": [
    "c1 = d1 / 2\n",
    "c2 = d2 / 2\n",
    "J1 = m.pi / 2 * c1 ** 4\n",
    "J2 = m.pi / 2 * c2 ** 4\n",
    "theta2 = Tc * L2 / G2 / J2\n",
    "theta1 = (Tc - Tb) * L1 / G1 / J1\n",
    "theta = theta2 + theta1\n",
    "print(theta)"
   ]
  },
  {
   "cell_type": "code",
   "execution_count": 7,
   "id": "dc2de078-beec-4ded-89c9-fad47effb447",
   "metadata": {},
   "outputs": [
    {
     "name": "stdout",
     "output_type": "stream",
     "text": [
      "0.029542087542087547\n"
     ]
    }
   ],
   "source": [
    "L = 1712 * 10 ** -3\n",
    "r = 22 * 10 ** -3\n",
    "G = 54 * 10 ** 9\n",
    "tor = 41 * 10 ** 6\n",
    "tor_all = tor / 2\n",
    "J = m.pi / 2 * r ** 4\n",
    "T_all = tor_all / r * J\n",
    "theta = T_all * L / G / J\n",
    "print(theta)"
   ]
  },
  {
   "cell_type": "code",
   "execution_count": 8,
   "id": "6e5854e3-c11f-458f-8075-a6a14c8e03f7",
   "metadata": {},
   "outputs": [
    {
     "name": "stdout",
     "output_type": "stream",
     "text": [
      "0.0392369659394503 0.0392369659394503\n"
     ]
    }
   ],
   "source": [
    "L = 44\n",
    "Ga = 4000\n",
    "Gs = 10000\n",
    "da = 5\n",
    "ds = 2\n",
    "Tb = 1\n",
    "ra = da / 2\n",
    "rs = ds / 2\n",
    "Ja = m.pi / 2 * (ra ** 4 - rs ** 4)\n",
    "Js = m.pi / 2 * rs ** 4\n",
    "theta = symbols(\"theta\")\n",
    "Ts = theta / L * Gs * Js\n",
    "Ta = theta / L * Ga * Ja\n",
    "eq = Eq(Ta + Ts, Tb)\n",
    "theta = solve(eq,theta)[0]\n",
    "Ts = theta / L * Gs * Js\n",
    "Ta = theta / L * Ga * Ja\n",
    "tora = Ta * ra / Ja\n",
    "tors = Ts * rs / Js\n",
    "print(tora,tors)"
   ]
  },
  {
   "cell_type": "code",
   "execution_count": 9,
   "id": "c8ec2f04-ba88-4b27-a1b9-c135e5da5681",
   "metadata": {},
   "outputs": [
    {
     "name": "stdout",
     "output_type": "stream",
     "text": [
      "21.3473667733262\n"
     ]
    }
   ],
   "source": [
    "T_max = 45 * 10 ** 3\n",
    "tor = 92 * 10 ** 6\n",
    "d = 150 * 10 ** -3\n",
    "ri = symbols(\"ri\")\n",
    "r = d / 2\n",
    "J = m.pi / 2 * (r ** 4 - ri ** 4)\n",
    "tor_f = T_max * r / J\n",
    "eq = Eq(tor_f,tor)\n",
    "ri = solve(eq,ri)[1]\n",
    "t = r - ri\n",
    "print(t * 1000)"
   ]
  },
  {
   "cell_type": "code",
   "execution_count": 25,
   "id": "6d4c766c-efff-4573-8749-ac8f0fdc1e10",
   "metadata": {},
   "outputs": [
    {
     "name": "stdout",
     "output_type": "stream",
     "text": [
      "28.11125607091103\n"
     ]
    }
   ],
   "source": [
    "r1 = 147 * 10 ** -3\n",
    "r2 = 45 * 10 ** -3\n",
    "d = 20 * 10 ** -3\n",
    "r = d / 2\n",
    "J = m.pi / 2 * r ** 4\n",
    "Tw = 4138 / 1000\n",
    "F1 = Tw / r2\n",
    "F2 = F1 \n",
    "T2 = F2 * r1\n",
    "F3 = T2 / r2\n",
    "F4 = F3\n",
    "T4 = F4 * r1\n",
    "tor = T4 * r / J\n",
    "print(tor / 10 ** 6)"
   ]
  },
  {
   "cell_type": "code",
   "execution_count": null,
   "id": "2e79fe61-1907-4aae-add5-cadd64e7774d",
   "metadata": {},
   "outputs": [],
   "source": []
  }
 ],
 "metadata": {
  "kernelspec": {
   "display_name": "Python [conda env:base] *",
   "language": "python",
   "name": "conda-base-py"
  },
  "language_info": {
   "codemirror_mode": {
    "name": "ipython",
    "version": 3
   },
   "file_extension": ".py",
   "mimetype": "text/x-python",
   "name": "python",
   "nbconvert_exporter": "python",
   "pygments_lexer": "ipython3",
   "version": "3.12.7"
  }
 },
 "nbformat": 4,
 "nbformat_minor": 5
}
