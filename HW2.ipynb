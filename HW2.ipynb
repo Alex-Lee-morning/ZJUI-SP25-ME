{
 "cells": [
  {
   "cell_type": "code",
   "execution_count": 8,
   "id": "23873c22-3535-41f1-96ae-e66683d85a9f",
   "metadata": {},
   "outputs": [],
   "source": [
    "import numpy as np\n",
    "import sympy as sp\n",
    "import math as m"
   ]
  },
  {
   "cell_type": "code",
   "execution_count": 10,
   "id": "bca76332-229b-4d4a-baf6-07b557a1ba2c",
   "metadata": {},
   "outputs": [
    {
     "name": "stdout",
     "output_type": "stream",
     "text": [
      "-8.387965595681877\n"
     ]
    }
   ],
   "source": [
    "a = 531 * 10 ** -3\n",
    "b = 406 * 10 ** -3\n",
    "delta_b = 4 * 10 ** -3\n",
    "delta_d = 4 * 10 ** -3\n",
    "AC = (a ** 2 + b ** 2) ** 0.5\n",
    "AC1 = ((a - delta_b)** 2 + (b - delta_d) ** 2) ** 0.5\n",
    "E = (AC1 - AC) / AC\n",
    "print(E * 1000)"
   ]
  },
  {
   "cell_type": "code",
   "execution_count": 22,
   "id": "d8fcc919-a027-478b-b41d-3eb3973b3312",
   "metadata": {},
   "outputs": [
    {
     "name": "stdout",
     "output_type": "stream",
     "text": [
      "0.5387629102338574\n"
     ]
    }
   ],
   "source": [
    "ro = 3.1\n",
    "A = ro-1\n",
    "B = m.log(ro / 1)\n",
    "E = B / A\n",
    "print(E)"
   ]
  },
  {
   "cell_type": "code",
   "execution_count": 28,
   "id": "53317303-76f0-415a-82e3-a14273be6abd",
   "metadata": {},
   "outputs": [
    {
     "name": "stdout",
     "output_type": "stream",
     "text": [
      "0.03324674973238473\n"
     ]
    }
   ],
   "source": [
    "a = 5.7\n",
    "D0 = np.array([0,300])\n",
    "B0 = np.array([400,0])\n",
    "D1 = np.array([a,300])\n",
    "B1 = np.array([400,a])\n",
    "theta1 = m.atan(a / 300)\n",
    "theta2 = m.atan(a/400)\n",
    "theta = m.pi / 2 - theta1 - theta2\n",
    "E = m.pi / 2 - theta\n",
    "print(E)"
   ]
  },
  {
   "cell_type": "code",
   "execution_count": 32,
   "id": "60557da3-2c21-4dc8-8608-ffeb8d0369d9",
   "metadata": {},
   "outputs": [
    {
     "name": "stdout",
     "output_type": "stream",
     "text": [
      "-0.011351122295110816\n",
      "0.011351122295110816\n"
     ]
    }
   ],
   "source": [
    "x = 418\n",
    "y = 301\n",
    "C0 = np.array([0,y])\n",
    "A0 = np.array([x,0])\n",
    "B0 = C0 + A0\n",
    "C1 = np.array([2,2+y])\n",
    "A1 = np.array([3+x, 2])\n",
    "B1 = B0 + np.array([5,4])\n",
    "C1B1 = B1 - C1\n",
    "A1B1 = B1 - A1\n",
    "theta1 = np.dot(-C1,C1B1) / np.linalg.norm(C1) / np.linalg.norm(C1B1)\n",
    "theta1 = m.acos(theta1)\n",
    "theta2 = np.dot(-A1,A1B1) / np.linalg.norm(A1) / np.linalg.norm(A1B1)\n",
    "theta2 = m.acos(theta2)\n",
    "print(m.pi/2 - theta1)\n",
    "theta3 = m.atan(2 / (x + 3))\n",
    "theta4 = m.atan(2 / (y + 2))\n",
    "theta = m.pi / 2 - theta3 - theta4\n",
    "E = m.pi / 2 - theta\n",
    "print(E)"
   ]
  },
  {
   "cell_type": "code",
   "execution_count": 44,
   "id": "16c834d2-3f98-4147-b284-c109c8eb2c1b",
   "metadata": {},
   "outputs": [
    {
     "name": "stdout",
     "output_type": "stream",
     "text": [
      "0.004800065536771925\n"
     ]
    }
   ],
   "source": [
    "gamma = 0.008\n",
    "theta = m.pi / 2 - gamma\n",
    "G = np.array([300,0])\n",
    "F = np.array([600 * m.sin(gamma),600 * m.cos(gamma)])\n",
    "GF = F - G\n",
    "theta1 = m.acos(np.dot(GF,np.array([-1,0]) / np.linalg.norm(GF)))\n",
    "C = np.array([900 + 300 * m.sin(gamma),300 * m.cos(gamma)])\n",
    "GC = C - G\n",
    "theta2 = m.acos(np.dot(GC, np.array([1,0])) / np.linalg.norm(GC))\n",
    "theta = m.pi - theta1 - theta2\n",
    "E = m.pi / 2 - theta\n",
    "print(E)"
   ]
  },
  {
   "cell_type": "code",
   "execution_count": 40,
   "id": "30c7f5b6-f022-42d2-b946-ecbde0c2fadc",
   "metadata": {},
   "outputs": [
    {
     "data": {
      "text/plain": [
       "-0.4504435187783623"
      ]
     },
     "execution_count": 40,
     "metadata": {},
     "output_type": "execute_result"
    }
   ],
   "source": [
    "theta"
   ]
  },
  {
   "cell_type": "code",
   "execution_count": 48,
   "id": "c5242013-9f6c-43f7-bad0-0ff899081121",
   "metadata": {},
   "outputs": [
    {
     "name": "stdout",
     "output_type": "stream",
     "text": [
      "328.60814720738387\n",
      "0.4936733963971993\n",
      "-0.013164623903925317\n"
     ]
    }
   ],
   "source": [
    "L = 255 * 10 ** -3\n",
    "d = 17 * 10 ** -3\n",
    "G = 110 * 10 ** 9\n",
    "sigmay = 302 * 10 ** 6\n",
    "P = 117 * 1000\n",
    "delta = 0.4 * 10 ** -3\n",
    "S = d ** 2 / 4 * m.pi\n",
    "sigma = P / S\n",
    "e = delta / L\n",
    "E = sigma / e\n",
    "print(E/10 ** 9)\n",
    "v = E / G / 2 - 1\n",
    "print(v)\n",
    "ed = -1 * v * e\n",
    "de = d * ed\n",
    "print(de* 1000)"
   ]
  },
  {
   "cell_type": "code",
   "execution_count": 50,
   "id": "5a4b39b0-ae47-4b60-a931-799a344c095c",
   "metadata": {},
   "outputs": [
    {
     "name": "stdout",
     "output_type": "stream",
     "text": [
      "142.99947037390118\n"
     ]
    }
   ],
   "source": [
    "L = 150 * 10 ** -3\n",
    "h = 0.5 * 10 ** -3\n",
    "d = 11 * 10 ** -3\n",
    "delta = 0.5 * 10 ** -3\n",
    "theta = m.atan(delta / L)\n",
    "G = 26 * 10 ** 9\n",
    "tor = G * theta\n",
    "P = tor * (L * d)\n",
    "print(P/1000)"
   ]
  },
  {
   "cell_type": "code",
   "execution_count": 58,
   "id": "bfa798e9-dd2b-4000-af41-6428dd3a1c3a",
   "metadata": {},
   "outputs": [
    {
     "name": "stdout",
     "output_type": "stream",
     "text": [
      "-454.05831321409977\n"
     ]
    }
   ],
   "source": [
    "d = 50 * 10 ** -3\n",
    "S = d ** 2 / 4 * m.pi\n",
    "E = 185 * 10 ** 9\n",
    "v = 0.4\n",
    "d_max = 50.025 * 10 ** -3\n",
    "delta_d = d_max - d\n",
    "ed = delta_d / d\n",
    "el = -ed / v\n",
    "e = el\n",
    "sigma = E * e\n",
    "P = sigma * S\n",
    "print(P/1000)"
   ]
  },
  {
   "cell_type": "code",
   "execution_count": null,
   "id": "d1586d2d-4deb-4696-a0fb-62312f36ac5a",
   "metadata": {},
   "outputs": [],
   "source": [
    "d = 0.5\n",
    "g_l = 1\n",
    "sigam = 34\n",
    "e = 0.006"
   ]
  }
 ],
 "metadata": {
  "kernelspec": {
   "display_name": "Python [conda env:base] *",
   "language": "python",
   "name": "conda-base-py"
  },
  "language_info": {
   "codemirror_mode": {
    "name": "ipython",
    "version": 3
   },
   "file_extension": ".py",
   "mimetype": "text/x-python",
   "name": "python",
   "nbconvert_exporter": "python",
   "pygments_lexer": "ipython3",
   "version": "3.12.7"
  }
 },
 "nbformat": 4,
 "nbformat_minor": 5
}
