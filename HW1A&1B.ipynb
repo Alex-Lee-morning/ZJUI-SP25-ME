{
 "cells": [
  {
   "cell_type": "code",
   "execution_count": 1,
   "id": "1344e35d-f658-4e73-9108-89e4717f5955",
   "metadata": {},
   "outputs": [
    {
     "ename": "NameError",
     "evalue": "name 'lat' is not defined",
     "output_type": "error",
     "traceback": [
      "\u001b[0;31m---------------------------------------------------------------------------\u001b[0m",
      "\u001b[0;31mNameError\u001b[0m                                 Traceback (most recent call last)",
      "Cell \u001b[0;32mIn[1], line 30\u001b[0m\n\u001b[1;32m     27\u001b[0m lat1 \u001b[38;5;241m=\u001b[39m \u001b[38;5;241m40.1097\u001b[39m\n\u001b[1;32m     28\u001b[0m lon1 \u001b[38;5;241m=\u001b[39m \u001b[38;5;241m-\u001b[39m\u001b[38;5;241m88.2042\u001b[39m \n\u001b[0;32m---> 30\u001b[0m x1, y1, z1 \u001b[38;5;241m=\u001b[39m latlon_to_xyz(lat, lon)\n\u001b[1;32m     31\u001b[0m \u001b[38;5;28mprint\u001b[39m(\u001b[38;5;124mf\u001b[39m\u001b[38;5;124m\"\u001b[39m\u001b[38;5;124m经纬度(\u001b[39m\u001b[38;5;132;01m{\u001b[39;00mlat1\u001b[38;5;132;01m}\u001b[39;00m\u001b[38;5;124m, \u001b[39m\u001b[38;5;132;01m{\u001b[39;00mlon2\u001b[38;5;132;01m}\u001b[39;00m\u001b[38;5;124m)转换为笛卡尔坐标系:\u001b[39m\u001b[38;5;124m\"\u001b[39m)\n\u001b[1;32m     32\u001b[0m \u001b[38;5;28mprint\u001b[39m(\u001b[38;5;124mf\u001b[39m\u001b[38;5;124m\"\u001b[39m\u001b[38;5;124mX: \u001b[39m\u001b[38;5;132;01m{\u001b[39;00mx\u001b[38;5;132;01m:\u001b[39;00m\u001b[38;5;124m.2f\u001b[39m\u001b[38;5;132;01m}\u001b[39;00m\u001b[38;5;124m km\u001b[39m\u001b[38;5;124m\"\u001b[39m)\n",
      "\u001b[0;31mNameError\u001b[0m: name 'lat' is not defined"
     ]
    }
   ],
   "source": [
    "import numpy as np\n",
    "\n",
    "def latlon_to_xyz(lat, lon, radius=6371):\n",
    "    \"\"\"\n",
    "    将经纬度转换为三维笛卡尔坐标系\n",
    "    \n",
    "    参数:\n",
    "    lat: 纬度(度)\n",
    "    lon: 经度(度)\n",
    "    radius: 地球半径(km)，默认6371km\n",
    "    \n",
    "    返回:\n",
    "    x, y, z: 三维坐标值(km)\n",
    "    \"\"\"\n",
    "    # 将角度转换为弧度\n",
    "    lat_rad = np.radians(lat)\n",
    "    lon_rad = np.radians(lon)\n",
    "    \n",
    "    # 计算三维坐标\n",
    "    x = radius * np.cos(lat_rad) * np.cos(lon_rad)\n",
    "    y = radius * np.cos(lat_rad) * np.sin(lon_rad)\n",
    "    z = radius * np.sin(lat_rad)\n",
    "    \n",
    "    return x, y, z\n",
    "\n",
    "# 示例使用\n",
    "lat1 = 40.1097\n",
    "lon1 = -88.2042 \n",
    "\n",
    "x1, y1, z1 = latlon_to_xyz(lat, lon)\n",
    "print(f\"经纬度({lat1}, {lon2})转换为笛卡尔坐标系:\")\n",
    "print(f\"X: {x:.2f} km\")\n",
    "print(f\"Y: {y:.2f} km\")\n",
    "print(f\"Z: {z:.2f} km\")\n",
    "P1 = np.array([x,y,z])\n",
    "\n",
    "lat2 = 28.6100\n",
    "lon2 = 77.23\n",
    "\n",
    "x2, y2, z2 = latlon_to_xyz(lat2, lon2)\n",
    "print(f\"经纬度({lat}, {lon})转换为笛卡尔坐标系:\")\n",
    "print(f\"X: {x:.2f} km\")\n",
    "print(f\"Y: {y:.2f} km\")\n",
    "print(f\"Z: {z:.2f} km\")\n",
    "P2 = np.array([x2,y2,z2])"
   ]
  },
  {
   "cell_type": "code",
   "execution_count": 3,
   "id": "1d48cd92-b88a-47bb-b56e-8559668210f8",
   "metadata": {},
   "outputs": [
    {
     "data": {
      "text/plain": [
       "6.283185307179586"
      ]
     },
     "execution_count": 3,
     "metadata": {},
     "output_type": "execute_result"
    }
   ],
   "source": [
    "np.radians(360)"
   ]
  },
  {
   "cell_type": "code",
   "execution_count": 5,
   "id": "a13fb5ab-4a92-4fd9-acaf-36af0c5798d6",
   "metadata": {},
   "outputs": [
    {
     "data": {
      "text/plain": [
       "49.8903"
      ]
     },
     "execution_count": 5,
     "metadata": {},
     "output_type": "execute_result"
    }
   ],
   "source": [
    "90-40.1097"
   ]
  },
  {
   "cell_type": "code",
   "execution_count": 7,
   "id": "3347495b-5832-4560-bd4e-605f36a33d06",
   "metadata": {},
   "outputs": [
    {
     "data": {
      "text/plain": [
       "61.39"
      ]
     },
     "execution_count": 7,
     "metadata": {},
     "output_type": "execute_result"
    }
   ],
   "source": [
    "90 - 28.61"
   ]
  },
  {
   "cell_type": "code",
   "execution_count": 15,
   "id": "3134b0ec-837c-45e0-a105-e7f533c6c39a",
   "metadata": {},
   "outputs": [],
   "source": [
    "import math as m\n",
    "def R(x):\n",
    "    p = float(x) * m.pi / 180\n",
    "    return p"
   ]
  },
  {
   "cell_type": "code",
   "execution_count": 17,
   "id": "eab92840-20b2-4e52-96ae-c5e5eb768a36",
   "metadata": {},
   "outputs": [
    {
     "data": {
      "text/plain": [
       "0.870749999807727"
      ]
     },
     "execution_count": 17,
     "metadata": {},
     "output_type": "execute_result"
    }
   ],
   "source": [
    "R(49.8903)"
   ]
  },
  {
   "cell_type": "code",
   "execution_count": 19,
   "id": "28e182d7-b9a0-49ff-9891-8891d664f71b",
   "metadata": {},
   "outputs": [
    {
     "data": {
      "text/plain": [
       "-1.5394537040875822"
      ]
     },
     "execution_count": 19,
     "metadata": {},
     "output_type": "execute_result"
    }
   ],
   "source": [
    "R(-88.2042)\n"
   ]
  },
  {
   "cell_type": "code",
   "execution_count": 49,
   "id": "03a8a809-9a42-4315-99f1-fcb6c6c753ef",
   "metadata": {},
   "outputs": [
    {
     "data": {
      "text/plain": [
       "1.0714576277993189"
      ]
     },
     "execution_count": 49,
     "metadata": {},
     "output_type": "execute_result"
    }
   ],
   "source": [
    "R(61.39)"
   ]
  },
  {
   "cell_type": "code",
   "execution_count": 51,
   "id": "49b58453-7a70-42ea-a7a4-55743d31a3b9",
   "metadata": {},
   "outputs": [
    {
     "data": {
      "text/plain": [
       "1.3479177813152208"
      ]
     },
     "execution_count": 51,
     "metadata": {},
     "output_type": "execute_result"
    }
   ],
   "source": [
    "R(77.23)"
   ]
  },
  {
   "cell_type": "code",
   "execution_count": 92,
   "id": "9fe65862-eaf0-4295-8abe-c1c58a8041da",
   "metadata": {},
   "outputs": [],
   "source": [
    "def f(R,theta,phi):\n",
    "    return np.array([R * m.sin(phi) * m.cos(theta), R * m.sin(phi) * m.sin(theta), R * m.cos(phi)])"
   ]
  },
  {
   "cell_type": "code",
   "execution_count": 94,
   "id": "1a7b006d-b239-4bd1-bf38-d18ea2caa31e",
   "metadata": {},
   "outputs": [],
   "source": [
    "A = f(6371,-1.5394537040875822,0.870749999807727)"
   ]
  },
  {
   "cell_type": "code",
   "execution_count": 96,
   "id": "6706864a-04a0-4b7a-b460-f0f1046027c9",
   "metadata": {},
   "outputs": [],
   "source": [
    "B = f(6371,1.3479177813152208,1.0714576277993189)"
   ]
  },
  {
   "cell_type": "code",
   "execution_count": 98,
   "id": "488ba7c5-1e10-4f56-9e86-da13a8f466d4",
   "metadata": {},
   "outputs": [
    {
     "name": "stdout",
     "output_type": "stream",
     "text": [
      "[0.21515325 0.6332811  0.74341383]\n"
     ]
    }
   ],
   "source": [
    "C = np.cross(A,B)\n",
    "D = np.cross(C,A)\n",
    "D = D / np.linalg.norm(D)\n",
    "print(D)"
   ]
  },
  {
   "cell_type": "code",
   "execution_count": 59,
   "id": "bb57aa31-aca7-47a3-8030-4ae1a4a5fcd1",
   "metadata": {},
   "outputs": [],
   "source": [
    "theta = m.acos(np.dot(A,B)/(np.linalg.norm(A))**2)"
   ]
  },
  {
   "cell_type": "code",
   "execution_count": 61,
   "id": "b94b3c6b-58bb-4ecc-aea4-368e106d28e2",
   "metadata": {},
   "outputs": [
    {
     "data": {
      "text/plain": [
       "1.9191499656053517"
      ]
     },
     "execution_count": 61,
     "metadata": {},
     "output_type": "execute_result"
    }
   ],
   "source": [
    "theta"
   ]
  },
  {
   "cell_type": "code",
   "execution_count": 63,
   "id": "0449b6fd-4b70-46aa-b3f9-a2ef11220065",
   "metadata": {},
   "outputs": [
    {
     "data": {
      "text/plain": [
       "12226.904430871695"
      ]
     },
     "execution_count": 63,
     "metadata": {},
     "output_type": "execute_result"
    }
   ],
   "source": [
    "theta * 6371"
   ]
  },
  {
   "cell_type": "code",
   "execution_count": 65,
   "id": "e4d9ce54-0c17-41e4-8e1b-21973c25739f",
   "metadata": {},
   "outputs": [
    {
     "data": {
      "text/plain": [
       "10435.032083483085"
      ]
     },
     "execution_count": 65,
     "metadata": {},
     "output_type": "execute_result"
    }
   ],
   "source": [
    "np.linalg.norm(A-B)"
   ]
  },
  {
   "cell_type": "code",
   "execution_count": 76,
   "id": "5ef9c959-2127-4982-84f9-4157ec5dd30e",
   "metadata": {},
   "outputs": [],
   "source": [
    "C = np.cross(A,B)\n",
    "beta = m.acos((np.dot(C,np.array([0,0,1])) / np.linalg.norm(C)))"
   ]
  },
  {
   "cell_type": "code",
   "execution_count": 80,
   "id": "b388a1f8-b2c2-42af-80de-ce61c5a6be8e",
   "metadata": {},
   "outputs": [
    {
     "data": {
      "text/plain": [
       "79.65067939284346"
      ]
     },
     "execution_count": 80,
     "metadata": {},
     "output_type": "execute_result"
    }
   ],
   "source": [
    "beta * 180 / m.pi"
   ]
  },
  {
   "cell_type": "code",
   "execution_count": 82,
   "id": "647d557b-cfe7-4b27-991c-48978ae9ab84",
   "metadata": {},
   "outputs": [
    {
     "data": {
      "text/plain": [
       "array([-37246940.8700627 ,   4608550.52519991,   6853911.43449354])"
      ]
     },
     "execution_count": 82,
     "metadata": {},
     "output_type": "execute_result"
    }
   ],
   "source": [
    "C"
   ]
  },
  {
   "cell_type": "code",
   "execution_count": 84,
   "id": "1eafae42-e6eb-4c85-9466-d337f79cd7ce",
   "metadata": {},
   "outputs": [],
   "source": [
    "Bpro = np.dot(A,B) / (np.linalg.norm(A))**2 * A"
   ]
  },
  {
   "cell_type": "code",
   "execution_count": 88,
   "id": "28771fff-a747-4279-915c-8aff8c29e33c",
   "metadata": {},
   "outputs": [
    {
     "data": {
      "text/plain": [
       "array([0.21515325, 0.6332811 , 0.74341383])"
      ]
     },
     "execution_count": 88,
     "metadata": {},
     "output_type": "execute_result"
    }
   ],
   "source": [
    "(B - Bpro) / np.linalg.norm(B-Bpro)"
   ]
  },
  {
   "cell_type": "code",
   "execution_count": 90,
   "id": "f16d5685-b92f-4456-b1d4-8bff1c7d0851",
   "metadata": {},
   "outputs": [],
   "source": [
    "def C(x,y,z):\n",
    "    theta = -1.54\n",
    "    phi = 0.87\n",
    "    er = m.cos(theta) * m.sin(phi) * x + m.sin(theta) * m.sin(phi) * y + m.cos(k)\n",
    "    etheta = -m.sin(theta) * x + m.cos(theta) * y\n",
    "    ephi = m.cos(theta) * m.cos(phi) * x + m.sin(theta) * m.cos(phi) * y - m.sin(phi) * z\n",
    "    return np.array([er,etheta,ephi])"
   ]
  },
  {
   "cell_type": "code",
   "execution_count": 126,
   "id": "10468afe-c95e-43e5-a108-e739aebe3edc",
   "metadata": {},
   "outputs": [
    {
     "name": "stdout",
     "output_type": "stream",
     "text": [
      "[0.21515325 0.6332811  0.74341383]\n",
      "[ 0.02018928 -0.6439367   0.23518766]\n",
      "13.585317000372632\n"
     ]
    }
   ],
   "source": [
    "A = f(6371,-1.5394537040875822,0.870749999807727)\n",
    "B = f(6371,1.3479177813152208,1.0714576277993189)\n",
    "C = np.cross(A,B)\n",
    "C = C / np.linalg.norm(C)\n",
    "D = np.cross(C,A)\n",
    "D = D / np.linalg.norm(D)\n",
    "print(D)\n",
    "A = A / np.linalg.norm(A)\n",
    "Q = np.cross(A,np.array([0,0,1]))\n",
    "QQ = np.cross(Q,A)\n",
    "QQ = QQ / np.linalg.norm(QQ)\n",
    "N = np.array([0,0,1]) - QQ\n",
    "print(N)\n",
    "N = N / np.linalg.norm(N)\n",
    "theta = m.acos(np.dot(D,QQ))\n",
    "theta = theta * 180 / m.pi\n",
    "print(theta)"
   ]
  },
  {
   "cell_type": "code",
   "execution_count": 2,
   "id": "dd8b8b32-97ef-486c-89e9-7437d682ab38",
   "metadata": {},
   "outputs": [
    {
     "data": {
      "text/plain": [
       "13.035714285714286"
      ]
     },
     "execution_count": 2,
     "metadata": {},
     "output_type": "execute_result"
    }
   ],
   "source": [
    "365 / 28"
   ]
  },
  {
   "cell_type": "code",
   "execution_count": null,
   "id": "888ef8a0-0685-430f-af8e-ef3ecaa408b0",
   "metadata": {},
   "outputs": [],
   "source": []
  }
 ],
 "metadata": {
  "kernelspec": {
   "display_name": "Python [conda env:base] *",
   "language": "python",
   "name": "conda-base-py"
  },
  "language_info": {
   "codemirror_mode": {
    "name": "ipython",
    "version": 3
   },
   "file_extension": ".py",
   "mimetype": "text/x-python",
   "name": "python",
   "nbconvert_exporter": "python",
   "pygments_lexer": "ipython3",
   "version": "3.12.7"
  }
 },
 "nbformat": 4,
 "nbformat_minor": 5
}
