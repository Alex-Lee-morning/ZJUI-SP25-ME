{
 "cells": [
  {
   "cell_type": "code",
   "execution_count": 1,
   "id": "135f8cd5-6c93-45fb-9f3a-7344aec7ce9f",
   "metadata": {},
   "outputs": [],
   "source": [
    "import numpy as np\n",
    "from sympy import *\n",
    "\n",
    "t = symbols('t', real = True)\n",
    "s = t**2 + t - 1\n",
    "t_v = 1\n",
    "rho = 10"
   ]
  },
  {
   "cell_type": "code",
   "execution_count": 2,
   "id": "49c1934b-bdac-400b-bb79-d56ccebacb4c",
   "metadata": {},
   "outputs": [
    {
     "name": "stdout",
     "output_type": "stream",
     "text": [
      "2.19317121994613\n"
     ]
    }
   ],
   "source": [
    "v = diff(s)\n",
    "av = diff(v).subs(t,t_v)\n",
    "an = v.subs(t,t_v) ** 2 / rho\n",
    "a = av ** 2 + an ** 2\n",
    "a = a ** 0.5\n",
    "print(a)"
   ]
  },
  {
   "cell_type": "code",
   "execution_count": 3,
   "id": "e8433b63-d8fd-4504-9cee-c90863b7ada4",
   "metadata": {},
   "outputs": [],
   "source": [
    "from sympy import *\n",
    "import numpy as np\n",
    "\n",
    "v = Matrix([0,94,6]) # in polar basis\n",
    "a = Matrix([-188,94,-18]) # in polar basis"
   ]
  },
  {
   "cell_type": "code",
   "execution_count": 4,
   "id": "ded4ee0b-1fe5-4bfe-a6ef-24781ac2e751",
   "metadata": {},
   "outputs": [
    {
     "name": "stdout",
     "output_type": "stream",
     "text": [
      "46.8131105128563\n"
     ]
    }
   ],
   "source": [
    "v_mag = v.norm().evalf()\n",
    "ve = v / v_mag\n",
    "at = a.dot(ve) * ve\n",
    "an = a - at\n",
    "an_mag = an.norm()\n",
    "rho = v_mag ** 2 / an_mag\n",
    "print(rho)"
   ]
  },
  {
   "cell_type": "code",
   "execution_count": 5,
   "id": "98e34f93-2a05-4901-aa2d-5b87ddd1fed0",
   "metadata": {},
   "outputs": [
    {
     "name": "stdout",
     "output_type": "stream",
     "text": [
      "0.759662618216366\n"
     ]
    }
   ],
   "source": [
    "at = 2 / 3\n",
    "a = at / cos(0.5)\n",
    "print(a)"
   ]
  },
  {
   "cell_type": "code",
   "execution_count": 6,
   "id": "e62df1f5-7ae9-4d75-8f8b-1fc990b322d0",
   "metadata": {},
   "outputs": [],
   "source": [
    "import numpy as np\n",
    "from sympy import *\n",
    "\n",
    "t = symbols('t', real = True)\n",
    "r = Matrix([-3*t**2 + 2*t - 1, 1 - 3*t, 0])\n",
    "t_v = 1"
   ]
  },
  {
   "cell_type": "code",
   "execution_count": 7,
   "id": "7b75f8b7-e21f-4972-8936-f6cde021ccdc",
   "metadata": {},
   "outputs": [
    {
     "name": "stdout",
     "output_type": "stream",
     "text": [
      "Matrix([[-6.16666666666667], [3.55555555555556], [0]])\n"
     ]
    }
   ],
   "source": [
    "v = diff(r)\n",
    "v_mag = v.subs(t,t_v).norm().evalf()\n",
    "a = diff(v).subs(t,t_v)\n",
    "v_i = v.subs(t,t_v)\n",
    "ve = v_i / v_mag\n",
    "at = a.dot(ve) * ve\n",
    "an = a - at\n",
    "an_mag = an.norm().evalf()\n",
    "rho = v_mag ** 2 / an_mag\n",
    "ne = an / an_mag\n",
    "r_i = r.subs(t,t_v)\n",
    "P = r_i + rho * ne\n",
    "print(P)"
   ]
  },
  {
   "cell_type": "code",
   "execution_count": 8,
   "id": "006970db-f31a-48f0-a7ce-2e9023064703",
   "metadata": {},
   "outputs": [],
   "source": [
    "import numpy as np\n",
    "from sympy import *\n",
    "\n",
    "x = symbols('x', real = True)\n",
    "\n",
    "m = 3\n",
    "y = -3*sin(x)\n",
    "g = -9.8\n",
    "x_v = 4\n",
    "vMag = 3\n",
    "vDot = 4"
   ]
  },
  {
   "cell_type": "code",
   "execution_count": 68,
   "id": "2906bc60-2d2c-446b-8817-e296c16e1c17",
   "metadata": {},
   "outputs": [],
   "source": [
    "import numpy as np\n",
    "from sympy import *\n",
    "\n",
    "x = symbols('x', real = True)\n",
    "\n",
    "m = 8\n",
    "y = 4*cos(3*x)\n",
    "g = -9.8\n",
    "x_v = 11\n",
    "vMag = 2\n",
    "vDotMag = 2"
   ]
  },
  {
   "cell_type": "code",
   "execution_count": 70,
   "id": "3135e6d7-38c4-43cb-a4f8-e1ca614ec82f",
   "metadata": {},
   "outputs": [
    {
     "name": "stdout",
     "output_type": "stream",
     "text": [
      "Matrix([[1.33757578223006], [62.4560052746972]])\n"
     ]
    }
   ],
   "source": [
    "P = Matrix([x,y])\n",
    "y1 = diff(y,x)\n",
    "y2 = diff(y1,x)\n",
    "rho = (1 + y1 ** 2) ** (3/2) / y2\n",
    "rho_mag = abs(rho.subs(x,x_v))\n",
    "e = diff(P,x) / diff(P,x).norm()\n",
    "e1 = -e.subs(x,x_v)\n",
    "x = e1[0]\n",
    "y = e1[1]\n",
    "en = Matrix([y,-x])\n",
    "an = vMag ** 2 / rho_mag * en\n",
    "at = vDotMag * -e1\n",
    "G = Matrix([0, g])\n",
    "a = at - G + an\n",
    "F = m * a\n",
    "print(F.evalf())"
   ]
  },
  {
   "cell_type": "code",
   "execution_count": 80,
   "id": "01519465-badb-4e3a-9617-ab170d5d372a",
   "metadata": {},
   "outputs": [],
   "source": [
    "import numpy as np\n",
    "from sympy import *\n",
    "\n",
    "x = symbols('x', real = True)\n",
    "\n",
    "m = 3\n",
    "y = -3*sin(x)\n",
    "g = -9.8\n",
    "x_v = 4\n",
    "vMag = 3\n",
    "vDot = 4"
   ]
  },
  {
   "cell_type": "code",
   "execution_count": 82,
   "id": "ac023a08-618c-4cf4-a103-28455c903dfd",
   "metadata": {},
   "outputs": [
    {
     "name": "stdout",
     "output_type": "stream",
     "text": [
      "4.69753965360749\n"
     ]
    }
   ],
   "source": [
    "y1 = diff(y,x)\n",
    "y2 = diff(y1,x)\n",
    "rho = (1 + y1 ** 2) ** (3/2) / y2\n",
    "rho_mag = abs(rho.subs(x,x_v))\n",
    "print(rho_mag.evalf())"
   ]
  },
  {
   "cell_type": "code",
   "execution_count": 84,
   "id": "9cd105e5-9c67-4890-825c-a960a8ba4125",
   "metadata": {},
   "outputs": [],
   "source": [
    "import numpy as np\n",
    "from sympy import *\n",
    "\n",
    "x = symbols('x', real = True)\n",
    "\n",
    "m = 5\n",
    "y = -4*cos(2*x)\n",
    "g = -9.8\n",
    "x_v = 5\n",
    "vMag = 1\n",
    "vDot = 4"
   ]
  },
  {
   "cell_type": "code",
   "execution_count": null,
   "id": "78f4586f-87b6-47db-9e6c-d082f21e8235",
   "metadata": {},
   "outputs": [],
   "source": [
    "y1 = diff(y,x)\n",
    "y2 = diff(y1,x)\n",
    "rho = (1 + y1 ** 2) ** (3/2) / y2"
   ]
  }
 ],
 "metadata": {
  "kernelspec": {
   "display_name": "Python [conda env:base] *",
   "language": "python",
   "name": "conda-base-py"
  },
  "language_info": {
   "codemirror_mode": {
    "name": "ipython",
    "version": 3
   },
   "file_extension": ".py",
   "mimetype": "text/x-python",
   "name": "python",
   "nbconvert_exporter": "python",
   "pygments_lexer": "ipython3",
   "version": "3.12.7"
  }
 },
 "nbformat": 4,
 "nbformat_minor": 5
}
