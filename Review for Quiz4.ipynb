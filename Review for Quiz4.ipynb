{
 "cells": [
  {
   "cell_type": "code",
   "execution_count": 2,
   "id": "24cdf0bb-be21-4d4e-a395-8d092b9c3f7c",
   "metadata": {},
   "outputs": [],
   "source": [
    "from sympy import *"
   ]
  },
  {
   "cell_type": "code",
   "execution_count": 33,
   "id": "eb44a04d-3465-4581-b962-b37029288d93",
   "metadata": {},
   "outputs": [],
   "source": [
    "from sympy import *\n",
    "\n",
    "t = 15 # mm\n",
    "Mz = 1634 # N.m"
   ]
  },
  {
   "cell_type": "code",
   "execution_count": 35,
   "id": "105c25f8-9fa3-490f-8448-0e4472f0868d",
   "metadata": {},
   "outputs": [
    {
     "name": "stdout",
     "output_type": "stream",
     "text": [
      "37.5\n"
     ]
    }
   ],
   "source": [
    "M1 = 4 * t * 6 * t - 2 * t * 4 * t\n",
    "M2 = 4 * t * 4 * t\n",
    "y1 = 3 * t\n",
    "y2 = 8 * t\n",
    "M = M1 + M2\n",
    "y_avg = (M1 * y1 + M2 * y2) / M\n",
    "delta = y_avg - y1\n",
    "print(delta)"
   ]
  },
  {
   "cell_type": "code",
   "execution_count": 37,
   "id": "d4e9f302-2ec8-4218-b7ca-42ef4f765197",
   "metadata": {},
   "outputs": [
    {
     "name": "stdout",
     "output_type": "stream",
     "text": [
      "14.31\n",
      "7.7075471698113205\n"
     ]
    }
   ],
   "source": [
    "h1 = 6 * t\n",
    "b1 = 4 * t\n",
    "h2 = 4 * t\n",
    "b2 = 2 * t\n",
    "h3 = 4 * t\n",
    "b3 = 4 * t\n",
    "y1 = 3 * t\n",
    "y2 = 8 * t\n",
    "dis1 = y1 - y_avg\n",
    "dis2 = y2 - y_avg\n",
    "I1 = 1 / 12 * b1 * h1 ** 3\n",
    "I2 = 1 / 12 * b2 * h2 ** 3\n",
    "I3 = 1 / 12 * b3 * h3 ** 3\n",
    "I = I1 - I2 + I3 + M1 * dis1 ** 2 + M2 * dis2 ** 2\n",
    "print(I / 10 ** 6)\n",
    "sigma = Mz / I * 10 ** 12 * (10 * t - y_avg) * 10 ** -3\n",
    "print(sigma / 10 ** 6)"
   ]
  },
  {
   "cell_type": "code",
   "execution_count": 33,
   "id": "6734ee9e-07a2-4b2e-863a-47d727594038",
   "metadata": {},
   "outputs": [
    {
     "name": "stdout",
     "output_type": "stream",
     "text": [
      "18.524842666666668\n"
     ]
    }
   ],
   "source": [
    "h1 = 6 * t\n",
    "b1 = 4 * t\n",
    "h2 = 4 * t\n",
    "b2 = 2 * t\n",
    "h3 = 4 * t\n",
    "b3 = 4 * t\n",
    "I1 = 1/12 * h1 ** 3 * b1\n",
    "I2 = 1/12 * h2 ** 3 * b2\n",
    "I3 = 1/12 * h3 ** 3 * b3\n",
    "I1 = I1 - I2 + M1 * (y1 - y_avg) ** 2\n",
    "I3 = I3 + M2 * (y2 - y_avg) ** 2\n",
    "I = I1 + I3\n",
    "print(I/10 ** 6)"
   ]
  },
  {
   "cell_type": "code",
   "execution_count": 35,
   "id": "77dc7b1c-9df4-4fc5-8285-dfcfcbe16376",
   "metadata": {},
   "outputs": [
    {
     "name": "stdout",
     "output_type": "stream",
     "text": [
      "8.032888736364976\n"
     ]
    }
   ],
   "source": [
    "I = I / 10 ** 12\n",
    "sigma = Mz / I * (y_avg) * 10 ** -3\n",
    "print(sigma / 10 ** 6)"
   ]
  },
  {
   "cell_type": "code",
   "execution_count": 17,
   "id": "f61a3624-a532-4e9f-93c1-ea5830c78968",
   "metadata": {},
   "outputs": [],
   "source": [
    "from sympy import *\n",
    "\n",
    "a = 1515 # mm\n",
    "b = 242 # mm\n",
    "h = 141 # mm\n",
    "t1 = 20 # mm\n",
    "t2 = 20 # mm\n",
    "sigmaT = 15 # MPa\n",
    "sigmaC = 15 # MPa"
   ]
  },
  {
   "cell_type": "code",
   "execution_count": 19,
   "id": "aa3e86ad-a7fb-49f2-bdb1-13760cc9cb0c",
   "metadata": {},
   "outputs": [
    {
     "name": "stdout",
     "output_type": "stream",
     "text": [
      "107.67748091603053\n"
     ]
    }
   ],
   "source": [
    "S1 = b * (h + t2)\n",
    "S2 = (b - 2 * t1) * h\n",
    "y1 = 0.5 * ( h + t2)\n",
    "y2 = h / 2\n",
    "S = S1 - S2\n",
    "y_avg = (S1 * y1 - S2 * y2) / S\n",
    "print(y_avg)"
   ]
  },
  {
   "cell_type": "code",
   "execution_count": 21,
   "id": "fe03d040-c4b2-468a-971f-b196f65f151d",
   "metadata": {},
   "outputs": [
    {
     "name": "stdout",
     "output_type": "stream",
     "text": [
      "26.384723218829514\n"
     ]
    }
   ],
   "source": [
    "b1 = b\n",
    "h1 = (h + t2)\n",
    "b2 = b - 2 * t1\n",
    "h2 = h\n",
    "I1 = 1 / 12 * b1 * h1 ** 3\n",
    "I2 = 1 / 12 * b2 * h2 ** 3\n",
    "I1 = I1 + S1 * (y1 - y_avg) ** 2\n",
    "I2 = I2 + S2 * (y2 - y_avg) ** 2\n",
    "I = I1 - I2\n",
    "print(I / 10 ** 6)"
   ]
  },
  {
   "cell_type": "code",
   "execution_count": 23,
   "id": "63d192e7-4b87-4b9c-abe2-19041bfc67c6",
   "metadata": {},
   "outputs": [
    {
     "name": "stdout",
     "output_type": "stream",
     "text": [
      "[0.00106758482073099]\n"
     ]
    }
   ],
   "source": [
    "w = symbols(\"w\")\n",
    "M_max = 1.5 * w * a ** 2\n",
    "I = I / 10 ** 12\n",
    "sigma = M_max / I * y_avg * 10 ** -3\n",
    "eq = Eq(sigma, sigmaC * 10 ** 6)\n",
    "sol = solve(eq,w)\n",
    "print(sol)"
   ]
  },
  {
   "cell_type": "code",
   "execution_count": 47,
   "id": "42be5046-af9f-4e22-b39c-341da797fda4",
   "metadata": {},
   "outputs": [
    {
     "data": {
      "text/latex": [
       "$\\displaystyle 135218356417836.0 w$"
      ],
      "text/plain": [
       "135218356417836.0*w"
      ]
     },
     "execution_count": 47,
     "metadata": {},
     "output_type": "execute_result"
    }
   ],
   "source": [
    "sigma"
   ]
  },
  {
   "cell_type": "code",
   "execution_count": 25,
   "id": "4a047611-12e6-4d38-9980-eadf6c478142",
   "metadata": {},
   "outputs": [],
   "source": [
    "from sympy import *\n",
    "\n",
    "t = 15 # mm\n",
    "Mz = 1634 # N.m"
   ]
  },
  {
   "cell_type": "code",
   "execution_count": null,
   "id": "7e523872-f0d8-489c-898b-3a0bfc90d41b",
   "metadata": {},
   "outputs": [],
   "source": []
  }
 ],
 "metadata": {
  "kernelspec": {
   "display_name": "Python [conda env:base] *",
   "language": "python",
   "name": "conda-base-py"
  },
  "language_info": {
   "codemirror_mode": {
    "name": "ipython",
    "version": 3
   },
   "file_extension": ".py",
   "mimetype": "text/x-python",
   "name": "python",
   "nbconvert_exporter": "python",
   "pygments_lexer": "ipython3",
   "version": "3.12.7"
  }
 },
 "nbformat": 4,
 "nbformat_minor": 5
}
