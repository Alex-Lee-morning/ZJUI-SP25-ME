{
 "cells": [
  {
   "cell_type": "code",
   "execution_count": 2,
   "id": "92c3bbe2-ae46-400e-a2d2-1144b69a3a9b",
   "metadata": {},
   "outputs": [],
   "source": [
    "import math as m\n",
    "from sympy import *"
   ]
  },
  {
   "cell_type": "code",
   "execution_count": 6,
   "id": "144e6ed2-ade7-47bf-ab90-9c81aac45386",
   "metadata": {},
   "outputs": [
    {
     "name": "stdout",
     "output_type": "stream",
     "text": [
      "8.395963963963963\n"
     ]
    }
   ],
   "source": [
    "rc = 0.0848\n",
    "rs = 0.0222\n",
    "rw = 0.35\n",
    "wc = 6.28\n",
    "vm = rc / rs * rw * wc\n",
    "print(vm)"
   ]
  },
  {
   "cell_type": "code",
   "execution_count": 10,
   "id": "d112606d-2ef7-4d43-b830-545bb711e8d8",
   "metadata": {},
   "outputs": [
    {
     "data": {
      "text/plain": [
       "0.7340425531914894"
      ]
     },
     "execution_count": 10,
     "metadata": {},
     "output_type": "execute_result"
    }
   ],
   "source": [
    "1 / (3.76/2.76)"
   ]
  },
  {
   "cell_type": "code",
   "execution_count": 22,
   "id": "44cd1f90-1a0c-4ce8-877e-b06883e49fed",
   "metadata": {},
   "outputs": [
    {
     "name": "stdout",
     "output_type": "stream",
     "text": [
      "1.19\n"
     ]
    }
   ],
   "source": [
    "wc = 6.28\n",
    "rw = 0.35\n",
    "rs = 0.034\n",
    "rc = 0.085\n",
    "Ww = 1.36 * rc / rs\n",
    "Vw = rw * Ww\n",
    "print(Vw)"
   ]
  },
  {
   "cell_type": "code",
   "execution_count": null,
   "id": "c97dc378-2c28-4942-b2bb-84a3394f063a",
   "metadata": {},
   "outputs": [],
   "source": []
  }
 ],
 "metadata": {
  "kernelspec": {
   "display_name": "Python [conda env:base] *",
   "language": "python",
   "name": "conda-base-py"
  },
  "language_info": {
   "codemirror_mode": {
    "name": "ipython",
    "version": 3
   },
   "file_extension": ".py",
   "mimetype": "text/x-python",
   "name": "python",
   "nbconvert_exporter": "python",
   "pygments_lexer": "ipython3",
   "version": "3.12.7"
  }
 },
 "nbformat": 4,
 "nbformat_minor": 5
}
