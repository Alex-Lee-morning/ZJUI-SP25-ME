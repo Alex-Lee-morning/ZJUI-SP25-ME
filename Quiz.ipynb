{
 "cells": [
  {
   "cell_type": "code",
   "execution_count": 1,
   "id": "10875a61-3418-435d-95cb-9af369906bbc",
   "metadata": {},
   "outputs": [],
   "source": [
    "from sympy import *\n",
    "\n",
    "b = 28 # mm\n",
    "t = 7 # mm\n",
    "Vy = 30 # kN"
   ]
  },
  {
   "cell_type": "code",
   "execution_count": 2,
   "id": "b2ce12df-d8a8-444f-9007-dca903bce78b",
   "metadata": {},
   "outputs": [],
   "source": [
    "b = b * 10 ** -3\n",
    "t = t * 10 ** -3\n",
    "Vy = Vy * 1000"
   ]
  },
  {
   "cell_type": "code",
   "execution_count": 3,
   "id": "1600e13d-2fc8-4f6d-891d-3e88b55a88f4",
   "metadata": {},
   "outputs": [
    {
     "name": "stdout",
     "output_type": "stream",
     "text": [
      "4.73739136803047\n"
     ]
    }
   ],
   "source": [
    "w1 = 4 * b + 2 * t\n",
    "h1 = 6 * t + 4 * b\n",
    "w2 = 2 * b + 2 * t\n",
    "h2 = 2 * b\n",
    "w3 = 2 * t\n",
    "h3 = t\n",
    "I1 = 1 / 12 * w1 * h1 ** 3\n",
    "I2 = 1 / 12 * 2 * w2 * h2 ** 3 + w2 * h2 * 2 * (2 * t + b) ** 2\n",
    "I3 = 1 / 12 * 2 * w3 * h3 ** 3 + w3 * h3 * 2 * (2 * b + 2.5 * t) ** 2\n",
    "I = I1 - I2 - I3\n",
    "Q = t * 4 * b * (2.5 * t + 2 * b) + 2 * 2 * b * b * (2 * t + b)\n",
    "T = 2 * b\n",
    "tor = Vy * Q / I / T\n",
    "print(tor / 10 ** 6)"
   ]
  },
  {
   "cell_type": "code",
   "execution_count": 4,
   "id": "693ad9c7-a201-4035-b37c-bd372df6a290",
   "metadata": {},
   "outputs": [],
   "source": [
    "from sympy import *\n",
    "\n",
    "t1 = 5 # mm\n",
    "t2 = 9 # mm\n",
    "b = 87 # mm\n",
    "h = 88 # mm\n",
    "ybar = 66.83554 # mm\n",
    "Iz = 1547799.35303 # mm^4\n",
    "Vy = 40 # kN\n",
    "Mz = 669 # N.m"
   ]
  },
  {
   "cell_type": "code",
   "execution_count": 5,
   "id": "76d33362-8e80-47a9-b4ca-8c145d06f3b2",
   "metadata": {},
   "outputs": [],
   "source": [
    "t1 = t1 * 10 ** -3\n",
    "t2 = t2 * 10 ** -3\n",
    "b = b * 10 ** -3\n",
    "h = h * 10 ** -3\n",
    "ybar = ybar * 10 ** -3\n",
    "Iz = Iz * 10 ** -12\n",
    "Vy = Vy * 1000"
   ]
  },
  {
   "cell_type": "code",
   "execution_count": 6,
   "id": "6cf40913-050a-4f73-a676-74dbcda588c5",
   "metadata": {},
   "outputs": [
    {
     "name": "stdout",
     "output_type": "stream",
     "text": [
      "28.888095974758656\n",
      "35.45066854838029\n",
      "57.72052299087656\n"
     ]
    }
   ],
   "source": [
    "w1 = b\n",
    "h1 = h + t2\n",
    "w2 = b - 2 * t1\n",
    "h2 = h\n",
    "I1 = 1 / 12 * w1 * h1 ** 3\n",
    "I2 = 1 / 12 * w2 * h2 ** 3\n",
    "dis1 = ybar - h1 / 2\n",
    "dis2 = ybar - h2 / 2\n",
    "I = I1 + w1 * h1 * dis1 ** 2 - I2 - w2 * h2 * dis2 ** 2\n",
    "c = h1 - ybar\n",
    "sigma = Mz * ybar / Iz\n",
    "print(sigma / 10 ** 6)\n",
    "T = 2 * t1\n",
    "l1 = h - ybar\n",
    "l2 = h + t2 / 2 - ybar\n",
    "S1 = t2 * b\n",
    "S2 = l1 * 2 * t1\n",
    "Q = S2 * l2 + S1 * l1 / 2\n",
    "tor = Vy * Q / Iz / T\n",
    "print(tor / 10 ** 6)\n",
    "T = 2 * t1\n",
    "l1 = ybar\n",
    "S1 = 2 * t1 * ybar\n",
    "Q = S1 * l1 / 2\n",
    "tor = Vy * Q / Iz / T\n",
    "print(tor / 10 ** 6)"
   ]
  },
  {
   "cell_type": "code",
   "execution_count": 7,
   "id": "11023a31-eb98-4d10-b642-1f903ae52332",
   "metadata": {},
   "outputs": [],
   "source": [
    "from sympy import *\n",
    "\n",
    "b = 74 # mm\n",
    "a = 752 # mm\n",
    "P = 12 # kN\n",
    "sigmaAll = 139 # MPa\n",
    "tauAll = 79 # MPa"
   ]
  },
  {
   "cell_type": "code",
   "execution_count": 8,
   "id": "c325d531-dae8-4083-a619-63f60b7a8a3b",
   "metadata": {},
   "outputs": [],
   "source": [
    "b = b * 10 ** -3\n",
    "a = a * 10 ** -3\n",
    "P = P * 1000\n",
    "sigmaAll = sigmaAll * 10 ** 6\n",
    "tauAll = tauAll * 10 ** 6"
   ]
  },
  {
   "cell_type": "code",
   "execution_count": 9,
   "id": "826538ff-4dde-4f94-9140-6c539fe02287",
   "metadata": {},
   "outputs": [
    {
     "name": "stdout",
     "output_type": "stream",
     "text": [
      "[0.00153951419774205]\n",
      "[-0.0513023088264037, 0.0513023088264037]\n"
     ]
    }
   ],
   "source": [
    "h = symbols(\"h\")\n",
    "I = 1 / 12 * b * h ** 3\n",
    "Q = b * h / 2 * h / 4\n",
    "T = b\n",
    "M = a * P / 2\n",
    "V = P / 2\n",
    "tor = V * Q / I / T\n",
    "eq = Eq(tor,tauAll)\n",
    "sol = solve(eq,h)\n",
    "print(sol)\n",
    "sigma = M * h / 2 / I\n",
    "eq = Eq(sigma, sigmaAll)\n",
    "sol = solve(eq,h)\n",
    "print(sol)"
   ]
  },
  {
   "cell_type": "code",
   "execution_count": 10,
   "id": "3cbfe759-7cc3-489c-8204-079e8c68be41",
   "metadata": {},
   "outputs": [
    {
     "data": {
      "text/plain": [
       "(121621.621621622/h, 365837.837837838/h**2)"
      ]
     },
     "execution_count": 10,
     "metadata": {},
     "output_type": "execute_result"
    }
   ],
   "source": [
    "tor, sigma"
   ]
  },
  {
   "cell_type": "code",
   "execution_count": 27,
   "id": "29205f9c-9412-4301-8851-800deda8fff2",
   "metadata": {},
   "outputs": [],
   "source": [
    "from sympy import *\n",
    "\n",
    "h = 3 # in\n",
    "a = 38 # in\n",
    "P = 4 # kips\n",
    "s1 = 415 # psi\n",
    "s2 = 211 # psi"
   ]
  },
  {
   "cell_type": "code",
   "execution_count": 31,
   "id": "f3c7667d-e5b2-42bc-8962-8a2d05c35bec",
   "metadata": {},
   "outputs": [
    {
     "name": "stdout",
     "output_type": "stream",
     "text": [
      "[13.5653726015172]\n",
      "[1.40424784974548]\n"
     ]
    }
   ],
   "source": [
    "V = P * 1000 / 2\n",
    "b = symbols(\"b\")\n",
    "Q1 = b * h * 1.5 * 3 / 4 * h\n",
    "Q2 = b * h * h\n",
    "I = 1 / 12 * b * (3 * h) ** 3\n",
    "T = b\n",
    "tor1 = a * V / I * h * 1.5\n",
    "tor2 = V * Q2 / I / T\n",
    "eq1 = Eq(tor1, s1)\n",
    "eq2 = Eq(tor2, s2)\n",
    "sol = solve(eq1,b)\n",
    "print(sol)\n",
    "sol = solve(eq2,b)\n",
    "print(sol)"
   ]
  },
  {
   "cell_type": "code",
   "execution_count": 9,
   "id": "f0fd4d24-e22e-4d0a-b3d7-dd0fd5ccf45c",
   "metadata": {},
   "outputs": [
    {
     "data": {
      "text/plain": [
       "(130.0/b, 2222.22222222222/b)"
      ]
     },
     "execution_count": 9,
     "metadata": {},
     "output_type": "execute_result"
    }
   ],
   "source": [
    "tor1,tor2"
   ]
  },
  {
   "cell_type": "code",
   "execution_count": 47,
   "id": "9cc02115-98f6-41e2-98a1-e374cf1318f8",
   "metadata": {},
   "outputs": [],
   "source": [
    "from sympy import *\n",
    "\n",
    "b = 33 # mm\n",
    "V = 6 # kN"
   ]
  },
  {
   "cell_type": "code",
   "execution_count": 49,
   "id": "54654c6f-3b23-4872-8b6d-1b1782729e22",
   "metadata": {},
   "outputs": [],
   "source": [
    "b = b * 10 ** -3\n",
    "V = V * 1000"
   ]
  },
  {
   "cell_type": "code",
   "execution_count": 53,
   "id": "9a7051d0-963d-4190-812c-92b0c4f8ceee",
   "metadata": {},
   "outputs": [
    {
     "name": "stdout",
     "output_type": "stream",
     "text": [
      "1.6904583020285495\n"
     ]
    }
   ],
   "source": [
    "w1 = 3 * b\n",
    "h1 = 4 * b\n",
    "w2 = 2 * b\n",
    "h2 = 2 * b\n",
    "I1 = 1 / 12 * w1 * h1 ** 3\n",
    "I2 = 1 / 12 * w2 * h2 ** 3\n",
    "I = I1 - I2\n",
    "Q = 1.5 * b * b * b * 3\n",
    "T = b\n",
    "tor = V * Q / I / T\n",
    "print(tor / 10 ** 6)"
   ]
  },
  {
   "cell_type": "code",
   "execution_count": 55,
   "id": "73a9d171-c4c5-42da-b1ab-a7107d38f1fc",
   "metadata": {},
   "outputs": [],
   "source": [
    "from sympy import *\n",
    "\n",
    "h = 160 # mm\n",
    "t = 50 # mm\n",
    "d = 18 # mm\n",
    "taub = 2 # MPa\n",
    "V = 3 # kN"
   ]
  },
  {
   "cell_type": "code",
   "execution_count": 57,
   "id": "f2d02046-6520-45b1-a26a-c9bf930f48bf",
   "metadata": {},
   "outputs": [],
   "source": [
    "h = h / 1000\n",
    "t = t / 1000\n",
    "d = d / 1000\n",
    "taub = taub * 10 ** 6\n",
    "V = V * 1000"
   ]
  },
  {
   "cell_type": "code",
   "execution_count": 59,
   "id": "a0018303-02c7-489d-98bc-b590427ff322",
   "metadata": {},
   "outputs": [
    {
     "name": "stdout",
     "output_type": "stream",
     "text": [
      "[0.0678584013175395]\n"
     ]
    }
   ],
   "source": [
    "l = symbols(\"l\")\n",
    "w1 = t\n",
    "h1 = h\n",
    "ybar = 2 / 3 * h / 2 + 1 / 3 * h\n",
    "dis1 = ybar - h / 2\n",
    "dis2 = ybar - h\n",
    "I1 = 2 * 1 / 12 * w1 * h1 ** 3\n",
    "I2 = 1 / 12 * w1 * h1 ** 3\n",
    "I = I1 + 2 * w1 * h1 * dis1 ** 2 + I2 + w1 * h1 * dis2 ** 2\n",
    "Q = w1 * h1 * abs(dis1)\n",
    "T = h / 2\n",
    "tor1 = V * Q / I / T\n",
    "F = tor1 * l * T\n",
    "S = d ** 2 / 4 * pi\n",
    "torq = F / S\n",
    "eq = Eq(torq,taub)\n",
    "l = solve(eq,l)\n",
    "print(l)"
   ]
  },
  {
   "cell_type": "code",
   "execution_count": 89,
   "id": "899a4ab5-cca1-4d62-9c29-59936ff77476",
   "metadata": {},
   "outputs": [],
   "source": [
    "from sympy import *\n",
    "\n",
    "b = 202 # mm\n",
    "t = 38 # mm\n",
    "d = 14 # mm\n",
    "deltaS = 87 # mm\n",
    "Vy = 3 # kN"
   ]
  },
  {
   "cell_type": "code",
   "execution_count": 91,
   "id": "9e4d9819-fd9c-433d-a8a6-ee47fbbd8015",
   "metadata": {},
   "outputs": [],
   "source": [
    "b = b / 1000\n",
    "t = t / 1000\n",
    "d = d / 1000\n",
    "deltaS = deltaS / 1000\n",
    "Vy = Vy * 1000"
   ]
  },
  {
   "cell_type": "code",
   "execution_count": 93,
   "id": "88edf180-7625-43b0-81a6-0438ad0d7b65",
   "metadata": {},
   "outputs": [
    {
     "name": "stdout",
     "output_type": "stream",
     "text": [
      "2.83832189584527\n"
     ]
    }
   ],
   "source": [
    "w1 = b\n",
    "h1 = b + 2 * t\n",
    "w2 = b - 2 * t\n",
    "h2 = b\n",
    "I1 = 1 / 12 * w1 * h1 ** 3\n",
    "I2 = 1 / 12 * w2 * h2 ** 3\n",
    "I = I1 - I2\n",
    "Q = b * t * (b / 2 + t / 2)\n",
    "q = Vy * Q / I / 2\n",
    "F = q * deltaS\n",
    "S = d ** 2 / 4 * pi\n",
    "tor = F / S / 10 ** 6\n",
    "print(tor.evalf())"
   ]
  },
  {
   "cell_type": "markdown",
   "id": "2e8b28d8-1428-42f3-87ad-45033b63a1d3",
   "metadata": {},
   "source": [
    "## HW8"
   ]
  },
  {
   "cell_type": "code",
   "execution_count": 96,
   "id": "4e7086e7-2250-46cb-ae22-7dd332219d50",
   "metadata": {},
   "outputs": [],
   "source": [
    "from sympy import *\n",
    "\n",
    "a = 363 # mm\n",
    "b = 236 # mm\n",
    "c = 255 # mm\n",
    "do = 99 # mm\n",
    "di = 92 # mm\n",
    "p = 587 # kPa\n",
    "Py = 469 # N\n",
    "Pz = 429 # N"
   ]
  },
  {
   "cell_type": "code",
   "execution_count": 98,
   "id": "ee3945eb-17b8-420b-a035-0a1fb9c39a6c",
   "metadata": {},
   "outputs": [],
   "source": [
    "a = a / 1000\n",
    "b = b / 1000\n",
    "c = c / 1000"
   ]
  },
  {
   "cell_type": "code",
   "execution_count": 100,
   "id": "de1bca4c-efdb-4d45-a14b-8a7bbaa8c42d",
   "metadata": {},
   "outputs": [],
   "source": [
    "Fy = Matrix([0, -Py, 0])\n",
    "Fz = Matrix([0, 0, Pz])\n",
    "F = Fy + Fz\n",
    "r = Matrix([a, -b, -c])\n",
    "M = r.cross(F)"
   ]
  },
  {
   "cell_type": "code",
   "execution_count": 102,
   "id": "162bfe4e-0cd0-4cd7-a2c5-a18b3aa16ff1",
   "metadata": {},
   "outputs": [
    {
     "data": {
      "text/plain": [
       "(Matrix([\n",
       " [   0],\n",
       " [-400],\n",
       " [ 349]]),\n",
       " Matrix([\n",
       " [-192.058],\n",
       " [-118.311],\n",
       " [  -135.6]]))"
      ]
     },
     "execution_count": 102,
     "metadata": {},
     "output_type": "execute_result"
    }
   ],
   "source": [
    "F,M"
   ]
  },
  {
   "cell_type": "code",
   "execution_count": 104,
   "id": "10473f17-1a4e-43af-988f-34c2a921d356",
   "metadata": {},
   "outputs": [],
   "source": [
    "from sympy import *\n",
    "\n",
    "a = 363 # mm\n",
    "b = 236 # mm\n",
    "c = 255 # mm\n",
    "do = 99 # mm\n",
    "di = 92 # mm\n",
    "p = 587 # kPa\n",
    "Py = 469 # N\n",
    "Pz = 429 # N"
   ]
  },
  {
   "cell_type": "code",
   "execution_count": 106,
   "id": "54e8fe0c-bfd4-48c2-b7c4-a99268dae97f",
   "metadata": {},
   "outputs": [],
   "source": [
    "a = a / 1000\n",
    "b = b / 1000\n",
    "c = c / 1000\n",
    "do = do / 1000\n",
    "di = di / 1000\n",
    "p = p * 1000"
   ]
  },
  {
   "cell_type": "code",
   "execution_count": null,
   "id": "1f30740a-486d-4240-b1f8-a7c089fa6ae2",
   "metadata": {},
   "outputs": [],
   "source": []
  }
 ],
 "metadata": {
  "kernelspec": {
   "display_name": "Python [conda env:base] *",
   "language": "python",
   "name": "conda-base-py"
  },
  "language_info": {
   "codemirror_mode": {
    "name": "ipython",
    "version": 3
   },
   "file_extension": ".py",
   "mimetype": "text/x-python",
   "name": "python",
   "nbconvert_exporter": "python",
   "pygments_lexer": "ipython3",
   "version": "3.12.7"
  }
 },
 "nbformat": 4,
 "nbformat_minor": 5
}
