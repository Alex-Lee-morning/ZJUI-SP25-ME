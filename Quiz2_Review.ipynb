{
 "cells": [
  {
   "cell_type": "code",
   "execution_count": 2,
   "id": "6d09e9e1-b8d5-4192-be13-97f36003de91",
   "metadata": {},
   "outputs": [],
   "source": [
    "import numpy as np\n",
    "from sympy import *\n",
    "\n",
    "t = symbols('t', real = True)\n",
    "\n",
    "r = Matrix([-exp(2*t), 3*exp(t), -3*t**2 + 2*t + 2])\n",
    "t_v = 2"
   ]
  },
  {
   "cell_type": "code",
   "execution_count": 3,
   "id": "55c5350c-b286-4b34-b8f4-a300c8649ba3",
   "metadata": {},
   "outputs": [
    {
     "name": "stdout",
     "output_type": "stream",
     "text": [
      "111.871423064450\n"
     ]
    }
   ],
   "source": [
    "v = diff(r,t).subs(t,t_v)\n",
    "v = v.norm().evalf()\n",
    "print(v)"
   ]
  },
  {
   "cell_type": "code",
   "execution_count": 4,
   "id": "95ce672b-57ae-46ec-98aa-e571a5375901",
   "metadata": {},
   "outputs": [],
   "source": [
    "t = symbols('t', real = True)\n",
    "\n",
    "v = Matrix([3*t**2 + 2, 3*t**2 + 3, 0])\n",
    "t_v = 3"
   ]
  },
  {
   "cell_type": "code",
   "execution_count": 5,
   "id": "254d366e-fc91-4eb0-ac6a-f3827e391187",
   "metadata": {},
   "outputs": [
    {
     "name": "stdout",
     "output_type": "stream",
     "text": [
      "48.8364617882991\n"
     ]
    }
   ],
   "source": [
    "r = integrate(v, (t, 0, t_v))\n",
    "print(r.norm().evalf())"
   ]
  },
  {
   "cell_type": "code",
   "execution_count": 6,
   "id": "ba8f9606-2f68-4af3-86ae-fff9f7059f62",
   "metadata": {},
   "outputs": [],
   "source": [
    "import numpy as np\n",
    "from sympy import *\n",
    "\n",
    "theta = symbols('theta')\n",
    "\n",
    "r = 3 - 2*sin(3*theta + 1)\n",
    "theta_v = -4 # in radians\n",
    "omegaz = -1\n",
    "alphaz = -3"
   ]
  },
  {
   "cell_type": "code",
   "execution_count": 7,
   "id": "c1577563-a079-4636-8f8f-8afb9bc7e6dd",
   "metadata": {},
   "outputs": [
    {
     "name": "stdout",
     "output_type": "stream",
     "text": [
      "0.0265541879283047 17.9201611541277\n"
     ]
    }
   ],
   "source": [
    "v = diff(r) * omegaz\n",
    "a = diff(v) * omegaz + v * alphaz\n",
    "v = v.subs(theta, theta_v)\n",
    "a = a.subs(theta, theta_v)\n",
    "print(v.evalf(),a.evalf())"
   ]
  },
  {
   "cell_type": "code",
   "execution_count": 8,
   "id": "22470ece-c881-44ed-b76a-7e765a00f88c",
   "metadata": {},
   "outputs": [],
   "source": [
    "import numpy as np\n",
    "from sympy import *\n",
    "\n",
    "theta = symbols('theta')\n",
    "\n",
    "r = 2*cos(4*theta - 2) + 4\n",
    "theta_v = 3 # in radians\n",
    "omegaz = 4"
   ]
  },
  {
   "cell_type": "code",
   "execution_count": 9,
   "id": "da119393-a1b0-40b4-9133-cf7fcb81e319",
   "metadata": {},
   "outputs": [
    {
     "name": "stdout",
     "output_type": "stream",
     "text": [
      "Matrix([[-18.5451000501162], [-6.73777136872286]])\n"
     ]
    }
   ],
   "source": [
    "v = diff(r) * omegaz\n",
    "er = Matrix([cos(theta),sin(theta)])\n",
    "etheta = Matrix([cos(theta + pi/2), sin(theta + pi/2)])\n",
    "vr = v * er\n",
    "vtheta = omegaz * r\n",
    "vtheta = vtheta * etheta\n",
    "v =  vtheta + vr\n",
    "print(v.subs(theta,theta_v).evalf())"
   ]
  },
  {
   "cell_type": "code",
   "execution_count": 10,
   "id": "c58e17d7-6554-436b-a018-d09b57037732",
   "metadata": {},
   "outputs": [],
   "source": [
    "from sympy import *\n",
    "\n",
    "a = Matrix([0, 1, 0])\n",
    "aDot = Matrix([-5,  4,  0])"
   ]
  },
  {
   "cell_type": "code",
   "execution_count": 11,
   "id": "061cd005-76b0-4048-98af-6ad415edc637",
   "metadata": {},
   "outputs": [
    {
     "name": "stdout",
     "output_type": "stream",
     "text": [
      "Matrix([[-5.00000000000000], [0], [0]])\n"
     ]
    }
   ],
   "source": [
    "r = a / a.norm()\n",
    "vr = aDot.dot(r) * r\n",
    "vtheta = aDot - vr\n",
    "theta = vtheta / a.norm()\n",
    "print(theta.evalf())"
   ]
  },
  {
   "cell_type": "code",
   "execution_count": 12,
   "id": "37334dbf-80b4-4d9e-9a26-99eb0cea4c53",
   "metadata": {},
   "outputs": [],
   "source": [
    "import numpy as np\n",
    "from sympy import *\n",
    "\n",
    "theta = symbols('theta')\n",
    "\n",
    "r = 4 - 2*cos(5*theta + 3)\n",
    "theta_v = 4 # in radians\n",
    "omegaz = 2\n",
    "alphaz = 2"
   ]
  },
  {
   "cell_type": "code",
   "execution_count": 13,
   "id": "c2f99ace-3af6-4670-92f4-84a21b3107bd",
   "metadata": {},
   "outputs": [
    {
     "name": "stdout",
     "output_type": "stream",
     "text": [
      "Matrix([[50.3973538207133], [146.420985880137]])\n"
     ]
    }
   ],
   "source": [
    "er = Matrix([cos(theta),sin(theta)])\n",
    "etheta = Matrix([cos(theta + pi/2), sin(theta + pi/2)])\n",
    "vr = diff(r) * omegaz * er\n",
    "ar = diff(diff(r)) * omegaz ** 2 * er + alphaz * diff(r) * er + diff(r) * omegaz ** 2 * etheta\n",
    "vtheta = r * omegaz * etheta\n",
    "atheta = diff(r) * omegaz ** 2  * etheta + vtheta * alphaz / omegaz - er * omegaz * r * omegaz\n",
    "a = atheta + ar\n",
    "print(a.subs(theta,theta_v).evalf())"
   ]
  },
  {
   "cell_type": "code",
   "execution_count": 14,
   "id": "bd7b705e-8145-43e4-bba6-b129419b4c44",
   "metadata": {},
   "outputs": [
    {
     "name": "stdout",
     "output_type": "stream",
     "text": [
      "Matrix([[39.3348224400387], [133.612551610932]])\n"
     ]
    }
   ],
   "source": [
    "ar= diff(diff(r) * omegaz) * omegaz - r * omegaz ** 2\n",
    "ar = ar * er\n",
    "atheta = r * alphaz + 2 * diff(r) * omegaz * omegaz\n",
    "atheta = atheta * etheta\n",
    "a = ar + atheta\n",
    "print(a.subs(theta,theta_v).evalf())"
   ]
  },
  {
   "cell_type": "code",
   "execution_count": 32,
   "id": "dfc9e387-7125-4d2a-bc0b-0a2fad52e10e",
   "metadata": {},
   "outputs": [],
   "source": [
    "from sympy import *\n",
    "\n",
    "x = -2\n",
    "y = -1\n",
    "z = 0\n",
    "omega = Matrix([-1,  2,  0])"
   ]
  },
  {
   "cell_type": "code",
   "execution_count": 36,
   "id": "34839b40-d6db-4906-88ab-ae114456977d",
   "metadata": {},
   "outputs": [
    {
     "name": "stdout",
     "output_type": "stream",
     "text": [
      "Matrix([[0], [0], [5]])\n"
     ]
    }
   ],
   "source": [
    "r = Matrix([x,y,z])\n",
    "v = omega.cross(r)\n",
    "print(v)"
   ]
  },
  {
   "cell_type": "code",
   "execution_count": 38,
   "id": "685bbb83-c7bd-4a38-914b-435ca1a0324d",
   "metadata": {},
   "outputs": [],
   "source": [
    "from sympy import *\n",
    "\n",
    "r = Matrix([-1,  0,  0])\n",
    "omegaz = 1"
   ]
  },
  {
   "cell_type": "code",
   "execution_count": 40,
   "id": "3fec3dc0-137b-497b-9903-d09ef65c3d52",
   "metadata": {},
   "outputs": [
    {
     "name": "stdout",
     "output_type": "stream",
     "text": [
      "Matrix([[0], [-1], [0]])\n"
     ]
    }
   ],
   "source": [
    "omega = Matrix([0,0,omegaz])\n",
    "v = omega.cross(r)\n",
    "print(v)"
   ]
  },
  {
   "cell_type": "code",
   "execution_count": 42,
   "id": "c1532f5b-b73e-44ec-a5c0-95aef7cdb31f",
   "metadata": {},
   "outputs": [],
   "source": [
    "from sympy import *\n",
    "import numpy as np\n",
    "\n",
    "x = symbols('x')\n",
    "y = 2*cos(0.5*x)\n",
    "vx = 20\n",
    "x_v = 3*np.pi"
   ]
  },
  {
   "cell_type": "code",
   "execution_count": 44,
   "id": "ecf81855-b79d-4dcb-bb6f-1d00dbac29a0",
   "metadata": {},
   "outputs": [
    {
     "name": "stdout",
     "output_type": "stream",
     "text": [
      "20.0000000000000\n"
     ]
    }
   ],
   "source": [
    "vy = diff(y).subs(x,x_v) * vx\n",
    "print(vy.evalf())"
   ]
  },
  {
   "cell_type": "code",
   "execution_count": 46,
   "id": "d518dd6a-064b-4fb2-b06c-9ec2952e4727",
   "metadata": {},
   "outputs": [],
   "source": [
    "from sympy import *\n",
    "\n",
    "v = Matrix([-2,  3,  0])\n",
    "omegaz = -4"
   ]
  },
  {
   "cell_type": "code",
   "execution_count": 62,
   "id": "2cdd3db8-a21f-4b37-a12d-c4c56dc2d704",
   "metadata": {},
   "outputs": [
    {
     "name": "stdout",
     "output_type": "stream",
     "text": [
      "{x: -3/4, y: -1/2}\n"
     ]
    }
   ],
   "source": [
    "x,y,z = symbols(\"x,y,z\")\n",
    "r = Matrix([x,y,z])\n",
    "omega = Matrix([0, 0, omegaz])\n",
    "eq = Eq(omega.cross(r),v)\n",
    "sol = solve(eq,r)\n",
    "print(sol)"
   ]
  },
  {
   "cell_type": "code",
   "execution_count": 64,
   "id": "572d887d-d14e-4264-b89a-ccbca311ebdc",
   "metadata": {},
   "outputs": [],
   "source": [
    "import numpy as np\n",
    "from sympy import *\n",
    "\n",
    "x = symbols('x')\n",
    "y = -2*sin(x)\n",
    "vxMag = 4"
   ]
  },
  {
   "cell_type": "code",
   "execution_count": 66,
   "id": "90418051-a0d0-42e7-9da7-845b96d58acc",
   "metadata": {},
   "outputs": [
    {
     "name": "stdout",
     "output_type": "stream",
     "text": [
      "-32.0000000000000\n"
     ]
    }
   ],
   "source": [
    "x_mag = pi / 2 * 3\n",
    "vy = diff(y) * vxMag\n",
    "ay = diff(vy) * vxMag\n",
    "ay = ay.subs(x,x_mag)\n",
    "print(ay.evalf())"
   ]
  },
  {
   "cell_type": "code",
   "execution_count": 104,
   "id": "90356a8d-9967-4e37-8a3d-d02a136af2c1",
   "metadata": {},
   "outputs": [],
   "source": [
    "from sympy import *\n",
    "\n",
    "x = -4\n",
    "y = 1\n",
    "z = -3\n",
    "vMag = 7\n",
    "u = Matrix([-1, -1,  3])"
   ]
  },
  {
   "cell_type": "code",
   "execution_count": 112,
   "id": "a8d74f4c-f770-4746-a09f-d0eec6fc4f67",
   "metadata": {},
   "outputs": [
    {
     "name": "stdout",
     "output_type": "stream",
     "text": [
      "[]\n"
     ]
    }
   ],
   "source": [
    "omegaz = symbols(\"x\",type=\"real\")\n",
    "ew = u / u.norm()\n",
    "Omega = omegaz * ew\n",
    "r = Matrix([x,y,z])\n",
    "v = Omega.cross(r)\n",
    "eq = Eq(v.norm(),vMag)\n",
    "sol = solve(eq,x)\n",
    "print(sol)"
   ]
  },
  {
   "cell_type": "code",
   "execution_count": 110,
   "id": "59d92ef8-409c-4945-a817-d0d411308fc3",
   "metadata": {},
   "outputs": [
    {
     "data": {
      "text/latex": [
       "$\\displaystyle \\frac{5 \\sqrt{110} \\left|{x}\\right|}{11}$"
      ],
      "text/plain": [
       "5*sqrt(110)*Abs(x)/11"
      ]
     },
     "execution_count": 110,
     "metadata": {},
     "output_type": "execute_result"
    }
   ],
   "source": [
    "v.norm()"
   ]
  },
  {
   "cell_type": "code",
   "execution_count": 132,
   "id": "ebc767b6-03b5-4d05-96b9-e2b1a55781c3",
   "metadata": {},
   "outputs": [],
   "source": [
    "from sympy import *\n",
    "\n",
    "x = -2\n",
    "y = -5\n",
    "z = 0\n",
    "vMag = 3\n",
    "u = Matrix([2, 1, 1])"
   ]
  },
  {
   "cell_type": "code",
   "execution_count": 134,
   "id": "3ad3c4a0-de1b-4174-a553-4fe4e690bea8",
   "metadata": {},
   "outputs": [
    {
     "name": "stdout",
     "output_type": "stream",
     "text": [
      "-0.762000762001143\n"
     ]
    }
   ],
   "source": [
    "omega = symbols(\"omega\", real = True)\n",
    "ew = u / u.norm()\n",
    "w = ew * omega\n",
    "r = Matrix([x,y,z])\n",
    "v = w.cross(r)\n",
    "v = v.norm()\n",
    "eq = Eq(v,vMag)\n",
    "omega = solve(eq,omega)[0]\n",
    "print(omega.evalf())"
   ]
  },
  {
   "cell_type": "code",
   "execution_count": 234,
   "id": "45b10f38-5308-4e67-9c45-fd0d37662a89",
   "metadata": {},
   "outputs": [
    {
     "name": "stdout",
     "output_type": "stream",
     "text": [
      "-0.876058050598193\n",
      "Matrix([[6.80565132464254], [-18.4023668277181]])\n"
     ]
    }
   ],
   "source": [
    "p0 = Matrix([10,-12])\n",
    "r0 = p0.norm()\n",
    "t = symbols(\"t\")\n",
    "t_v = 2\n",
    "theta0 = atan2(p0[1],p0[0])\n",
    "print(theta0.evalf())\n",
    "def r(t):\n",
    "    return 2\n",
    "def w(r,t):\n",
    "    return -3 / r\n",
    "R = r0 + integrate(r(t),(t,0,t_v))\n",
    "theta = integrate(w(r(t) + r0, t),(t,0,t_v)) + theta0\n",
    "er = Matrix([cos(theta),sin(theta)])\n",
    "R1 = R * er\n",
    "print(R1.evalf())"
   ]
  },
  {
   "cell_type": "code",
   "execution_count": 236,
   "id": "c1c384e1-a4d4-455b-a2b5-1af193f713f9",
   "metadata": {},
   "outputs": [
    {
     "name": "stdout",
     "output_type": "stream",
     "text": [
      "-2.15879893034246\n",
      "Matrix([[-2.34476405283510], [2.73899279599862]])\n"
     ]
    }
   ],
   "source": [
    "p0 = Matrix([-2,-3])\n",
    "r0 = p0.norm()\n",
    "t = symbols(\"t\")\n",
    "t_v = 2\n",
    "theta0 = atan2(p0[1],p0[0])\n",
    "print(theta0.evalf())\n",
    "def r(t):\n",
    "    return 0\n",
    "def w(t,r):\n",
    "    return (3 * t ** 2 + 2 * t + 2) / r\n",
    "theta = integrate(w(t, r0),(t,0,t_v)) + theta0\n",
    "er = Matrix([cos(theta),sin(theta)])\n",
    "R1 = r0 * er\n",
    "print(R1.evalf())"
   ]
  },
  {
   "cell_type": "code",
   "execution_count": 242,
   "id": "a98e94ea-2553-4701-816f-5693df6c38f0",
   "metadata": {},
   "outputs": [
    {
     "name": "stdout",
     "output_type": "stream",
     "text": [
      "0.523598775598299\n"
     ]
    }
   ],
   "source": [
    "print((pi/6).evalf())"
   ]
  },
  {
   "cell_type": "code",
   "execution_count": 246,
   "id": "19e95de8-0a4e-4311-affe-7d63a6f599ca",
   "metadata": {},
   "outputs": [
    {
     "name": "stdout",
     "output_type": "stream",
     "text": [
      "5.51360499061586\n"
     ]
    }
   ],
   "source": [
    "print((4 - 2*sin(4)).evalf())"
   ]
  },
  {
   "cell_type": "code",
   "execution_count": 254,
   "id": "b251ebb0-9821-424d-8d8f-ccdec15f625b",
   "metadata": {},
   "outputs": [
    {
     "data": {
      "text/latex": [
       "$\\displaystyle \\left[\\begin{matrix}- \\frac{12 \\sqrt{17}}{289}\\\\\\frac{48 \\sqrt{17}}{289}\\end{matrix}\\right]$"
      ],
      "text/plain": [
       "Matrix([\n",
       "[-12*sqrt(17)/289],\n",
       "[ 48*sqrt(17)/289]])"
      ]
     },
     "execution_count": 254,
     "metadata": {},
     "output_type": "execute_result"
    }
   ],
   "source": [
    "from sympy import *\n",
    "t=symbols('t',real = true)\n",
    "a=Matrix([4+4*t,1+4*t])\n",
    "a1=a/a.norm()\n",
    "r=a1\n",
    "m=diff(r,t).subs(t,0)\n",
    "m"
   ]
  },
  {
   "cell_type": "code",
   "execution_count": 250,
   "id": "1331a454-bb9b-4a9c-85af-9c73dae67cca",
   "metadata": {},
   "outputs": [
    {
     "data": {
      "text/latex": [
       "$\\displaystyle \\left[\\begin{matrix}\\frac{4 t + 4}{\\sqrt{\\left|{4 t + 1}\\right|^{2} + \\left|{4 t + 4}\\right|^{2}}}\\\\\\frac{4 t + 1}{\\sqrt{\\left|{4 t + 1}\\right|^{2} + \\left|{4 t + 4}\\right|^{2}}}\\end{matrix}\\right]$"
      ],
      "text/plain": [
       "Matrix([\n",
       "[(4*t + 4)/sqrt(Abs(4*t + 1)**2 + Abs(4*t + 4)**2)],\n",
       "[(4*t + 1)/sqrt(Abs(4*t + 1)**2 + Abs(4*t + 4)**2)]])"
      ]
     },
     "execution_count": 250,
     "metadata": {},
     "output_type": "execute_result"
    }
   ],
   "source": []
  },
  {
   "cell_type": "code",
   "execution_count": null,
   "id": "075354a3-0a2b-40a1-9914-1f184bce6fa9",
   "metadata": {},
   "outputs": [],
   "source": []
  }
 ],
 "metadata": {
  "kernelspec": {
   "display_name": "Python [conda env:base] *",
   "language": "python",
   "name": "conda-base-py"
  },
  "language_info": {
   "codemirror_mode": {
    "name": "ipython",
    "version": 3
   },
   "file_extension": ".py",
   "mimetype": "text/x-python",
   "name": "python",
   "nbconvert_exporter": "python",
   "pygments_lexer": "ipython3",
   "version": "3.12.7"
  }
 },
 "nbformat": 4,
 "nbformat_minor": 5
}
