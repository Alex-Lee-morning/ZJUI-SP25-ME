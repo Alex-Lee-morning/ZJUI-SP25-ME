{
 "cells": [
  {
   "cell_type": "code",
   "execution_count": 2,
   "id": "e2d04a08-160a-4210-b389-74a81cf7ee27",
   "metadata": {},
   "outputs": [],
   "source": [
    "import numpy as np\n",
    "import math as m\n",
    "import sympy as sp"
   ]
  },
  {
   "cell_type": "code",
   "execution_count": 8,
   "id": "34a1f02b-d165-4b39-80be-2aebc94d3161",
   "metadata": {},
   "outputs": [],
   "source": [
    "a = 0.6\n",
    "b = 1.6\n",
    "c = 0.6\n",
    "F1 = 3\n",
    "F2 = 7\n",
    "F3 = 7\n",
    "F4 = 3"
   ]
  },
  {
   "cell_type": "code",
   "execution_count": 10,
   "id": "fdc4c0c2-df41-43f0-92b9-287c9de02eaf",
   "metadata": {},
   "outputs": [
    {
     "name": "stdout",
     "output_type": "stream",
     "text": [
      "10.61032953945969 1.9894367886486917 10.61032953945969\n"
     ]
    }
   ],
   "source": [
    "sigma_a = F1 / (a ** 2 * m.pi / 4)\n",
    "sigma_b = (F2 - F1) / (b ** 2 * m.pi / 4)\n",
    "sigma_c = F4 / (c ** 2 / 4 * m.pi)\n",
    "print(sigma_a,sigma_b,sigma_c)"
   ]
  },
  {
   "cell_type": "code",
   "execution_count": 16,
   "id": "04d9c87a-f74f-45e9-8c19-ff802d2b11e6",
   "metadata": {},
   "outputs": [
    {
     "name": "stdout",
     "output_type": "stream",
     "text": [
      "560.000000000000 2.40000000000000\n"
     ]
    }
   ],
   "source": [
    "x = sp.symbols(\"x\")\n",
    "def p(x):\n",
    "    return 15 * x ** 0.5 * 7\n",
    "def M(x):\n",
    "    return p(x) * x\n",
    "F = sp.integrate(p(x),(x,0,4))\n",
    "M = sp.integrate(M(x),(x,0,4))\n",
    "d = M / F\n",
    "print(F,d)"
   ]
  },
  {
   "cell_type": "code",
   "execution_count": 32,
   "id": "19250f8d-0990-4fd5-8b7f-ff460467d71c",
   "metadata": {},
   "outputs": [
    {
     "name": "stdout",
     "output_type": "stream",
     "text": [
      "37.03703703703704 34.93112605583437\n"
     ]
    }
   ],
   "source": [
    "d = 27 * 0.001\n",
    "t = 20 * 0.001\n",
    "F = 20 * 1000\n",
    "s1 = d * t\n",
    "s2 = d ** 2 / 4 * m.pi\n",
    "sigma = F / s1 / 1000000\n",
    "tor = F / s2 / 1000000\n",
    "print(sigma,tor)"
   ]
  },
  {
   "cell_type": "code",
   "execution_count": 38,
   "id": "41b4bff9-798b-47b7-ad00-bf0020fda10f",
   "metadata": {},
   "outputs": [
    {
     "name": "stdout",
     "output_type": "stream",
     "text": [
      "2.46 5.819999999999999\n"
     ]
    }
   ],
   "source": [
    "sigma_y = 50\n",
    "FS = 1.5\n",
    "th = 0.5\n",
    "Fs = sigma_y / FS\n",
    "a = 41\n",
    "b = 28\n",
    "s1 = a / Fs\n",
    "h1 = s1 / th\n",
    "s2 = (a + 2 * b) / Fs\n",
    "h2 = s2 / th\n",
    "print(h1,h2)"
   ]
  },
  {
   "cell_type": "code",
   "execution_count": 46,
   "id": "8e79d322-c5e1-4549-b80e-3944c553fd2d",
   "metadata": {},
   "outputs": [
    {
     "name": "stdout",
     "output_type": "stream",
     "text": [
      "244.44444444444443 101.85185185185183\n"
     ]
    }
   ],
   "source": [
    "a = 8 * 0.001\n",
    "b = 18 * 0.001\n",
    "c = 5 * 0.001\n",
    "l = 12 * 0.001\n",
    "F = 22 * 1000\n",
    "sigma = F / (c * b) / 1000000\n",
    "tor = F / (b * l) / 1000000\n",
    "print(sigma,tor)"
   ]
  },
  {
   "cell_type": "code",
   "execution_count": 52,
   "id": "1394c47e-fea8-4c7a-8847-9960d2556ab5",
   "metadata": {},
   "outputs": [
    {
     "name": "stdout",
     "output_type": "stream",
     "text": [
      "14.32246618997187\n"
     ]
    }
   ],
   "source": [
    "tor_f = 360 * 1000000\n",
    "FS = 2.9\n",
    "l = 30\n",
    "F = 40 * 1000\n",
    "Fs = tor_f / FS\n",
    "s = F / Fs / 2\n",
    "D = (s * 4 / m.pi)**0.5 * 1000\n",
    "print(D)"
   ]
  },
  {
   "cell_type": "code",
   "execution_count": 54,
   "id": "b40c226b-d0b9-481a-ae10-6352abf51d1c",
   "metadata": {},
   "outputs": [
    {
     "data": {
      "text/plain": [
       "194.5"
      ]
     },
     "execution_count": 54,
     "metadata": {},
     "output_type": "execute_result"
    }
   ],
   "source": [
    "778 / 4"
   ]
  },
  {
   "cell_type": "code",
   "execution_count": 60,
   "id": "420eac23-7751-412b-be92-162f55d3b46d",
   "metadata": {},
   "outputs": [
    {
     "name": "stdout",
     "output_type": "stream",
     "text": [
      "[-24.78376916  70.91228571   0.        ]\n",
      "[ 0.       0.      -2.48193]\n"
     ]
    }
   ],
   "source": [
    "import math as m\n",
    "M = 2.2\n",
    "g = 9.81\n",
    "G = M * g\n",
    "BA = 230 * 0.001\n",
    "BE = 35 * 0.001\n",
    "CE = 35 * 0.001\n",
    "r1 = np.array([CE + BE + BA, 0, 0])\n",
    "F1 = np.array([0, -G, 0])\n",
    "r2 = np.array([CE + BE,0 ,0])\n",
    "F2 = np.array([-m.cos(75 / 180 * m.pi), m.sin(75 / 180 * m.pi), 0])\n",
    "M1 = np.cross(r1,F1)\n",
    "M2 = np.cross(r2,F2)\n",
    "M2_ = np.linalg.norm(M1) / np.linalg.norm(M2)\n",
    "M2 = M2_ * M2\n",
    "F2 = M2_ * F2\n",
    "F = F1 + F2\n",
    "print(F)\n",
    "r11 = np.array([BE + BA, 0, 0])\n",
    "r22 = np.array([BE,0 ,0])\n",
    "M11 = np.cross(r11,F1)\n",
    "M22 = np.cross(r22,F2)\n",
    "Me = M11 + M22\n",
    "print(Me)"
   ]
  },
  {
   "cell_type": "code",
   "execution_count": 2,
   "id": "764be65e-0c0e-4ec3-9921-461b34ee8b0f",
   "metadata": {},
   "outputs": [
    {
     "data": {
      "text/plain": [
       "0.002385139175999776"
      ]
     },
     "execution_count": 2,
     "metadata": {},
     "output_type": "execute_result"
    }
   ],
   "source": [
    "4 * 10 ** -2 * 2 / 3 * 0.2 ** (3/2)"
   ]
  },
  {
   "cell_type": "code",
   "execution_count": 16,
   "id": "c88d1323-249e-4fef-a7af-046d03c798b3",
   "metadata": {},
   "outputs": [],
   "source": [
    "import math as m"
   ]
  },
  {
   "cell_type": "code",
   "execution_count": 18,
   "id": "f3d4fc75-fa21-432f-8b27-90996a86d889",
   "metadata": {},
   "outputs": [
    {
     "data": {
      "text/plain": [
       "914385.0392476901"
      ]
     },
     "execution_count": 18,
     "metadata": {},
     "output_type": "execute_result"
    }
   ],
   "source": [
    "(1.2 * 10 ** 6 / 2) * (100 ** 2 + 115 ** 2) ** 0.5 / 100"
   ]
  },
  {
   "cell_type": "code",
   "execution_count": 22,
   "id": "e7b2eed5-420c-4db2-83bb-cd25d5b9a5f0",
   "metadata": {},
   "outputs": [
    {
     "data": {
      "text/plain": [
       "6.446873394710523"
      ]
     },
     "execution_count": 22,
     "metadata": {},
     "output_type": "execute_result"
    }
   ],
   "source": [
    "(4 * 9.14 * 10 ** 5 / m.pi / 28 / 1000) ** 0.5"
   ]
  },
  {
   "cell_type": "code",
   "execution_count": 42,
   "id": "73c0a221-56f8-4275-86f6-e9b176b625ac",
   "metadata": {},
   "outputs": [
    {
     "data": {
      "text/plain": [
       "0.0052174"
      ]
     },
     "execution_count": 42,
     "metadata": {},
     "output_type": "execute_result"
    }
   ],
   "source": [
    "0.26087 / (6.5 * 10 ** 3) * 130"
   ]
  },
  {
   "cell_type": "code",
   "execution_count": null,
   "id": "a865827b-bdb1-4578-b696-d7d47c5888a6",
   "metadata": {},
   "outputs": [],
   "source": []
  }
 ],
 "metadata": {
  "kernelspec": {
   "display_name": "Python [conda env:base] *",
   "language": "python",
   "name": "conda-base-py"
  },
  "language_info": {
   "codemirror_mode": {
    "name": "ipython",
    "version": 3
   },
   "file_extension": ".py",
   "mimetype": "text/x-python",
   "name": "python",
   "nbconvert_exporter": "python",
   "pygments_lexer": "ipython3",
   "version": "3.12.7"
  }
 },
 "nbformat": 4,
 "nbformat_minor": 5
}
