{
 "cells": [
  {
   "cell_type": "code",
   "execution_count": 6,
   "id": "575df603-4ae9-45e1-b579-a7a66c28affc",
   "metadata": {},
   "outputs": [],
   "source": [
    "import numpy as np\n",
    "from sympy import *\n",
    "import math as m"
   ]
  },
  {
   "cell_type": "code",
   "execution_count": 8,
   "id": "40d0f2d8-3ecd-4771-93bf-233eb7412880",
   "metadata": {},
   "outputs": [],
   "source": [
    "# given variables\n",
    "\n",
    "# initial time (s)\n",
    "t0 = 0\n",
    "# final time (s)\n",
    "tf = 1.15\n",
    "\n",
    "# mass of the object (kg)\n",
    "m = 0.625\n",
    "# drag parameter (kg / m)\n",
    "c = 0.015\n",
    "# gravitational acceleration (m/s^2)\n",
    "g = -9.81\n",
    "\n",
    "# initial x-position (m)\n",
    "x0 = 0\n",
    "# initial y-position (m)\n",
    "y0 = 2\n",
    "# initial angle (degrees)\n",
    "theta0 = 45\n",
    "\n",
    "# final x-position (target x-position) (m)\n",
    "xf = 7.239\n",
    "# final y-position (target y-position) (m)\n",
    "yf = 3.048"
   ]
  },
  {
   "cell_type": "code",
   "execution_count": 2,
   "id": "3cf1f0d4-8660-4790-ae05-ad0338840194",
   "metadata": {},
   "outputs": [],
   "source": [
    "from sympy import *"
   ]
  },
  {
   "cell_type": "code",
   "execution_count": 6,
   "id": "6d97b7af-800d-42ac-b3c3-5635a19f3df6",
   "metadata": {},
   "outputs": [
    {
     "name": "stdout",
     "output_type": "stream",
     "text": [
      "[(-2.46576802834647, -15.2962794263322), (2.46576802834647, 15.2962794263322)]\n"
     ]
    }
   ],
   "source": [
    "t = symbols(\"t\")\n",
    "v = symbols(\"v\")\n",
    "eq1 = Eq(t * v * cos(70/180 * pi), 12.9)\n",
    "eq2 = Eq(t * v * sin(70/180 * pi) - 1/2 * 9.81 * t ** 2, 5.62)\n",
    "sol = solve((eq1,eq2),(t,v))\n",
    "print(sol)"
   ]
  },
  {
   "cell_type": "code",
   "execution_count": 8,
   "id": "56e0d9d1-8041-401e-b005-9f8dab67c16e",
   "metadata": {},
   "outputs": [],
   "source": [
    "from sympy import *\n",
    "x = symbols(\"x\", real = True)\n",
    "x0 = 6\n",
    "v0 = 20\n",
    "a = x ** 2 + sin(0.8 * x)\n",
    "dt = 1"
   ]
  },
  {
   "cell_type": "code",
   "execution_count": 10,
   "id": "f4123d02-e563-4848-9fad-c04238d21aca",
   "metadata": {},
   "outputs": [
    {
     "name": "stdout",
     "output_type": "stream",
     "text": [
      "1044.59337438836\n"
     ]
    }
   ],
   "source": [
    "a0 = a.subs(x,x0)\n",
    "x1 = x0 + v0 * dt + 0.5 * a0 * dt ** 2\n",
    "a1 = a.subs(x,x1)\n",
    "v1 = v0 + a0 * dt\n",
    "x2 = x1 + v1 * dt + 0.5 * a1 * dt ** 2\n",
    "print(x2)"
   ]
  },
  {
   "cell_type": "code",
   "execution_count": null,
   "id": "2e10706d-3b23-46eb-b143-2dbca17e1e09",
   "metadata": {},
   "outputs": [],
   "source": []
  }
 ],
 "metadata": {
  "kernelspec": {
   "display_name": "Python [conda env:base] *",
   "language": "python",
   "name": "conda-base-py"
  },
  "language_info": {
   "codemirror_mode": {
    "name": "ipython",
    "version": 3
   },
   "file_extension": ".py",
   "mimetype": "text/x-python",
   "name": "python",
   "nbconvert_exporter": "python",
   "pygments_lexer": "ipython3",
   "version": "3.12.7"
  }
 },
 "nbformat": 4,
 "nbformat_minor": 5
}
