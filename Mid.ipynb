{
 "cells": [
  {
   "cell_type": "code",
   "execution_count": 2,
   "id": "8a868773-79d9-4002-b1e5-232ba62741c7",
   "metadata": {},
   "outputs": [],
   "source": [
    "from sympy import *\n",
    "\n",
    "T1 = 700.00 # F\n",
    "P1 = 600.00 # lb/in^2\n",
    "P2 = 0.60 # lb/in^2\n",
    "x = 0.90\n",
    "W_dot = 40400.00 # hp\n",
    "Q_dot = 1480000.00 # Btu/h"
   ]
  },
  {
   "cell_type": "code",
   "execution_count": 3,
   "id": "c17adaf7-38ca-4974-9c54-c3a164471064",
   "metadata": {},
   "outputs": [
    {
     "name": "stdout",
     "output_type": "stream",
     "text": [
      "[292469.816678249]\n"
     ]
    }
   ],
   "source": [
    "hin = 1350.6\n",
    "hout = x * 1098.6 + (1-x) * 53.27\n",
    "mdot = symbols(\"mdot\")\n",
    "deltau = mdot * (hin - hout)\n",
    "Q = Q_dot\n",
    "W = W_dot * 2544.434186874897\n",
    "U = Q + W\n",
    "eq = Eq(deltau, U)\n",
    "sol = solve(eq,mdot)\n",
    "print(sol)"
   ]
  },
  {
   "cell_type": "code",
   "execution_count": 4,
   "id": "de2377a9-0c69-450e-a3f3-3d7e552302af",
   "metadata": {},
   "outputs": [],
   "source": [
    "from sympy import *\n",
    "\n",
    "P1 = 2.40 # bar\n",
    "T1 = 0.00 # C\n",
    "P2 = 12.00 # bar\n",
    "T2 = 50.00 # C\n",
    "m_wdot = 0.04 # kg/s\n",
    "q = 0.33 # hp\n",
    "P_dot = 4.10 # Btu/h"
   ]
  },
  {
   "cell_type": "code",
   "execution_count": 5,
   "id": "42ab3b59-53c1-4b6b-82ab-010b7e116b0e",
   "metadata": {},
   "outputs": [
    {
     "name": "stdout",
     "output_type": "stream",
     "text": [
      "-2.39175414042454\n",
      "-14.308172651498802\n"
     ]
    }
   ],
   "source": [
    "vin = 0.08574\n",
    "vout = 0.01712\n",
    "hin = 248.89\n",
    "hout = 275.52\n",
    "m_in = q / vin / 60\n",
    "m_out = q / vout\n",
    "deltau = -m_in * hin + m_in * hout\n",
    "Q = deltau - P_dot\n",
    "print(Q)\n",
    "cp = 4.179\n",
    "delta_T = Q / m_wdot / cp\n",
    "print(delta_T)"
   ]
  },
  {
   "cell_type": "code",
   "execution_count": 6,
   "id": "5beef83e-f5a2-401b-b79f-b0c9cc568ac9",
   "metadata": {},
   "outputs": [],
   "source": [
    "from sympy import *\n",
    "\n",
    "V = 0.07 # m^3\n",
    "p = 15.0 # bars\n",
    "x = 0.25"
   ]
  },
  {
   "cell_type": "code",
   "execution_count": 7,
   "id": "bf58af82-f8a9-48f3-8034-ab3f3b541d62",
   "metadata": {},
   "outputs": [
    {
     "name": "stdout",
     "output_type": "stream",
     "text": [
      "-1511.6829080220045 0.7762729582727408\n"
     ]
    }
   ],
   "source": [
    "vg = 0.1318\n",
    "vf = 1.1539 * 10 ** -3\n",
    "v = x * vg + (1-x) * vf\n",
    "m = V / v\n",
    "m_in = m\n",
    "hg = 2792.2\n",
    "hf = 844.84\n",
    "h = x * hg + (1-x) * hf\n",
    "Uin = m_in * h\n",
    "mw1 = m * (1 - x)\n",
    "mw2 = mw1 / 2\n",
    "hout = hg\n",
    "m_out = mw2\n",
    "Uout = m_out * hout + mw2 * hf + m * x * hg\n",
    "deltaU = Uin - Uout\n",
    "print(deltaU,mw2)"
   ]
  },
  {
   "cell_type": "code",
   "execution_count": 8,
   "id": "52e21eb9-ef5d-41eb-96cb-d838cd557ded",
   "metadata": {},
   "outputs": [],
   "source": [
    "from sympy import *\n",
    "\n",
    "m_dot = 47.6 # kg/min\n",
    "vi = 12.9 # m/s\n",
    "ve = 94.4 # m/s"
   ]
  },
  {
   "cell_type": "code",
   "execution_count": 9,
   "id": "415b2185-8b54-4c69-8d07-ef824e0bc25a",
   "metadata": {},
   "outputs": [
    {
     "name": "stdout",
     "output_type": "stream",
     "text": [
      "116.912938148255\n"
     ]
    }
   ],
   "source": [
    "m = m_dot / 60\n",
    "t = symbols(\"t\")\n",
    "def h(t):\n",
    "    return (3.826 - 3.979 * 10 ** -3 * t + 24.558 * 10 ** -6 * t ** 2 - 22.733 * 10 ** -9 * t ** 3\n",
    "    + 6.936 * 10 ** -12 * t ** 4) * 8.314 / 16\n",
    "delta_h = integrate(h(t), (t, 25+273.15, 360))\n",
    "ki = m * 0.5 * vi ** 2 / 1000\n",
    "ke = m  * 0.5 * ve ** 2 / 1000\n",
    "W = m * delta_h - ki + ke\n",
    "print(W)"
   ]
  },
  {
   "cell_type": "code",
   "execution_count": 10,
   "id": "d50d718f-9b9e-446d-9555-4adbe8dd27e9",
   "metadata": {},
   "outputs": [],
   "source": [
    "from sympy import *\n",
    "\n",
    "p_sup = 8.00 # bars\n",
    "p_cyl = 1.00 # bars\n",
    "T_cyl = 300.00 # K\n",
    "h = 0.50 # m\n",
    "p_atm = 1.00 # bars\n",
    "D = 0.30 # m"
   ]
  },
  {
   "cell_type": "code",
   "execution_count": 11,
   "id": "9d98971b-21ef-47ec-a548-3998dee6964e",
   "metadata": {},
   "outputs": [
    {
     "name": "stdout",
     "output_type": "stream",
     "text": [
      "0.0527729706915481 300.147795657628\n"
     ]
    }
   ],
   "source": [
    "S = pi / 4 * D ** 2\n",
    "W = h * S * p_atm * 10 ** 5 / 1000\n",
    "h1 = 300.19\n",
    "h2 = 300\n",
    "cp = 1.005\n",
    "Tp = 300\n",
    "V1 = S * h\n",
    "m1 = 28.97 * p_atm * 10 ** 5 * V1 / 8.314 / 300 / 1000\n",
    "m = symbols(\"m\")\n",
    "eq = Eq(m * cp * Tp - W, 0)\n",
    "sol = solve(eq,m)\n",
    "m = sol[0]\n",
    "T = (m * h2 + m1 * h1) / (m + m1)\n",
    "print((m + m1).evalf(),T.evalf())"
   ]
  },
  {
   "cell_type": "code",
   "execution_count": 12,
   "id": "ca9a3183-d5ed-43de-89d0-95e7979dc203",
   "metadata": {},
   "outputs": [
    {
     "data": {
      "text/latex": [
       "$\\displaystyle 0.041050610043825$"
      ],
      "text/plain": [
       "0.0410506100438250"
      ]
     },
     "execution_count": 12,
     "metadata": {},
     "output_type": "execute_result"
    }
   ],
   "source": [
    "m1.evalf()"
   ]
  },
  {
   "cell_type": "code",
   "execution_count": 13,
   "id": "b2f7d2d4-76f1-4baf-b0c2-912952cff2b0",
   "metadata": {},
   "outputs": [],
   "source": [
    "from sympy import *\n",
    "\n",
    "m0 = 1.00 # kg\n",
    "T0 = 70.00 # C\n",
    "P0 = 1.00 # Mpa\n",
    "Pt = 0.50 # Mpa"
   ]
  },
  {
   "cell_type": "code",
   "execution_count": 14,
   "id": "ecba169d-2262-4261-8026-3895931f34ae",
   "metadata": {},
   "outputs": [
    {
     "name": "stdout",
     "output_type": "stream",
     "text": [
      "0.7071067811865475\n"
     ]
    }
   ],
   "source": [
    "m2 = 1 / 2 ** 0.5\n",
    "print(m2)"
   ]
  },
  {
   "cell_type": "code",
   "execution_count": 15,
   "id": "36854b6f-f9be-4882-bc15-18b64d73e573",
   "metadata": {},
   "outputs": [
    {
     "name": "stdout",
     "output_type": "stream",
     "text": [
      "[(6.26417502217735, -0.0370723176923295), (254.766569668753, 0.0577315912594090)]\n"
     ]
    }
   ],
   "source": [
    "ut, vt = symbols(\"ut, vt\")\n",
    "Pt = Pt * 10 ** 5 / 10 ** 3\n",
    "v0 = 0.02984\n",
    "h0 = 295.03\n",
    "u0 = 265.19\n",
    "V = m0 * v0\n",
    "eq1 = Eq((ut - 229.52) / (259.9 - 229.52), (vt - 0.04810) / (0.05969 - 0.04810))\n",
    "eq2 = Eq(ut * (V / vt + m0), Pt * V - m0 * h0 + 2 * m0 * u0 - m0 * Pt * vt + V / vt * h0)\n",
    "sol = solve((eq1,eq2),(ut,vt))\n",
    "print(sol)"
   ]
  },
  {
   "cell_type": "code",
   "execution_count": 16,
   "id": "c62020e7-e40b-43ee-972b-405a3ff6b7ad",
   "metadata": {},
   "outputs": [
    {
     "name": "stdout",
     "output_type": "stream",
     "text": [
      "46.5512996523253\n",
      "[0.516874718833206]\n"
     ]
    }
   ],
   "source": [
    "ut = 254.766569668753\n",
    "vt = 0.0577315912594090\n",
    "mf, Tf = symbols(\"mf, Tf\")\n",
    "ht = ut + vt * Pt\n",
    "eq = Eq((Tf - 273 - 5) / 50, (vt - 0.04810) / (0.05969 - 0.04810))\n",
    "Tf = solve(eq,Tf)[0]\n",
    "print(Tf - 273)\n",
    "eq2 = Eq(m0 * u0 - mf * ut, (m0 - mf) * 0.5 * (h0 + ht))\n",
    "mf = solve(eq2,mf)\n",
    "print(mf)"
   ]
  },
  {
   "cell_type": "markdown",
   "id": "4c952ccf-8226-40f9-95cc-ddb9aaf8a14f",
   "metadata": {},
   "source": [
    "## HW 8"
   ]
  },
  {
   "cell_type": "code",
   "execution_count": 18,
   "id": "d19eaeed-1673-4197-a861-f71d57225067",
   "metadata": {},
   "outputs": [],
   "source": [
    "from sympy import *\n",
    "\n",
    "price = 6.00 # cents/kwh\n",
    "T_H = 68.00 # F\n",
    "T_L = 35.00 # F\n",
    "Q_pump = 30000.00 # Btu/h\n",
    "W_input = 1.00 # hp"
   ]
  },
  {
   "cell_type": "code",
   "execution_count": 19,
   "id": "f6bfcb9b-b2bc-4a15-bcb0-70d28e9ef325",
   "metadata": {},
   "outputs": [
    {
     "name": "stdout",
     "output_type": "stream",
     "text": [
      "107.38078128000001 79.17867557223278\n"
     ]
    }
   ],
   "source": [
    "Q_pump = Q_pump * 0.00029307107 #kw\n",
    "W_input = W_input * 0.74569987 #kw\n",
    "Pw = W_input * 24 * 6\n",
    "T_H = T_H + 459.67\n",
    "T_L = T_L + 459.67\n",
    "COP = T_H / (T_H - T_L)\n",
    "W = Q_pump / COP\n",
    "PQ = (W) * 24 * 6\n",
    "print(Pw,PQ)"
   ]
  },
  {
   "cell_type": "code",
   "execution_count": 20,
   "id": "deaaca9b-a763-4c58-bf81-8ce9ea3272a4",
   "metadata": {},
   "outputs": [],
   "source": [
    "from sympy import *\n",
    "\n",
    "W_input = 1.00 # kW\n",
    "T_H = 20.00 # C\n",
    "Q = 3000.00 # kJ/h/C"
   ]
  },
  {
   "cell_type": "code",
   "execution_count": 21,
   "id": "47d9cf3f-e52a-453a-b947-5d5899ece99c",
   "metadata": {},
   "outputs": [
    {
     "name": "stdout",
     "output_type": "stream",
     "text": [
      "[279.095758458098, 306.904241541901]\n"
     ]
    }
   ],
   "source": [
    "T_H = T_H + 273\n",
    "Tl = symbols(\"Tl\")\n",
    "COP = T_H / (T_H - Tl)\n",
    "eq = Eq(COP, Q * (T_H - Tl) / 3600 / W)\n",
    "Tl = solve(eq,Tl)\n",
    "print(Tl)"
   ]
  },
  {
   "cell_type": "code",
   "execution_count": 22,
   "id": "6c944029-5952-4624-80c9-592191823054",
   "metadata": {},
   "outputs": [],
   "source": [
    "from sympy import *\n",
    "\n",
    "T1 = 640.00 # F\n",
    "T2 = 40.00 # F\n",
    "x = 0.59"
   ]
  },
  {
   "cell_type": "code",
   "execution_count": 23,
   "id": "21c5ce91-14c4-43d3-9e2d-89639b5767f1",
   "metadata": {},
   "outputs": [
    {
     "name": "stdout",
     "output_type": "stream",
     "text": [
      "5.883950763040098 45.3339507630401\n"
     ]
    }
   ],
   "source": [
    "m = 0.1\n",
    "u2 = 668.7\n",
    "u3 = 1063.2\n",
    "v2 = 0.02593\n",
    "v3 = 0.1805\n",
    "P2 = 2057.1 * 144\n",
    "W23 = P2 * m * (v3 - v2) * 0.00128506746  #Btu\n",
    "Q23 = W23 + m * (u3 - u2)\n",
    "print(W23,Q23)"
   ]
  },
  {
   "cell_type": "code",
   "execution_count": 24,
   "id": "9aa88d88-0ce7-45ff-982c-a82cdcb75ea2",
   "metadata": {},
   "outputs": [
    {
     "name": "stdout",
     "output_type": "stream",
     "text": [
      "45.581080000000014\n"
     ]
    }
   ],
   "source": [
    "u4g = 1023.9\n",
    "u4f = 8.02\n",
    "u4 = x * u4g + (1-x) * u4f\n",
    "u3 = 1063.2\n",
    "W34 = -m * (u4 - u3)\n",
    "print(W34)"
   ]
  },
  {
   "cell_type": "code",
   "execution_count": 25,
   "id": "71b9aa23-7bed-4f61-a179-fde7d48904d0",
   "metadata": {},
   "outputs": [
    {
     "name": "stdout",
     "output_type": "stream",
     "text": [
      "0.397656125625925\n"
     ]
    }
   ],
   "source": [
    "x1 = symbols(\"x1\")\n",
    "u1 = x1 * u4g + (1-x1) * u4f\n",
    "v4 = x * 2445 + (1-x) * 0.01602\n",
    "P4 = 0.1217 * 144\n",
    "v1 = x1 * 2445 + (1-x1) * 0.01602\n",
    "W41 = P4 * m * (v1 - v4) * 0.00128506746\n",
    "Q41 = W41 + m * (u1 - u4)\n",
    "eq = Eq(-Q41 / Q23, (40 + 459.67) / (640 + 459.67))\n",
    "x1 = solve(eq,x1)[0]\n",
    "print(x1)"
   ]
  },
  {
   "cell_type": "code",
   "execution_count": 26,
   "id": "999c2a91-8dcf-4301-a6f5-3803f79dcec2",
   "metadata": {},
   "outputs": [
    {
     "name": "stdout",
     "output_type": "stream",
     "text": [
      "-20.5989207469226 -1.05909123700902\n"
     ]
    }
   ],
   "source": [
    "u1 = x1 * u4g + (1-x1) * u4f\n",
    "v4 = x * 2445 + (1-x) * 0.01602\n",
    "P4 = 0.1217 * 144\n",
    "v1 = x1 * 2445 + (1-x1) * 0.01602\n",
    "W41 = P4 * m * (v1 - v4) * 0.00128506746\n",
    "Q41 = W41 + m * (u1 - u4)\n",
    "print(Q41,W41)"
   ]
  },
  {
   "cell_type": "code",
   "execution_count": 27,
   "id": "063f70ab-f659-4088-a59d-6fe49aba59ae",
   "metadata": {},
   "outputs": [
    {
     "name": "stdout",
     "output_type": "stream",
     "text": [
      "-25.6709095099135\n"
     ]
    }
   ],
   "source": [
    "W12 = -m * (u2 - u1)\n",
    "print(W12)"
   ]
  },
  {
   "cell_type": "code",
   "execution_count": 28,
   "id": "0cbeb706-dfe7-4bf5-b08c-ca64b607cff7",
   "metadata": {},
   "outputs": [
    {
     "name": "stdout",
     "output_type": "stream",
     "text": [
      "54.5618230923821\n"
     ]
    }
   ],
   "source": [
    "eta = (W12 + W23 + W34 + W41) / Q23\n",
    "print(eta * 100)"
   ]
  },
  {
   "cell_type": "markdown",
   "id": "6d550e35-3fc6-4e72-8b31-cd59a9d91a1d",
   "metadata": {},
   "source": [
    "## HW 7"
   ]
  },
  {
   "cell_type": "code",
   "execution_count": 30,
   "id": "7cb7b514-58bf-47ed-995b-350646443dd7",
   "metadata": {},
   "outputs": [],
   "source": [
    "from sympy import *\n",
    "\n",
    "coe = 2.40\n",
    "T_C = 0.00 # C\n",
    "T_H = 20.00 # C\n",
    "Q_C = 8000.00 # kJ/h"
   ]
  },
  {
   "cell_type": "code",
   "execution_count": 31,
   "id": "491465e2-b951-4a77-89f8-e173f89f0c32",
   "metadata": {},
   "outputs": [
    {
     "name": "stdout",
     "output_type": "stream",
     "text": [
      "5897.43589743590 586.080586080586\n"
     ]
    }
   ],
   "source": [
    "Q_H1, Q_H2 = symbols(\"Q_H1, Q_H2\")\n",
    "T_C = T_C + 273\n",
    "T_H = T_H + 273\n",
    "COP2 = T_C / (T_H - T_C)\n",
    "eq1 = Eq(Q_H1 / (Q_H1 - Q_C), 2.3)\n",
    "eq2 = Eq(Q_C / (Q_H2 - Q_C), COP2)\n",
    "Q_H1 = solve(eq1,Q_H1)[0]\n",
    "Q_H2 = solve(eq2, Q_H2)[0]\n",
    "W1 = Q_H1 / coe\n",
    "W2 = Q_C / COP2\n",
    "print(W1,W2)"
   ]
  },
  {
   "cell_type": "code",
   "execution_count": 32,
   "id": "e8c65439-0efc-46f0-b9fa-e755bb3eafc1",
   "metadata": {},
   "outputs": [
    {
     "data": {
      "text/plain": [
       "3333.3333333333335"
      ]
     },
     "execution_count": 32,
     "metadata": {},
     "output_type": "execute_result"
    }
   ],
   "source": [
    "Q_C / coe"
   ]
  },
  {
   "cell_type": "code",
   "execution_count": 85,
   "id": "d0964c7a-0165-4f48-a4e6-c9e1253eb703",
   "metadata": {},
   "outputs": [],
   "source": [
    "from sympy import *\n",
    "\n",
    "m = 1.00 # kg\n",
    "eta = 60.00 # %\n",
    "Q_ie = 40.00 # kJ\n",
    "P1 = 7.00 # bars\n",
    "V1 = 0.24 # m^3"
   ]
  },
  {
   "cell_type": "code",
   "execution_count": 87,
   "id": "fca287f6-23c1-4e28-a165-4d0dcffc52fb",
   "metadata": {},
   "outputs": [
    {
     "name": "stdout",
     "output_type": "stream",
     "text": [
      "585.9995188838105 234.39980755352423\n"
     ]
    }
   ],
   "source": [
    "eta = eta / 100\n",
    "P1 = P1 * 10 ** 5\n",
    "Q_ie - Q_ie * 1000\n",
    "cv = 0.72\n",
    "T_H = P1 * V1 / m / 8.314 * 29 / 1000\n",
    "T_L = T_H * (1 - eta)\n",
    "print(T_H, T_L)"
   ]
  },
  {
   "cell_type": "code",
   "execution_count": 89,
   "id": "e39cb4e4-2c75-4694-88b8-14ef9e81831c",
   "metadata": {},
   "outputs": [
    {
     "name": "stdout",
     "output_type": "stream",
     "text": [
      "[0.318540173351779] 40.0\n"
     ]
    }
   ],
   "source": [
    "W = Q_ie \n",
    "V2 = symbols(\"V2\")\n",
    "eq = Eq(m * 8.314 * 29 / 1000 * T_H * log((V2 / V1),E), 40)\n",
    "V2 = solve(eq,V2)\n",
    "print(V2,W)"
   ]
  },
  {
   "cell_type": "code",
   "execution_count": 91,
   "id": "28cb1b27-170b-4165-b271-1f9b741a6329",
   "metadata": {},
   "outputs": [
    {
     "name": "stdout",
     "output_type": "stream",
     "text": [
      "253.15179215780614\n"
     ]
    }
   ],
   "source": [
    "deltaT = T_H - T_L\n",
    "Q34 = 0\n",
    "W34 = cv * m * deltaT\n",
    "print(W34)"
   ]
  },
  {
   "cell_type": "code",
   "execution_count": 93,
   "id": "2d8fc6a1-f8fa-44fe-bd42-5aac00a7ecad",
   "metadata": {},
   "outputs": [
    {
     "name": "stdout",
     "output_type": "stream",
     "text": [
      "[-16.0000000000000]\n"
     ]
    }
   ],
   "source": [
    "Q41 = symbols(\"Q41\")\n",
    "W41 = Q41\n",
    "eq = Eq((W + W41) / (Q_ie), eta)\n",
    "W41 = solve(eq,W41)\n",
    "print(W41)"
   ]
  },
  {
   "cell_type": "code",
   "execution_count": null,
   "id": "8b29dea9-2c55-4a1b-b158-595812f9eb97",
   "metadata": {},
   "outputs": [],
   "source": []
  }
 ],
 "metadata": {
  "kernelspec": {
   "display_name": "Python [conda env:base] *",
   "language": "python",
   "name": "conda-base-py"
  },
  "language_info": {
   "codemirror_mode": {
    "name": "ipython",
    "version": 3
   },
   "file_extension": ".py",
   "mimetype": "text/x-python",
   "name": "python",
   "nbconvert_exporter": "python",
   "pygments_lexer": "ipython3",
   "version": "3.12.7"
  }
 },
 "nbformat": 4,
 "nbformat_minor": 5
}
