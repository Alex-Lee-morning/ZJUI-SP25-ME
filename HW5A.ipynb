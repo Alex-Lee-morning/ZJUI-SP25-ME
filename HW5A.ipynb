{
 "cells": [
  {
   "cell_type": "code",
   "execution_count": 17,
   "id": "dc46f877-3eb3-4876-8f28-bf22ae70d908",
   "metadata": {},
   "outputs": [],
   "source": [
    "from sympy import *\n",
    "\n",
    "r1 = 8\n",
    "r2 = 6\n",
    "r3 = 8\n",
    "omega1z = -4"
   ]
  },
  {
   "cell_type": "code",
   "execution_count": 19,
   "id": "85f93553-a96c-4d33-a302-782dee05a473",
   "metadata": {},
   "outputs": [
    {
     "name": "stdout",
     "output_type": "stream",
     "text": [
      "-4.0\n"
     ]
    }
   ],
   "source": [
    "omega3z = omega1z * r1 / r3\n",
    "print(omega3z)"
   ]
  },
  {
   "cell_type": "code",
   "execution_count": 43,
   "id": "52248229-9c6f-48ac-a21c-fae68c98d4dc",
   "metadata": {},
   "outputs": [],
   "source": [
    "import numpy as np\n",
    "from sympy import *\n",
    "\n",
    "x, y = symbols('x, y')\n",
    "\n",
    "rho = 7\n",
    "y1 = x**2 + 2*x - 10\n",
    "y2 = 2*x**2 - 8*x + 11\n",
    "x1 = 0\n",
    "x2 = 2"
   ]
  },
  {
   "cell_type": "code",
   "execution_count": 45,
   "id": "8f562319-d102-4609-b12d-12dc34612347",
   "metadata": {},
   "outputs": [
    {
     "name": "stdout",
     "output_type": "stream",
     "text": [
      "172.666666666667\n"
     ]
    }
   ],
   "source": [
    "y3 = abs(y1 - y2)\n",
    "def f(x):\n",
    "    return y3 * rho\n",
    "def M(x):\n",
    "    return x * y3\n",
    "m = integrate(f(x),(x,x1,x2))\n",
    "print(m.evalf())"
   ]
  },
  {
   "cell_type": "code",
   "execution_count": 127,
   "id": "d1ce8d7c-1305-4e16-a17e-1de862e0ac1e",
   "metadata": {},
   "outputs": [],
   "source": [
    "from sympy import *\n",
    "\n",
    "r1 = 7\n",
    "r2 = 6\n",
    "r3 = 5\n",
    "r4 = 8\n",
    "aPMag = 49\n",
    "omega1Mag = 2"
   ]
  },
  {
   "cell_type": "code",
   "execution_count": 133,
   "id": "f81d1718-c0b4-42c4-a38f-fbc2de04f38c",
   "metadata": {},
   "outputs": [
    {
     "name": "stdout",
     "output_type": "stream",
     "text": [
      "7.072540797572916\n"
     ]
    }
   ],
   "source": [
    "omega = omega1Mag * r1 / r4\n",
    "alpha = omega ** 2 * r4\n",
    "a = (aPMag ** 2 - alpha ** 2) ** 0.5\n",
    "print(a / r2)"
   ]
  },
  {
   "cell_type": "code",
   "execution_count": 135,
   "id": "4a24b1f3-5c92-4778-8e65-620f89a0b0b0",
   "metadata": {},
   "outputs": [],
   "source": [
    "from sympy import *\n",
    "\n",
    "r1 = 6\n",
    "r2 = 8\n",
    "r3 = 6\n",
    "r4 = 9\n",
    "aPMag = 64\n",
    "alpha3Mag = 6"
   ]
  },
  {
   "cell_type": "code",
   "execution_count": 137,
   "id": "0271d9ff-0a6f-4162-9916-3881d9175edf",
   "metadata": {},
   "outputs": [
    {
     "name": "stdout",
     "output_type": "stream",
     "text": [
      "3.4291244824069342\n"
     ]
    }
   ],
   "source": [
    "alpha2 = alpha3Mag * r3\n",
    "a = (aPMag ** 2 - alpha2 ** 2) ** 0.5\n",
    "omega = (a / r2) ** 0.5\n",
    "omega1 = omega * r2 / r1\n",
    "print(omega1)"
   ]
  },
  {
   "cell_type": "code",
   "execution_count": null,
   "id": "de8dd18e-6725-4adb-8ffa-916346d6424d",
   "metadata": {},
   "outputs": [],
   "source": []
  }
 ],
 "metadata": {
  "kernelspec": {
   "display_name": "Python [conda env:base] *",
   "language": "python",
   "name": "conda-base-py"
  },
  "language_info": {
   "codemirror_mode": {
    "name": "ipython",
    "version": 3
   },
   "file_extension": ".py",
   "mimetype": "text/x-python",
   "name": "python",
   "nbconvert_exporter": "python",
   "pygments_lexer": "ipython3",
   "version": "3.12.7"
  }
 },
 "nbformat": 4,
 "nbformat_minor": 5
}
