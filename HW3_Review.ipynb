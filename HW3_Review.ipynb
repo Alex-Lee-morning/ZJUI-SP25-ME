{
 "cells": [
  {
   "cell_type": "code",
   "execution_count": 1,
   "id": "e4d2a26b-1761-49a3-a366-b425974f0c5f",
   "metadata": {},
   "outputs": [],
   "source": [
    "import math as m\n",
    "import sympy as sp"
   ]
  },
  {
   "cell_type": "markdown",
   "id": "0463ea2e-8c64-4e38-b714-f8ef04ea017c",
   "metadata": {},
   "source": [
    "## 1"
   ]
  },
  {
   "cell_type": "code",
   "execution_count": 3,
   "id": "c0bba76c-f348-4ecd-85a3-4b8200e50e8e",
   "metadata": {},
   "outputs": [
    {
     "name": "stdout",
     "output_type": "stream",
     "text": [
      "0.11707949836645176 -0.005268577426490328\n"
     ]
    }
   ],
   "source": [
    "L = 200 * 10 ** -3\n",
    "P = 300\n",
    "Ep = 2.9 * 10 ** 9\n",
    "vp = 0.6\n",
    "d = 15 * 10 ** -3\n",
    "S = d ** 2 / 4 * m.pi\n",
    "G = Ep / (2 * (1 + vp))\n",
    "sigma = P / S\n",
    "e = sigma / Ep\n",
    "delta_L = e * L\n",
    "delta_r = e * -vp\n",
    "delta_D = delta_r * d\n",
    "print(delta_L * 1000, delta_D * 1000)"
   ]
  },
  {
   "cell_type": "markdown",
   "id": "edd5157d-edb8-4924-844a-032669491947",
   "metadata": {},
   "source": [
    "## 2"
   ]
  },
  {
   "cell_type": "markdown",
   "id": "bdcf4467-9aec-4a93-987e-64c10cf3a648",
   "metadata": {},
   "source": [
    "d = 26 * 10 ** -3\n",
    "L0 = 185 * 10 ** -3\n",
    "P = 138 * 10 ** 3\n",
    "delta = 2 * 10 ** -3\n",
    "sigma_y = 347 * 10 ** 6\n",
    "G = 109 * 10 ** 9\n",
    "S = d ** 2 / 4 * m.pi\n",
    "sigma = P / S\n",
    "print(sigma)\n",
    "delta_y = delta / L0\n",
    "E = sigma / delta_y\n",
    "print(E / 10 ** 9)\n",
    "v = E / G / 2 - 1\n",
    "print(v)\n",
    "delta_d = delta / L0 * v * d\n",
    "print(delta_d * 1000)"
   ]
  },
  {
   "cell_type": "markdown",
   "id": "868d06ee-af5d-48d1-bb5c-1c2051207530",
   "metadata": {},
   "source": [
    "## 3"
   ]
  },
  {
   "cell_type": "code",
   "execution_count": 35,
   "id": "a298bde2-d631-48fa-9c98-884a0159195a",
   "metadata": {},
   "outputs": [
    {
     "name": "stdout",
     "output_type": "stream",
     "text": [
      "[2403.74928384568, -1201.87464192284 - 2081.70794413901*I, -1201.87464192284 + 2081.70794413901*I]\n"
     ]
    }
   ],
   "source": [
    "x = sp.symbols(\"x\")\n",
    "def f(x):\n",
    "    return 0.45 * 10 ** -6 * x + 0.36 * 10 ** -12 * x ** 3\n",
    "def r(x):\n",
    "    k = sp.diff(f(x)).subs(x,0)\n",
    "    return k * x + 0.005\n",
    "eq = sp.Eq(f(x),r(x))\n",
    "sol = sp.solve(eq,x)\n",
    "print(sol)"
   ]
  },
  {
   "cell_type": "markdown",
   "id": "093b24f7-aa5d-4847-af04-cf6e2ac446a7",
   "metadata": {},
   "source": [
    "## 4"
   ]
  },
  {
   "cell_type": "code",
   "execution_count": 64,
   "id": "452cdf06-e7e8-4bee-a387-f11268428b96",
   "metadata": {},
   "outputs": [
    {
     "name": "stdout",
     "output_type": "stream",
     "text": [
      "8.61817858654789e-5\n",
      "26.5376840622359 33.8070826667428\n"
     ]
    }
   ],
   "source": [
    "delta = sp.symbols(\"delta\")\n",
    "D2 = 40 * 10 ** -3\n",
    "D1 = 30 * 10 ** -3\n",
    "S1 = D1 ** 2 / 4 * m.pi\n",
    "S2 = D2 ** 2 / 4 * m.pi\n",
    "E1 = 101 * 10 ** 9\n",
    "E2 = 193 * 10 ** 9\n",
    "L1 = 328 * 10 ** -3\n",
    "L2 = 492 * 10 ** -3\n",
    "P = 80 * 10 ** 3\n",
    "F1 = 2 * delta / L1 * E1 * S1\n",
    "F2 = delta / L2 * E2 * S2\n",
    "eq = sp.Eq(F1 + F2 - P,0)\n",
    "sol = sp.solve(eq,delta)\n",
    "delta = sol[0]\n",
    "print(delta)\n",
    "sigma1 = delta / L1 * E1\n",
    "sigma2 = delta / L2 * E2\n",
    "print(sigma1 / 1000000,sigma2/ 1000000)"
   ]
  },
  {
   "cell_type": "markdown",
   "id": "0a98f931-9da4-4290-bd4a-98b96ff06f3b",
   "metadata": {},
   "source": [
    "## 5"
   ]
  },
  {
   "cell_type": "code",
   "execution_count": 67,
   "id": "c7fbcdbf-d014-4950-83b8-b1000960fb21",
   "metadata": {},
   "outputs": [
    {
     "name": "stdout",
     "output_type": "stream",
     "text": [
      "0.032499999999999994 0.08449999999999999\n"
     ]
    }
   ],
   "source": [
    "k1 = 10 ** 6 * 10 ** 3\n",
    "k2 = 8 * 10 ** 5 * 10 ** 3\n",
    "P = 52 * 10 ** 3\n",
    "Fab = P / 2\n",
    "delta1 = Fab / k2\n",
    "delta2 = P / k1\n",
    "deltac = delta1 + delta2\n",
    "print(delta1 * 1000, deltac * 1000)"
   ]
  },
  {
   "cell_type": "code",
   "execution_count": null,
   "id": "c0d63d9b-6e8e-4b7d-99f4-8e3776871959",
   "metadata": {},
   "outputs": [],
   "source": []
  }
 ],
 "metadata": {
  "kernelspec": {
   "display_name": "Python [conda env:base] *",
   "language": "python",
   "name": "conda-base-py"
  },
  "language_info": {
   "codemirror_mode": {
    "name": "ipython",
    "version": 3
   },
   "file_extension": ".py",
   "mimetype": "text/x-python",
   "name": "python",
   "nbconvert_exporter": "python",
   "pygments_lexer": "ipython3",
   "version": "3.12.7"
  }
 },
 "nbformat": 4,
 "nbformat_minor": 5
}
