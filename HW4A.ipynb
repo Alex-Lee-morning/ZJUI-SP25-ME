{
 "cells": [
  {
   "cell_type": "code",
   "execution_count": 1,
   "id": "d8b56c87-353c-42f1-a351-c2feac7c5751",
   "metadata": {},
   "outputs": [],
   "source": [
    "from sympy import *\n",
    "\n",
    "rPQ = Matrix([-2, -4,  0])\n",
    "vP = Matrix([-6, -2,  0])\n",
    "vQ = Matrix([ 6, -8,  0])"
   ]
  },
  {
   "cell_type": "code",
   "execution_count": 2,
   "id": "2b94af6b-6e3f-4d69-9749-f5411b74d555",
   "metadata": {},
   "outputs": [
    {
     "name": "stdout",
     "output_type": "stream",
     "text": [
      "{w: 3}\n"
     ]
    }
   ],
   "source": [
    "w = symbols(\"w\")\n",
    "W = Matrix([0, 0, w])\n",
    "Vw = W.cross(rPQ)\n",
    "eq = Eq(vP+Vw,vQ)\n",
    "sol = solve(eq,w)\n",
    "print(sol)"
   ]
  },
  {
   "cell_type": "code",
   "execution_count": 3,
   "id": "ec1a3430-3499-4e31-aaf7-00b09a168ceb",
   "metadata": {},
   "outputs": [],
   "source": [
    "from sympy import *\n",
    "\n",
    "rPQ = Matrix([-3,  2,  0])\n",
    "vP = Matrix([3, 0, 0])\n",
    "omega = Matrix([0, 0, 2])"
   ]
  },
  {
   "cell_type": "code",
   "execution_count": 4,
   "id": "fdf84166-2b54-4be6-b6b5-11afbcefe614",
   "metadata": {},
   "outputs": [
    {
     "name": "stdout",
     "output_type": "stream",
     "text": [
      "Matrix([[-1], [-6], [0]])\n"
     ]
    }
   ],
   "source": [
    "vQ = vP + omega.cross(rPQ)\n",
    "print(vQ)"
   ]
  },
  {
   "cell_type": "code",
   "execution_count": 5,
   "id": "29784733-db8d-4110-9840-367de7a55cf1",
   "metadata": {},
   "outputs": [],
   "source": [
    "from sympy import *\n",
    "\n",
    "omega = Matrix([ 0,  0, -2])\n",
    "alpha = Matrix([ 0,  0, -2])\n",
    "rPQ = Matrix([ 3, -1,  0])\n",
    "aP = Matrix([-4,  2,  0])"
   ]
  },
  {
   "cell_type": "code",
   "execution_count": 6,
   "id": "9e3f6ef5-6d06-4b7a-bf01-3e280a7ffa23",
   "metadata": {},
   "outputs": [
    {
     "name": "stdout",
     "output_type": "stream",
     "text": [
      "Matrix([[-18], [0], [0]])\n"
     ]
    }
   ],
   "source": [
    "a1 = alpha.cross(rPQ)\n",
    "a2 = omega.cross(omega.cross(rPQ))\n",
    "a = a1 + a2 + aP\n",
    "print(a)"
   ]
  },
  {
   "cell_type": "code",
   "execution_count": 7,
   "id": "8104d7a7-865a-4cbd-9198-95e83d1eb271",
   "metadata": {},
   "outputs": [],
   "source": [
    "from sympy import *\n",
    "\n",
    "rPQ = Matrix([-3, -3, 0])\n",
    "vP = Matrix([-2,  1,  0])"
   ]
  },
  {
   "cell_type": "code",
   "execution_count": 8,
   "id": "f98506c3-3543-4068-9820-4bbe53d9d11f",
   "metadata": {},
   "outputs": [
    {
     "name": "stdout",
     "output_type": "stream",
     "text": [
      "1.00000000000000\n",
      "[1/3]\n"
     ]
    }
   ],
   "source": [
    "w = symbols(\"w\")\n",
    "omega = Matrix([0, 0, w])\n",
    "vQ = omega.cross(rPQ) + vP\n",
    "vQy = vQ[1]\n",
    "vQx = vQ[0]\n",
    "R = vQy / vQx\n",
    "eq = Eq(vQy,0)\n",
    "sol = solve(eq,w)\n",
    "w = sol[0]\n",
    "omega = Matrix([0, 0, w])\n",
    "vQ = omega.cross(rPQ) + vP\n",
    "print(vQ.norm().evalf())\n",
    "print(sol)"
   ]
  },
  {
   "cell_type": "code",
   "execution_count": 9,
   "id": "00f82fed-000d-49a0-8218-f8b6b47b2600",
   "metadata": {},
   "outputs": [],
   "source": [
    "from sympy import *\n",
    "\n",
    "rOP = Matrix([ 2, -1,  0])\n",
    "rPQ = Matrix([ 0, -8,  0])\n",
    "omega1 = Matrix([ 0,  0, -8])\n",
    "omega2 = Matrix([0, 0, 1])\n",
    "vP = Matrix([ -8, -16,   0])\n",
    "vQ = Matrix([  0, -16,   0])\n",
    "aP = Matrix([-16, 288,   0])"
   ]
  },
  {
   "cell_type": "code",
   "execution_count": 10,
   "id": "357a9c25-036d-4301-bece-86458606aefc",
   "metadata": {},
   "outputs": [
    {
     "ename": "NameError",
     "evalue": "name 'alpha1' is not defined",
     "output_type": "error",
     "traceback": [
      "\u001b[0;31m---------------------------------------------------------------------------\u001b[0m",
      "\u001b[0;31mNameError\u001b[0m                                 Traceback (most recent call last)",
      "Cell \u001b[0;32mIn[10], line 3\u001b[0m\n\u001b[1;32m      1\u001b[0m vP1 \u001b[38;5;241m=\u001b[39m omega1\u001b[38;5;241m.\u001b[39mcross(rOP)\n\u001b[1;32m      2\u001b[0m a1 \u001b[38;5;241m=\u001b[39m omega2\u001b[38;5;241m.\u001b[39mcross(omega2\u001b[38;5;241m.\u001b[39mcross(rPQ))\n\u001b[0;32m----> 3\u001b[0m a2 \u001b[38;5;241m=\u001b[39m omega1\u001b[38;5;241m.\u001b[39mcross(omega1\u001b[38;5;241m.\u001b[39mcross(rOP)) \u001b[38;5;241m+\u001b[39m alpha1\u001b[38;5;241m.\u001b[39mcross(rOP)\n\u001b[1;32m      4\u001b[0m alpha \u001b[38;5;241m=\u001b[39m symbols(\u001b[38;5;124m\"\u001b[39m\u001b[38;5;124malpha\u001b[39m\u001b[38;5;124m\"\u001b[39m)\n\u001b[1;32m      5\u001b[0m A \u001b[38;5;241m=\u001b[39m Matrix([\u001b[38;5;241m0\u001b[39m, \u001b[38;5;241m0\u001b[39m, alpha])\n",
      "\u001b[0;31mNameError\u001b[0m: name 'alpha1' is not defined"
     ]
    }
   ],
   "source": [
    "vP1 = omega1.cross(rOP)\n",
    "a1 = omega2.cross(omega2.cross(rPQ))\n",
    "a2 = omega1.cross(omega1.cross(rOP)) + alpha1.cross(rOP)\n",
    "alpha = symbols(\"alpha\")\n",
    "A = Matrix([0, 0, alpha])\n",
    "a3 = A.cross(rPQ)\n",
    "a = a1 + a3 + aP\n",
    "eq = Eq(a[1],0)\n",
    "alpha = solve(eq,alpha)[0]\n",
    "A = Matrix([0, 0, alpha])\n",
    "a3 = A.cross(rPQ)\n",
    "a = a1 + a3 + aP\n",
    "print(alpha,a)"
   ]
  },
  {
   "cell_type": "code",
   "execution_count": null,
   "id": "c11103fc-c77b-47f1-8e65-dd8d079999cf",
   "metadata": {},
   "outputs": [],
   "source": [
    "vP1 = omega1.cross(rOP)\n",
    "a = symbols(\"a\")\n",
    "alpha1 = Matrix([0, 0, a])\n",
    "a1 = omega2.cross(omega2.cross(rPQ))\n",
    "a2 = omega1.cross(omega1.cross(rOP)) + alpha1.cross(rOP)\n",
    "eq = Eq(a1 + a2, aP)\n",
    "a = solve(eq,a)\n",
    "print(a)"
   ]
  },
  {
   "cell_type": "code",
   "execution_count": null,
   "id": "d6520386-3359-450d-bdc4-facd821d37a1",
   "metadata": {},
   "outputs": [],
   "source": []
  }
 ],
 "metadata": {
  "kernelspec": {
   "display_name": "Python [conda env:base] *",
   "language": "python",
   "name": "conda-base-py"
  },
  "language_info": {
   "codemirror_mode": {
    "name": "ipython",
    "version": 3
   },
   "file_extension": ".py",
   "mimetype": "text/x-python",
   "name": "python",
   "nbconvert_exporter": "python",
   "pygments_lexer": "ipython3",
   "version": "3.12.7"
  }
 },
 "nbformat": 4,
 "nbformat_minor": 5
}
