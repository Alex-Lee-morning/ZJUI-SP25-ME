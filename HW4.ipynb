{
 "cells": [
  {
   "cell_type": "code",
   "execution_count": 79,
   "id": "185d7479-d60a-4f91-9a79-ad4b2d5c8a27",
   "metadata": {},
   "outputs": [],
   "source": [
    "import numpy as np\n",
    "import sympy as sp\n",
    "import math as m"
   ]
  },
  {
   "cell_type": "code",
   "execution_count": 81,
   "id": "1868d7db-41ce-4e11-839d-6f038cd19ae6",
   "metadata": {},
   "outputs": [],
   "source": [
    "import numpy as np\n",
    "\n",
    "x = 0.25\n",
    "m_piston = 40.00 # kg\n",
    "D = 10.00 # cm\n",
    "p_atm = 1.00 # bar\n",
    "p_final = 3.00 # bar\n",
    "g = 9.81 # m/s^2\n",
    "h1 = 1.00 # cm\n",
    "h2 = 4.00 # cm"
   ]
  },
  {
   "cell_type": "code",
   "execution_count": 83,
   "id": "b09bfa13-7947-4bd5-87e8-775dc9a97bbb",
   "metadata": {},
   "outputs": [],
   "source": [
    "def P(x):\n",
    "    return x / 100000\n",
    "D = D * 10 ** -2\n",
    "p_atm = p_atm * 10 ** 5\n",
    "p_final = p_final * 10 ** 5\n",
    "h1 = h1 * 10 ** -2\n",
    "h2 = h2 * 10 ** -2"
   ]
  },
  {
   "cell_type": "code",
   "execution_count": 85,
   "id": "cd90a820-300d-4e3b-8097-90cdbe0d1863",
   "metadata": {},
   "outputs": [
    {
     "name": "stdout",
     "output_type": "stream",
     "text": [
      "1.4996191973540778\n"
     ]
    }
   ],
   "source": [
    "S = D ** 2 / 4 * m.pi\n",
    "V1 = h1 * S\n",
    "V2 = h2 * S\n",
    "p1_out = p_atm + m_piston * g / S\n",
    "print(P(p1_out))"
   ]
  },
  {
   "cell_type": "code",
   "execution_count": 87,
   "id": "95230ead-5e17-4645-8398-c9473425dff2",
   "metadata": {},
   "outputs": [
    {
     "name": "stdout",
     "output_type": "stream",
     "text": [
      "0.2905396 0.00027032396389251186\n",
      "0.0031584000000000056\n"
     ]
    }
   ],
   "source": [
    "v1f = 1.0528 * 10 ** -3\n",
    "v1g = 1.159\n",
    "u1f = 467.11\n",
    "u1g = 2693.6\n",
    "v1 = v1f * (1-x) + v1g * x\n",
    "m = V1 / v1\n",
    "print(v1, m)\n",
    "v2 = V2 / m\n",
    "print(v2 - v1g)"
   ]
  },
  {
   "cell_type": "code",
   "execution_count": 89,
   "id": "c7df7717-5cc5-4f52-b62a-c41237758f5d",
   "metadata": {},
   "outputs": [
    {
     "name": "stdout",
     "output_type": "stream",
     "text": [
      "0.451929252930263\n"
     ]
    }
   ],
   "source": [
    "u11 = u1f * (1-x) + u1g * x\n",
    "U11 = u11 * m\n",
    "h12 = (v2 - 1.159) / (1.159 - 1.188) * (2693.6 - 2711.4) + 2693.6\n",
    "U12 = m * h12\n",
    "Q11 = U12 - U11\n",
    "print(Q11)"
   ]
  },
  {
   "cell_type": "code",
   "execution_count": 91,
   "id": "ac734452-4419-4f51-b615-ff185a39afcb",
   "metadata": {},
   "outputs": [],
   "source": [
    "u12 = (v2 - 1.159) / (1.159 - 1.188) * (2519.7 - 2533.3) + 2519.7\n",
    "E12 = m * u12"
   ]
  },
  {
   "cell_type": "code",
   "execution_count": 93,
   "id": "c74747d4-19aa-45b3-9ce4-16b914431843",
   "metadata": {},
   "outputs": [
    {
     "name": "stdout",
     "output_type": "stream",
     "text": [
      "0.157130460770743\n"
     ]
    }
   ],
   "source": [
    "u4 = (v2 - 1.341) / (1.341 - 1.187) * (3300.8 - 3130) + 3300.8\n",
    "E4 = m * u4\n",
    "Q4 = E4 - E12\n",
    "print(Q4)"
   ]
  },
  {
   "cell_type": "code",
   "execution_count": 95,
   "id": "aba0aab1-9a46-4eb2-93f7-d0be9468f62f",
   "metadata": {},
   "outputs": [],
   "source": [
    "Q = Q11 + Q4"
   ]
  },
  {
   "cell_type": "code",
   "execution_count": 99,
   "id": "c3efb7be-1134-4e4d-a509-2200541e722d",
   "metadata": {},
   "outputs": [
    {
     "data": {
      "text/plain": [
       "0.609059713701006"
      ]
     },
     "execution_count": 99,
     "metadata": {},
     "output_type": "execute_result"
    }
   ],
   "source": [
    "Q"
   ]
  },
  {
   "cell_type": "markdown",
   "id": "a61dbc35-1dcf-404c-a8e7-3938252acccf",
   "metadata": {},
   "source": [
    "## 3"
   ]
  },
  {
   "cell_type": "code",
   "execution_count": 138,
   "id": "1d0eed6c-8e0c-4d15-93c6-849231b36b59",
   "metadata": {},
   "outputs": [],
   "source": [
    "import numpy as np\n",
    "\n",
    "p1 = 5.00 # c\n",
    "p2 = 3.00 # MPa\n",
    "T1 = 500.00 # K\n",
    "m = 2.13 # kg"
   ]
  },
  {
   "cell_type": "code",
   "execution_count": 144,
   "id": "aa3e7b7e-d397-4720-b09a-32e670a44c2d",
   "metadata": {},
   "outputs": [
    {
     "name": "stdout",
     "output_type": "stream",
     "text": [
      "1315789.4736842106 789473.6842105263 1.1764705882352942\n",
      "412.83520316238133\n"
     ]
    }
   ],
   "source": [
    "p1 = p1 * 10 ** 6\n",
    "p2 = p2 * 10 ** 6\n",
    "Tc = 425\n",
    "Pc = 38 * 10 ** 5\n",
    "T11 = T1 / Tc\n",
    "p11 = p1 / Pc\n",
    "p22 = p2 / Pc\n",
    "print(p11,p22,T11)\n",
    "z = 0.7\n",
    "C1 = m / 58.12 * 8.314 * T1 * z\n",
    "V1 = C1 / p1\n",
    "C2 = p1 * V1 ** 1.6\n",
    "V2 = (C2 / p2) ** (1/1.6)\n",
    "print(T2)"
   ]
  },
  {
   "cell_type": "code",
   "execution_count": 148,
   "id": "480fca58-d14e-458f-b494-c7857a14e521",
   "metadata": {},
   "outputs": [
    {
     "name": "stdout",
     "output_type": "stream",
     "text": [
      "0.0309850306341409\n"
     ]
    }
   ],
   "source": [
    "def f(x):\n",
    "    return C2 / x ** 1.6\n",
    "W = sp.integrate(f(x),(x,V1,V2))\n",
    "print(W/1000)"
   ]
  },
  {
   "cell_type": "code",
   "execution_count": 120,
   "id": "87d949dd-3606-4fcf-982a-e6972db4e734",
   "metadata": {},
   "outputs": [
    {
     "data": {
      "text/plain": [
       "4.277161046111494e-05"
      ]
     },
     "execution_count": 120,
     "metadata": {},
     "output_type": "execute_result"
    }
   ],
   "source": [
    "V1"
   ]
  },
  {
   "cell_type": "markdown",
   "id": "d3dd4304-b71f-439f-86ef-8feb4bba5fb4",
   "metadata": {},
   "source": [
    "## 4"
   ]
  },
  {
   "cell_type": "code",
   "execution_count": 4,
   "id": "bea6e822-8ff0-446b-a54e-5dbec39c43ac",
   "metadata": {},
   "outputs": [],
   "source": [
    "import numpy as np\n",
    "\n",
    "V = 0.0400 # m^3\n",
    "m_dot = 0.0038 # kg/s\n",
    "T = 20.0000 # ℃\n",
    "p = 4.0000 # bars"
   ]
  },
  {
   "cell_type": "code",
   "execution_count": 6,
   "id": "55067403-eab7-4398-b201-22708a65549e",
   "metadata": {},
   "outputs": [
    {
     "name": "stdout",
     "output_type": "stream",
     "text": [
      "0.10794 97.520064753323\n"
     ]
    }
   ],
   "source": [
    "m = V / 0.05397\n",
    "t = m / 2 / m_dot\n",
    "v = V / (m / 2)\n",
    "print(v,t)"
   ]
  },
  {
   "cell_type": "code",
   "execution_count": 8,
   "id": "be7081d3-61fd-4e16-95ac-fc5a56c87c10",
   "metadata": {},
   "outputs": [
    {
     "name": "stdout",
     "output_type": "stream",
     "text": [
      "2.1203007518796992\n"
     ]
    }
   ],
   "source": [
    "p_final = (v - 0.11394) / (0.11394 - 0.09399) * (2-2.4) + 2\n",
    "print(p_final)"
   ]
  },
  {
   "cell_type": "markdown",
   "id": "51d59d64-8267-48aa-8071-fea59de91b17",
   "metadata": {},
   "source": [
    "## 5"
   ]
  },
  {
   "cell_type": "code",
   "execution_count": 165,
   "id": "c11fa93f-b045-45a0-8c5c-7baa7e1d11ad",
   "metadata": {},
   "outputs": [],
   "source": [
    "import numpy as np\n",
    "import math as m\n",
    "mdot_3 = 41000.00 # kg/h\n",
    "x3 = 89.00\n",
    "p1 = 3.00 # MPa\n",
    "p2 = 0.50 # Mpa\n",
    "p3 = 6.00 # kPa\n",
    "T1 = 400.00 # ℃\n",
    "T2 = 180.00 # ℃\n",
    "AV1 = 85.00 # m^3/min\n",
    "V2 = 20.00 # m/s"
   ]
  },
  {
   "cell_type": "code",
   "execution_count": 167,
   "id": "fd8b9b73-331d-45ce-94e8-5d46da4a7dba",
   "metadata": {},
   "outputs": [
    {
     "data": {
      "text/plain": [
       "(0.2715389020619214, 11782.508567460318)"
      ]
     },
     "execution_count": 167,
     "metadata": {},
     "output_type": "execute_result"
    }
   ],
   "source": [
    "#提取处管道指的是2号管道\n",
    "m1 = AV1/0.0994/60 #kg/s\n",
    "m3 = mdot_3/3600 #kg/s\n",
    "s = (m1-m3)*0.4045/V2 #体积\n",
    "d = m.sqrt(s/m.pi*4)\n",
    "#利用焓来计算\n",
    "h1 = 3230.9\n",
    "h2 = 2812.0\n",
    "#假设是1kg的气液混合物\n",
    "m_vapor = x3/100\n",
    "m_liquid = 1-x3/100\n",
    "h3 = m_liquid*151.53+m_vapor*2567.4\n",
    "w = m1*h1-m3*h3-(m1-m3)*h2\n",
    "d,w"
   ]
  },
  {
   "cell_type": "code",
   "execution_count": 15,
   "id": "277ba9dc-af71-47de-88b3-984397b22c48",
   "metadata": {},
   "outputs": [],
   "source": [
    "import numpy as np\n",
    "import math as m\n",
    "W = 5.00 # kW\n",
    "p1 = 0.20 # Mpa\n",
    "p2 = 1.00 # MPa\n",
    "T1 = 0.00 # ℃\n",
    "T2 = 50.00 # ℃\n",
    "Vdot = 0.60 # m^3/min\n",
    "D1 = 3.00 # cm\n",
    "D2 = 1.50 # cm"
   ]
  },
  {
   "cell_type": "code",
   "execution_count": 17,
   "id": "8327b85f-744b-4c0a-8dee-b5b3c2ac8e9b",
   "metadata": {
    "scrolled": true
   },
   "outputs": [
    {
     "data": {
      "text/plain": [
       "-2.1202151632891337"
      ]
     },
     "execution_count": 17,
     "metadata": {},
     "output_type": "execute_result"
    }
   ],
   "source": [
    "m1 = Vdot/60/0.10438 #kg/s\n",
    "#因为1Mpa小于12bar，所以还是气态\n",
    "#进去多少就出来多少，所以m3 = m1\n",
    "m3 = m1\n",
    "s1 = m.pi*(D1/2/100)**2\n",
    "s2 = m.pi*(D2/2/100)**2\n",
    "v1 = Vdot/60/s1\n",
    "v3 = m3*0.02171/s2\n",
    "h1 = 250.1\n",
    "h3 = 280.19\n",
    "Q = -(W+m1*h1-m3*h3-m1*(v3**2-v1**2)/2000)\n",
    "Q"
   ]
  },
  {
   "cell_type": "code",
   "execution_count": 132,
   "id": "9bb818e1-fba5-4d59-9a54-da5c5ecff503",
   "metadata": {},
   "outputs": [],
   "source": [
    "import numpy as np\n",
    "\n",
    "p1 = 5.00 # c\n",
    "p2 = 3.00 # MPa\n",
    "T1 = 500.00 # K\n",
    "m = 4.65 # kg"
   ]
  },
  {
   "cell_type": "code",
   "execution_count": 134,
   "id": "ed949cbf-ca47-4c19-91ee-6d5706ffee02",
   "metadata": {},
   "outputs": [
    {
     "name": "stdout",
     "output_type": "stream",
     "text": [
      "1.1764705882352942 1.3157894736842106\n"
     ]
    }
   ],
   "source": [
    "p1 = p1 * 10 ** 6\n",
    "R = 8.314 # J / Mol * K\n",
    "p2 = p2 * 10 ** 6\n",
    "mc = 58.12\n",
    "n = m / mc * 1000\n",
    "Tc = 425\n",
    "Pc = 38 * 10 ** 5\n",
    "P1 = p1 / Pc\n",
    "P2 = p2 / Pc\n",
    "T11 = T1 / Tc\n",
    "print(T11, P1)"
   ]
  },
  {
   "cell_type": "code",
   "execution_count": 140,
   "id": "6936e27f-c0dc-455d-9b82-81a5d0ced6e7",
   "metadata": {},
   "outputs": [
    {
     "name": "stdout",
     "output_type": "stream",
     "text": [
      "0.04589722814865795\n",
      "0.48421723292566365 0.020384180846343324 0.6663397324319753\n",
      "0.7894736842105263\n"
     ]
    }
   ],
   "source": [
    "z1 = 0.69\n",
    "V1 = z1 * n * 8.314 * T1 / p1\n",
    "print(V1)\n",
    "C = p1 * V1 ** 1.6\n",
    "V2 = (C / p2) ** (1/1.6)\n",
    "Vc = 0.274 * 8.314 * n * Tc / Pc\n",
    "v1 = V1 / m\n",
    "v2 = V2 / m\n",
    "Vr2 = v2 / Vc\n",
    "Vr1 = v1 / Vc\n",
    "print(Vr1, Vc, Vr2)\n",
    "print(P2)"
   ]
  },
  {
   "cell_type": "code",
   "execution_count": 144,
   "id": "e8337630-d1d1-4a1c-b589-67fba1d17fe4",
   "metadata": {},
   "outputs": [
    {
     "name": "stdout",
     "output_type": "stream",
     "text": [
      "474.7604836367388\n"
     ]
    }
   ],
   "source": [
    "Z2 = 0.6\n",
    "T2 = p2 * V2 / n / 8.314 / Z2\n",
    "print(T2)"
   ]
  },
  {
   "cell_type": "code",
   "execution_count": 146,
   "id": "ba39fc94-3acb-43cb-9ba1-c78ec5a2e8e8",
   "metadata": {},
   "outputs": [
    {
     "data": {
      "text/plain": [
       "37.75926"
      ]
     },
     "execution_count": 146,
     "metadata": {},
     "output_type": "execute_result"
    }
   ],
   "source": [
    "24.519 * 1.54"
   ]
  },
  {
   "cell_type": "code",
   "execution_count": null,
   "id": "05274687-e276-426c-8e14-0ffda7d7dba2",
   "metadata": {},
   "outputs": [],
   "source": []
  }
 ],
 "metadata": {
  "kernelspec": {
   "display_name": "Python [conda env:base] *",
   "language": "python",
   "name": "conda-base-py"
  },
  "language_info": {
   "codemirror_mode": {
    "name": "ipython",
    "version": 3
   },
   "file_extension": ".py",
   "mimetype": "text/x-python",
   "name": "python",
   "nbconvert_exporter": "python",
   "pygments_lexer": "ipython3",
   "version": "3.12.7"
  }
 },
 "nbformat": 4,
 "nbformat_minor": 5
}
