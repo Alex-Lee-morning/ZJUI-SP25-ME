{
 "cells": [
  {
   "cell_type": "code",
   "execution_count": 2,
   "id": "37bf013c-cefb-4fc4-914c-1b6b4be9d40a",
   "metadata": {},
   "outputs": [],
   "source": [
    "import numpy as np\n",
    "import sympy as sp\n",
    "import math as m"
   ]
  },
  {
   "cell_type": "code",
   "execution_count": 3,
   "id": "14d7e292-4636-44b9-8dc5-2c9293f7411a",
   "metadata": {},
   "outputs": [
    {
     "name": "stdout",
     "output_type": "stream",
     "text": [
      "0.0006806044111857051\n"
     ]
    }
   ],
   "source": [
    "L = 2\n",
    "d= 10 * 10 ** -3\n",
    "s = d ** 2 / 4 * m.pi\n",
    "P = 980\n",
    "F = P / 2 * 3\n",
    "E = 55 * 10 ** 9\n",
    "sigma = F / s\n",
    "delta = sigma / E\n",
    "delta_l = delta * L\n",
    "theta = delta_l / 1\n",
    "print(theta)"
   ]
  },
  {
   "cell_type": "code",
   "execution_count": 4,
   "id": "16446e3f-2d4d-477b-9563-ff11863c099c",
   "metadata": {},
   "outputs": [
    {
     "name": "stdout",
     "output_type": "stream",
     "text": [
      "{delta1: 0.000171787955701708, delta2: 2.17879557017076e-5}\n",
      "-112.434954084936 -3.56504591506378\n"
     ]
    }
   ],
   "source": [
    "gap = 0.15 * 10 ** -3\n",
    "P = 116 * 10 ** 3\n",
    "E = 200 * 10 ** 9\n",
    "L1 = 600 * 10 ** -3\n",
    "L2 = L1\n",
    "D1 = 50 * 10 ** -3\n",
    "D2 = 25 * 10 ** -3\n",
    "S1 = D1 ** 2 / 4 * m.pi\n",
    "S2 = D2 ** 2 / 4 * m.pi\n",
    "delta1 = sp.symbols(\"delta1\")\n",
    "delta2 = sp.symbols(\"delta2\")\n",
    "eq1 = sp.Eq(delta1 - delta2 - gap,0)\n",
    "F1 = delta1 / L1 * E * S1\n",
    "F2 = delta2 / L2 * E * S2\n",
    "eq2 = sp.Eq(F1 - P + F2, 0)\n",
    "sol = sp.solve((eq1,eq2),(delta1,delta2))\n",
    "print(sol)\n",
    "delta1 = sol[delta1]\n",
    "delta2 = sol[delta2]\n",
    "F1 = delta1 / L1 * E * S1\n",
    "F2 = delta2 / L2 * E * S2\n",
    "print(-F1 / 1000, -F2 / 1000)"
   ]
  },
  {
   "cell_type": "code",
   "execution_count": 5,
   "id": "c767defa-7cf4-4d86-a3fe-d2c473f16b4d",
   "metadata": {},
   "outputs": [
    {
     "name": "stdout",
     "output_type": "stream",
     "text": [
      "0.0012080135988365914\n"
     ]
    }
   ],
   "source": [
    "L = 1709 * 10 ** -3\n",
    "di = 22 * 10 ** -3\n",
    "do = 40 * 10 ** -3\n",
    "G = 40 * 10 ** 9\n",
    "T = 1003\n",
    "S = do ** 2 / 4 * m.pi\n",
    "tor_max = T * (do/2) / ((do/2) ** 4 - (di/2) ** 4) / (m.pi/2)\n",
    "tor = tor_max * di / do\n",
    "gamma = tor / G\n",
    "print(gamma)"
   ]
  },
  {
   "cell_type": "code",
   "execution_count": 26,
   "id": "b126429b-7516-42aa-a6ff-e4f50fd3e93f",
   "metadata": {
    "scrolled": true
   },
   "outputs": [
    {
     "name": "stdout",
     "output_type": "stream",
     "text": [
      "140.490162509520\n",
      "0.0667794871794871\n"
     ]
    }
   ],
   "source": [
    "a = 1283 * 10 ** -3\n",
    "b = 1532 * 10 ** -3\n",
    "G = 52 * 10 ** 9\n",
    "tor_allow = 34 * 10 ** 6\n",
    "d = 30 * 10 ** -3\n",
    "S = d ** 2 / 4 * m.pi\n",
    "P = sp.symbols(\"P\")\n",
    "M = P * a\n",
    "c = d / 2\n",
    "J = m.pi / 2 * c ** 4\n",
    "tor_max = M * c / J\n",
    "eq = sp.Eq(tor_max - tor_allow, 0)\n",
    "P = sp.solve(eq, P)[0]\n",
    "print(P)\n",
    "theta = P * a * b / J / G\n",
    "print(theta)"
   ]
  },
  {
   "cell_type": "code",
   "execution_count": 64,
   "id": "bdc2c4ed-7961-40e7-9652-048d7d549dd7",
   "metadata": {},
   "outputs": [
    {
     "name": "stdout",
     "output_type": "stream",
     "text": [
      "0.023181916469073253\n"
     ]
    }
   ],
   "source": [
    "L1 = 334 * 10 ** -3\n",
    "d1 = 69 * 10 ** -3\n",
    "G1 = 43 * 10 ** 9\n",
    "L2 = 337 * 10 ** -3\n",
    "d2 = 42 * 10 ** -3\n",
    "G2 = 33 * 10 ** 9\n",
    "Tb = 900\n",
    "Tc = 713\n",
    "c1 = d1 / 2\n",
    "c2 = d2 / 2\n",
    "J1 = m.pi / 2 * c1 ** 4\n",
    "J2 = m.pi / 2 * c2 ** 4\n",
    "gamma1 = Tc * L2 / G2 / J2\n",
    "gamma2 = (Tc - Tb) * L1 / G1 / J1\n",
    "print(gamma1 + gamma2)"
   ]
  },
  {
   "cell_type": "code",
   "execution_count": 88,
   "id": "c7aa2c6f-1309-436b-b4da-4f703a6d3de3",
   "metadata": {},
   "outputs": [
    {
     "name": "stdout",
     "output_type": "stream",
     "text": [
      "0.03498799313893653\n"
     ]
    }
   ],
   "source": [
    "L = 1736 * 10 ** -3\n",
    "r = 22 * 10 ** -3\n",
    "G = 53 * 10 ** 9\n",
    "tor = 47 * 10 ** 6\n",
    "FS = 2\n",
    "S = r ** 2 * m.pi\n",
    "tor_max = tor / FS\n",
    "J = m.pi / 2 * r ** 4\n",
    "Moment = tor_max * J / r\n",
    "theta = Moment * L / G / J ## Why 4?\n",
    "print(theta)"
   ]
  },
  {
   "cell_type": "code",
   "execution_count": 94,
   "id": "4352004d-65c3-4814-b32b-c6203160130d",
   "metadata": {},
   "outputs": [
    {
     "name": "stdout",
     "output_type": "stream",
     "text": [
      "{tor1: 0.0909456817667975, tor2: 0.0727565454134380}\n"
     ]
    }
   ],
   "source": [
    "L = 43\n",
    "Ga = 4000\n",
    "Gs = 10000\n",
    "da = 4\n",
    "ds = 2\n",
    "c1 = ds / 2\n",
    "c2 = da / 2\n",
    "Tb = 1\n",
    "J1 = m.pi / 2 * c1 ** 4\n",
    "J2 = m.pi / 2 * (c2 ** 4 - c1 ** 4)\n",
    "tor1 = sp.symbols(\"tor1\")\n",
    "tor2 = sp.symbols(\"tor2\")\n",
    "T1 = tor1 / c1 * J1\n",
    "T2 = tor2 / c2 * J2\n",
    "theta1 = T1 * L / Gs / J1\n",
    "theta2 = T2 * L / Ga / J2\n",
    "eq1 = sp.Eq(theta1 - theta2, 0 )\n",
    "eq2 = sp.Eq(T1 + T2 - Tb, 0)\n",
    "sol = sp.solve((eq1,eq2),(tor1,tor2))\n",
    "print(sol)"
   ]
  },
  {
   "cell_type": "code",
   "execution_count": 208,
   "id": "326cbb4d-5936-42ac-bb91-e18518bbd526",
   "metadata": {},
   "outputs": [
    {
     "name": "stdout",
     "output_type": "stream",
     "text": [
      "[(0.0383763009380756, 4.68750000000000e-5), (0.111623699061924, 4.68750000000000e-5), (0.075 - 0.0366236990619244*I, 4.68750000000000e-5), (0.075 + 0.0366236990619244*I, 4.68750000000000e-5)]\n"
     ]
    }
   ],
   "source": [
    "tall = 72 * 10 ** 6\n",
    "ro = 150 / 2 * 10 ** -3\n",
    "Tmax = 45 * 10 ** 3\n",
    "t,J = sp.symbols('t,J')\n",
    "eq1 = np.pi/2 * (ro ** 4 - (ro - t) ** 4) - J\n",
    "eq2 = tall * J / ro - Tmax\n",
    "result = sp.solve((eq1,eq2),(t,J))\n",
    "print(result)"
   ]
  },
  {
   "cell_type": "code",
   "execution_count": 214,
   "id": "138d7c5c-0eb5-4a7e-a204-56d78de430b9",
   "metadata": {},
   "outputs": [
    {
     "name": "stdout",
     "output_type": "stream",
     "text": [
      "52.661562052465364 31.596937231479217\n"
     ]
    }
   ],
   "source": [
    "T = 9 * 10 ** 3\n",
    "ra = 30 * 10 ** -3\n",
    "rb = 50 * 10 ** -3\n",
    "J = (rb ** 4 - ra ** 4) * m.pi / 2\n",
    "tor = T / J * rb\n",
    "print(tor / 1000000, tor * ra / rb / 1000000)"
   ]
  },
  {
   "cell_type": "code",
   "execution_count": 222,
   "id": "2ed023bb-7a19-4e0e-bdbe-422d3c73f290",
   "metadata": {},
   "outputs": [
    {
     "name": "stdout",
     "output_type": "stream",
     "text": [
      "0.036881331945889696\n"
     ]
    }
   ],
   "source": [
    "Rb = 107 * 10 ** -3\n",
    "Rc = 31 * 10 ** -3\n",
    "ft = 4 * 10 ** -6\n",
    "Td = 714\n",
    "Fc = Td / Rc\n",
    "Fb = Fc\n",
    "Tb = Fb * Rb\n",
    "thetac = Td * ft\n",
    "thetab = Tb * ft\n",
    "theta = thetac + thetab * Rb / Rc\n",
    "print(theta)"
   ]
  },
  {
   "cell_type": "code",
   "execution_count": 128,
   "id": "cd153e3f-0992-4923-90c6-077d05d694de",
   "metadata": {},
   "outputs": [
    {
     "data": {
      "text/plain": [
       "0.15"
      ]
     },
     "execution_count": 128,
     "metadata": {},
     "output_type": "execute_result"
    }
   ],
   "source": []
  },
  {
   "cell_type": "code",
   "execution_count": null,
   "id": "b432badd-b11a-4c49-a582-794cc999896d",
   "metadata": {},
   "outputs": [],
   "source": []
  }
 ],
 "metadata": {
  "kernelspec": {
   "display_name": "Python [conda env:base] *",
   "language": "python",
   "name": "conda-base-py"
  },
  "language_info": {
   "codemirror_mode": {
    "name": "ipython",
    "version": 3
   },
   "file_extension": ".py",
   "mimetype": "text/x-python",
   "name": "python",
   "nbconvert_exporter": "python",
   "pygments_lexer": "ipython3",
   "version": "3.12.7"
  }
 },
 "nbformat": 4,
 "nbformat_minor": 5
}
