{
 "cells": [
  {
   "cell_type": "markdown",
   "id": "7ff9a50d-f00b-439c-8ce3-6a0b4eb8b612",
   "metadata": {},
   "source": [
    "## HW2"
   ]
  },
  {
   "cell_type": "code",
   "execution_count": 3,
   "id": "10849c24-3771-4ae5-ba5d-2346452d23ee",
   "metadata": {},
   "outputs": [],
   "source": [
    "import numpy as np\n",
    "import sympy as sp\n",
    "delta_U21 = 20.00 # kJ\n",
    "Q31 = 10.00 # kJ\n",
    "P1 = 5.00 # kPa\n",
    "P2 = 3.00 # kPa\n",
    "P3 = 1.00 # kPa\n",
    "V1 = 1.00 # m^3\n",
    "V2 = 5.00 # m^3\n",
    "V3 = 1.00 # m^3"
   ]
  },
  {
   "cell_type": "markdown",
   "id": "1370be2b-41b0-47c5-a46d-e439cbcb3c0b",
   "metadata": {},
   "source": [
    "## HW3"
   ]
  },
  {
   "cell_type": "code",
   "execution_count": 5,
   "id": "ebc1614c-2974-4e50-a2a2-b9a60273e7ae",
   "metadata": {},
   "outputs": [],
   "source": [
    "import numpy as np\n",
    "\n",
    "m = 8.65 # kg\n",
    "x_quality = 0.69 # "
   ]
  },
  {
   "cell_type": "code",
   "execution_count": 6,
   "id": "db7fd266-6431-4dc5-9f84-4443e13889dc",
   "metadata": {},
   "outputs": [
    {
     "name": "stdout",
     "output_type": "stream",
     "text": [
      "0.594990583025\n"
     ]
    }
   ],
   "source": [
    "vf = 0.5 * (0.7498 + 0.7569) * 10 ** -3\n",
    "vg = 0.5 * (0.0919 + 0.1068)\n",
    "v = x_quality * vg + (1 - x_quality) * vf\n",
    "V = v * m\n",
    "print(V)"
   ]
  },
  {
   "cell_type": "code",
   "execution_count": 7,
   "id": "35a9d0df-5a2d-43f5-a76f-d166b88f9055",
   "metadata": {},
   "outputs": [],
   "source": [
    "import numpy as np\n",
    "\n",
    "m = 8.07 # kg\n",
    "x_quality = 0.50 # \n",
    "P_initial = 20.00 # bars"
   ]
  },
  {
   "cell_type": "code",
   "execution_count": 8,
   "id": "dbd00651-2686-410e-b0d4-970b608c5b82",
   "metadata": {},
   "outputs": [
    {
     "name": "stdout",
     "output_type": "stream",
     "text": [
      "0.4067550345\n",
      "0.05040335\n"
     ]
    }
   ],
   "source": [
    "vf = 1.1767 * 10 ** -3\n",
    "vg = 0.09963\n",
    "v = x_quality * vg + (1 - x_quality) * vf\n",
    "V = m * v\n",
    "print(V)\n",
    "vf1 = V / m\n",
    "print(vf1)"
   ]
  },
  {
   "cell_type": "code",
   "execution_count": 9,
   "id": "335c67e2-0922-4d76-b09d-0d96df17cea9",
   "metadata": {},
   "outputs": [
    {
     "name": "stdout",
     "output_type": "stream",
     "text": [
      "39.5724622770919\n"
     ]
    }
   ],
   "source": [
    "x = sp.symbols(\"x\")\n",
    "eq = x * 0.05707 + (1-x) * 0.04978 - vf1\n",
    "x = sp.solve(eq,x)[0]\n",
    "P = x * 35 + (1-x) * 40\n",
    "print(P)"
   ]
  },
  {
   "cell_type": "code",
   "execution_count": 10,
   "id": "349ac261-6d99-4d72-bea4-02c50d8b7d8d",
   "metadata": {},
   "outputs": [],
   "source": [
    "import numpy as np\n",
    "\n",
    "T = 40.00 # degree centigrade\n",
    "p = 7.50 # bars"
   ]
  },
  {
   "cell_type": "code",
   "execution_count": 11,
   "id": "d131cb62-2775-4d21-9621-58406a70153f",
   "metadata": {},
   "outputs": [
    {
     "name": "stdout",
     "output_type": "stream",
     "text": [
      "0.036345 275.19\n"
     ]
    }
   ],
   "source": [
    "v1 = 0.03906\n",
    "v2 = 0.03363\n",
    "v = 0.5 * (v1 + v2)\n",
    "h1 = 275.96\n",
    "h2 = 274.42\n",
    "h = 0.5 * (h1 + h2)\n",
    "print(v,h)"
   ]
  },
  {
   "cell_type": "code",
   "execution_count": 12,
   "id": "181b59b7-0022-4a34-9873-eed1eb17ab1c",
   "metadata": {},
   "outputs": [],
   "source": [
    "import numpy as np\n",
    "\n",
    "m = 0.3 # kg\n",
    "P1 = 40.0 # bars\n",
    "T1 = 180.0 # K\n",
    "P2 = 33.0 # bars"
   ]
  },
  {
   "cell_type": "code",
   "execution_count": 13,
   "id": "72158c7e-cd22-45d5-9378-399572bf2f1c",
   "metadata": {},
   "outputs": [
    {
     "name": "stdout",
     "output_type": "stream",
     "text": [
      "0.7920792079207921 0.6534653465346535\n",
      "1.1688311688311688\n"
     ]
    }
   ],
   "source": [
    "P1 = P1 * 10 ** 5\n",
    "P2 = P2 * 10 ** 5\n",
    "Pc = 50.5 * 10 ** 5\n",
    "Pr1 = P1 / Pc\n",
    "Pr2 = P2 / Pc\n",
    "print(Pr1,Pr2)\n",
    "Tr1 = T1 / 154\n",
    "print(Tr1)\n",
    "n = m / 32 * 1000"
   ]
  },
  {
   "cell_type": "code",
   "execution_count": 14,
   "id": "cb53c2ea-d1fe-48e9-bd7c-5e00f5923bfb",
   "metadata": {},
   "outputs": [
    {
     "name": "stdout",
     "output_type": "stream",
     "text": [
      "0.0029111990624999997\n"
     ]
    }
   ],
   "source": [
    "Z1 = 0.83\n",
    "v1 = Z1 * 8.314 * T1 * n / P1\n",
    "print(v1)"
   ]
  },
  {
   "cell_type": "code",
   "execution_count": 15,
   "id": "717ac2d0-90c8-4f84-8de7-b4e25ec9e37e",
   "metadata": {},
   "outputs": [
    {
     "name": "stdout",
     "output_type": "stream",
     "text": [
      "1.2247889610389608\n",
      "0.6534653465346535\n"
     ]
    }
   ],
   "source": [
    "V = v1 / m\n",
    "Tc = 154\n",
    "Vc = 8.314 / 32 * Tc / Pc * 1000\n",
    "Vr = V / Vc\n",
    "print(Vr)\n",
    "Pr2 = P2 / Pc\n",
    "print(Pr2)"
   ]
  },
  {
   "cell_type": "code",
   "execution_count": 16,
   "id": "60105d9c-8177-42dd-b562-8e53dc9a5395",
   "metadata": {},
   "outputs": [
    {
     "name": "stdout",
     "output_type": "stream",
     "text": [
      "1.0394248608534322\n",
      "160.07142857142856\n"
     ]
    }
   ],
   "source": [
    "Z2 = 0.77\n",
    "T2 = P2 * v1 / Z2 / n / 8.314\n",
    "tr = T2 / Tc\n",
    "print(tr)\n",
    "print(T2)"
   ]
  },
  {
   "cell_type": "code",
   "execution_count": 17,
   "id": "f996e0dc-5745-4213-92bb-0a1f538e59b7",
   "metadata": {},
   "outputs": [],
   "source": [
    "import numpy as np\n",
    "\n",
    "L1 = 29 # cm\n",
    "L2 = 22 # cm\n",
    "T = 150 # degree centigrade"
   ]
  },
  {
   "cell_type": "code",
   "execution_count": 18,
   "id": "02fdbb60-1d34-4938-8fe5-ebe7ad8c6c5b",
   "metadata": {},
   "outputs": [
    {
     "name": "stdout",
     "output_type": "stream",
     "text": [
      "0.0036462217713838733\n"
     ]
    }
   ],
   "source": [
    "vf = 1.0905 * 10 ** -3\n",
    "vg = 0.3928\n",
    "mf = L2 / vf\n",
    "mg = L1 / vg\n",
    "x = mg / (mg + mf)\n",
    "print(x)"
   ]
  },
  {
   "cell_type": "markdown",
   "id": "da7d487a-952e-4a49-8d70-7b378b181903",
   "metadata": {},
   "source": [
    "## HW4"
   ]
  },
  {
   "cell_type": "code",
   "execution_count": 135,
   "id": "94b148d7-9e3c-4737-989c-98b21073bf28",
   "metadata": {},
   "outputs": [],
   "source": [
    "import numpy as np\n",
    "import math as m\n",
    "x = 0.25\n",
    "m_piston = 40.00 # kg\n",
    "D = 10.00 # cm\n",
    "p_atm = 1.00 # bar\n",
    "p_final = 3.00 # bar\n",
    "g = 9.81 # m/s^2\n",
    "h1 = 1.00 # cm\n",
    "h2 = 4.00 # cm"
   ]
  },
  {
   "cell_type": "code",
   "execution_count": 21,
   "id": "c0c27ffb-f9bd-4af8-8b14-da527d6f60ab",
   "metadata": {},
   "outputs": [
    {
     "name": "stdout",
     "output_type": "stream",
     "text": [
      "1.4996191973540778\n"
     ]
    }
   ],
   "source": [
    "p_atm = p_atm * 10 ** 5\n",
    "p_final = p_final * 10 ** 5\n",
    "h1 = h1 * 10 ** -2\n",
    "h2 = h2 * 10 ** -2\n",
    "G_piston = m_piston * g\n",
    "D = D * 10 ** -2\n",
    "S = D ** 2 / 4 * m.pi\n",
    "P_piston = G_piston / S\n",
    "P = P_piston + p_atm\n",
    "print(P / 10 ** 5)"
   ]
  },
  {
   "cell_type": "code",
   "execution_count": 22,
   "id": "6172ac1d-66e8-47f4-b684-dd72ef47819e",
   "metadata": {},
   "outputs": [
    {
     "name": "stdout",
     "output_type": "stream",
     "text": [
      "0.2905396\n"
     ]
    }
   ],
   "source": [
    "vf = 1.0528 * 10 ** -3\n",
    "vg = 1.159\n",
    "v = x * vg + (1-x) * vf\n",
    "V1 = S * h1\n",
    "m = V1 / v\n",
    "print(v) ## P = "
   ]
  },
  {
   "cell_type": "code",
   "execution_count": null,
   "id": "ec4fcbf2-3f15-4efe-bf43-eb3293b881d9",
   "metadata": {},
   "outputs": [],
   "source": []
  },
  {
   "cell_type": "code",
   "execution_count": 23,
   "id": "da061b91-ad69-44af-9d7f-b74802d105a6",
   "metadata": {},
   "outputs": [
    {
     "name": "stdout",
     "output_type": "stream",
     "text": [
      "1.1621584\n"
     ]
    }
   ],
   "source": [
    "vg3 = 0.6058\n",
    "V2 = h2 * S\n",
    "vg3 = V2 / m\n",
    "print(vg3)"
   ]
  },
  {
   "cell_type": "code",
   "execution_count": 24,
   "id": "54927f93-54f5-4f78-9c2a-9ed00a2810ae",
   "metadata": {},
   "outputs": [],
   "source": [
    "y = sp.symbols(\"y\")\n",
    "eq = sp.Eq(y * 1.094 + (1-y) * 1.187, vg3)\n",
    "sol = sp.solve(eq,y)\n",
    "y = sol[0]\n",
    "u = y * 3030.6 + (1-y) * 3130\n",
    "u = u * 1000"
   ]
  },
  {
   "cell_type": "code",
   "execution_count": 25,
   "id": "a254a960-fd57-449e-bb03-72b906fc577a",
   "metadata": {},
   "outputs": [
    {
     "name": "stdout",
     "output_type": "stream",
     "text": [
      "[609.317918593428]\n"
     ]
    }
   ],
   "source": [
    "W_atm = p_atm * S * (h2 - h1)\n",
    "W_piston = G_piston * (h2 - h1)\n",
    "W_out = W_atm + W_piston\n",
    "Q = sp.symbols(\"Q\")\n",
    "eq = sp.Eq(Q - W_out + m * x * 2519.7 * 1000 + m * (1-x) * 466.94 * 1000 - m * u,0)\n",
    "sol = sp.solve(eq,Q)\n",
    "print(sol)"
   ]
  },
  {
   "cell_type": "code",
   "execution_count": 209,
   "id": "8ac8d9a8-aa94-43be-ac1d-e104a5754a0c",
   "metadata": {},
   "outputs": [],
   "source": [
    "import numpy as np\n",
    "\n",
    "p1 = 10.00 # bar\n",
    "x1 = 0.60\n",
    "m = 2.99 # kg\n",
    "p3 = 10.00 # bar\n",
    "Q23 = 228.00 # kJ"
   ]
  },
  {
   "cell_type": "code",
   "execution_count": 211,
   "id": "634f4ed6-46a1-44e0-a475-1c637a5bfd97",
   "metadata": {},
   "outputs": [
    {
     "name": "stdout",
     "output_type": "stream",
     "text": [
      "0.07776336\n"
     ]
    }
   ],
   "source": [
    "vf1 = 1.6584 * 10 ** -3\n",
    "vg1 = 0.1285\n",
    "v1 = x1 * vg1 + (1-x1) * vf1\n",
    "V = m * v1\n",
    "v2 = v1\n",
    "print(v2)"
   ]
  },
  {
   "cell_type": "code",
   "execution_count": 229,
   "id": "639069a1-650b-4b82-9507-ffc7fbf7bb7d",
   "metadata": {},
   "outputs": [
    {
     "name": "stdout",
     "output_type": "stream",
     "text": [
      "42.3710497237569\n"
     ]
    }
   ],
   "source": [
    "y = sp.symbols(\"y\")\n",
    "eq = sp.Eq(y * 0.08079 + (1-y) * 0.07174 - 0.078,0)\n",
    "y = sp.solve(eq,y)[0]\n",
    "T2 = y * 41.03 + (1-y) * 45.38\n",
    "print(T2)"
   ]
  },
  {
   "cell_type": "code",
   "execution_count": 215,
   "id": "84450b29-cef4-4625-b075-dfabd7523fa0",
   "metadata": {},
   "outputs": [
    {
     "name": "stdout",
     "output_type": "stream",
     "text": [
      "42.4847938121547\n"
     ]
    }
   ],
   "source": [
    "uf1 = 296.1\n",
    "ug1 = 1334.66\n",
    "Q12 = m * u2 - m * x1 * ug1 - m * (1-x1) * uf1\n",
    "W23 = Q23\n",
    "T3 = T2\n",
    "print(T3)"
   ]
  },
  {
   "cell_type": "code",
   "execution_count": 217,
   "id": "d4101dca-8c34-4f68-a8a0-a07c6f35fccb",
   "metadata": {},
   "outputs": [
    {
     "name": "stdout",
     "output_type": "stream",
     "text": [
      "41.1712107625459\n",
      "0.751520618784531 42.4847938121547\n"
     ]
    }
   ],
   "source": [
    "x = sp.symbols(\"x\")\n",
    "eq = sp.Eq(x * 40 + (1-x) * 50 - T3, 0)\n",
    "x = sp.solve(eq,x)[0]\n",
    "vg = x * 0.13868 + (1-x) * 0.14499\n",
    "V3 = m * vg\n",
    "W31 = p1 * 10 ** 5 * (V - V3) / 1000\n",
    "W23 = Q23\n",
    "W_total = W31 + W23\n",
    "print(W_total)\n",
    "print(x,T3)"
   ]
  },
  {
   "cell_type": "code",
   "execution_count": 219,
   "id": "e2942118-f3ec-4ef3-b332-10f4ddc66777",
   "metadata": {},
   "outputs": [
    {
     "name": "stdout",
     "output_type": "stream",
     "text": [
      "1261.89261536000 -1448.72140459745\n"
     ]
    }
   ],
   "source": [
    "Q12 = m * u2 - m * x1 * ug1 - m * (1-x1) * uf1\n",
    "Q31 = sp.symbols(\"Q31\")\n",
    "eq = sp.Eq(Q12 + Q31 + Q23 - W31 - W23,0)\n",
    "Q31 = sp.solve(eq,Q31)[0]\n",
    "print(Q12,Q31)"
   ]
  },
  {
   "cell_type": "code",
   "execution_count": 233,
   "id": "e657d8c7-fe7a-471d-9188-c6f900c2d0ab",
   "metadata": {},
   "outputs": [
    {
     "data": {
      "text/latex": [
       "$\\displaystyle -0.186828789237454$"
      ],
      "text/plain": [
       "-0.186828789237454"
      ]
     },
     "execution_count": 233,
     "metadata": {},
     "output_type": "execute_result"
    }
   ],
   "source": [
    "V - V3"
   ]
  },
  {
   "cell_type": "code",
   "execution_count": 239,
   "id": "f981797a-fdb9-4a11-b12f-f44231b9816a",
   "metadata": {},
   "outputs": [
    {
     "data": {
      "text/latex": [
       "$\\displaystyle -186.828789237454$"
      ],
      "text/plain": [
       "-186.828789237454"
      ]
     },
     "execution_count": 239,
     "metadata": {},
     "output_type": "execute_result"
    }
   ],
   "source": [
    "W31"
   ]
  },
  {
   "cell_type": "markdown",
   "id": "044b30b6-5341-4c07-bee9-869f6d81ac27",
   "metadata": {},
   "source": [
    "## 4"
   ]
  },
  {
   "cell_type": "code",
   "execution_count": 80,
   "id": "96cd1d91-8b5d-452d-8479-5cbc3e00ebf9",
   "metadata": {},
   "outputs": [],
   "source": [
    "import numpy as np\n",
    "\n",
    "V = 0.0500 # m^3\n",
    "m_dot = 0.0038 # kg/s\n",
    "T = 20.0000 # ℃\n",
    "p = 4.0000 # bars"
   ]
  },
  {
   "cell_type": "code",
   "execution_count": 82,
   "id": "420e2117-20b7-4ea5-997e-f1017a92cfc0",
   "metadata": {},
   "outputs": [
    {
     "name": "stdout",
     "output_type": "stream",
     "text": [
      "121.90008094165377\n"
     ]
    }
   ],
   "source": [
    "vg = 0.05397\n",
    "m = V / vg\n",
    "t = m / 2 / m_dot\n",
    "print(t)"
   ]
  },
  {
   "cell_type": "code",
   "execution_count": 84,
   "id": "c560c10e-8251-4cc3-960d-d31f6fc49641",
   "metadata": {},
   "outputs": [
    {
     "name": "stdout",
     "output_type": "stream",
     "text": [
      "0.10794\n"
     ]
    }
   ],
   "source": [
    "v = V / m * 2\n",
    "print(v)"
   ]
  },
  {
   "cell_type": "code",
   "execution_count": 86,
   "id": "1b1c0878-87a9-45ea-a3ad-dbd7f05dda69",
   "metadata": {},
   "outputs": [
    {
     "name": "stdout",
     "output_type": "stream",
     "text": [
      "2.12030075187970\n"
     ]
    }
   ],
   "source": [
    "x = sp.symbols(\"x\")\n",
    "eq = sp.Eq(x * 0.11394 + (1-x) * 0.09399 - v,0)\n",
    "x = sp.solve(eq,x)[0]\n",
    "p = x * 2 + (1-x) * 2.4\n",
    "print(p)"
   ]
  },
  {
   "cell_type": "code",
   "execution_count": 76,
   "id": "cc86b2c7-7931-49ea-a114-0170a1467b6a",
   "metadata": {},
   "outputs": [
    {
     "data": {
      "text/latex": [
       "$\\displaystyle -4.71127819548872$"
      ],
      "text/plain": [
       "-4.71127819548872"
      ]
     },
     "execution_count": 76,
     "metadata": {},
     "output_type": "execute_result"
    }
   ],
   "source": [
    "x"
   ]
  },
  {
   "cell_type": "markdown",
   "id": "ea1c6279-3f46-4e8b-86a5-f098c717349f",
   "metadata": {},
   "source": [
    "## 5"
   ]
  },
  {
   "cell_type": "code",
   "execution_count": 107,
   "id": "b22b5fbf-ce49-4927-8e87-92fbba60fc4c",
   "metadata": {},
   "outputs": [],
   "source": [
    "import numpy as np\n",
    "\n",
    "mdot_3 = 38000.00 # kg/h\n",
    "x3 = 82.00\n",
    "p1 = 3.00 # MPa\n",
    "p2 = 0.50 # Mpa\n",
    "p3 = 6.00 # kPa\n",
    "T1 = 400.00 # ℃\n",
    "T2 = 180.00 # ℃\n",
    "AV1 = 85.00 # m^3/min\n",
    "V2 = 20.00 # m/s"
   ]
  },
  {
   "cell_type": "code",
   "execution_count": 241,
   "id": "027e16f1-d295-40d8-9308-144bd7654379",
   "metadata": {},
   "outputs": [
    {
     "ename": "NameError",
     "evalue": "name 'm_dot_3' is not defined",
     "output_type": "error",
     "traceback": [
      "\u001b[0;31m---------------------------------------------------------------------------\u001b[0m",
      "\u001b[0;31mNameError\u001b[0m                                 Traceback (most recent call last)",
      "Cell \u001b[0;32mIn[241], line 1\u001b[0m\n\u001b[0;32m----> 1\u001b[0m m_dot_3 \u001b[38;5;241m=\u001b[39m m_dot_3 \u001b[38;5;241m/\u001b[39m \u001b[38;5;241m3600\u001b[39m\n\u001b[1;32m      2\u001b[0m AV1 \u001b[38;5;241m=\u001b[39m AV1 \u001b[38;5;241m/\u001b[39m \u001b[38;5;241m60\u001b[39m\n",
      "\u001b[0;31mNameError\u001b[0m: name 'm_dot_3' is not defined"
     ]
    }
   ],
   "source": [
    "m_dot_3 = m_dot_3 / 3600\n",
    "AV1 = AV1 / 60\n"
   ]
  },
  {
   "cell_type": "markdown",
   "id": "6059195c-3bad-4ddb-a67a-91ecf1e339ac",
   "metadata": {},
   "source": [
    "## 6"
   ]
  },
  {
   "cell_type": "code",
   "execution_count": 262,
   "id": "b857a517-f7f7-4023-aab8-c31e8b52a8ad",
   "metadata": {},
   "outputs": [],
   "source": [
    "import numpy as np\n",
    "\n",
    "W = 5.00 # kW\n",
    "p1 = 0.20 # Mpa\n",
    "p2 = 1.00 # MPa\n",
    "T1 = 0.00 # ℃\n",
    "T2 = 50.00 # ℃\n",
    "Vdot = 0.60 # m^3/min\n",
    "D1 = 3.00 # cm\n",
    "D2 = 1.50 # cm"
   ]
  },
  {
   "cell_type": "code",
   "execution_count": 264,
   "id": "a50b585b-3a15-42be-92d3-5faead3e0bec",
   "metadata": {},
   "outputs": [
    {
     "name": "stdout",
     "output_type": "stream",
     "text": [
      "-2.12021516328914\n"
     ]
    }
   ],
   "source": [
    "import math as m\n",
    "D1 = D1 * 10 ** -2\n",
    "D2 = D2 * 10 ** -2\n",
    "S1 = D1 ** 2 / 4 * m.pi\n",
    "S2 = D2 ** 2 / 4 * m.pi\n",
    "Vdot = Vdot / 60\n",
    "mdot = Vdot / 0.10438\n",
    "v_ex = mdot * 0.02171\n",
    "V_o = v_ex / S2\n",
    "V_i = Vdot / S1\n",
    "h2 = 280.19 * 10 ** 3\n",
    "h1 = 250.1 * 10 ** 3\n",
    "Q = sp.symbols(\"Q\")\n",
    "W = W * 10 ** 3\n",
    "eq = sp.Eq(Q + W + mdot * (h1 - h2 + V_i ** 2 / 2 - V_o ** 2 / 2), 0)\n",
    "Q = sp.solve(eq,Q)[0]\n",
    "print(Q / 1000)"
   ]
  },
  {
   "cell_type": "markdown",
   "id": "9d3cad40-23b6-4785-9d6c-18761fde0a0c",
   "metadata": {},
   "source": [
    "## 3"
   ]
  },
  {
   "cell_type": "code",
   "execution_count": 339,
   "id": "65dc60e7-8a04-4e37-9ae7-8ab043bd17ab",
   "metadata": {},
   "outputs": [],
   "source": [
    "import numpy as np\n",
    "\n",
    "p1 = 5.00 # c\n",
    "p2 = 3.00 # MPa\n",
    "T1 = 500.00 # K\n",
    "m = 4.18 # kg"
   ]
  },
  {
   "cell_type": "code",
   "execution_count": 341,
   "id": "7a647c8a-de96-46c3-930a-a4bee081d2b9",
   "metadata": {},
   "outputs": [
    {
     "name": "stdout",
     "output_type": "stream",
     "text": [
      "1.1764705882352942 1.3157894736842106 0.7894736842105263\n"
     ]
    }
   ],
   "source": [
    "M = 58.12 / 1000\n",
    "pc = 38 * 10 ** 5\n",
    "p1 = p1 * 10 ** 6\n",
    "p2 = p2 * 10 ** 6\n",
    "Tc = 425\n",
    "pr1 = p1 / pc\n",
    "pr2 = p2 / pc\n",
    "Tr = T1 / Tc\n",
    "print(Tr, pr1,pr2)"
   ]
  },
  {
   "cell_type": "code",
   "execution_count": 343,
   "id": "35f89701-420c-4c24-85d0-bf068f4e0bf0",
   "metadata": {},
   "outputs": [
    {
     "name": "stdout",
     "output_type": "stream",
     "text": [
      "0.04066020922229869 0.009727322780454233\n"
     ]
    }
   ],
   "source": [
    "Z1 = 0.68\n",
    "v1 = Z1 * 8.314 / M * T1 / p1\n",
    "V1 = v1 * m\n",
    "print(V1,v1)"
   ]
  },
  {
   "cell_type": "code",
   "execution_count": 345,
   "id": "8a343122-7c8f-4d38-8ef9-61db06bdc908",
   "metadata": {},
   "outputs": [
    {
     "name": "stdout",
     "output_type": "stream",
     "text": [
      "0.01582260005705954\n"
     ]
    }
   ],
   "source": [
    "C = p1 * V1 ** 1.05\n",
    "V2 = (C / p2) ** (1/1.05)\n",
    "v2 = V2 / m\n",
    "print(v2)"
   ]
  },
  {
   "cell_type": "code",
   "execution_count": 347,
   "id": "d56e7850-77f6-4748-bcb0-6c76983f0b83",
   "metadata": {},
   "outputs": [
    {
     "name": "stdout",
     "output_type": "stream",
     "text": [
      "0.9889813519936441\n"
     ]
    }
   ],
   "source": [
    "vc = 8.314 / M * Tc / pc\n",
    "vr = v2 / vc\n",
    "print(vr)"
   ]
  },
  {
   "cell_type": "code",
   "execution_count": 349,
   "id": "1f990f5a-fc88-44a5-9d45-b5061583c789",
   "metadata": {},
   "outputs": [
    {
     "name": "stdout",
     "output_type": "stream",
     "text": [
      "442.4390258918934\n"
     ]
    }
   ],
   "source": [
    "Z2 = 0.75\n",
    "T2 = p2 * v2 / Z2 / 8.314 * M\n",
    "print(T2)"
   ]
  },
  {
   "cell_type": "code",
   "execution_count": null,
   "id": "acaf0cae-93d0-4be3-8875-6346efaf3767",
   "metadata": {},
   "outputs": [],
   "source": []
  }
 ],
 "metadata": {
  "kernelspec": {
   "display_name": "Python [conda env:base] *",
   "language": "python",
   "name": "conda-base-py"
  },
  "language_info": {
   "codemirror_mode": {
    "name": "ipython",
    "version": 3
   },
   "file_extension": ".py",
   "mimetype": "text/x-python",
   "name": "python",
   "nbconvert_exporter": "python",
   "pygments_lexer": "ipython3",
   "version": "3.12.7"
  }
 },
 "nbformat": 4,
 "nbformat_minor": 5
}
