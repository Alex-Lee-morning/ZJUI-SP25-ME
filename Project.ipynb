{
 "cells": [
  {
   "cell_type": "code",
   "execution_count": 2,
   "id": "b3aecd67-fec5-4689-9e33-76771c0d737c",
   "metadata": {},
   "outputs": [],
   "source": [
    "import matplotlib.pyplot as plt\n",
    "import numpy as np\n",
    "import sympy as sp\n",
    "import math as m"
   ]
  },
  {
   "cell_type": "code",
   "execution_count": 3,
   "id": "bdb9ed77-1587-4501-8fdf-4bd11c12b72c",
   "metadata": {},
   "outputs": [],
   "source": [
    "P_human = 104 # W 人体产热\n",
    "P_com = 100 # W 电脑产热\n",
    "L_window = 0.5 # m 窗户长度\n",
    "H_window = 1 # m 窗户高度\n",
    "theta = np.linspace(0, np.pi / 3, 300) # rads 开窗角度\n",
    "S_window = 2 * H_window * L_window * np.sin(theta / 2) #m^2 开窗面积（列表）\n",
    "V_dorm = 9 * 5 # m^3 寝室面积\n",
    "V_dot = 650 / 3600 # m^3 / s 寝室体积\n",
    "v_air = 0.1 # m/s 外界空气流速"
   ]
  },
  {
   "cell_type": "code",
   "execution_count": 15,
   "id": "8b2b8eda-f422-4baf-8e18-fedfce117297",
   "metadata": {},
   "outputs": [
    {
     "data": {
      "text/plain": [
       "int"
      ]
     },
     "execution_count": 15,
     "metadata": {},
     "output_type": "execute_result"
    }
   ],
   "source": [
    "type(np.size(S_window))"
   ]
  },
  {
   "cell_type": "code",
   "execution_count": 4,
   "id": "a01d1ef8-0eb3-4965-b2ea-779038aa18c0",
   "metadata": {},
   "outputs": [],
   "source": [
    "#Summer\n",
    "T_H = 25 + 273 #外界温度 \n",
    "T_in0 = T_H #内部起始温度\n",
    "P_ac = 2600 # W 空调输出功率\n",
    "P_in = 570 # W 空调输入功率\n",
    "COP = P_ac / P_in #空调效率系数\n",
    "h_air = 1 #外界空气enthalpy\n",
    "cp_air = 1 # Specific Heat of Air inside\n",
    "v_air = 1 # Specific volume of Air inside"
   ]
  },
  {
   "cell_type": "code",
   "execution_count": 5,
   "id": "f4026a99-9f47-404e-a392-9588ac5a4944",
   "metadata": {},
   "outputs": [],
   "source": [
    "def delta_E(T_i, T_f, S_window): \n",
    "# Input: T_initial T_final S_window \n",
    "# Output: Time to equivalence\n",
    "    Size = np.size(S_window)\n",
    "    for i in range(Size):\n",
    "        S_win = S_window[i]\n",
    "        "
   ]
  }
 ],
 "metadata": {
  "kernelspec": {
   "display_name": "Python [conda env:base] *",
   "language": "python",
   "name": "conda-base-py"
  },
  "language_info": {
   "codemirror_mode": {
    "name": "ipython",
    "version": 3
   },
   "file_extension": ".py",
   "mimetype": "text/x-python",
   "name": "python",
   "nbconvert_exporter": "python",
   "pygments_lexer": "ipython3",
   "version": "3.12.7"
  }
 },
 "nbformat": 4,
 "nbformat_minor": 5
}
