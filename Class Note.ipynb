{
 "cells": [
  {
   "cell_type": "code",
   "execution_count": 1,
   "id": "c3ff22d6-a2a3-417a-a2d6-970117612f3e",
   "metadata": {},
   "outputs": [],
   "source": [
    "import math as m\n",
    "import sympy as sp"
   ]
  },
  {
   "cell_type": "markdown",
   "id": "9292f544-3eec-479b-992f-8982af283e3e",
   "metadata": {},
   "source": [
    "## 4.2 Example 1"
   ]
  },
  {
   "cell_type": "code",
   "execution_count": 3,
   "id": "0a412aeb-12a7-4dd1-b453-807832eaa7e6",
   "metadata": {},
   "outputs": [
    {
     "name": "stdout",
     "output_type": "stream",
     "text": [
      "0.001142857142857143 0.003055774907364391 delta_C 0.004198632050221534\n"
     ]
    }
   ],
   "source": [
    "A1 = 400 * 10 ** -6\n",
    "L1 = 400 * 10 ** -3\n",
    "L2 = 600 * 10 ** -3\n",
    "P = 80 * 1000\n",
    "D = 10 * 10 ** -3\n",
    "S = 0.25 * m.pi * D ** 2\n",
    "Est = 200 * 10 ** 9\n",
    "Eal = 70 * 10 ** 9\n",
    "delta1 = L1 * P / (Eal * A1)\n",
    "delta2 = L2 * P / (Est * S)\n",
    "delta = delta1 + delta2\n",
    "print(delta1, delta2, \"delta_C\",delta)"
   ]
  },
  {
   "cell_type": "markdown",
   "id": "8da1fa24-6508-4558-9229-167eeb67e75a",
   "metadata": {},
   "source": [
    "## 4.2 Example 2"
   ]
  },
  {
   "cell_type": "code",
   "execution_count": 5,
   "id": "248c63f8-ce99-4472-a3dc-a9cfa5d11d95",
   "metadata": {},
   "outputs": [
    {
     "name": "stdout",
     "output_type": "stream",
     "text": [
      "0.28647889756541167 mm 0.102313891987647 mm 0.22509056237282343 mm\n"
     ]
    }
   ],
   "source": [
    "D1 = 20 * 10 ** -3\n",
    "L = 300 * 10 ** -3\n",
    "S1 = 0.25 * m.pi * D1 ** 2\n",
    "D2 = 40 * 10 ** -3\n",
    "S2 = 0.25 * m.pi * D2 ** 2\n",
    "Est = 200 * 10 ** 9\n",
    "Eal = 70 * 10 ** 9\n",
    "P1 = 60 * 10 ** 3\n",
    "P2 = 30 * 10 ** 3\n",
    "delta1 = P1 * L / (Est * S1)\n",
    "delta2 = P2 * L / (Eal * S2)\n",
    "delta = 2/3 * delta1 + 1/3 * delta2\n",
    "print(delta1 * 1000, 'mm' ,delta2 * 1000, 'mm', delta * 1000, 'mm')"
   ]
  },
  {
   "cell_type": "markdown",
   "id": "84250dbb-1858-4829-81af-830d7b841882",
   "metadata": {},
   "source": [
    "## 4.2 Example 3"
   ]
  },
  {
   "cell_type": "code",
   "execution_count": 7,
   "id": "5de14927-c83b-4d95-8e38-85d644ed8656",
   "metadata": {},
   "outputs": [
    {
     "data": {
      "text/latex": [
       "$\\displaystyle \\frac{0.166666666666667 L_{0}^{2} P}{E}$"
      ],
      "text/plain": [
       "0.166666666666667*L0**2*P/E"
      ]
     },
     "execution_count": 7,
     "metadata": {},
     "output_type": "execute_result"
    }
   ],
   "source": [
    "y = sp.symbols(\"y\")\n",
    "E = sp.symbols(\"E\")\n",
    "r0 = sp.symbols(\"r0\")\n",
    "L0 = sp.symbols(\"L0\")\n",
    "g = sp.symbols(\"g\")\n",
    "P = sp.symbols(\"P\") #密度\n",
    "x = sp.symbols(\"x\")\n",
    "k = r0 / L0\n",
    "def R(x):\n",
    "    return x * k\n",
    "def S(x):\n",
    "    return R(x) ** 2 * m.pi\n",
    "def G(x):\n",
    "    return 1/3 * m.pi * R(x) ** 2 * x * P\n",
    "def delta(x):\n",
    "    return G(x) / (E * S(x))\n",
    "delta = sp.integrate(delta(x), (x, 0, L0))\n",
    "delta"
   ]
  },
  {
   "cell_type": "code",
   "execution_count": 8,
   "id": "b515a155-25b5-4b68-b4bd-ce04d37a5d08",
   "metadata": {},
   "outputs": [
    {
     "data": {
      "text/latex": [
       "$\\displaystyle \\frac{1.0 L_{0}^{2} P}{E}$"
      ],
      "text/plain": [
       "1.0*L0**2*P/E"
      ]
     },
     "execution_count": 8,
     "metadata": {},
     "output_type": "execute_result"
    }
   ],
   "source": [
    "delta * 6"
   ]
  },
  {
   "cell_type": "markdown",
   "id": "d48d221b-a457-4500-ae09-ef82205d3237",
   "metadata": {},
   "source": [
    "## 4.4 Example 1"
   ]
  },
  {
   "cell_type": "code",
   "execution_count": 10,
   "id": "22c53d86-660e-4c15-96cd-715810a48e2a",
   "metadata": {},
   "outputs": [
    {
     "name": "stdout",
     "output_type": "stream",
     "text": [
      "[]\n",
      "0.005092958178940651\n"
     ]
    }
   ],
   "source": [
    "D = 10 * 10 ** -3\n",
    "A = D ** 2 / 4 * m.pi\n",
    "G = 0.2 * 10 ** -3\n",
    "P = 20 * 10 ** 3\n",
    "Est = 20 * 10 ** 9\n",
    "L1 = 400 * 10 ** -3\n",
    "L2 = 800 * 10 ** -3\n",
    "delta1 = P * L1 / (Est * A)\n",
    "if delta1 > G:\n",
    "    Fb = sp.symbols(\"Fb\")\n",
    "    Fa = sp.symbols(\"Fa\")\n",
    "    F1 = Fa\n",
    "    F2 = P - Fa\n",
    "    Delta1 = F1 * L1 / (Est * A)\n",
    "    Delta2 = -F2 * L2 / (Est * A)\n",
    "    eq1 = sp.Eq(Delta1 + Delta2 - G, 0)\n",
    "    eq2 = sp.Eq(F1 - F2 - P, 0)\n",
    "    Sol = sp.solve(eq1,eq2,(Fa,Fb))\n",
    "    print(Sol)\n",
    "print(delta1)"
   ]
  },
  {
   "cell_type": "markdown",
   "id": "251270f6-7fa1-4bcf-9c95-b52bd5361640",
   "metadata": {},
   "source": [
    "## 4.4 Example 2"
   ]
  },
  {
   "cell_type": "code",
   "execution_count": 12,
   "id": "400ddf84-7917-4df9-ba59-6fc5cb44314c",
   "metadata": {},
   "outputs": [],
   "source": [
    "F = 15 * 1000\n",
    "A1 = 50 * 10 ** -6\n",
    "A2 = 30 * 10 ** -6\n",
    "L = 0.5\n",
    "l = 0.2\n",
    "Fab = sp.symbols(\"Fab\")\n",
    "Fcd = sp.symbols(\"Fcd\")\n",
    "Fef = sp.symbols(\"Fef\")\n",
    "eq1 = sp.Eq(Fab + Fcd + Fef - F, 0) #力平衡\n",
    "eq2 = sp.Eq(Fab * 0.2 - Fcd * 0.2 - Fef * 0.6, 0) #力矩平衡\n",
    "eq3 = sp.Eq(Fab / A1 + Fef / A1 - 2 * Fcd / A2, 0) #拉伸平衡\n",
    "sol = sp.solve((eq1,eq2,eq3),(Fab,Fcd,Fef))"
   ]
  },
  {
   "cell_type": "code",
   "execution_count": 13,
   "id": "2bd69b16-0594-4109-a61e-1d8d7502b9eb",
   "metadata": {},
   "outputs": [
    {
     "name": "stdout",
     "output_type": "stream",
     "text": [
      "{Fab: 9519.23076923077, Fcd: 3461.53846153846, Fef: 2019.23076923077}\n"
     ]
    }
   ],
   "source": [
    "print(sol)"
   ]
  },
  {
   "cell_type": "markdown",
   "id": "465a423b-eb6f-4a5e-ac87-0a26bfdbf128",
   "metadata": {},
   "source": [
    "## 4.4 Example 3"
   ]
  },
  {
   "cell_type": "code",
   "execution_count": 15,
   "id": "06ec4965-d47c-498e-bc00-7b27f3413168",
   "metadata": {},
   "outputs": [
    {
     "name": "stdout",
     "output_type": "stream",
     "text": [
      "{Fal: 30000.0000000000, Fbr: 15000.0000000000}\n",
      "7.63943726841098 5.09295817894065\n"
     ]
    }
   ],
   "source": [
    "P = 45 * 10 ** 3\n",
    "Eal = 70 * 10 ** 9\n",
    "Ebr = 105 * 10 ** 9\n",
    "r1 = 25 * 10 ** -3\n",
    "r2 = 50 * 10 ** -3\n",
    "h = 0.5\n",
    "S1 = r1 ** 2 * m.pi\n",
    "S2 = r2 ** 2 * m.pi - S1\n",
    "S = S1 + S2\n",
    "Fbr = sp.symbols(\"Fbr\")\n",
    "Fal = sp.symbols(\"Fal\")\n",
    "eq1 = sp.Eq(Fbr + Fal - P, 0) #力平衡\n",
    "eq2 = sp.Eq(Fbr / S1 / Ebr - Fal / S2 / Eal, 0) #拉伸长度平衡\n",
    "sol = sp.solve((eq1,eq2),(Fbr,Fal))\n",
    "print(sol)\n",
    "sigma_br = sol[Fbr] / S1\n",
    "sigma_al = sol[Fal] / S2\n",
    "print(sigma_br / 1000000, sigma_al / 1000000)"
   ]
  },
  {
   "cell_type": "markdown",
   "id": "4c36eb1b-1f44-4481-bb14-237e5bf07e65",
   "metadata": {},
   "source": [
    "## 4.5 Example 1"
   ]
  },
  {
   "cell_type": "code",
   "execution_count": 17,
   "id": "bf78f6f2-8a53-47b1-b676-7200de3350b0",
   "metadata": {},
   "outputs": [
    {
     "name": "stdout",
     "output_type": "stream",
     "text": [
      "4.04867278867517 kN 15.9513272113248 kN\n"
     ]
    }
   ],
   "source": [
    "P = 20 * 10 ** 3\n",
    "L1 = 400 * 10 ** -3\n",
    "L2 = 800 * 10 ** -3\n",
    "delta = 0.2 * 10 ** -3\n",
    "d = 10 * 10 ** -3\n",
    "S = d ** 2 / 4 * m.pi\n",
    "Est = 200 * 10 ** 9\n",
    "Fb = sp.symbols(\"Fb\")\n",
    "delta_B = Fb / Est / S * (L1 + L2)\n",
    "delta_P = P  / Est / S * (L1)\n",
    "eq1 = sp.Eq(-delta_B + delta_P, delta)\n",
    "sol = sp.solve(eq1,Fb)\n",
    "Fb = sol[0]\n",
    "print(Fb / 1000, \"kN\", (P-Fb) / 1000, \"kN\")"
   ]
  },
  {
   "cell_type": "markdown",
   "id": "fc4711a9-90ae-4fcd-b60a-4617848d864d",
   "metadata": {},
   "source": [
    "## 4.6 Example 1"
   ]
  },
  {
   "cell_type": "code",
   "execution_count": 19,
   "id": "594cbd68-f6ef-4f5e-b63f-14149392bdca",
   "metadata": {},
   "outputs": [
    {
     "name": "stdout",
     "output_type": "stream",
     "text": [
      "72.0000000000000\n"
     ]
    }
   ],
   "source": [
    "T1 = 30\n",
    "T2 = 60\n",
    "delta_T = T2 - T1\n",
    "d = 10 * 10 ** -3\n",
    "S = d ** 2\n",
    "L = 1\n",
    "E = 200 * 10 ** 9 #查表\n",
    "alpha = 1.2 * 10 ** -5\n",
    "delta_t = alpha * delta_T * L\n",
    "sigma = sp.symbols(\"sigma\")\n",
    "delta_f = sigma * L / E\n",
    "eq = sp.Eq(delta_f,delta_t)\n",
    "sol = sp.solve(eq,sigma)\n",
    "print(sol[0] / 10 ** 6)"
   ]
  },
  {
   "cell_type": "markdown",
   "id": "ac5dfe79-f04a-4c23-bf3b-75c4db797b26",
   "metadata": {},
   "source": [
    "## 4.6 Example 2"
   ]
  },
  {
   "cell_type": "code",
   "execution_count": 21,
   "id": "71fd765f-54a7-4997-9427-2f22e84b06a2",
   "metadata": {},
   "outputs": [
    {
     "name": "stdout",
     "output_type": "stream",
     "text": [
      "-16.3848438263043 122.769687652609\n"
     ]
    }
   ],
   "source": [
    "h = 250 * 10 ** -3\n",
    "d1 = 40 * 10 ** -3\n",
    "d2 = 60 * 10 ** -3\n",
    "L = 300 * 10 ** -3\n",
    "k = 150 * 10 ** 3\n",
    "Est = 200 * 10 ** 9 #查表\n",
    "Eal = 73 * 10 ** 9 #查表\n",
    "alpha_st = 1.2 * 10 ** -5\n",
    "alpha_al = 2.3 * 10 ** -5\n",
    "T1 = 20\n",
    "T2 = 80\n",
    "delta_T = T2 - T1\n",
    "S1 = d1 ** 2 / 4 * m.pi\n",
    "S2 = d2 ** 2 / 4 * m.pi\n",
    "F1 = sp.symbols(\"F1\")\n",
    "F2 = sp.symbols(\"F2\")\n",
    "F = k * 2 * L\n",
    "eq1 = sp.Eq(2 * F1 + F2, F)\n",
    "delta_t1 = delta_T * h * alpha_st\n",
    "delta_t2 = delta_T * h * alpha_al\n",
    "eq2 = sp.Eq(delta_t1 - h * F1 / S1 / Est - (delta_t2 - h * F2 / S2 / Eal), 0)\n",
    "sol = sp.solve((eq1,eq2),(F1,F2))\n",
    "F1 = sol[F1] / 1000\n",
    "F2 = sol[F2] / 1000\n",
    "print(F1,F2)"
   ]
  },
  {
   "cell_type": "markdown",
   "id": "3a4e6f9a-16cd-4c59-998d-af4df58b8272",
   "metadata": {},
   "source": [
    "## 4.6 Example 3"
   ]
  },
  {
   "cell_type": "code",
   "execution_count": 23,
   "id": "975d9355-c6be-4842-9593-6469b76d0bb5",
   "metadata": {},
   "outputs": [
    {
     "name": "stdout",
     "output_type": "stream",
     "text": [
      "-20.2371567043619 20.2371567043619\n"
     ]
    }
   ],
   "source": [
    "L = 150 * 10 ** -3\n",
    "T1 = 15\n",
    "T2 = 80\n",
    "Est = 200 * 10 ** 9\n",
    "Eal = 73 * 10 ** 9\n",
    "alpha_st = 1.2 * 10 ** -5\n",
    "alpha_al = 2.3 * 10 ** -5\n",
    "delta_T = T2 - T1\n",
    "Ast = 400 * 10 ** -6\n",
    "Aal = 600 * 10 ** -6\n",
    "Fst = sp.symbols(\"Fst\")\n",
    "Fal = sp.symbols(\"Fal\")\n",
    "eq1 = sp.Eq(Fal + Fst,0)\n",
    "delta_t1 = delta_T * L * alpha_st\n",
    "delta_t2 = delta_T * L * alpha_al\n",
    "eq2 = sp.Eq(delta_t1 - L * Fst / Ast / Est - (delta_t2 - L * Fal / Aal / Eal), 0)\n",
    "sol = sp.solve((eq1,eq2),(Fst,Fal))\n",
    "Fst = sol[Fst] / 1000\n",
    "Fal = sol[Fal] / 1000\n",
    "print(Fst,Fal)"
   ]
  },
  {
   "cell_type": "markdown",
   "id": "4f0193e8-366a-4d9e-a9ad-301455f1ec1e",
   "metadata": {},
   "source": [
    "## 4.9 Example 1"
   ]
  },
  {
   "cell_type": "code",
   "execution_count": 25,
   "id": "4d937d7e-bb6d-4274-98fd-237ac7b3adde",
   "metadata": {},
   "outputs": [
    {
     "name": "stdout",
     "output_type": "stream",
     "text": [
      "0.5\n"
     ]
    }
   ],
   "source": [
    "t = 5 * 10 ** -3\n",
    "r = 10 * 10 ** -3\n",
    "w = 40 * 10 ** -3\n",
    "P = 8 * 10 ** 3\n",
    "h = 20 * 10 ** -3\n",
    "print((2 * r)/ w)"
   ]
  },
  {
   "cell_type": "code",
   "execution_count": 26,
   "id": "daea120c-ace8-4d0d-abe0-31496d6bf0b3",
   "metadata": {},
   "outputs": [
    {
     "name": "stdout",
     "output_type": "stream",
     "text": [
      "168.0 Mpa\n"
     ]
    }
   ],
   "source": [
    "K = 2.1\n",
    "sigma_avg = P / (w - 2 * r) / t\n",
    "sigma_max = K * sigma_avg\n",
    "print(sigma_max / 10 ** 6, \"Mpa\") #左侧"
   ]
  },
  {
   "cell_type": "code",
   "execution_count": 27,
   "id": "321664d7-7027-4b5d-b365-cdc5b3a452f4",
   "metadata": {},
   "outputs": [
    {
     "name": "stdout",
     "output_type": "stream",
     "text": [
      "2.0 0.5\n"
     ]
    }
   ],
   "source": [
    "print(w / h, r / h)"
   ]
  },
  {
   "cell_type": "code",
   "execution_count": 28,
   "id": "407cf295-5e14-445d-b767-3184ee00f988",
   "metadata": {},
   "outputs": [
    {
     "name": "stdout",
     "output_type": "stream",
     "text": [
      "112.0 Mpa\n"
     ]
    }
   ],
   "source": [
    "K = 1.4\n",
    "sigam_avg = P / h / t\n",
    "sigma_max = K * sigma_avg\n",
    "print(sigma_max / 10 ** 6, \"Mpa\") #右侧"
   ]
  },
  {
   "cell_type": "markdown",
   "id": "bf3cbaf7-4b03-4245-b03f-3d1e35c2cc55",
   "metadata": {},
   "source": [
    "## 4.9 Example 2"
   ]
  },
  {
   "cell_type": "code",
   "execution_count": 30,
   "id": "ed8759c8-0522-4bcc-8d98-f95b49242027",
   "metadata": {},
   "outputs": [
    {
     "name": "stdout",
     "output_type": "stream",
     "text": [
      "0.125 1.25\n"
     ]
    }
   ],
   "source": [
    "r = 4 * 10 ** -3\n",
    "t = 2 * 10 ** -3\n",
    "w = 40 * 10 ** -3\n",
    "h = w - 2 * r\n",
    "sigma_y = 250 * 10 ** 6\n",
    "print(r / h, w/ h)"
   ]
  },
  {
   "cell_type": "code",
   "execution_count": 31,
   "id": "c78989c9-d158-4343-ae52-fd356f439d6b",
   "metadata": {},
   "outputs": [
    {
     "name": "stdout",
     "output_type": "stream",
     "text": [
      "9.142857142857142\n"
     ]
    }
   ],
   "source": [
    "K = 1.75\n",
    "sigma_avg = sigma_y / K\n",
    "P = sigma_avg * t * h\n",
    "print(P / 1000)"
   ]
  },
  {
   "cell_type": "code",
   "execution_count": 32,
   "id": "af5ade12-12f4-4369-b5f8-5b361a2624f2",
   "metadata": {},
   "outputs": [
    {
     "name": "stdout",
     "output_type": "stream",
     "text": [
      "16.0 KN\n"
     ]
    }
   ],
   "source": [
    "P_max = sigma_y * t * h\n",
    "print(P_max / 1000, \"KN\")"
   ]
  }
 ],
 "metadata": {
  "kernelspec": {
   "display_name": "Python [conda env:base] *",
   "language": "python",
   "name": "conda-base-py"
  },
  "language_info": {
   "codemirror_mode": {
    "name": "ipython",
    "version": 3
   },
   "file_extension": ".py",
   "mimetype": "text/x-python",
   "name": "python",
   "nbconvert_exporter": "python",
   "pygments_lexer": "ipython3",
   "version": "3.12.7"
  }
 },
 "nbformat": 4,
 "nbformat_minor": 5
}
