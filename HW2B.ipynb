{
 "cells": [
  {
   "cell_type": "code",
   "execution_count": 2,
   "id": "0180caa7-2f45-4a4a-b8de-1fcdc5728405",
   "metadata": {},
   "outputs": [],
   "source": [
    "import numpy as np\n",
    "import sympy as sp\n",
    "import math as m"
   ]
  },
  {
   "cell_type": "code",
   "execution_count": 3,
   "id": "c1564612-64db-43fb-b041-81a9fe6c5ef6",
   "metadata": {},
   "outputs": [],
   "source": [
    "import numpy as np\n",
    "\n",
    "x = 2\n",
    "y = -1\n",
    "z = -4\n",
    "omega = np.array([0, 1, 0])"
   ]
  },
  {
   "cell_type": "code",
   "execution_count": 4,
   "id": "b6ff998e-1482-4588-839a-4433faa5ba23",
   "metadata": {},
   "outputs": [
    {
     "name": "stdout",
     "output_type": "stream",
     "text": [
      "[-4  0 -2]\n"
     ]
    }
   ],
   "source": [
    "r = np.array([x,y,z])\n",
    "v = np.cross(omega , r)\n",
    "print(v)"
   ]
  },
  {
   "cell_type": "code",
   "execution_count": 5,
   "id": "ab898961-7487-4f01-afa2-75369da1607e",
   "metadata": {},
   "outputs": [],
   "source": [
    "import numpy as np\n",
    "\n",
    "r = np.array([ 1, -1,  0])\n",
    "omegaz = -1"
   ]
  },
  {
   "cell_type": "code",
   "execution_count": 6,
   "id": "8061855a-4549-4c44-8228-c6b3bc49cdba",
   "metadata": {},
   "outputs": [
    {
     "name": "stdout",
     "output_type": "stream",
     "text": [
      "[-1 -1  0]\n"
     ]
    }
   ],
   "source": [
    "omegaz = np.array([0, 0, omegaz])\n",
    "v = np.cross(omegaz, r)\n",
    "print(v)"
   ]
  },
  {
   "cell_type": "code",
   "execution_count": 7,
   "id": "38dce473-7a1b-4bfa-b3ed-a887612a4eb4",
   "metadata": {},
   "outputs": [],
   "source": [
    "from sympy import *\n",
    "import numpy as np\n",
    "\n",
    "x = symbols('x')\n",
    "y = 2*cos(0.5*x)\n",
    "vx = 5\n",
    "x_v = 3*np.pi"
   ]
  },
  {
   "cell_type": "code",
   "execution_count": 8,
   "id": "c08c7e48-9be4-4977-b771-d078178d6058",
   "metadata": {},
   "outputs": [
    {
     "name": "stdout",
     "output_type": "stream",
     "text": [
      "5.00000000000000\n"
     ]
    }
   ],
   "source": [
    "v = vx * diff(y,x).subs(x,x_v)\n",
    "print(v)"
   ]
  },
  {
   "cell_type": "code",
   "execution_count": 43,
   "id": "c38c4797-6b59-4f45-9758-a010acec338d",
   "metadata": {},
   "outputs": [],
   "source": [
    "import numpy as np\n",
    "\n",
    "v = np.array([-3,  1,  0])\n",
    "omegaz = -4"
   ]
  },
  {
   "cell_type": "code",
   "execution_count": 45,
   "id": "e885a126-a8b8-46b1-b482-f93aeca0154c",
   "metadata": {},
   "outputs": [
    {
     "data": {
      "text/plain": [
       "{x: -1/4, y: -3/4}"
      ]
     },
     "execution_count": 45,
     "metadata": {},
     "output_type": "execute_result"
    }
   ],
   "source": [
    "x = sp.symbols(\"x\")\n",
    "y = sp.symbols(\"y\")\n",
    "r = np.array([x, y, 0])\n",
    "omegaz = np.array([0, 0, omegaz])\n",
    "V = np.cross(omegaz, r)\n",
    "E = V - v\n",
    "eq1 = E[0]\n",
    "eq2 = E[1]\n",
    "sp.solve((eq1,eq2),(x,y))"
   ]
  },
  {
   "cell_type": "code",
   "execution_count": 40,
   "id": "22bb818c-2ba4-4735-b569-93730a536599",
   "metadata": {},
   "outputs": [],
   "source": [
    "import numpy as np\n",
    "from sympy import *\n",
    "\n",
    "x = symbols('x')\n",
    "y = 2*sin(2*x)\n",
    "vxMag = 10"
   ]
  },
  {
   "cell_type": "code",
   "execution_count": 44,
   "id": "dcc88ebc-e74f-4757-a1c8-b5b35a554362",
   "metadata": {},
   "outputs": [
    {
     "name": "stdout",
     "output_type": "stream",
     "text": [
      "40*cos(2*x) -800\n"
     ]
    }
   ],
   "source": [
    "vy = vxMag * diff(y,x)\n",
    "ay = vxMag * diff(vy,x).subs(x, 5 / 4 * pi)\n",
    "print(vy,ay)"
   ]
  },
  {
   "cell_type": "code",
   "execution_count": 46,
   "id": "c516846b-9f49-44f2-8b67-4a677ab41a2b",
   "metadata": {},
   "outputs": [],
   "source": [
    "import numpy as np\n",
    "\n",
    "x = 2\n",
    "y = -4\n",
    "z = 1\n",
    "vMag = 6\n",
    "u = np.array([-1,  1, -5])"
   ]
  },
  {
   "cell_type": "code",
   "execution_count": null,
   "id": "83c8a627-ee6c-4b1a-81e7-c378ab8e0800",
   "metadata": {},
   "outputs": [],
   "source": [
    "u = u/ np.linalg.norm(u)\n",
    "v = np.cross(u, "
   ]
  }
 ],
 "metadata": {
  "kernelspec": {
   "display_name": "Python [conda env:base] *",
   "language": "python",
   "name": "conda-base-py"
  },
  "language_info": {
   "codemirror_mode": {
    "name": "ipython",
    "version": 3
   },
   "file_extension": ".py",
   "mimetype": "text/x-python",
   "name": "python",
   "nbconvert_exporter": "python",
   "pygments_lexer": "ipython3",
   "version": "3.12.7"
  }
 },
 "nbformat": 4,
 "nbformat_minor": 5
}
