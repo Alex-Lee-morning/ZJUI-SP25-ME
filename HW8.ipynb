{
 "cells": [
  {
   "cell_type": "code",
   "execution_count": 2,
   "id": "d2a7fed4-ca10-49de-9329-70f5f4c2d2a3",
   "metadata": {},
   "outputs": [],
   "source": [
    "from sympy import *\n",
    "\n",
    "price = 8.00 # cents/kwh\n",
    "T_H = 68.00 # F\n",
    "T_L = 35.00 # F\n",
    "Q_pump = 30000.00 # Btu/h\n",
    "W_input = 1.00 # hp"
   ]
  },
  {
   "cell_type": "code",
   "execution_count": 3,
   "id": "3cf8c82f-0084-4d5d-8859-54136ea3bf62",
   "metadata": {},
   "outputs": [
    {
     "name": "stdout",
     "output_type": "stream",
     "text": [
      "105.5715674916816 143.17437504\n"
     ]
    }
   ],
   "source": [
    "T_H = T_H + 459.67\n",
    "T_L = T_L + 459.67\n",
    "COP = T_H / (T_H - T_L)\n",
    "Wmin = Q_pump / COP\n",
    "Wmin = Wmin / 3412.14163312797 * 24#KW*h\n",
    "W_input = W_input * 0.74569987 * 24 #KW*h\n",
    "P_min = Wmin * price\n",
    "P_input = W_input * price\n",
    "print(P_min, P_input)"
   ]
  },
  {
   "cell_type": "code",
   "execution_count": 4,
   "id": "c2867a1b-6059-49dc-ad0b-76a688c1e434",
   "metadata": {},
   "outputs": [],
   "source": [
    "from sympy import *\n",
    "\n",
    "W_input = 1.00 # kW\n",
    "T_H = 20.00 # C\n",
    "Q = 3000.00 # kJ/h/C"
   ]
  },
  {
   "cell_type": "code",
   "execution_count": 5,
   "id": "7a9b6b80-6bc7-4ca1-98bd-a2603cf3a237",
   "metadata": {},
   "outputs": [
    {
     "name": "stdout",
     "output_type": "stream",
     "text": [
      "274.394200896789\n"
     ]
    }
   ],
   "source": [
    "T_H = T_H + 273.15\n",
    "T_L = symbols(\"T_L\")\n",
    "COP = (Q / 3600 * (T_H - T_L)) / W_input\n",
    "eq = Eq(T_H / (T_H - T_L), COP)\n",
    "T_L = solve(eq,T_L)[0]\n",
    "print(T_L)"
   ]
  },
  {
   "cell_type": "code",
   "execution_count": 6,
   "id": "e3676748-11be-4f40-9f1a-7d9c15d497d5",
   "metadata": {},
   "outputs": [],
   "source": [
    "from sympy import *\n",
    "\n",
    "T1 = 640.00 # F\n",
    "T2 = 40.00 # F\n",
    "x = 0.59"
   ]
  },
  {
   "cell_type": "code",
   "execution_count": 7,
   "id": "6c1f8972-206a-44c2-9293-fbc17e4ed36b",
   "metadata": {},
   "outputs": [
    {
     "name": "stdout",
     "output_type": "stream",
     "text": [
      "5.883950763040098\n",
      "54.56182309238227\n"
     ]
    }
   ],
   "source": [
    "m = 0.1 #lb\n",
    "n = 1 - (T2 +  459.67)/ (T1 + 459.67)\n",
    "R = 8.314 / 18\n",
    "Q12 = 0\n",
    "Q34 = 0\n",
    "u1f = 8.02\n",
    "u1g = 1023.9\n",
    "v1f = 0.01602\n",
    "v1g = 2445\n",
    "p1 = 0.1217 * 144\n",
    "p2 = 2057.1 * 144\n",
    "v2f = 0.02593\n",
    "v2g = 0.1805\n",
    "u2f = 668.7\n",
    "u2g = 1063.2\n",
    "W23 = m * p2 * (v2g - v2f) #lbf*ft\n",
    "W23 = W23 * 0.00128506746\n",
    "print(W23) #BTU\n",
    "print(n * 100)"
   ]
  },
  {
   "cell_type": "code",
   "execution_count": 8,
   "id": "fc0dc037-b738-4a43-9333-9c43328f16b8",
   "metadata": {},
   "outputs": [
    {
     "name": "stdout",
     "output_type": "stream",
     "text": [
      "45.3339507630401\n"
     ]
    }
   ],
   "source": [
    "delta_u23 = W23 + (u2g - u2f) * m\n",
    "print(delta_u23)"
   ]
  },
  {
   "cell_type": "code",
   "execution_count": 9,
   "id": "860768cd-96f9-4d75-b589-c71e3e485e28",
   "metadata": {},
   "outputs": [
    {
     "name": "stdout",
     "output_type": "stream",
     "text": [
      "45.581080000000014\n"
     ]
    }
   ],
   "source": [
    "u4 = x * u1g + (1-x) * u1f\n",
    "v4 = x * v1g + (1-x) * v1f\n",
    "W34 = (u2g - u4) * m\n",
    "print(W34)"
   ]
  },
  {
   "cell_type": "code",
   "execution_count": 10,
   "id": "dd940628-8b1f-476c-a981-958fc020b304",
   "metadata": {},
   "outputs": [
    {
     "name": "stdout",
     "output_type": "stream",
     "text": [
      "-20.59892074692248\n"
     ]
    }
   ],
   "source": [
    "Q41 = -delta_u23 * (T2 +  459.67)/ (T1 + 459.67)\n",
    "print(Q41)"
   ]
  },
  {
   "cell_type": "code",
   "execution_count": 11,
   "id": "c1ba545d-0997-4d26-978c-ee07dc2273de",
   "metadata": {},
   "outputs": [
    {
     "name": "stdout",
     "output_type": "stream",
     "text": [
      "433.849992530775 972.251480500957 0.397644920561384\n",
      "-1.05915293476625 972.251480500957 1442.5565682\n"
     ]
    }
   ],
   "source": [
    "hf = 8.02\n",
    "hg = 1078.9\n",
    "h4 = x * hg + (1-x) * hf\n",
    "Q41_dot = Q41 / m\n",
    "h1 = Q41_dot + h4\n",
    "y = symbols(\"y\")\n",
    "H = y * hg + (1-y) * hf\n",
    "eq = Eq(H,h1)\n",
    "y = solve(eq,y)[0]\n",
    "h1 = y * hg + (1-y) * hf\n",
    "v1 = y * v1g + (1-y) * v1f\n",
    "u1 = y * u1g + (1-y) * u1f\n",
    "print(h1,v1,y)\n",
    "W41 = m * p1 * (v1 - v4) * 0.00128506746\n",
    "print(W41,v1,v4)"
   ]
  },
  {
   "cell_type": "code",
   "execution_count": 12,
   "id": "e5199e71-4424-4d96-81ab-412e2d03c613",
   "metadata": {},
   "outputs": [
    {
     "name": "stdout",
     "output_type": "stream",
     "text": [
      "-25.6720478100101\n"
     ]
    }
   ],
   "source": [
    "W12 = m * (u1 - u2f)\n",
    "print(W12)"
   ]
  },
  {
   "cell_type": "code",
   "execution_count": 25,
   "id": "d85d39bf-a543-4a47-b2aa-64eebb0574c3",
   "metadata": {},
   "outputs": [],
   "source": [
    "from sympy import *\n",
    "\n",
    "p_a = 5.00 # MPa\n",
    "T_a = 400.00 # C\n",
    "p_b = 5.00 # Mpa\n",
    "T_b = 100.00 # C\n",
    "p_c = 5.00 # Mpa\n",
    "u_c = 2231.36 # kJ/kg"
   ]
  },
  {
   "cell_type": "code",
   "execution_count": 27,
   "id": "a603831f-75f8-415e-9843-bf3dd3e69203",
   "metadata": {},
   "outputs": [
    {
     "data": {
      "text/plain": [
       "6.6549"
      ]
     },
     "execution_count": 27,
     "metadata": {},
     "output_type": "execute_result"
    }
   ],
   "source": [
    "(6.7690 + 6.5408) * 0.5"
   ]
  },
  {
   "cell_type": "code",
   "execution_count": 29,
   "id": "61a87964-185f-4e1e-a80a-f528ce33ddf9",
   "metadata": {},
   "outputs": [
    {
     "data": {
      "text/plain": [
       "5.9796499999999995"
      ]
     },
     "execution_count": 29,
     "metadata": {},
     "output_type": "execute_result"
    }
   ],
   "source": [
    "(6.0701 + 5.8892) * 0.5"
   ]
  },
  {
   "cell_type": "code",
   "execution_count": 31,
   "id": "2c2ce3f7-bf5b-4f74-83ae-27ea06c3220d",
   "metadata": {},
   "outputs": [
    {
     "name": "stdout",
     "output_type": "stream",
     "text": [
      "[1017.00288184438]\n"
     ]
    }
   ],
   "source": [
    "s1 = 1.9263\n",
    "s2 = 1.9204\n",
    "s3 = 1.9551\n",
    "x = symbols(\"x\")\n",
    "eq = Eq((x - 1000) / 100, (s1 - s2) / (s3-s2))\n",
    "sol = solve(eq,x)\n",
    "print(sol)"
   ]
  },
  {
   "cell_type": "code",
   "execution_count": 33,
   "id": "9b7f5cea-db14-4dbb-a883-3ddb4304d0cd",
   "metadata": {},
   "outputs": [
    {
     "name": "stdout",
     "output_type": "stream",
     "text": [
      "6.71335\n"
     ]
    }
   ],
   "source": [
    "x1 = 0.75\n",
    "sf = 0.1510\n",
    "sg = 8.9008\n",
    "s = sg * x1 + (1-x1) * sf\n",
    "print(s)"
   ]
  },
  {
   "cell_type": "code",
   "execution_count": 35,
   "id": "b6707589-96d9-41ca-9dd6-77b4fe524dfd",
   "metadata": {},
   "outputs": [
    {
     "name": "stdout",
     "output_type": "stream",
     "text": [
      "[6.94179201430274]\n"
     ]
    }
   ],
   "source": [
    "s1 = 6.7502\n",
    "s2 = 6.6663\n",
    "p1 = 6.178\n",
    "p2 = 7.917\n",
    "x = symbols(\"x\")\n",
    "eq = Eq((x - p1) / (p2-p1), (s - s1) / (s2-s1))\n",
    "sol = solve(eq,x)\n",
    "print(sol)"
   ]
  },
  {
   "cell_type": "code",
   "execution_count": 39,
   "id": "26581607-1430-4c0b-8a3c-f4395803c948",
   "metadata": {},
   "outputs": [
    {
     "name": "stdout",
     "output_type": "stream",
     "text": [
      "0.188830019479179\n"
     ]
    }
   ],
   "source": [
    "s = 0.9264\n",
    "s1 = 0.0678\n",
    "s2 = 0.9395\n",
    "x = symbols(\"x\")\n",
    "eq = Eq(x * s2 + (1-x) * s1,s)\n",
    "x = solve(eq,x)[0]\n",
    "vf = 0.7258 * 10 ** -3\n",
    "vg = 0.1917\n",
    "v = x * vg + (1-x) * vf\n",
    "print(v)"
   ]
  },
  {
   "cell_type": "code",
   "execution_count": null,
   "id": "6df2fe4b-47cc-4e16-a616-a7a45729f9e0",
   "metadata": {},
   "outputs": [],
   "source": []
  }
 ],
 "metadata": {
  "kernelspec": {
   "display_name": "Python [conda env:base] *",
   "language": "python",
   "name": "conda-base-py"
  },
  "language_info": {
   "codemirror_mode": {
    "name": "ipython",
    "version": 3
   },
   "file_extension": ".py",
   "mimetype": "text/x-python",
   "name": "python",
   "nbconvert_exporter": "python",
   "pygments_lexer": "ipython3",
   "version": "3.12.7"
  }
 },
 "nbformat": 4,
 "nbformat_minor": 5
}
