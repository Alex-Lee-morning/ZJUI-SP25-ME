{
 "cells": [
  {
   "cell_type": "code",
   "execution_count": 2,
   "id": "4cccdd0e-3d41-4d33-99c2-bef2cef9b6de",
   "metadata": {},
   "outputs": [],
   "source": [
    "from sympy import *\n",
    "import math as m\n",
    "a = 651 # mm\n",
    "L = 2916 # mm\n",
    "P = 1012 # N\n",
    "theta = 54 # degrees\n",
    "b = 1166 # mm"
   ]
  },
  {
   "cell_type": "code",
   "execution_count": 3,
   "id": "ddead417-5d57-4267-908b-cdc13d4dec62",
   "metadata": {},
   "outputs": [],
   "source": [
    "theta = theta * m.pi / 180\n",
    "a = a / 1000\n",
    "L = L / 1000\n",
    "b = b / 1000"
   ]
  },
  {
   "cell_type": "code",
   "execution_count": 4,
   "id": "9e48a38d-b788-4159-80bf-b07293c2c8cc",
   "metadata": {},
   "outputs": [
    {
     "name": "stdout",
     "output_type": "stream",
     "text": [
      "-594.838675319983 818.725198307447 -1.82000907467134\n"
     ]
    }
   ],
   "source": [
    "Fy = -P * sin(theta)\n",
    "Fx = -P * cos(theta)\n",
    "l = L - b\n",
    "M = (Fy * l + Fx * a) / 1000\n",
    "print(Fx,-Fy,M)"
   ]
  },
  {
   "cell_type": "code",
   "execution_count": 107,
   "id": "90c89145-c4be-4aec-a121-d0966b070fac",
   "metadata": {},
   "outputs": [],
   "source": [
    "from sympy import *\n",
    "\n",
    "a = 334 # mm\n",
    "b = 220 # mm\n",
    "c = 271 # mm\n",
    "do = 85 # mm\n",
    "di = 77 # mm\n",
    "p = 561 # kPa\n",
    "Py = 336 # N\n",
    "Pz = 446 # N"
   ]
  },
  {
   "cell_type": "code",
   "execution_count": 6,
   "id": "d6c7da02-1d96-4f5d-a110-82b682f3c9e1",
   "metadata": {},
   "outputs": [],
   "source": [
    "a = a / 1000\n",
    "b = b / 1000\n",
    "c = c / 1000"
   ]
  },
  {
   "cell_type": "code",
   "execution_count": 7,
   "id": "48550e6f-5c2c-4690-960d-a72268a1aa75",
   "metadata": {},
   "outputs": [
    {
     "name": "stdout",
     "output_type": "stream",
     "text": [
      "399 -459 Matrix([[-218.373000000000], [-180.387000000000], [-156.807000000000]])\n"
     ]
    }
   ],
   "source": [
    "Fy = Matrix([0, -Py, 0])\n",
    "Fz = Matrix([0, 0, Pz])\n",
    "Vy = Py\n",
    "Vz = -Pz\n",
    "r = Matrix([a, -c, -b])\n",
    "F = Fy + Fz\n",
    "M = r.cross(F)\n",
    "print(Vy,Vz,M)"
   ]
  },
  {
   "cell_type": "code",
   "execution_count": 38,
   "id": "2fa1c3b1-a947-4f0b-a08e-8d061741326e",
   "metadata": {},
   "outputs": [],
   "source": [
    "from sympy import *\n",
    "\n",
    "a = 328 # mm\n",
    "b = 220 # mm\n",
    "c = 264 # mm\n",
    "do = 87 # mm\n",
    "di = 81 # mm\n",
    "p = 607 # kPa\n",
    "Py = 366 # N\n",
    "Pz = 448 # N"
   ]
  },
  {
   "cell_type": "code",
   "execution_count": 40,
   "id": "1b16f7c5-d1a7-4afa-981e-394ee96f77de",
   "metadata": {},
   "outputs": [],
   "source": [
    "a = a / 1000\n",
    "b = b / 1000\n",
    "c = c / 1000\n",
    "do = do / 1000\n",
    "di = di / 1000\n",
    "p = p * 1000"
   ]
  },
  {
   "cell_type": "code",
   "execution_count": 42,
   "id": "1efe39e6-8054-4b39-8803-b11bb4bbeac4",
   "metadata": {},
   "outputs": [
    {
     "name": "stdout",
     "output_type": "stream",
     "text": [
      "13.2398247955808\n",
      "8.194500000000012\n",
      "7.108058320004405 0.9238291961099611 6.184229123894444 0.46230721564788674\n"
     ]
    }
   ],
   "source": [
    "import math as m\n",
    "s = 0.25 * (do ** 2 - di ** 2) * m.pi\n",
    "ro = do / 2\n",
    "ri = di / 2\n",
    "s = 0.25 * (do ** 2 - di ** 2) * m.pi\n",
    "I = 1 / 4 * m.pi * (do ** 4 - di ** 4) / 16\n",
    "I1 = 1 / 2 * m.pi * (ro ** 4 - ri ** 4)\n",
    "Fy = Matrix([0, -Py, 0])\n",
    "Fz = Matrix([0, 0, Pz])\n",
    "r = Matrix([a, -c, -b])\n",
    "F = Fy + Fz\n",
    "M = r.cross(F)\n",
    "sigmax1 = p * di / 2 / (do - di) / 10 ** 6\n",
    "sigmax2 = M[1] * do / 2 / I / 10 ** 6\n",
    "print(sigmax1 - sigmax2)\n",
    "sigmay1 = M[0] / I1 * do / 2 / 10 ** 6\n",
    "sigmay2 = p * di / (do - di) / 10 ** 6\n",
    "print(sigmay2)\n",
    "torxy = (c * Pz + b * Py) * ro / I1 / 10 ** 6\n",
    "tory = Py / s / 10 ** 6\n",
    "tor3 = Py * (4 * ro / 3 / m.pi * m.pi * 0.5 * ro ** 2 - 4 * ri / 3 / m.pi * m.pi * 0.5 * ri ** 2) / (1 / 4 * m.pi * (ro ** 4 - ri ** 4)) / (do - di)\n",
    "#tor2 = Pz / s / 10 ** 6 + tor3 / 10 ** 6\n",
    "tor1 = torxy + tor3 / 10 ** 6\n",
    "#tor = (tor1 ** 2 + tor2 ** 2) ** 0.5\n",
    "print(tor1, tor3 / 10 ** 6, torxy, tory)\n"
   ]
  },
  {
   "cell_type": "code",
   "execution_count": 14,
   "id": "447ccfab-fbf8-4112-9242-fbf9c21a58ee",
   "metadata": {},
   "outputs": [],
   "source": [
    "from sympy import *\n",
    "\n",
    "b = 197.00 # mm\n",
    "t = 69.00 # mm\n",
    "P = 73.00 # kN"
   ]
  },
  {
   "cell_type": "code",
   "execution_count": 16,
   "id": "f6401655-05c3-44d1-a121-0ebe21adf26c",
   "metadata": {},
   "outputs": [],
   "source": [
    "b = b / 1000\n",
    "t = t / 1000\n",
    "P = P * 1000"
   ]
  },
  {
   "cell_type": "code",
   "execution_count": 18,
   "id": "0a8371eb-6a58-4734-a04f-d95ab6e0a0e2",
   "metadata": {},
   "outputs": [
    {
     "name": "stdout",
     "output_type": "stream",
     "text": [
      "65.6666666666668\n"
     ]
    }
   ],
   "source": [
    "s = b * t\n",
    "sigma1 = P / s\n",
    "I = 1 / 12 * t * b ** 3\n",
    "d = symbols(\"d\")\n",
    "x = b / 2 - d\n",
    "M = x * P\n",
    "sigma = M / I * b / 2\n",
    "eq = Eq(sigma,sigma1)\n",
    "sol = solve(eq,d)\n",
    "print(sol[0] * 1000)"
   ]
  },
  {
   "cell_type": "code",
   "execution_count": 20,
   "id": "94c28d75-e7eb-4133-b522-ddb6a748d033",
   "metadata": {},
   "outputs": [],
   "source": [
    "from sympy import *\n",
    "\n",
    "a = 311.00 # mm\n",
    "b = 200.00 # mm\n",
    "t = 65.00 # mm\n",
    "P = 75.00 # kN"
   ]
  },
  {
   "cell_type": "code",
   "execution_count": 22,
   "id": "b2c2bb4b-1a3a-4c2f-9a55-254cc288f400",
   "metadata": {},
   "outputs": [],
   "source": [
    "a = a / 1000\n",
    "b = b / 1000\n",
    "t = t / 1000\n",
    "P = P * 1000"
   ]
  },
  {
   "cell_type": "code",
   "execution_count": 24,
   "id": "c33ff510-3cd3-47e6-88d7-21f8449e0dfe",
   "metadata": {},
   "outputs": [
    {
     "name": "stdout",
     "output_type": "stream",
     "text": [
      "5.769230769230769\n"
     ]
    }
   ],
   "source": [
    "s = b * t\n",
    "N = P / s\n",
    "print(N / 10 ** 6)"
   ]
  },
  {
   "cell_type": "code",
   "execution_count": 26,
   "id": "f8359ffc-c195-472b-8bda-a19dceed022a",
   "metadata": {},
   "outputs": [],
   "source": [
    "s = b * t\n",
    "sigma1 = P / s\n",
    "I = 1 / 12 * t * b ** 3\n",
    "d = symbols(\"d\")\n",
    "x = b / 2 - d\n",
    "M = x * P\n",
    "sigma = M / I * b / 2\n",
    "eq = Eq(sigma,sigma1)\n",
    "sol = solve(eq,d)\n",
    "d = sol[0]"
   ]
  },
  {
   "cell_type": "code",
   "execution_count": 28,
   "id": "fe9c715e-cc40-43cc-927a-66db81874e00",
   "metadata": {},
   "outputs": [
    {
     "name": "stdout",
     "output_type": "stream",
     "text": [
      "66.6666666666667\n"
     ]
    }
   ],
   "source": [
    "print(d * 1000)"
   ]
  },
  {
   "cell_type": "code",
   "execution_count": 32,
   "id": "4c944ee0-35f0-4dac-a76a-a21c8b02a486",
   "metadata": {},
   "outputs": [],
   "source": [
    "from sympy import *\n",
    "\n",
    "p = 1021 # kPa\n",
    "T = 10 # kN.m\n",
    "V = 9 # kN\n",
    "L = 1350 # mm\n",
    "t = 15 # mm\n",
    "r = 225 # mm"
   ]
  },
  {
   "cell_type": "code",
   "execution_count": 34,
   "id": "3714dd40-b7a2-4c3e-bb10-dd4b3d9d65d7",
   "metadata": {},
   "outputs": [],
   "source": [
    "p = p * 1000\n",
    "T = T * 1000\n",
    "V = -V * 1000\n",
    "L = L / 1000\n",
    "t = t / 1000\n",
    "r = r / 1000"
   ]
  },
  {
   "cell_type": "code",
   "execution_count": 36,
   "id": "63a7e715-8ff5-4dca-bd07-8c06bbfb0a63",
   "metadata": {},
   "outputs": [
    {
     "name": "stdout",
     "output_type": "stream",
     "text": [
      "2.7390775080983545\n",
      "15.315\n",
      "-2.0240421777373028\n"
     ]
    }
   ],
   "source": [
    "I = 1 / 4 * m.pi * ((r+t) ** 4 - r ** 4)\n",
    "Mv = V * L\n",
    "sigmax1 = Mv / I * (r + t) / 10 ** 6\n",
    "sigmax2 = p * r / 2 / t / 10 ** 6\n",
    "print(sigmax1+sigmax2)\n",
    "s1 = 2 * r * L\n",
    "s2 = 2 * L * t\n",
    "sigmay = p * s1 / s2 / 10 ** 6\n",
    "print(sigmay)\n",
    "I1 = 1 / 2 * m.pi * ((r+t) ** 4 - r ** 4)\n",
    "tor = T * (t + r) / I1 / 10 ** 6\n",
    "print(-tor)"
   ]
  },
  {
   "cell_type": "code",
   "execution_count": null,
   "id": "ca1b32bb-e058-4b3f-92aa-bbfb7cc60898",
   "metadata": {},
   "outputs": [],
   "source": []
  }
 ],
 "metadata": {
  "kernelspec": {
   "display_name": "Python [conda env:base] *",
   "language": "python",
   "name": "conda-base-py"
  },
  "language_info": {
   "codemirror_mode": {
    "name": "ipython",
    "version": 3
   },
   "file_extension": ".py",
   "mimetype": "text/x-python",
   "name": "python",
   "nbconvert_exporter": "python",
   "pygments_lexer": "ipython3",
   "version": "3.12.7"
  }
 },
 "nbformat": 4,
 "nbformat_minor": 5
}
