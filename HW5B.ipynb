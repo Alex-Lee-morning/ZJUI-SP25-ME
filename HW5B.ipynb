{
 "cells": [
  {
   "cell_type": "code",
   "execution_count": 2,
   "id": "07f1f52b-3742-4a65-91c7-8299ee9821af",
   "metadata": {},
   "outputs": [],
   "source": [
    "from sympy import *\n",
    "\n",
    "m1 = 2\n",
    "m2 = 2\n",
    "m3 = 9\n",
    "r1 = Matrix([-1,  2,  0])\n",
    "r3 = Matrix([-6, -9,  0])\n",
    "rC = Matrix([ -4, -12,   0])"
   ]
  },
  {
   "cell_type": "code",
   "execution_count": 3,
   "id": "cf950459-56da-4305-9dd0-1c50bad872c4",
   "metadata": {},
   "outputs": [],
   "source": [
    "from sympy import *\n",
    "\n",
    "m1 = 1\n",
    "m2 = 3\n",
    "m3 = 9\n",
    "r1 = Matrix([-5, -1,  0])\n",
    "r2 = Matrix([-1,  2,  0])\n",
    "rC = Matrix([ 0, 12,  0])"
   ]
  },
  {
   "cell_type": "code",
   "execution_count": 4,
   "id": "53ac9d59-3fe9-46c6-add3-872f02ac65b0",
   "metadata": {},
   "outputs": [
    {
     "name": "stdout",
     "output_type": "stream",
     "text": [
      "{x: 8/9, y: 151/9, z: 0}\n"
     ]
    }
   ],
   "source": [
    "M = m1 + m2 + m3\n",
    "x, y, z = symbols(\"x, y, z\")\n",
    "r3 = Matrix([x, y, z])\n",
    "sigma = m1 * r1 + m2 * r2 + m3 * r3\n",
    "eq = Eq(sigma, M * rC)\n",
    "sol = solve(eq,(x,y,z))\n",
    "print(sol)"
   ]
  },
  {
   "cell_type": "code",
   "execution_count": 5,
   "id": "257e8a64-0df1-4676-8d74-a0bca0c4f568",
   "metadata": {},
   "outputs": [],
   "source": [
    "from sympy import *\n",
    "\n",
    "w = 2\n",
    "l1 = 3\n",
    "rho1 = 1\n",
    "l2 = 4\n",
    "rho2 = 2\n",
    "l3 = 11\n",
    "rho3 = 3"
   ]
  },
  {
   "cell_type": "code",
   "execution_count": 6,
   "id": "4f661d79-ba54-4966-a0df-a911a99b8d54",
   "metadata": {},
   "outputs": [
    {
     "name": "stdout",
     "output_type": "stream",
     "text": [
      "1953.530303030303\n"
     ]
    }
   ],
   "source": [
    "m1 = l1 * w * rho1\n",
    "m2 = l2 * w * rho2\n",
    "m3 = l3 * w * rho3\n",
    "M = m1 + m2 + m3\n",
    "L1 = l1\n",
    "L2 = l1 + l2 / 2\n",
    "L3 = l1 + l2 + l3 / 2\n",
    "L = 1 / M * (m1 * L1/2 + m2 * L2 + m3 * L3)\n",
    "I1 = 1 / 12 * m1 * (l1 ** 2 + w ** 2)\n",
    "I2 = 1 / 12 * m2 * (l2 ** 2 + w ** 2)\n",
    "I3 = 1 / 12 * m3 * (l3 ** 2 + w ** 2)\n",
    "dis1 = L1 / 2 - L\n",
    "dis2 = L2 - L\n",
    "dis3 = L3 - L\n",
    "I = I1 + I2 + I3 + m1 * (dis1) ** 2 + m2 * (dis2) ** 2 + m3 * (dis3) ** 2\n",
    "print(I)"
   ]
  },
  {
   "cell_type": "code",
   "execution_count": 7,
   "id": "445748ab-3a1b-4712-a53d-f3f1b977e402",
   "metadata": {},
   "outputs": [],
   "source": [
    "import numpy as np\n",
    "from sympy import *\n",
    "\n",
    "x, y = symbols('x, y')\n",
    "\n",
    "rho = 6\n",
    "y1 = x**2 + 4*x - 14\n",
    "y2 = 2*x**2 + 3\n",
    "x1 = 1\n",
    "x2 = 2"
   ]
  },
  {
   "cell_type": "code",
   "execution_count": 8,
   "id": "8d4a6c6c-1623-4f07-8147-1d4f8530b40b",
   "metadata": {},
   "outputs": [
    {
     "name": "stdout",
     "output_type": "stream",
     "text": [
      "1476.96887500000\n"
     ]
    }
   ],
   "source": [
    "deltay = y2-y1\n",
    "ybar = 0.5 * y1 + 0.5 * y2\n",
    "def f(x):\n",
    "    return x * deltay\n",
    "def F(x):\n",
    "    return ybar * deltay\n",
    "M = integrate(deltay, (x, x1, x2))\n",
    "Mx = integrate(f(x), (x, x1, x2))\n",
    "My = integrate(F(x), (x, x1, x2))\n",
    "x_bar = Mx / M\n",
    "y_bar = My / M\n",
    "X = x - x_bar\n",
    "Y = ybar - y_bar\n",
    "dis2 = X ** 2 + Y ** 2\n",
    "def I(x):\n",
    "    return deltay * rho / 12 * deltay ** 2 + deltay * rho * dis2\n",
    "If = integrate(I(x), (x, x1, x2))\n",
    "print(If)"
   ]
  },
  {
   "cell_type": "code",
   "execution_count": 21,
   "id": "05613eb1-167b-40b4-ac80-0391dfdecfb2",
   "metadata": {},
   "outputs": [
    {
     "name": "stdout",
     "output_type": "stream",
     "text": [
      "[]\n"
     ]
    }
   ],
   "source": [
    "from sympy import *\n",
    "\n",
    "# 定义符号变量\n",
    "Fx_P, Fy_P, Fx_Q, Fy_Q = symbols('Fx_P Fy_P Fx_Q Fy_Q')\n",
    "\n",
    "# 已知量\n",
    "m1 = 2.000\n",
    "m2 = 3.000\n",
    "I1 = 2.000\n",
    "I2 = 17.000\n",
    "rOP = Matrix([-1, 1, 0])\n",
    "rPQ = Matrix([-2, -8, 0])\n",
    "omega1 = Matrix([0.000, 0.000, -16.000])\n",
    "omega2 = Matrix([0, 0, -2])\n",
    "vP = Matrix([16.000, 16.000, 0.000])\n",
    "vQ = Matrix([0.000, 20.000, 0.000])\n",
    "alpha1 = Matrix([0.000, 0.000, 256.000])\n",
    "aP = Matrix([0.000, -512.000, 0.000])\n",
    "aQ = Matrix([0.000, -478.000, 0.000])\n",
    "\n",
    "# 计算杆的质心位置\n",
    "r_CP = rPQ / 2  # 质心相对于P的位置\n",
    "r_OC = rOP + r_CP  # 质心相对于O的位置\n",
    "\n",
    "# 计算质心加速度 a_C\n",
    "a_C = aP + alpha1.cross(r_CP) - (omega1.norm()**2) * r_CP\n",
    "\n",
    "# 力矩方程（绕质心C的转动）\n",
    "r_CP_vec = Matrix([-1, -4, 0])  # 质心C相对于P的位置\n",
    "r_CQ_vec = rPQ - r_CP  # Q相对于C的位置\n",
    "\n",
    "F_P = Matrix([Fx_P, Fy_P, 0])\n",
    "F_Q = Matrix([Fx_Q, Fy_Q, 0])\n",
    "\n",
    "tau_net = r_CP_vec.cross(F_P) + r_CQ_vec.cross(F_Q) - I2 * alpha1\n",
    "\n",
    "# 平动方程（质心的平动）\n",
    "F_net = F_P + F_Q - m2 * a_C\n",
    "\n",
    "# 建立方程\n",
    "equations = [\n",
    "    Eq(tau_net[0], 0),  # 力矩方程的x分量\n",
    "    Eq(tau_net[1], 0),  # 力矩方程的y分量\n",
    "    Eq(tau_net[2], 0),  # 力矩方程的z分量\n",
    "    Eq(F_net[0], 0),    # 平动方程的x分量\n",
    "    Eq(F_net[1], 0),    # 平动方程的y分量\n",
    "    Eq(F_net[2], 0)     # 平动方程的z分量\n",
    "]\n",
    "\n",
    "# 解方程\n",
    "solution = solve(equations, (Fx_P, Fy_P, Fx_Q, Fy_Q))\n",
    "\n",
    "# 输出结果\n",
    "print(solution)"
   ]
  },
  {
   "cell_type": "code",
   "execution_count": 13,
   "id": "4a7ab569-4f3d-48c6-84ac-d3f58375dd77",
   "metadata": {},
   "outputs": [
    {
     "data": {
      "text/latex": [
       "$\\displaystyle \\left[\\begin{matrix}Fx_{P} + Fx_{Q} - 3084\\\\Fy_{P} + Fy_{Q} + 2256\\\\0\\end{matrix}\\right]$"
      ],
      "text/plain": [
       "Matrix([\n",
       "[Fx_P + Fx_Q - 3084],\n",
       "[Fy_P + Fy_Q + 2256],\n",
       "[                 0]])"
      ]
     },
     "execution_count": 13,
     "metadata": {},
     "output_type": "execute_result"
    }
   ],
   "source": [
    "F_net"
   ]
  },
  {
   "cell_type": "code",
   "execution_count": 16,
   "id": "0ee67807-9c29-475e-a0b5-fd503bad1b2e",
   "metadata": {},
   "outputs": [],
   "source": [
    "m1 = 4\n",
    "m2 = 3\n",
    "m3 = 4\n",
    "m4 = 4\n",
    "r1 = 2\n",
    "l = 5\n",
    "L1 = 4\n",
    "L2 = 2"
   ]
  },
  {
   "cell_type": "code",
   "execution_count": 18,
   "id": "44f14abc-121b-400f-bf72-cb178a3a0d21",
   "metadata": {},
   "outputs": [
    {
     "name": "stdout",
     "output_type": "stream",
     "text": [
      "659.6666666666667\n"
     ]
    }
   ],
   "source": [
    "I1 = 1 / 2 * m1 * r1 ** 2 + m1 * r1 ** 2\n",
    "I2 = 1 / 12 * m2 * l ** 2 + m2 * (r1 ** 2 + (l/2 + 2 *r1) ** 2)\n",
    "I3 = 1 / 12 * m3 * (L1 ** 2 + L2 ** 2) + m3 * ((2 * r1 + l + L1 / 2) ** 2)\n",
    "I = I1 + I2 + I3\n",
    "print(I)"
   ]
  },
  {
   "cell_type": "code",
   "execution_count": null,
   "id": "cceba922-4a74-4027-9b80-e5425d2c2144",
   "metadata": {},
   "outputs": [],
   "source": []
  }
 ],
 "metadata": {
  "kernelspec": {
   "display_name": "Python [conda env:base] *",
   "language": "python",
   "name": "conda-base-py"
  },
  "language_info": {
   "codemirror_mode": {
    "name": "ipython",
    "version": 3
   },
   "file_extension": ".py",
   "mimetype": "text/x-python",
   "name": "python",
   "nbconvert_exporter": "python",
   "pygments_lexer": "ipython3",
   "version": "3.12.7"
  }
 },
 "nbformat": 4,
 "nbformat_minor": 5
}
