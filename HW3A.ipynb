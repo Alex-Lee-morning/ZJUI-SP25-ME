{
 "cells": [
  {
   "cell_type": "code",
   "execution_count": 3,
   "id": "52592125-d97b-4205-890b-d3f653e9124c",
   "metadata": {},
   "outputs": [],
   "source": [
    "import numpy as np\n",
    "\n",
    "v = 7\n",
    "F = 7\n",
    "rho = 22"
   ]
  },
  {
   "cell_type": "code",
   "execution_count": 5,
   "id": "fc1cb550-cf07-41ca-8958-4b741247b47c",
   "metadata": {},
   "outputs": [
    {
     "name": "stdout",
     "output_type": "stream",
     "text": [
      "3.1428571428571432\n"
     ]
    }
   ],
   "source": [
    "a = v ** 2 / rho\n",
    "m = F / a\n",
    "print(m)"
   ]
  },
  {
   "cell_type": "code",
   "execution_count": 23,
   "id": "ea06dee5-0c21-41a0-94aa-f75d2144bed2",
   "metadata": {},
   "outputs": [],
   "source": [
    "import numpy as np\n",
    "from sympy import *\n",
    "\n",
    "x = symbols('x', real = True)\n",
    "m = 7\n",
    "y = 4*cos(3*x)\n",
    "vx = 2\n",
    "g = -9.8\n",
    "x_v = 7"
   ]
  },
  {
   "cell_type": "code",
   "execution_count": 25,
   "id": "60d3bed4-8eff-4823-b16f-32151e4e14df",
   "metadata": {},
   "outputs": [
    {
     "name": "stdout",
     "output_type": "stream",
     "text": [
      "620.7110943060626\n"
     ]
    }
   ],
   "source": [
    "vy = vx * diff(y,x)\n",
    "ay = vx * diff(vy,x).subs(x,x_v)\n",
    "print(float(ay * m) + m * -g)"
   ]
  },
  {
   "cell_type": "code",
   "execution_count": 103,
   "id": "52424329-eff8-4dec-8b44-759f5ad16805",
   "metadata": {},
   "outputs": [],
   "source": [
    "import numpy as np\n",
    "from sympy import *\n",
    "\n",
    "t = symbols('t', real = True)\n",
    "r = Matrix([-3*t**2 - t, -3*t**2 + 2*t + 1, 0])\n",
    "t_v = 3"
   ]
  },
  {
   "cell_type": "code",
   "execution_count": 105,
   "id": "c6627d37-c867-447b-9591-8c79354a9e38",
   "metadata": {},
   "outputs": [
    {
     "name": "stdout",
     "output_type": "stream",
     "text": [
      "Matrix([[0.644135745782780], [-0.764911198117051], [0]])\n"
     ]
    }
   ],
   "source": [
    "v = diff(r, t)\n",
    "\n",
    "# 计算加速度向量\n",
    "a = diff(v, t)\n",
    "\n",
    "# 在 t = t_v 处计算加速度向量\n",
    "a1 = a.subs(t, t_v)\n",
    "\n",
    "# 计算切向单位向量\n",
    "v_at_t_v = v.subs(t, t_v)\n",
    "v_norm = v_at_t_v.norm()\n",
    "e_t = v_at_t_v / v_norm\n",
    "\n",
    "# 计算切向加速度分量 (标量)\n",
    "a_t_scalar = a1.dot(e_t)\n",
    "\n",
    "# 计算切向加速度向量\n",
    "a_t = a_t_scalar * e_t\n",
    "\n",
    "# 计算法向加速度向量\n",
    "a_n = a1 - a_t\n",
    "\n",
    "# 计算法向单位向量（正常基向量）\n",
    "e_n = a_n / a_n.norm()\n",
    "\n",
    "# 输出结果\n",
    "print(e_n.evalf())"
   ]
  },
  {
   "cell_type": "code",
   "execution_count": 77,
   "id": "592625da-80c5-475f-98ea-11d32c11d585",
   "metadata": {},
   "outputs": [
    {
     "data": {
      "text/latex": [
       "$\\displaystyle \\left[\\begin{matrix}-6\\\\2\\\\0\\end{matrix}\\right]$"
      ],
      "text/plain": [
       "Matrix([\n",
       "[-6],\n",
       "[ 2],\n",
       "[ 0]])"
      ]
     },
     "execution_count": 77,
     "metadata": {},
     "output_type": "execute_result"
    }
   ],
   "source": [
    "a1"
   ]
  },
  {
   "cell_type": "code",
   "execution_count": 79,
   "id": "a45bd476-aa96-4e58-a34e-d990fb05e9ae",
   "metadata": {},
   "outputs": [
    {
     "data": {
      "text/latex": [
       "$\\displaystyle \\left[\\begin{matrix}- \\frac{19 \\sqrt{397}}{397}\\\\\\frac{6 \\sqrt{397}}{397}\\\\0\\end{matrix}\\right]$"
      ],
      "text/plain": [
       "Matrix([\n",
       "[-19*sqrt(397)/397],\n",
       "[  6*sqrt(397)/397],\n",
       "[                0]])"
      ]
     },
     "execution_count": 79,
     "metadata": {},
     "output_type": "execute_result"
    }
   ],
   "source": [
    "e"
   ]
  },
  {
   "cell_type": "code",
   "execution_count": 81,
   "id": "449b85b5-4bb2-4724-9c85-9334b178e593",
   "metadata": {},
   "outputs": [
    {
     "data": {
      "text/latex": [
       "$\\displaystyle \\frac{126 \\sqrt{397}}{397}$"
      ],
      "text/plain": [
       "126*sqrt(397)/397"
      ]
     },
     "execution_count": 81,
     "metadata": {},
     "output_type": "execute_result"
    }
   ],
   "source": [
    "at"
   ]
  },
  {
   "cell_type": "code",
   "execution_count": 61,
   "id": "f68bdb27-64f2-4654-8070-8c174a5ca469",
   "metadata": {},
   "outputs": [
    {
     "data": {
      "text/latex": [
       "$\\displaystyle \\left[\\begin{matrix}- \\frac{\\sqrt{10}}{10}\\\\\\frac{3 \\sqrt{10}}{10}\\\\0\\end{matrix}\\right]$"
      ],
      "text/plain": [
       "Matrix([\n",
       "[ -sqrt(10)/10],\n",
       "[3*sqrt(10)/10],\n",
       "[            0]])"
      ]
     },
     "execution_count": 61,
     "metadata": {},
     "output_type": "execute_result"
    }
   ],
   "source": [
    "r"
   ]
  },
  {
   "cell_type": "code",
   "execution_count": 3,
   "id": "397446eb-468e-42ce-a127-a61b41de90c1",
   "metadata": {},
   "outputs": [],
   "source": [
    "import numpy as np\n",
    "from sympy import *\n",
    "\n",
    "t = symbols('t', real = True)\n",
    "s = t**2 + t - 1\n",
    "t_v = 1\n",
    "rho = 10"
   ]
  },
  {
   "cell_type": "code",
   "execution_count": null,
   "id": "1bd1884f-b822-4223-81ce-f90a34dfc59c",
   "metadata": {},
   "outputs": [],
   "source": []
  }
 ],
 "metadata": {
  "kernelspec": {
   "display_name": "Python [conda env:base] *",
   "language": "python",
   "name": "conda-base-py"
  },
  "language_info": {
   "codemirror_mode": {
    "name": "ipython",
    "version": 3
   },
   "file_extension": ".py",
   "mimetype": "text/x-python",
   "name": "python",
   "nbconvert_exporter": "python",
   "pygments_lexer": "ipython3",
   "version": "3.12.7"
  }
 },
 "nbformat": 4,
 "nbformat_minor": 5
}
