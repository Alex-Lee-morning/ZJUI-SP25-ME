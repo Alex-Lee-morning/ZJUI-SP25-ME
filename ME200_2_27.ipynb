{
 "cells": [
  {
   "cell_type": "code",
   "execution_count": 2,
   "id": "45000b97-e38c-47ba-87e7-355a68c8a35c",
   "metadata": {},
   "outputs": [],
   "source": [
    "import numpy as np\n",
    "\n",
    "A_piston = 0.0097 # m^2\n",
    "m_piston = 34.0000 # kg\n",
    "m_gas = 0.8800 # \n",
    "k = 43387.0000 # N/m\n",
    "x2 = 0.1000 # m\n",
    "u1 = 219.0000 # kJ\n",
    "u2 = 396.0000 # kJ\n",
    "x1 = 0.0000 # m\n",
    "p_atm = 1.0000 # atm\n",
    "g = 9.8100 # m/s^2"
   ]
  },
  {
   "cell_type": "code",
   "execution_count": 3,
   "id": "563bafa9-a9ef-461a-8b03-cde0a1d823fe",
   "metadata": {},
   "outputs": [],
   "source": [
    "u1 = u1 * 1000 #J\n",
    "u2 = u2 * 1000 #J\n",
    "p_atm = p_atm * 101325 #pa\n",
    "m_gas = m_gas / 1000"
   ]
  },
  {
   "cell_type": "code",
   "execution_count": 4,
   "id": "31956f58-3f11-40d2-bc96-31bfba24fab3",
   "metadata": {},
   "outputs": [
    {
     "name": "stdout",
     "output_type": "stream",
     "text": [
      "135.7105670103093\n"
     ]
    }
   ],
   "source": [
    "MG = m_piston * g\n",
    "PMG = MG / A_piston\n",
    "P = p_atm + PMG\n",
    "P = P / 1000\n",
    "print(P)"
   ]
  },
  {
   "cell_type": "code",
   "execution_count": 5,
   "id": "443346ef-5a0d-46f2-be5a-c80579adb4d9",
   "metadata": {},
   "outputs": [
    {
     "name": "stdout",
     "output_type": "stream",
     "text": [
      "348.574250000000\n"
     ]
    }
   ],
   "source": [
    "import sympy as sp\n",
    "x = sp.symbols(\"x\")\n",
    "def p(x):\n",
    "    return k * x / A_piston #pa\n",
    "def W(x):\n",
    "    return (p(x) + P * 1000) * A_piston\n",
    "w = sp.integrate(W(x),(x,x1,x2))\n",
    "print(w)"
   ]
  },
  {
   "cell_type": "code",
   "execution_count": 6,
   "id": "9995d854-73f0-4ac6-972c-32057f07b48a",
   "metadata": {},
   "outputs": [
    {
     "data": {
      "text/plain": [
       "1316.3925000000002"
      ]
     },
     "execution_count": 6,
     "metadata": {},
     "output_type": "execute_result"
    }
   ],
   "source": [
    "W(x1)"
   ]
  },
  {
   "cell_type": "code",
   "execution_count": 7,
   "id": "78e20389-db91-4a3d-b2ef-8447e3633009",
   "metadata": {},
   "outputs": [
    {
     "name": "stdout",
     "output_type": "stream",
     "text": [
      "504.334681640000\n"
     ]
    }
   ],
   "source": [
    "u = u2 - u1\n",
    "u = u * m_gas\n",
    "Wg = m_gas * g * (x2 - x1) / 2\n",
    "Q = u + w + Wg\n",
    "print(Q)"
   ]
  },
  {
   "cell_type": "code",
   "execution_count": 32,
   "id": "0a85bc5b-c071-4854-b7e1-9b445e612670",
   "metadata": {},
   "outputs": [],
   "source": [
    "import numpy as np\n",
    "\n",
    "P1 = 53.00 # lbf/in^2\n",
    "V1 = 6.00 # ft^3\n",
    "V2 = 4.00 # ft^3\n",
    "delta_U13 = 46.40 # Btu"
   ]
  },
  {
   "cell_type": "code",
   "execution_count": 34,
   "id": "a18a78ec-3f4b-4708-9425-670e5c0022ef",
   "metadata": {},
   "outputs": [
    {
     "name": "stdout",
     "output_type": "stream",
     "text": [
      "-6.288513804359507 -72.30379017748668\n"
     ]
    }
   ],
   "source": [
    "P1 = P1 * 144 #lbf/ft^2\n",
    "C = P1 * V1 ** 1.4\n",
    "\n",
    "def f(x):\n",
    "    return C / x ** 1.4\n",
    "    \n",
    "P2 = C / V2 ** 1.4 #lbf/ft^2\n",
    "#W12 = (P2 * V2 - P1 * V1) / -0.4 / 788.169\n",
    "W12 = sp.integrate.quad(f,V1,V2)[0] / 778.169\n",
    "W31 = P1 * (V1 - V2) / 778.169\n",
    "\n",
    "W = W12 + W31\n",
    "Q31 = delta_U13 + W31\n",
    "Qin = Q31\n",
    "Q = delta_U13 - W12\n",
    "Q = -Q\n",
    "print(W,Q)\n"
   ]
  },
  {
   "cell_type": "code",
   "execution_count": 10,
   "id": "386d07a3-b0b6-42a5-ac63-0365f1f6146a",
   "metadata": {},
   "outputs": [
    {
     "data": {
      "text/plain": [
       "48.4263959390863"
      ]
     },
     "execution_count": 10,
     "metadata": {},
     "output_type": "execute_result"
    }
   ],
   "source": [
    "W31"
   ]
  },
  {
   "cell_type": "code",
   "execution_count": 11,
   "id": "bda6c3fe-5ecc-4ecf-8b9c-f5ca1f328af0",
   "metadata": {},
   "outputs": [],
   "source": [
    "import numpy as np\n",
    "\n",
    "delta_U21 = 20.00 # kJ\n",
    "Q31 = 10.00 # kJ\n",
    "P1 = 5.00 # kPa\n",
    "P2 = 3.00 # kPa\n",
    "P3 = 1.00 # kPa\n",
    "V1 = 1.00 # m^3\n",
    "V2 = 5.00 # m^3\n",
    "V3 = 1.00 # m^3"
   ]
  },
  {
   "cell_type": "code",
   "execution_count": null,
   "id": "1151f612-e9b1-4e9d-a54b-554b85b19294",
   "metadata": {},
   "outputs": [],
   "source": []
  },
  {
   "cell_type": "code",
   "execution_count": 12,
   "id": "25899eac-a354-4724-be1e-4ab82a5b1568",
   "metadata": {},
   "outputs": [
    {
     "name": "stdout",
     "output_type": "stream",
     "text": [
      "16.0 -8.0 0.0 36.0 -38.0 0.17391304347826086\n"
     ]
    }
   ],
   "source": [
    "W12 = 0.5 * (P1 + P2) * (V2 - V1)\n",
    "W23 = 0.5 * (P2 + P3) * (V3 - V2)\n",
    "W31 = 0.5 * (P1 + P3) * (V1 - V3)\n",
    "Q12 = delta_U21 + W12\n",
    "Q23 = -delta_U21 - Q31 + W23\n",
    "n = (W12 + W23 + W31) / (Q12 + Q31)\n",
    "print(W12,W23,W31,Q12,Q23,n)"
   ]
  },
  {
   "cell_type": "markdown",
   "id": "88ff5c70-dcf6-4484-a455-e63e7b750695",
   "metadata": {},
   "source": [
    "### "
   ]
  }
 ],
 "metadata": {
  "kernelspec": {
   "display_name": "Python [conda env:base] *",
   "language": "python",
   "name": "conda-base-py"
  },
  "language_info": {
   "codemirror_mode": {
    "name": "ipython",
    "version": 3
   },
   "file_extension": ".py",
   "mimetype": "text/x-python",
   "name": "python",
   "nbconvert_exporter": "python",
   "pygments_lexer": "ipython3",
   "version": "3.12.7"
  }
 },
 "nbformat": 4,
 "nbformat_minor": 5
}
