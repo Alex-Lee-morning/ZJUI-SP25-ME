{
 "cells": [
  {
   "cell_type": "code",
   "execution_count": 1,
   "id": "9c35a9f4-ac76-4694-96bc-c228f12864aa",
   "metadata": {},
   "outputs": [],
   "source": [
    "from sympy import *\n",
    "\n",
    "b = 23 # mm\n",
    "t = 10 # mm\n",
    "Vy = 13 # kN"
   ]
  },
  {
   "cell_type": "code",
   "execution_count": 2,
   "id": "c2186cc7-0656-4161-b3d5-3dad28dd256b",
   "metadata": {},
   "outputs": [],
   "source": [
    "b = b * 10 ** -3\n",
    "t = t * 10 ** -3\n",
    "Vy = Vy * 10 ** 3\n",
    "b1 = 4 * b + 2 * t\n",
    "h1 = 6 * t + 4 * b\n",
    "S1 = b1 * h1\n",
    "I1 = 1 / 12 * b1 * h1 ** 3\n",
    "b2 = 2 * t + 2 * b\n",
    "h2 = 2 * b\n",
    "I2 = 2 * 1 / 12 * b2 * h2 ** 3\n",
    "S2 = h2 * b2\n",
    "I2 = I2 + 2 * S2 * (2 * t + b) ** 2\n",
    "b3 = 2 * t\n",
    "h3 = t\n",
    "S3 = h3 * b3\n",
    "I3 = 2 * 1 / 12 * b3 * h3 ** 3\n",
    "I3 = I3 + 2 * S3 * (2.5 * t + 2 * b) ** 2\n",
    "I = I1 - I2 - I3"
   ]
  },
  {
   "cell_type": "code",
   "execution_count": 3,
   "id": "c31d860d-13ca-4c07-adf1-a279490b253a",
   "metadata": {},
   "outputs": [
    {
     "name": "stdout",
     "output_type": "stream",
     "text": [
      "2.393046243385816\n"
     ]
    }
   ],
   "source": [
    "Q = t * 4 * b * (2.5 * t + 2 * b) + 2 * 2 * b * b * (2 * t + b)\n",
    "T = 2 * b\n",
    "tor = Vy * Q / I / T\n",
    "print(tor / 10 ** 6)"
   ]
  },
  {
   "cell_type": "code",
   "execution_count": 4,
   "id": "a589a3d2-aa45-449d-9da5-735be4a69e33",
   "metadata": {},
   "outputs": [],
   "source": [
    "from sympy import *\n",
    "\n",
    "t1 = 5 # mm\n",
    "t2 = 8 # mm\n",
    "b = 78 # mm\n",
    "h = 75 # mm\n",
    "ybar = 56.34716 # mm\n",
    "Iz = 941508.40393 # mm^4\n",
    "Vy = 22 # kN\n",
    "Mz = 736 # N.m"
   ]
  },
  {
   "cell_type": "code",
   "execution_count": 5,
   "id": "0ecfb2d9-7633-4c5c-8ba4-aafdc5f4c173",
   "metadata": {},
   "outputs": [
    {
     "name": "stdout",
     "output_type": "stream",
     "text": [
      "44.04794432730667\n"
     ]
    }
   ],
   "source": [
    "h1 = h + t1\n",
    "h2 = 0\n",
    "h_max = max(abs(h1 - ybar),abs(h2 - ybar))\n",
    "sigma_m = Mz / Iz * 10 ** 12 * h_max * 10 ** -3\n",
    "print(sigma_m / 10 ** 6)"
   ]
  },
  {
   "cell_type": "code",
   "execution_count": 6,
   "id": "9fd36332-87f9-4b3d-baaf-b4cfd2fb5f3a",
   "metadata": {},
   "outputs": [
    {
     "name": "stdout",
     "output_type": "stream",
     "text": [
      "23.472105915568907\n"
     ]
    }
   ],
   "source": [
    "T = 2 * t1\n",
    "l1 = h - ybar\n",
    "l2 = h + t2 / 2 - ybar\n",
    "S1 = t2 * b\n",
    "S2 = l1 * 2 * t1\n",
    "Q = S2 * l2 + S1 * l1 / 2\n",
    "tor = Vy * 10 ** 3 * Q * 10 ** -9 / Iz * 10 ** 12 / T * 10 ** 3\n",
    "print(tor / 10 ** 6)"
   ]
  },
  {
   "cell_type": "code",
   "execution_count": 7,
   "id": "4aa15212-6e30-496e-9480-b4412339c7c5",
   "metadata": {},
   "outputs": [
    {
     "name": "stdout",
     "output_type": "stream",
     "text": [
      "37.09475846942969\n"
     ]
    }
   ],
   "source": [
    "T = 2 * t1\n",
    "l1 = ybar\n",
    "S1 = 2 * t1 * ybar\n",
    "Q = S1 * l1 / 2\n",
    "tor = Vy * 10 ** 3 * Q * 10 ** -9 / Iz * 10 ** 12 / T * 10 ** 3\n",
    "print(tor / 10 ** 6)"
   ]
  },
  {
   "cell_type": "code",
   "execution_count": 8,
   "id": "ad36251e-0426-4f87-b0ad-a0bbf872f452",
   "metadata": {},
   "outputs": [],
   "source": [
    "from sympy import *\n",
    "\n",
    "b = 74 # mm\n",
    "a = 752 # mm\n",
    "P = 12 # kN\n",
    "sigmaAll = 139 # MPa\n",
    "tauAll = 79 # MPa"
   ]
  },
  {
   "cell_type": "code",
   "execution_count": 9,
   "id": "88551319-f978-4175-beeb-fc0a7f6f3486",
   "metadata": {},
   "outputs": [
    {
     "name": "stdout",
     "output_type": "stream",
     "text": [
      "[3.07902839548409]\n"
     ]
    }
   ],
   "source": [
    "h = symbols(\"h\")\n",
    "I = 1/12 * b * h ** 3\n",
    "Vmax = P * 1000\n",
    "Q = h / 4 * h * b / 2\n",
    "t = b\n",
    "tor = Vmax * Q * 10 ** -9 / I * 10 ** 12 / t * 10 ** 3\n",
    "eq = Eq(tor,tauAll * 10 ** 6)\n",
    "sol = solve(eq,h)\n",
    "print(sol)"
   ]
  },
  {
   "cell_type": "code",
   "execution_count": 10,
   "id": "5875cda1-7496-45d1-b0d4-3d3c3cd463d1",
   "metadata": {},
   "outputs": [
    {
     "name": "stdout",
     "output_type": "stream",
     "text": [
      "[-22.2441510400578, 22.2441510400578]\n"
     ]
    }
   ],
   "source": [
    "h = symbols(\"h\")\n",
    "I = 1/12 * b * h ** 3\n",
    "M_max = abs(1 / 4 * a * 1 / 2 * a * P * 10 ** -3 - 1 / 2 * a * P * 1 / 2 * a * 10 ** -3)\n",
    "sigma = M_max * h / 2 * 10 ** -3 / I * 10 ** 12\n",
    "eq = Eq(sigma, sigmaAll * 10 ** 6)\n",
    "sol = solve(eq,h)\n",
    "print(sol)"
   ]
  },
  {
   "cell_type": "code",
   "execution_count": 61,
   "id": "872297a2-29e0-496d-8fa4-ed42c892a192",
   "metadata": {},
   "outputs": [],
   "source": [
    "from sympy import *\n",
    "\n",
    "h = 1 # in\n",
    "a = 39 # in\n",
    "P = 5 # kips\n",
    "s1 = 3 # ksi\n",
    "s2 = 333 # psi"
   ]
  },
  {
   "cell_type": "code",
   "execution_count": 63,
   "id": "ed47ef4e-642b-4ffc-9de4-1a6285c74c9d",
   "metadata": {},
   "outputs": [
    {
     "name": "stdout",
     "output_type": "stream",
     "text": [
      "[22.5225225225225]\n"
     ]
    }
   ],
   "source": [
    "b = symbols(\"b\")\n",
    "I = 1 / 12 * b * h ** 3\n",
    "V = P\n",
    "M = P / 2 * a\n",
    "Q = 1 / 4 * h * 1 / 2 * h * b\n",
    "t = b\n",
    "eq = Eq(V * Q / t / I, s2/1000)\n",
    "sol = solve(eq,b)\n",
    "print(sol)"
   ]
  },
  {
   "cell_type": "code",
   "execution_count": 65,
   "id": "7a1e3be4-7ced-453b-b059-8d44278c0b77",
   "metadata": {},
   "outputs": [
    {
     "name": "stdout",
     "output_type": "stream",
     "text": [
      "[21.6666666666667]\n"
     ]
    }
   ],
   "source": [
    "It = 1 / 12 * b * (3 * h) ** 3\n",
    "eq = Eq(M * 1.5 * h / It, s1)\n",
    "sol = solve(eq,b)\n",
    "print(sol)"
   ]
  },
  {
   "cell_type": "code",
   "execution_count": 14,
   "id": "624667c2-cc99-4182-ad45-75a4aec8175a",
   "metadata": {},
   "outputs": [],
   "source": [
    "from sympy import *\n",
    "\n",
    "b = 42 # mm\n",
    "V = 4 # kN"
   ]
  },
  {
   "cell_type": "code",
   "execution_count": 15,
   "id": "07f49036-9933-4c33-bf84-6c64f054d64a",
   "metadata": {},
   "outputs": [
    {
     "name": "stdout",
     "output_type": "stream",
     "text": [
      "0.23191094619666047\n"
     ]
    }
   ],
   "source": [
    "b1 = 3 * b\n",
    "h1 = 4 * b\n",
    "b2 = b\n",
    "h2 = 2 * b\n",
    "I1 = 1 / 12 * b1 * h1 ** 3\n",
    "I2 = 1 / 12 * 2 * b2 * h2 ** 3\n",
    "I = I1 - I2\n",
    "tor = V * 1000 * 1.5 * 10 ** -3 * b * b ** 2 * 10 ** -6 / I * 10 ** 12 / b * 10 ** 3\n",
    "print(tor * 10 ** -6)"
   ]
  },
  {
   "cell_type": "code",
   "execution_count": 16,
   "id": "ebd682e3-7961-48d0-9ae3-fbd9a912ee19",
   "metadata": {},
   "outputs": [],
   "source": [
    "from sympy import *\n",
    "\n",
    "h = 171 # mm\n",
    "t = 32 # mm\n",
    "d = 19 # mm\n",
    "taub = 3 # MPa\n",
    "V = 4 # kN"
   ]
  },
  {
   "cell_type": "code",
   "execution_count": 17,
   "id": "1564e810-ba07-4a2f-ac33-25faa34bc394",
   "metadata": {},
   "outputs": [
    {
     "name": "stdout",
     "output_type": "stream",
     "text": [
      "[9.09064012962895]\n"
     ]
    }
   ],
   "source": [
    "b1 = t\n",
    "I = 1 / 12 * h ** 3 * b1\n",
    "y1 = h / 2\n",
    "y2 = h\n",
    "S = 3 * b1 * h\n",
    "y_avg = 1 / S * (b1 * h * y1 * 2 + b1 * h * y2)\n",
    "dis1 = y_avg - y1\n",
    "dis2 = abs(y_avg - y2)\n",
    "S1 = 2 * b1 * h\n",
    "S2 = b1 * h\n",
    "It = 2 * I + S1 * dis1 ** 2 + I + S2 * dis2 ** 2\n",
    "s = symbols(\"s\")\n",
    "S = d ** 2 / 4 * pi\n",
    "q = V * 1000 * b1 * h * dis2 * 10 ** -9 / I * 10 ** 12\n",
    "F = q * s * 10 ** -3\n",
    "tor = F / S * 10 ** 6\n",
    "eq = Eq(tor,taub * 10 ** 6)\n",
    "sol = solve(eq,s)\n",
    "print(sol)"
   ]
  },
  {
   "cell_type": "code",
   "execution_count": null,
   "id": "2f90e8be-d2c4-4190-901f-45525f7fbf18",
   "metadata": {},
   "outputs": [],
   "source": []
  },
  {
   "cell_type": "code",
   "execution_count": 18,
   "id": "a33ea4e0-ac23-4681-ba63-508b00b00ef2",
   "metadata": {},
   "outputs": [],
   "source": [
    "from sympy import *\n",
    "\n",
    "b = 232 # mm\n",
    "t = 44 # mm\n",
    "d = 15 # mm\n",
    "deltaS = 103 # mm\n",
    "Vy = 2 # kN"
   ]
  },
  {
   "cell_type": "code",
   "execution_count": 19,
   "id": "00365252-ba20-45ca-a5a3-7a8c98c7375e",
   "metadata": {},
   "outputs": [
    {
     "name": "stdout",
     "output_type": "stream",
     "text": [
      "1.69760495355561\n"
     ]
    }
   ],
   "source": [
    "S = d ** 2 / 4 * pi / 10 ** 6\n",
    "L1 = b + 2 * t\n",
    "L2 = b - 2 * t\n",
    "I1 = 1 / 12 * b * L1 ** 3\n",
    "I2 = 1 / 12 * L2 * b ** 3\n",
    "I = I1 - I2\n",
    "Q = t * 10 ** -3 * b * 10 ** -3 * 0.5 * (b + t) * 10 ** -3\n",
    "qb = V * 10 ** 3 * Q / I * 10 ** 12\n",
    "F = qb / 2 * (deltaS / 2) * 10 ** -3\n",
    "tor = F / S\n",
    "print((tor * 10 ** -6).evalf())"
   ]
  },
  {
   "cell_type": "code",
   "execution_count": 89,
   "id": "4719f6a7-a955-4d00-8eec-842348725c1e",
   "metadata": {},
   "outputs": [],
   "source": [
    "from sympy import *\n",
    "\n",
    "D = 211 # mm\n",
    "d = 89 # mm\n",
    "V = 70 # kN"
   ]
  },
  {
   "cell_type": "code",
   "execution_count": 91,
   "id": "d973c22e-61ec-4462-9c04-06452f170086",
   "metadata": {},
   "outputs": [
    {
     "name": "stdout",
     "output_type": "stream",
     "text": [
      "94.2172079841835\n"
     ]
    }
   ],
   "source": [
    "I1 = 1 / 4 * pi * D ** 4 / 16\n",
    "I2 = 1 / 4 * pi * d ** 4 / 16\n",
    "I = I1 - I2\n",
    "print((I * 10 ** -6).evalf())"
   ]
  },
  {
   "cell_type": "code",
   "execution_count": 93,
   "id": "bd9a8040-9714-4e8e-9a6f-2163503767dd",
   "metadata": {},
   "outputs": [
    {
     "name": "stdout",
     "output_type": "stream",
     "text": [
      "4.40955364972264\n",
      "724.080166666667\n"
     ]
    }
   ],
   "source": [
    "Q1 = D ** 2 / 4 * pi * 0.5 * 2 * D / 3 / pi\n",
    "Q2 = d ** 2 / 4 * pi * 0.5 * 2 * d / 3 / pi\n",
    "Q = Q1 - Q2\n",
    "tor = V * 10 ** 3 * Q * 10 ** -9 / I * 10 ** 12 / (D-d) * 10 ** 3\n",
    "print((tor / 10 ** 6).evalf())\n",
    "print((Q * 10 ** -3).evalf())"
   ]
  },
  {
   "cell_type": "code",
   "execution_count": 23,
   "id": "40ef06f3-a744-4513-9851-0c958ac1940c",
   "metadata": {},
   "outputs": [],
   "source": [
    "from sympy import *\n",
    "\n",
    "b = 50 # in\n",
    "t = 6 # in\n",
    "d = 0.56 # in\n",
    "deltaS = 49 # in\n",
    "Vmax = 4 # lb"
   ]
  },
  {
   "cell_type": "code",
   "execution_count": 24,
   "id": "1a96efdb-1e9c-44c3-bd46-cb3c6fc26ff1",
   "metadata": {},
   "outputs": [
    {
     "name": "stdout",
     "output_type": "stream",
     "text": [
      "534.6999999999998\n"
     ]
    }
   ],
   "source": [
    "w1 = b\n",
    "h1 = b + 2 * t\n",
    "w2 = b - t\n",
    "h2 = b\n",
    "I1 = 1 / 12 * w1 * h1 ** 3\n",
    "I2 = 1 / 12 * w2 * h2 ** 3\n",
    "I = I1 - I2\n",
    "print(I / 10 ** 3)"
   ]
  },
  {
   "cell_type": "code",
   "execution_count": 25,
   "id": "a046d99f-ccf9-46c1-8d09-a051fa407d3e",
   "metadata": {},
   "outputs": [
    {
     "name": "stdout",
     "output_type": "stream",
     "text": [
      "8400.0 0.0157097437815598*V 0.769777445296428*V 4\n",
      "[5.19630709426628]\n"
     ]
    }
   ],
   "source": [
    "S = d ** 2 / 4 * pi\n",
    "Q1 = t * b * 0.5 * (t + b)\n",
    "V = symbols(\"V\")\n",
    "q = V * Q1 / I\n",
    "F = q * deltaS\n",
    "eq = Eq(F,Vmax)\n",
    "sol = solve(eq,V)\n",
    "print(Q1,q,F,Vmax)\n",
    "print(sol)"
   ]
  },
  {
   "cell_type": "code",
   "execution_count": 26,
   "id": "02a3805b-2ff9-4a0a-b25c-f32a5817fdbd",
   "metadata": {},
   "outputs": [
    {
     "name": "stdout",
     "output_type": "stream",
     "text": [
      "7392.0 0.0138245745277726*V 0.338702075930428*V 4\n",
      "[11.8097888506052]\n"
     ]
    }
   ],
   "source": [
    "S = d ** 2 / 4 * pi\n",
    "Q1 = t * (b - t) * 0.5 * (t + b)\n",
    "V = symbols(\"V\")\n",
    "tor = V * Q1 / I\n",
    "q = V * Q1 / I\n",
    "F = q/2 * deltaS\n",
    "eq = Eq(F,Vmax)\n",
    "sol = solve(eq,V)\n",
    "print(Q1,q,F,Vmax)\n",
    "print(sol)"
   ]
  },
  {
   "cell_type": "code",
   "execution_count": null,
   "id": "a76f9600-1068-4e9b-ad37-b87e6c27c97b",
   "metadata": {},
   "outputs": [],
   "source": []
  }
 ],
 "metadata": {
  "kernelspec": {
   "display_name": "Python [conda env:base] *",
   "language": "python",
   "name": "conda-base-py"
  },
  "language_info": {
   "codemirror_mode": {
    "name": "ipython",
    "version": 3
   },
   "file_extension": ".py",
   "mimetype": "text/x-python",
   "name": "python",
   "nbconvert_exporter": "python",
   "pygments_lexer": "ipython3",
   "version": "3.12.7"
  }
 },
 "nbformat": 4,
 "nbformat_minor": 5
}
