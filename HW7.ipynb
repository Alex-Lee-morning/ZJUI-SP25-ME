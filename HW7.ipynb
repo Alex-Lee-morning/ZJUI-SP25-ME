{
 "cells": [
  {
   "cell_type": "code",
   "execution_count": 20,
   "id": "aedfaee4-0e4b-4fc9-a0b1-507e9c6191f4",
   "metadata": {},
   "outputs": [],
   "source": [
    "from sympy import *\n",
    "\n",
    "m_dot = 4.00 # kg/min\n",
    "p1 = 1.80 # bars\n",
    "T1 = -10.00 # C\n",
    "p2 = 8.00 # bars\n",
    "h2 = 270.00 # kJ/kg\n",
    "W = 2.50 # kW\n",
    "p3 = 8.00 # bars\n",
    "T3 = 28.00 # C\n",
    "T4 = -12.00 # C"
   ]
  },
  {
   "cell_type": "code",
   "execution_count": 22,
   "id": "2831baeb-2be2-4e06-8957-80db02535747",
   "metadata": {},
   "outputs": [
    {
     "name": "stdout",
     "output_type": "stream",
     "text": [
      "309.813280757098 301.15\n",
      "0.162680510775309\n"
     ]
    }
   ],
   "source": [
    "x = symbols(\"x\")\n",
    "eq = Eq((x-31.33) / (40 - 31.33), (270 - 264.15) / (273.66 - 264.15))\n",
    "T = solve(eq,x)[0] + 273.15\n",
    "T3 = T3 + 273.15\n",
    "print(T,T3)\n",
    "cp = 1.434\n",
    "Q = cp * log(T/T3,exp(1)) * m_dot\n",
    "print(Q)"
   ]
  },
  {
   "cell_type": "code",
   "execution_count": 24,
   "id": "eeebf024-61f0-422e-b0c4-c3ce8a0b6307",
   "metadata": {},
   "outputs": [
    {
     "data": {
      "text/latex": [
       "$\\displaystyle 2$"
      ],
      "text/plain": [
       "2"
      ]
     },
     "execution_count": 24,
     "metadata": {},
     "output_type": "execute_result"
    }
   ],
   "source": [
    "log(exp(2),exp(1))"
   ]
  },
  {
   "cell_type": "code",
   "execution_count": 26,
   "id": "7fe7e2d7-33a2-4e60-8aa9-b1aec96004dc",
   "metadata": {},
   "outputs": [
    {
     "name": "stdout",
     "output_type": "stream",
     "text": [
      "812.2679999999999\n",
      "-21.476000000000028\n",
      "672.9340000000001\n"
     ]
    }
   ],
   "source": [
    "# \n",
    "m_dot=4.6\n",
    "Wout=-2.5*60 #kW\n",
    "\n",
    "\n",
    "\n",
    "h1=242.06\n",
    "h2=270\n",
    "h3=93.42\n",
    "\n",
    "q1=m_dot*(h2-h3)\n",
    "print(q1)\n",
    "\n",
    "q2=Wout-m_dot*(h1-h2)\n",
    "print(q2)\n",
    "\n",
    "q3=m_dot*(239.71-93.42)\n",
    "print(q3)"
   ]
  },
  {
   "cell_type": "code",
   "execution_count": null,
   "id": "66563544-049d-434d-b5e0-0f9f35505ead",
   "metadata": {},
   "outputs": [],
   "source": []
  }
 ],
 "metadata": {
  "kernelspec": {
   "display_name": "Python [conda env:base] *",
   "language": "python",
   "name": "conda-base-py"
  },
  "language_info": {
   "codemirror_mode": {
    "name": "ipython",
    "version": 3
   },
   "file_extension": ".py",
   "mimetype": "text/x-python",
   "name": "python",
   "nbconvert_exporter": "python",
   "pygments_lexer": "ipython3",
   "version": "3.12.7"
  }
 },
 "nbformat": 4,
 "nbformat_minor": 5
}
