{
 "cells": [
  {
   "cell_type": "code",
   "execution_count": 66,
   "id": "b0c0198c-caa4-4e38-bd30-403d36ced7eb",
   "metadata": {},
   "outputs": [],
   "source": [
    "import numpy as np\n",
    "import sympy as sp\n",
    "import math as m"
   ]
  },
  {
   "cell_type": "code",
   "execution_count": 68,
   "id": "e7863bd1-3d51-4f44-82c9-2941973ac4b5",
   "metadata": {},
   "outputs": [],
   "source": [
    "import numpy as np\n",
    "from sympy import *\n",
    "\n",
    "t = symbols('t', real = True)\n",
    "\n",
    "r = Matrix([2*t**2 + t - 2, t**2 - 2*t + 1, 2*t**2 - 3*t - 2])\n",
    "t_v = 2"
   ]
  },
  {
   "cell_type": "code",
   "execution_count": 70,
   "id": "612760de-328e-4cbb-9cf1-5b2a35b7851c",
   "metadata": {},
   "outputs": [],
   "source": [
    "D = diff(r,t).subs(t,t_v)"
   ]
  },
  {
   "cell_type": "code",
   "execution_count": 72,
   "id": "43115c08-d7ca-404c-9913-653a878b0a7c",
   "metadata": {},
   "outputs": [
    {
     "name": "stdout",
     "output_type": "stream",
     "text": [
      "10.4880884817015\n"
     ]
    }
   ],
   "source": [
    "D_mag = D.norm()\n",
    "print(D_mag.evalf())"
   ]
  },
  {
   "cell_type": "code",
   "execution_count": 82,
   "id": "babba628-00e6-4f4f-bb6c-66e24877e142",
   "metadata": {},
   "outputs": [
    {
     "name": "stdout",
     "output_type": "stream",
     "text": [
      "15.8043594548396\n"
     ]
    }
   ],
   "source": [
    "import numpy as np\n",
    "from sympy import *\n",
    "\n",
    "t = symbols('t', real = True)\n",
    "\n",
    "v = Matrix([-t**2 + 2*t + 3, -3*t**2 - t - 2, 0])\n",
    "t_v = 2\n",
    "r = integrate(v,(t,0,t_v))\n",
    "r_mag = r.norm().evalf()\n",
    "print(r_mag)"
   ]
  },
  {
   "cell_type": "code",
   "execution_count": 97,
   "id": "03becd52-2089-4277-bdea-8b9fdad54b90",
   "metadata": {},
   "outputs": [
    {
     "name": "stdout",
     "output_type": "stream",
     "text": [
      "-1.23635545572527\n"
     ]
    }
   ],
   "source": [
    "import numpy as np\n",
    "from sympy import *\n",
    "\n",
    "theta = symbols('theta')\n",
    "\n",
    "r = 3 - cos(3*theta + 3)\n",
    "theta_v = -4 # in radians\n",
    "omegaz = 2\n",
    "alphaz = 1\n",
    "v = diff(r,theta).subs(theta,theta_v)\n",
    "print(v.evalf())"
   ]
  },
  {
   "cell_type": "code",
   "execution_count": null,
   "id": "3a01d653-6354-4211-ba0d-488e6ffe3f2e",
   "metadata": {},
   "outputs": [],
   "source": []
  }
 ],
 "metadata": {
  "kernelspec": {
   "display_name": "Python [conda env:base] *",
   "language": "python",
   "name": "conda-base-py"
  },
  "language_info": {
   "codemirror_mode": {
    "name": "ipython",
    "version": 3
   },
   "file_extension": ".py",
   "mimetype": "text/x-python",
   "name": "python",
   "nbconvert_exporter": "python",
   "pygments_lexer": "ipython3",
   "version": "3.12.7"
  }
 },
 "nbformat": 4,
 "nbformat_minor": 5
}
