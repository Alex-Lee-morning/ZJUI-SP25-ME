{
 "cells": [
  {
   "cell_type": "code",
   "execution_count": 2,
   "id": "911f428e-4fea-46f2-b3eb-aaccc4e7a68f",
   "metadata": {},
   "outputs": [],
   "source": [
    "from sympy import *\n",
    "\n",
    "V = 2.00 # m^3\n",
    "T1 = 293.00 # K\n",
    "p1 = 200.00 # kPa\n",
    "W = -710.00 # kJ\n",
    "cv = 0.72 # kJ/kg·K"
   ]
  },
  {
   "cell_type": "code",
   "execution_count": 2,
   "id": "8aecc112-5d01-438b-86bf-75668d4dea49",
   "metadata": {},
   "outputs": [],
   "source": [
    "from sympy import *\n",
    "\n",
    "T = 1000.00 # °F\n",
    "P1 = 500.00 # lbf/in^2\n",
    "v1 = 10.00 # ft/s\n",
    "P2 = 14.70 # lbf/in^2\n",
    "v2 = 4055.00 # ft/s"
   ]
  },
  {
   "cell_type": "code",
   "execution_count": 25,
   "id": "eae8e01d-fb51-4790-bb02-4e3f6f777e32",
   "metadata": {},
   "outputs": [],
   "source": [
    "from sympy import *\n",
    "\n",
    "p1 = 4.00 # bar\n",
    "T1 = 600.00 # K\n",
    "V1 = 0.17 # m^3\n",
    "p2 = 1.50 # bar"
   ]
  },
  {
   "cell_type": "code",
   "execution_count": 31,
   "id": "c0422e62-5bde-4b68-8d99-75d00bc505a4",
   "metadata": {},
   "outputs": [
    {
     "name": "stdout",
     "output_type": "stream",
     "text": [
      "m         0.4645978670515596\n",
      "T2        457.02127659574467\n",
      "W          49.711675222686814\n"
     ]
    }
   ],
   "source": [
    "# 9.4\n",
    "# 这个题v2是改变的，但是没事，只改了m和W\n",
    "\n",
    "\n",
    "# 这个题需要用到一个新的数据，在A22中，dertas=0时的pr可以使用的公式是\n",
    "# 如果已知pr1，用pr2/pr1=p2/p1找到对应pr2，进而找到对应的所有数据\n",
    "# 然后Q=0,W=-U\n",
    "from sympy import *\n",
    "\n",
    "p1 = 4.00 # bar\n",
    "T1 = 600.00 # K\n",
    "V1 = 0.20 # m^3\n",
    "p2 = 1.50 # bar\n",
    "##############################\n",
    "# 先读第一个位置的表\n",
    "\n",
    "u1=434.78\n",
    "pr1=16.28\n",
    "\n",
    "\n",
    "R=8314/28.97 #Nm/kg/K\n",
    "\n",
    "\n",
    "p1=p1*1e5\n",
    "p2=p2*1e5\n",
    "\n",
    "m=p1*V1/R/T1\n",
    "print('m        ',m)\n",
    "\n",
    "\n",
    "pr2=pr1*p2/p1\n",
    "# print(pr2) 6.105\n",
    "\n",
    "T2=(pr2-5.775)/(6.245-5.775)*(460-450)+450\n",
    "print('T2       ',T2)\n",
    "u2=(pr2-5.775)/(6.245-5.775)*(329.97-322.62)+322.62\n",
    "\n",
    "\n",
    "W=-m*(u2-u1)\n",
    "print('W         ',W)\n"
   ]
  },
  {
   "cell_type": "code",
   "execution_count": null,
   "id": "74e392de-c4bd-49b1-9c10-33745e114d82",
   "metadata": {},
   "outputs": [],
   "source": []
  },
  {
   "cell_type": "code",
   "execution_count": null,
   "id": "936d3145-37b0-4ce8-8399-f53034129d6d",
   "metadata": {},
   "outputs": [],
   "source": []
  }
 ],
 "metadata": {
  "kernelspec": {
   "display_name": "Python [conda env:base] *",
   "language": "python",
   "name": "conda-base-py"
  },
  "language_info": {
   "codemirror_mode": {
    "name": "ipython",
    "version": 3
   },
   "file_extension": ".py",
   "mimetype": "text/x-python",
   "name": "python",
   "nbconvert_exporter": "python",
   "pygments_lexer": "ipython3",
   "version": "3.12.7"
  }
 },
 "nbformat": 4,
 "nbformat_minor": 5
}
