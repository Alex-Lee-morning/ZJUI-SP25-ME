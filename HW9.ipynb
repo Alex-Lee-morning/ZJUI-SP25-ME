{
 "cells": [
  {
   "cell_type": "code",
   "execution_count": 10,
   "id": "f048a342-6902-4e71-a92d-f4f822571fd7",
   "metadata": {},
   "outputs": [
    {
     "name": "stdout",
     "output_type": "stream",
     "text": [
      "sigma_x -25.0778402139255\n",
      "sigma_y 20.0778402139255\n",
      "tau_xy 1.22111886171925\n"
     ]
    }
   ],
   "source": [
    "\t\n",
    "\n",
    "# 9.1\n",
    "\n",
    "\n",
    "from sympy import *\n",
    "\n",
    "from sympy import *\n",
    "\n",
    "sigma_x = -21.0 # MPa\n",
    "sigma_y = 16.0 # MPa\n",
    "tau_xy = 13.0 # MPa\n",
    "\n",
    "theta=-16\n",
    "####################################\n",
    "tao_xy=tau_xy\n",
    "\n",
    "\n",
    "\n",
    "\n",
    "theta1=theta/180*pi\n",
    "theta2=(theta-90)/180*pi\n",
    "\n",
    "sigma_x2=(sigma_x+sigma_y)/2+((sigma_x-sigma_y)/2)*cos(2*theta1)+tao_xy*sin(2*theta1)\n",
    "sigma_y2=(sigma_x+sigma_y)/2+((sigma_x-sigma_y)/2)*cos(2*theta2)+tao_xy*sin(2*theta2)\n",
    "\n",
    "tao_xy2=-(sigma_x-sigma_y)/2*sin(2*theta1)+tao_xy*cos(2*theta1)\n",
    "\n",
    "\n",
    "print('sigma_x',sigma_x2.evalf())\n",
    "print('sigma_y',sigma_y2.evalf()) \n",
    "print('tau_xy',tao_xy2.evalf())"
   ]
  },
  {
   "cell_type": "code",
   "execution_count": null,
   "id": "7e418e2e-669e-4650-96fc-b197f4084b09",
   "metadata": {},
   "outputs": [],
   "source": []
  },
  {
   "cell_type": "code",
   "execution_count": null,
   "id": "2fbc2375-c2fd-4607-9191-c09f1e444694",
   "metadata": {},
   "outputs": [],
   "source": []
  }
 ],
 "metadata": {
  "kernelspec": {
   "display_name": "Python [conda env:base] *",
   "language": "python",
   "name": "conda-base-py"
  },
  "language_info": {
   "codemirror_mode": {
    "name": "ipython",
    "version": 3
   },
   "file_extension": ".py",
   "mimetype": "text/x-python",
   "name": "python",
   "nbconvert_exporter": "python",
   "pygments_lexer": "ipython3",
   "version": "3.12.7"
  }
 },
 "nbformat": 4,
 "nbformat_minor": 5
}
